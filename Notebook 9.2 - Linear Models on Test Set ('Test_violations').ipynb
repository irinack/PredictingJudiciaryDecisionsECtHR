{
 "cells": [
  {
   "cell_type": "markdown",
   "metadata": {
    "colab_type": "text",
    "id": "HWXDwHyvID83"
   },
   "source": [
    "# Predicting Judicial Decisions of the European Court of Human Rights"
   ]
  },
  {
   "cell_type": "code",
   "execution_count": 1,
   "metadata": {
    "colab": {},
    "colab_type": "code",
    "id": "MGe9B-_AID85"
   },
   "outputs": [],
   "source": [
    "import numpy as np\n",
    "import re\n",
    "import os\n",
    "import copy"
   ]
  },
  {
   "cell_type": "code",
   "execution_count": 2,
   "metadata": {
    "colab": {
     "base_uri": "https://localhost:8080/",
     "height": 70
    },
    "colab_type": "code",
    "id": "bISCkjmWID88",
    "outputId": "4244484e-acb8-4006-a798-ad97d736dc80"
   },
   "outputs": [],
   "source": [
    "import sklearn.metrics as sm\n",
    "from sklearn.model_selection import cross_validate\n",
    "from sklearn.metrics import make_scorer\n",
    "from sklearn.linear_model.logistic import LogisticRegression\n",
    "from sklearn import svm\n",
    "from sklearn.feature_extraction.text import CountVectorizer\n",
    "from sklearn.feature_extraction.text import TfidfVectorizer\n",
    "from sklearn.feature_selection import SelectKBest\n",
    "from sklearn.feature_selection import chi2"
   ]
  },
  {
   "cell_type": "code",
   "execution_count": 3,
   "metadata": {
    "colab": {},
    "colab_type": "code",
    "id": "Ur0OL6WWID8_"
   },
   "outputs": [],
   "source": [
    "import spacy\n",
    "from spacy.lang import en"
   ]
  },
  {
   "cell_type": "code",
   "execution_count": 4,
   "metadata": {
    "colab": {},
    "colab_type": "code",
    "id": "uW3z3xDDID9B"
   },
   "outputs": [],
   "source": [
    "scoring = {'accuracy': make_scorer(sm.accuracy_score),\n",
    "           'precision': make_scorer(sm.precision_score),\n",
    "           'recall': make_scorer(sm.recall_score),\n",
    "           'f1': make_scorer(sm.f1_score)}"
   ]
  },
  {
   "cell_type": "code",
   "execution_count": 5,
   "metadata": {
    "colab": {},
    "colab_type": "code",
    "id": "fvMdbX4-ID9E"
   },
   "outputs": [],
   "source": [
    "def read_dataset(PATH):\n",
    "    X_dataset = {}\n",
    "    Y_dataset = {}\n",
    "    for path, dirs, files in os.walk(PATH):\n",
    "        for filename in files:\n",
    "            fullpath = os.path.join(path, filename)\n",
    "            if \"both\" not in fullpath:\n",
    "                with open(fullpath, 'r', encoding=\"utf8\") as file:\n",
    "                    X_dataset, Y_dataset = add_file_to_dataset(fullpath, X_dataset, Y_dataset, file.read())\n",
    "\n",
    "    return X_dataset, Y_dataset       "
   ]
  },
  {
   "cell_type": "code",
   "execution_count": 6,
   "metadata": {
    "colab": {},
    "colab_type": "code",
    "id": "yrsdYR3UID9G"
   },
   "outputs": [],
   "source": [
    "def add_file_to_dataset(fullpath, x_dataset, y_dataset, file):\n",
    "    article = extract_article(fullpath)\n",
    "    file = preprocess(file)\n",
    "    if article not in x_dataset.keys() :\n",
    "        x_dataset[article] = []\n",
    "        y_dataset[article] = []\n",
    "    x_dataset[article] = x_dataset[article] + [file]\n",
    "    label = 0 if \"non-violation\" in fullpath else 1\n",
    "    y_dataset[article] = y_dataset[article] + [label]\n",
    "    return x_dataset, y_dataset  "
   ]
  },
  {
   "cell_type": "code",
   "execution_count": 7,
   "metadata": {
    "colab": {},
    "colab_type": "code",
    "id": "aIb1vU2uID9J"
   },
   "outputs": [],
   "source": [
    "def extract_article(path): \n",
    "    pattern = r\"(Article\\d+)\"\n",
    "    result = re.search(pattern, path)\n",
    "    article = result.group(1)\n",
    "    return article"
   ]
  },
  {
   "cell_type": "markdown",
   "metadata": {
    "colab_type": "text",
    "id": "0yXdyPghID9L"
   },
   "source": [
    "### Preprocessing "
   ]
  },
  {
   "cell_type": "code",
   "execution_count": 8,
   "metadata": {
    "colab": {},
    "colab_type": "code",
    "id": "b40HpiOLID9M"
   },
   "outputs": [],
   "source": [
    "def preprocess(file): \n",
    "    file = extract_paragraphs(file)\n",
    "    return file"
   ]
  },
  {
   "cell_type": "code",
   "execution_count": 9,
   "metadata": {
    "colab": {},
    "colab_type": "code",
    "id": "0pUnQhFdID9O"
   },
   "outputs": [],
   "source": [
    "def extract_paragraphs(file): \n",
    "    file = re.sub(r'[\\x00-\\x08\\x0b\\x0c\\x0e-\\x1f\\x7f-\\xff]', '', file)\n",
    "    pat = r'(PROCEDURE\\s*\\n.+?)?((THE CIRCUMSTANCES OF THE CASE\\s*\\n.+?RELEVANT DOMESTIC LAW.+?)|(\\n(AS TO THE FACTS|THE FACTS|FACTS)\\s*\\n.+?))(\\nIII\\.|THE LAW\\s*\\n|PROCEEDINGS BEFORE THE COMMISSION\\s*\\n|ALLEGED VIOLATION OF ARTICLE [0-9]+|ALLEGED VIOLATION OF ARTICLE [0-9]+ OF THE CONVENTION \\s*\\n)'\n",
    "    result = re.search(pat, file, re.S |  re.IGNORECASE)\n",
    "    if result is None:\n",
    "        pat = r'(PROCEDURE\\s*\\n.+?)?(\\nIII\\.|THE LAW\\s*\\n|PROCEEDINGS BEFORE THE COMMISSION\\s*\\n|ALLEGED VIOLATION OF ARTICLE [0-9]+ OF THE CONVENTION \\s*\\n)'\n",
    "        result = re.search(pat, file, re.S |  re.IGNORECASE)\n",
    "        content = \"\"\n",
    "        if result is not None:\n",
    "            content += result.group(1)\n",
    "        else:\n",
    "            print(file)\n",
    "    else: \n",
    "        content = \"\"\n",
    "        if result.group(1) is not None:\n",
    "            content += result.group(1)\n",
    "        content += result.group(2)\n",
    "    return content"
   ]
  },
  {
   "cell_type": "markdown",
   "metadata": {
    "colab_type": "text",
    "id": "WoUTOP2NID9Q"
   },
   "source": [
    "### Loading the data"
   ]
  },
  {
   "cell_type": "code",
   "execution_count": 10,
   "metadata": {
    "colab": {},
    "colab_type": "code",
    "id": "7V9ZDUdBID9R"
   },
   "outputs": [],
   "source": [
    "base_path = \"Datasets\\\\Human rights dataset\""
   ]
  },
  {
   "cell_type": "code",
   "execution_count": 11,
   "metadata": {
    "colab": {},
    "colab_type": "code",
    "id": "1rd08uJgID9T"
   },
   "outputs": [],
   "source": [
    "X_train_docs, Y_train_docs = read_dataset(base_path + \"/train\")\n",
    "X_extra_test_docs, Y_extra_test_docs = read_dataset(base_path + \"/test_violations\")"
   ]
  },
  {
   "cell_type": "code",
   "execution_count": 12,
   "metadata": {
    "colab": {
     "base_uri": "https://localhost:8080/",
     "height": 34
    },
    "colab_type": "code",
    "id": "pDKQ94mEID9V",
    "outputId": "ec12692f-a30e-4104-c311-943cb059be3f"
   },
   "outputs": [
    {
     "data": {
      "text/plain": [
       "dict_keys(['Article10', 'Article11', 'Article12', 'Article13', 'Article14', 'Article18', 'Article2', 'Article3', 'Article4', 'Article5', 'Article6', 'Article7', 'Article8'])"
      ]
     },
     "execution_count": 12,
     "metadata": {},
     "output_type": "execute_result"
    }
   ],
   "source": [
    "X_train_docs.keys()"
   ]
  },
  {
   "cell_type": "code",
   "execution_count": 13,
   "metadata": {
    "colab": {
     "base_uri": "https://localhost:8080/",
     "height": 54
    },
    "colab_type": "code",
    "id": "gY1yVhIoQBlZ",
    "outputId": "6c80ea0d-2c38-4092-bb53-73579f57fc30"
   },
   "outputs": [
    {
     "data": {
      "text/plain": [
       "dict_keys(['Article10', 'Article11', 'Article12', 'Article13', 'Article14', 'Article18', 'Article2', 'Article3', 'Article4', 'Article5', 'Article6', 'Article7', 'Article8', 'Article9'])"
      ]
     },
     "execution_count": 13,
     "metadata": {},
     "output_type": "execute_result"
    }
   ],
   "source": [
    "X_extra_test_docs.keys()"
   ]
  },
  {
   "cell_type": "markdown",
   "metadata": {
    "colab_type": "text",
    "id": "PgGAeUWxID9j"
   },
   "source": [
    "### Combining all the articles according to class"
   ]
  },
  {
   "cell_type": "code",
   "execution_count": 14,
   "metadata": {
    "colab": {},
    "colab_type": "code",
    "id": "XNlw7Do9ID9k"
   },
   "outputs": [],
   "source": [
    "X_train = X_train_docs[\"Article2\"] + X_train_docs[\"Article3\"] + X_train_docs[\"Article5\"] + X_train_docs[\"Article6\"] + X_train_docs[\"Article8\"] + X_train_docs[\"Article10\"] + X_train_docs[\"Article11\"] + X_train_docs[\"Article13\"] + X_train_docs[\"Article14\"]"
   ]
  },
  {
   "cell_type": "code",
   "execution_count": 15,
   "metadata": {
    "colab": {},
    "colab_type": "code",
    "id": "uL71DPofID9n"
   },
   "outputs": [],
   "source": [
    "#X_extra_test = X_extra_test_docs[\"Article2\"] + X_extra_test_docs[\"Article3\"] + X_extra_test_docs[\"Article5\"] + X_extra_test_docs[\"Article6\"] + X_extra_test_docs[\"Article8\"] + X_extra_test_docs[\"Article10\"] + X_extra_test_docs[\"Article11\"] + X_extra_test_docs[\"Article13\"] + X_extra_test_docs[\"Article14\"]"
   ]
  },
  {
   "cell_type": "code",
   "execution_count": 16,
   "metadata": {
    "colab": {},
    "colab_type": "code",
    "id": "pDcL4YY8ID9p"
   },
   "outputs": [],
   "source": [
    "Y_train = Y_train_docs[\"Article2\"] + Y_train_docs[\"Article3\"] + Y_train_docs[\"Article5\"] + Y_train_docs[\"Article6\"] + Y_train_docs[\"Article8\"] + Y_train_docs[\"Article10\"] + Y_train_docs[\"Article11\"] + Y_train_docs[\"Article13\"] + Y_train_docs[\"Article14\"]"
   ]
  },
  {
   "cell_type": "code",
   "execution_count": 17,
   "metadata": {
    "colab": {},
    "colab_type": "code",
    "id": "fF4ToMc9ID9u"
   },
   "outputs": [],
   "source": [
    "#Y_extra_test = Y_extra_test_docs[\"Article2\"] + Y_extra_test_docs[\"Article3\"] + Y_extra_test_docs[\"Article5\"] + Y_extra_test_docs[\"Article6\"] + Y_extra_test_docs[\"Article8\"] + Y_extra_test_docs[\"Article10\"] + Y_extra_test_docs[\"Article11\"] + Y_extra_test_docs[\"Article13\"] + Y_extra_test_docs[\"Article14\"]"
   ]
  },
  {
   "cell_type": "code",
   "execution_count": 18,
   "metadata": {
    "colab": {},
    "colab_type": "code",
    "id": "srbOEnvMID91"
   },
   "outputs": [],
   "source": [
    "#len(X_train), len(Y_train), len(X_extra_test), len(Y_extra_test)"
   ]
  },
  {
   "cell_type": "markdown",
   "metadata": {
    "colab_type": "text",
    "id": "Ptn1oI3EID93"
   },
   "source": [
    "### Tokenization with TfIdfVectorizer and Classification with Logistic Regression"
   ]
  },
  {
   "cell_type": "code",
   "execution_count": 19,
   "metadata": {
    "colab": {},
    "colab_type": "code",
    "id": "pX8Qg7CiID93"
   },
   "outputs": [],
   "source": [
    "# tokenize the doc and lemmatize its tokens\n",
    "lemmatizer = spacy.lang.en.English()\n",
    "def my_tokenizer(doc):\n",
    "    tokens = lemmatizer(doc)\n",
    "    return([token.lemma_ for token in tokens])"
   ]
  },
  {
   "cell_type": "markdown",
   "metadata": {
    "colab_type": "text",
    "id": "SV7VUFs5ID-J"
   },
   "source": [
    "#### Test_violations evaluation"
   ]
  },
  {
   "cell_type": "code",
   "execution_count": 20,
   "metadata": {
    "colab": {},
    "colab_type": "code",
    "id": "m242rliNID-J"
   },
   "outputs": [],
   "source": [
    "vect = TfidfVectorizer(ngram_range=(2,4), lowercase=True, tokenizer=my_tokenizer, max_features=600000, min_df=3)\n",
    "term_doc_matrix = vect.fit_transform(X_train).toarray()   "
   ]
  },
  {
   "cell_type": "code",
   "execution_count": 21,
   "metadata": {
    "colab": {},
    "colab_type": "code",
    "id": "OktHhyjsID-L"
   },
   "outputs": [],
   "source": [
    "# from sklearn.utils import shuffle\n",
    "# X_train, term_doc_matrix, Y_train = shuffle(X_train, term_doc_matrix, Y_train)"
   ]
  },
  {
   "cell_type": "code",
   "execution_count": 22,
   "metadata": {
    "colab": {
     "base_uri": "https://localhost:8080/",
     "height": 34
    },
    "colab_type": "code",
    "id": "R6BcnRH9ID-N",
    "outputId": "db367586-04ab-4d51-a7b8-541f136cc979"
   },
   "outputs": [
    {
     "data": {
      "text/plain": [
       "(3131, 300000)"
      ]
     },
     "execution_count": 22,
     "metadata": {},
     "output_type": "execute_result"
    }
   ],
   "source": [
    "X_train_new = SelectKBest(chi2, k=300000).fit_transform(term_doc_matrix, Y_train)\n",
    "X_train_new.shape"
   ]
  },
  {
   "cell_type": "code",
   "execution_count": 23,
   "metadata": {
    "colab": {
     "base_uri": "https://localhost:8080/",
     "height": 101
    },
    "colab_type": "code",
    "id": "ZA7UWGN7ID-P",
    "outputId": "b9b5f847-5ff8-441e-a892-f672448f2c7b"
   },
   "outputs": [
    {
     "data": {
      "text/plain": [
       "LogisticRegression(C=1.0, class_weight=None, dual=False, fit_intercept=True,\n",
       "                   intercept_scaling=1, l1_ratio=None, max_iter=100,\n",
       "                   multi_class='warn', n_jobs=None, penalty='l2',\n",
       "                   random_state=None, solver='lbfgs', tol=0.0001, verbose=0,\n",
       "                   warm_start=False)"
      ]
     },
     "execution_count": 23,
     "metadata": {},
     "output_type": "execute_result"
    }
   ],
   "source": [
    "classifier = LogisticRegression(solver='lbfgs')        \n",
    "classifier.fit(term_doc_matrix, Y_train)"
   ]
  },
  {
   "cell_type": "markdown",
   "metadata": {
    "colab_type": "text",
    "id": "HhN8QImToaDQ"
   },
   "source": [
    "#### Article 2 results"
   ]
  },
  {
   "cell_type": "code",
   "execution_count": 24,
   "metadata": {
    "colab": {},
    "colab_type": "code",
    "id": "8L8G7VzdoUZh"
   },
   "outputs": [],
   "source": [
    "test_term_doc = vect.transform(X_extra_test_docs[\"Article2\"]).toarray()"
   ]
  },
  {
   "cell_type": "code",
   "execution_count": 25,
   "metadata": {
    "colab": {},
    "colab_type": "code",
    "id": "dMktOvKcID-S"
   },
   "outputs": [],
   "source": [
    "y_test_pred = classifier.predict(test_term_doc)"
   ]
  },
  {
   "cell_type": "code",
   "execution_count": 26,
   "metadata": {
    "colab": {},
    "colab_type": "code",
    "id": "qbDiAbvzID-U"
   },
   "outputs": [
    {
     "name": "stdout",
     "output_type": "stream",
     "text": [
      "Logistic regression performance:\n",
      "Mean absolute error = 0.25\n",
      "Accuracy score = 0.7512562814070352\n",
      "Recall score = 0.7512562814070352\n",
      "Precision score = 1.0\n",
      "F1 score = 0.8579626972740315\n"
     ]
    }
   ],
   "source": [
    "# Compute performance metrics\n",
    "print(\"Logistic regression performance:\")\n",
    "print(\"Mean absolute error =\", round(sm.mean_absolute_error(Y_extra_test_docs[\"Article2\"], y_test_pred), 2))\n",
    "print(\"Accuracy score =\", sm.accuracy_score(Y_extra_test_docs[\"Article2\"], y_test_pred))\n",
    "print(\"Recall score =\", sm.recall_score(Y_extra_test_docs[\"Article2\"], y_test_pred))\n",
    "print(\"Precision score =\", sm.precision_score(Y_extra_test_docs[\"Article2\"], y_test_pred))\n",
    "print(\"F1 score =\", sm.f1_score(Y_extra_test_docs[\"Article2\"], y_test_pred))"
   ]
  },
  {
   "cell_type": "code",
   "execution_count": 27,
   "metadata": {},
   "outputs": [
    {
     "data": {
      "text/plain": [
       "(0, 0, 99, 299)"
      ]
     },
     "execution_count": 27,
     "metadata": {},
     "output_type": "execute_result"
    }
   ],
   "source": [
    "from sklearn.metrics import confusion_matrix\n",
    "tn, fp, fn, tp = confusion_matrix(Y_extra_test_docs[\"Article2\"], y_test_pred).ravel()\n",
    "(tn, fp, fn, tp)"
   ]
  },
  {
   "cell_type": "markdown",
   "metadata": {
    "colab_type": "text",
    "id": "HhN8QImToaDQ"
   },
   "source": [
    "#### Article 3 results"
   ]
  },
  {
   "cell_type": "code",
   "execution_count": 28,
   "metadata": {
    "colab": {},
    "colab_type": "code",
    "id": "8L8G7VzdoUZh"
   },
   "outputs": [],
   "source": [
    "test_term_doc = vect.transform(X_extra_test_docs[\"Article3\"]).toarray()"
   ]
  },
  {
   "cell_type": "code",
   "execution_count": 29,
   "metadata": {
    "colab": {},
    "colab_type": "code",
    "id": "dMktOvKcID-S"
   },
   "outputs": [],
   "source": [
    "y_test_pred = classifier.predict(test_term_doc)"
   ]
  },
  {
   "cell_type": "code",
   "execution_count": 30,
   "metadata": {
    "colab": {},
    "colab_type": "code",
    "id": "qbDiAbvzID-U"
   },
   "outputs": [
    {
     "name": "stdout",
     "output_type": "stream",
     "text": [
      "Logistic regression performance:\n",
      "Mean absolute error = 0.18\n",
      "Accuracy score = 0.8155111633372503\n",
      "Recall score = 0.8155111633372503\n",
      "Precision score = 1.0\n",
      "F1 score = 0.8983818770226537\n"
     ]
    }
   ],
   "source": [
    "# Compute performance metrics\n",
    "print(\"Logistic regression performance:\")\n",
    "print(\"Mean absolute error =\", round(sm.mean_absolute_error(Y_extra_test_docs[\"Article3\"], y_test_pred), 2))\n",
    "print(\"Accuracy score =\", sm.accuracy_score(Y_extra_test_docs[\"Article3\"], y_test_pred))\n",
    "print(\"Recall score =\", sm.recall_score(Y_extra_test_docs[\"Article3\"], y_test_pred))\n",
    "print(\"Precision score =\", sm.precision_score(Y_extra_test_docs[\"Article3\"], y_test_pred))\n",
    "print(\"F1 score =\", sm.f1_score(Y_extra_test_docs[\"Article3\"], y_test_pred))"
   ]
  },
  {
   "cell_type": "code",
   "execution_count": 31,
   "metadata": {},
   "outputs": [
    {
     "data": {
      "text/plain": [
       "(0, 0, 157, 694)"
      ]
     },
     "execution_count": 31,
     "metadata": {},
     "output_type": "execute_result"
    }
   ],
   "source": [
    "from sklearn.metrics import confusion_matrix\n",
    "tn, fp, fn, tp = confusion_matrix(Y_extra_test_docs[\"Article3\"], y_test_pred).ravel()\n",
    "(tn, fp, fn, tp)"
   ]
  },
  {
   "cell_type": "markdown",
   "metadata": {
    "colab_type": "text",
    "id": "HhN8QImToaDQ"
   },
   "source": [
    "#### Article 5 results"
   ]
  },
  {
   "cell_type": "code",
   "execution_count": 32,
   "metadata": {
    "colab": {},
    "colab_type": "code",
    "id": "8L8G7VzdoUZh"
   },
   "outputs": [],
   "source": [
    "test_term_doc = vect.transform(X_extra_test_docs[\"Article5\"]).toarray()"
   ]
  },
  {
   "cell_type": "code",
   "execution_count": 33,
   "metadata": {
    "colab": {},
    "colab_type": "code",
    "id": "dMktOvKcID-S"
   },
   "outputs": [],
   "source": [
    "y_test_pred = classifier.predict(test_term_doc)"
   ]
  },
  {
   "cell_type": "code",
   "execution_count": 34,
   "metadata": {
    "colab": {},
    "colab_type": "code",
    "id": "qbDiAbvzID-U"
   },
   "outputs": [
    {
     "name": "stdout",
     "output_type": "stream",
     "text": [
      "Logistic regression performance:\n",
      "Mean absolute error = 0.21\n",
      "Accuracy score = 0.7906976744186046\n",
      "Recall score = 0.7906976744186046\n",
      "Precision score = 1.0\n",
      "F1 score = 0.8831168831168831\n"
     ]
    }
   ],
   "source": [
    "# Compute performance metrics\n",
    "print(\"Logistic regression performance:\")\n",
    "print(\"Mean absolute error =\", round(sm.mean_absolute_error(Y_extra_test_docs[\"Article5\"], y_test_pred), 2))\n",
    "print(\"Accuracy score =\", sm.accuracy_score(Y_extra_test_docs[\"Article5\"], y_test_pred))\n",
    "print(\"Recall score =\", sm.recall_score(Y_extra_test_docs[\"Article5\"], y_test_pred))\n",
    "print(\"Precision score =\", sm.precision_score(Y_extra_test_docs[\"Article5\"], y_test_pred))\n",
    "print(\"F1 score =\", sm.f1_score(Y_extra_test_docs[\"Article5\"], y_test_pred))"
   ]
  },
  {
   "cell_type": "code",
   "execution_count": 35,
   "metadata": {},
   "outputs": [
    {
     "data": {
      "text/plain": [
       "(0, 0, 234, 884)"
      ]
     },
     "execution_count": 35,
     "metadata": {},
     "output_type": "execute_result"
    }
   ],
   "source": [
    "from sklearn.metrics import confusion_matrix\n",
    "tn, fp, fn, tp = confusion_matrix(Y_extra_test_docs[\"Article5\"], y_test_pred).ravel()\n",
    "(tn, fp, fn, tp)"
   ]
  },
  {
   "cell_type": "markdown",
   "metadata": {
    "colab_type": "text",
    "id": "HhN8QImToaDQ"
   },
   "source": [
    "#### Article 6 results"
   ]
  },
  {
   "cell_type": "code",
   "execution_count": 36,
   "metadata": {
    "colab": {},
    "colab_type": "code",
    "id": "8L8G7VzdoUZh"
   },
   "outputs": [],
   "source": [
    "test_term_doc = vect.transform(X_extra_test_docs[\"Article6\"]).toarray()"
   ]
  },
  {
   "cell_type": "code",
   "execution_count": 37,
   "metadata": {
    "colab": {},
    "colab_type": "code",
    "id": "dMktOvKcID-S"
   },
   "outputs": [],
   "source": [
    "y_test_pred = classifier.predict(test_term_doc)"
   ]
  },
  {
   "cell_type": "code",
   "execution_count": 38,
   "metadata": {
    "colab": {},
    "colab_type": "code",
    "id": "qbDiAbvzID-U"
   },
   "outputs": [
    {
     "name": "stdout",
     "output_type": "stream",
     "text": [
      "Logistic regression performance:\n",
      "Mean absolute error = 0.19\n",
      "Accuracy score = 0.8123167155425219\n",
      "Recall score = 0.8123167155425219\n",
      "Precision score = 1.0\n",
      "F1 score = 0.8964401294498382\n"
     ]
    }
   ],
   "source": [
    "# Compute performance metrics\n",
    "print(\"Logistic regression performance:\")\n",
    "print(\"Mean absolute error =\", round(sm.mean_absolute_error(Y_extra_test_docs[\"Article6\"], y_test_pred), 2))\n",
    "print(\"Accuracy score =\", sm.accuracy_score(Y_extra_test_docs[\"Article6\"], y_test_pred))\n",
    "print(\"Recall score =\", sm.recall_score(Y_extra_test_docs[\"Article6\"], y_test_pred))\n",
    "print(\"Precision score =\", sm.precision_score(Y_extra_test_docs[\"Article6\"], y_test_pred))\n",
    "print(\"F1 score =\", sm.f1_score(Y_extra_test_docs[\"Article6\"], y_test_pred))"
   ]
  },
  {
   "cell_type": "code",
   "execution_count": 39,
   "metadata": {},
   "outputs": [
    {
     "data": {
      "text/plain": [
       "(0, 0, 768, 3324)"
      ]
     },
     "execution_count": 39,
     "metadata": {},
     "output_type": "execute_result"
    }
   ],
   "source": [
    "from sklearn.metrics import confusion_matrix\n",
    "tn, fp, fn, tp = confusion_matrix(Y_extra_test_docs[\"Article6\"], y_test_pred).ravel()\n",
    "(tn, fp, fn, tp)"
   ]
  },
  {
   "cell_type": "markdown",
   "metadata": {
    "colab_type": "text",
    "id": "HhN8QImToaDQ"
   },
   "source": [
    "#### Article 8 results"
   ]
  },
  {
   "cell_type": "code",
   "execution_count": 40,
   "metadata": {
    "colab": {},
    "colab_type": "code",
    "id": "8L8G7VzdoUZh"
   },
   "outputs": [],
   "source": [
    "test_term_doc = vect.transform(X_extra_test_docs[\"Article8\"]).toarray()"
   ]
  },
  {
   "cell_type": "code",
   "execution_count": 41,
   "metadata": {
    "colab": {},
    "colab_type": "code",
    "id": "dMktOvKcID-S"
   },
   "outputs": [],
   "source": [
    "y_test_pred = classifier.predict(test_term_doc)"
   ]
  },
  {
   "cell_type": "code",
   "execution_count": 42,
   "metadata": {
    "colab": {},
    "colab_type": "code",
    "id": "qbDiAbvzID-U"
   },
   "outputs": [
    {
     "name": "stdout",
     "output_type": "stream",
     "text": [
      "Logistic regression performance:\n",
      "Mean absolute error = 0.44\n",
      "Accuracy score = 0.5625\n",
      "Recall score = 0.5625\n",
      "Precision score = 1.0\n",
      "F1 score = 0.72\n"
     ]
    }
   ],
   "source": [
    "# Compute performance metrics\n",
    "print(\"Logistic regression performance:\")\n",
    "print(\"Mean absolute error =\", round(sm.mean_absolute_error(Y_extra_test_docs[\"Article8\"], y_test_pred), 2))\n",
    "print(\"Accuracy score =\", sm.accuracy_score(Y_extra_test_docs[\"Article8\"], y_test_pred))\n",
    "print(\"Recall score =\", sm.recall_score(Y_extra_test_docs[\"Article8\"], y_test_pred))\n",
    "print(\"Precision score =\", sm.precision_score(Y_extra_test_docs[\"Article8\"], y_test_pred))\n",
    "print(\"F1 score =\", sm.f1_score(Y_extra_test_docs[\"Article8\"], y_test_pred))"
   ]
  },
  {
   "cell_type": "code",
   "execution_count": 43,
   "metadata": {},
   "outputs": [
    {
     "data": {
      "text/plain": [
       "(0, 0, 217, 279)"
      ]
     },
     "execution_count": 43,
     "metadata": {},
     "output_type": "execute_result"
    }
   ],
   "source": [
    "from sklearn.metrics import confusion_matrix\n",
    "tn, fp, fn, tp = confusion_matrix(Y_extra_test_docs[\"Article8\"], y_test_pred).ravel()\n",
    "(tn, fp, fn, tp)"
   ]
  },
  {
   "cell_type": "markdown",
   "metadata": {
    "colab_type": "text",
    "id": "HhN8QImToaDQ"
   },
   "source": [
    "#### Article 10 results"
   ]
  },
  {
   "cell_type": "code",
   "execution_count": 44,
   "metadata": {
    "colab": {},
    "colab_type": "code",
    "id": "8L8G7VzdoUZh"
   },
   "outputs": [],
   "source": [
    "test_term_doc = vect.transform(X_extra_test_docs[\"Article10\"]).toarray()"
   ]
  },
  {
   "cell_type": "code",
   "execution_count": 45,
   "metadata": {
    "colab": {},
    "colab_type": "code",
    "id": "dMktOvKcID-S"
   },
   "outputs": [],
   "source": [
    "y_test_pred = classifier.predict(test_term_doc)"
   ]
  },
  {
   "cell_type": "code",
   "execution_count": 46,
   "metadata": {
    "colab": {},
    "colab_type": "code",
    "id": "qbDiAbvzID-U"
   },
   "outputs": [
    {
     "name": "stdout",
     "output_type": "stream",
     "text": [
      "Logistic regression performance:\n",
      "Mean absolute error = 0.54\n",
      "Accuracy score = 0.4603174603174603\n",
      "Recall score = 0.4603174603174603\n",
      "Precision score = 1.0\n",
      "F1 score = 0.6304347826086957\n"
     ]
    }
   ],
   "source": [
    "# Compute performance metrics\n",
    "print(\"Logistic regression performance:\")\n",
    "print(\"Mean absolute error =\", round(sm.mean_absolute_error(Y_extra_test_docs[\"Article10\"], y_test_pred), 2))\n",
    "print(\"Accuracy score =\", sm.accuracy_score(Y_extra_test_docs[\"Article10\"], y_test_pred))\n",
    "print(\"Recall score =\", sm.recall_score(Y_extra_test_docs[\"Article10\"], y_test_pred))\n",
    "print(\"Precision score =\", sm.precision_score(Y_extra_test_docs[\"Article10\"], y_test_pred))\n",
    "print(\"F1 score =\", sm.f1_score(Y_extra_test_docs[\"Article10\"], y_test_pred))"
   ]
  },
  {
   "cell_type": "code",
   "execution_count": 47,
   "metadata": {},
   "outputs": [
    {
     "data": {
      "text/plain": [
       "(0, 0, 136, 116)"
      ]
     },
     "execution_count": 47,
     "metadata": {},
     "output_type": "execute_result"
    }
   ],
   "source": [
    "from sklearn.metrics import confusion_matrix\n",
    "tn, fp, fn, tp = confusion_matrix(Y_extra_test_docs[\"Article10\"], y_test_pred).ravel()\n",
    "(tn, fp, fn, tp)"
   ]
  },
  {
   "cell_type": "markdown",
   "metadata": {
    "colab_type": "text",
    "id": "HhN8QImToaDQ"
   },
   "source": [
    "#### Article 11 results"
   ]
  },
  {
   "cell_type": "code",
   "execution_count": 48,
   "metadata": {
    "colab": {},
    "colab_type": "code",
    "id": "8L8G7VzdoUZh"
   },
   "outputs": [],
   "source": [
    "test_term_doc = vect.transform(X_extra_test_docs[\"Article11\"]).toarray()"
   ]
  },
  {
   "cell_type": "code",
   "execution_count": 49,
   "metadata": {
    "colab": {},
    "colab_type": "code",
    "id": "dMktOvKcID-S"
   },
   "outputs": [],
   "source": [
    "y_test_pred = classifier.predict(test_term_doc)"
   ]
  },
  {
   "cell_type": "code",
   "execution_count": 50,
   "metadata": {
    "colab": {},
    "colab_type": "code",
    "id": "qbDiAbvzID-U"
   },
   "outputs": [
    {
     "name": "stdout",
     "output_type": "stream",
     "text": [
      "Logistic regression performance:\n",
      "Mean absolute error = 0.3\n",
      "Accuracy score = 0.6966292134831461\n",
      "Recall score = 0.6966292134831461\n",
      "Precision score = 1.0\n",
      "F1 score = 0.8211920529801325\n"
     ]
    }
   ],
   "source": [
    "# Compute performance metrics\n",
    "print(\"Logistic regression performance:\")\n",
    "print(\"Mean absolute error =\", round(sm.mean_absolute_error(Y_extra_test_docs[\"Article11\"], y_test_pred), 2))\n",
    "print(\"Accuracy score =\", sm.accuracy_score(Y_extra_test_docs[\"Article11\"], y_test_pred))\n",
    "print(\"Recall score =\", sm.recall_score(Y_extra_test_docs[\"Article11\"], y_test_pred))\n",
    "print(\"Precision score =\", sm.precision_score(Y_extra_test_docs[\"Article11\"], y_test_pred))\n",
    "print(\"F1 score =\", sm.f1_score(Y_extra_test_docs[\"Article11\"], y_test_pred))"
   ]
  },
  {
   "cell_type": "code",
   "execution_count": 51,
   "metadata": {},
   "outputs": [
    {
     "data": {
      "text/plain": [
       "(0, 0, 27, 62)"
      ]
     },
     "execution_count": 51,
     "metadata": {},
     "output_type": "execute_result"
    }
   ],
   "source": [
    "from sklearn.metrics import confusion_matrix\n",
    "tn, fp, fn, tp = confusion_matrix(Y_extra_test_docs[\"Article11\"], y_test_pred).ravel()\n",
    "(tn, fp, fn, tp)"
   ]
  },
  {
   "cell_type": "markdown",
   "metadata": {
    "colab_type": "text",
    "id": "HhN8QImToaDQ"
   },
   "source": [
    "#### Article 13 results"
   ]
  },
  {
   "cell_type": "code",
   "execution_count": 52,
   "metadata": {
    "colab": {},
    "colab_type": "code",
    "id": "8L8G7VzdoUZh"
   },
   "outputs": [],
   "source": [
    "test_term_doc = vect.transform(X_extra_test_docs[\"Article13\"]).toarray()"
   ]
  },
  {
   "cell_type": "code",
   "execution_count": 53,
   "metadata": {
    "colab": {},
    "colab_type": "code",
    "id": "dMktOvKcID-S"
   },
   "outputs": [],
   "source": [
    "y_test_pred = classifier.predict(test_term_doc)"
   ]
  },
  {
   "cell_type": "code",
   "execution_count": 54,
   "metadata": {
    "colab": {},
    "colab_type": "code",
    "id": "qbDiAbvzID-U"
   },
   "outputs": [
    {
     "name": "stdout",
     "output_type": "stream",
     "text": [
      "Logistic regression performance:\n",
      "Mean absolute error = 0.16\n",
      "Accuracy score = 0.8358490566037736\n",
      "Recall score = 0.8358490566037736\n",
      "Precision score = 1.0\n",
      "F1 score = 0.9105858170606371\n"
     ]
    }
   ],
   "source": [
    "# Compute performance metrics\n",
    "print(\"Logistic regression performance:\")\n",
    "print(\"Mean absolute error =\", round(sm.mean_absolute_error(Y_extra_test_docs[\"Article13\"], y_test_pred), 2))\n",
    "print(\"Accuracy score =\", sm.accuracy_score(Y_extra_test_docs[\"Article13\"], y_test_pred))\n",
    "print(\"Recall score =\", sm.recall_score(Y_extra_test_docs[\"Article13\"], y_test_pred))\n",
    "print(\"Precision score =\", sm.precision_score(Y_extra_test_docs[\"Article13\"], y_test_pred))\n",
    "print(\"F1 score =\", sm.f1_score(Y_extra_test_docs[\"Article13\"], y_test_pred))"
   ]
  },
  {
   "cell_type": "code",
   "execution_count": 55,
   "metadata": {},
   "outputs": [
    {
     "data": {
      "text/plain": [
       "(0, 0, 174, 886)"
      ]
     },
     "execution_count": 55,
     "metadata": {},
     "output_type": "execute_result"
    }
   ],
   "source": [
    "from sklearn.metrics import confusion_matrix\n",
    "tn, fp, fn, tp = confusion_matrix(Y_extra_test_docs[\"Article13\"], y_test_pred).ravel()\n",
    "(tn, fp, fn, tp)"
   ]
  },
  {
   "cell_type": "markdown",
   "metadata": {
    "colab_type": "text",
    "id": "HhN8QImToaDQ"
   },
   "source": [
    "#### Article 14 results"
   ]
  },
  {
   "cell_type": "code",
   "execution_count": 56,
   "metadata": {
    "colab": {},
    "colab_type": "code",
    "id": "8L8G7VzdoUZh"
   },
   "outputs": [],
   "source": [
    "test_term_doc = vect.transform(X_extra_test_docs[\"Article14\"]).toarray()"
   ]
  },
  {
   "cell_type": "code",
   "execution_count": 57,
   "metadata": {
    "colab": {},
    "colab_type": "code",
    "id": "dMktOvKcID-S"
   },
   "outputs": [],
   "source": [
    "y_test_pred = classifier.predict(test_term_doc)"
   ]
  },
  {
   "cell_type": "code",
   "execution_count": 58,
   "metadata": {
    "colab": {},
    "colab_type": "code",
    "id": "qbDiAbvzID-U"
   },
   "outputs": [
    {
     "name": "stdout",
     "output_type": "stream",
     "text": [
      "Logistic regression performance:\n",
      "Mean absolute error = 0.86\n",
      "Accuracy score = 0.13636363636363635\n",
      "Recall score = 0.13636363636363635\n",
      "Precision score = 1.0\n",
      "F1 score = 0.24000000000000002\n"
     ]
    }
   ],
   "source": [
    "# Compute performance metrics\n",
    "print(\"Logistic regression performance:\")\n",
    "print(\"Mean absolute error =\", round(sm.mean_absolute_error(Y_extra_test_docs[\"Article14\"], y_test_pred), 2))\n",
    "print(\"Accuracy score =\", sm.accuracy_score(Y_extra_test_docs[\"Article14\"], y_test_pred))\n",
    "print(\"Recall score =\", sm.recall_score(Y_extra_test_docs[\"Article14\"], y_test_pred))\n",
    "print(\"Precision score =\", sm.precision_score(Y_extra_test_docs[\"Article14\"], y_test_pred))\n",
    "print(\"F1 score =\", sm.f1_score(Y_extra_test_docs[\"Article14\"], y_test_pred))"
   ]
  },
  {
   "cell_type": "code",
   "execution_count": 59,
   "metadata": {},
   "outputs": [
    {
     "data": {
      "text/plain": [
       "(0, 0, 38, 6)"
      ]
     },
     "execution_count": 59,
     "metadata": {},
     "output_type": "execute_result"
    }
   ],
   "source": [
    "from sklearn.metrics import confusion_matrix\n",
    "tn, fp, fn, tp = confusion_matrix(Y_extra_test_docs[\"Article14\"], y_test_pred).ravel()\n",
    "(tn, fp, fn, tp)"
   ]
  },
  {
   "cell_type": "markdown",
   "metadata": {
    "colab_type": "text",
    "id": "zMsiqdTRID-W"
   },
   "source": [
    "### Tokenization with TfIdfVectorizer and Classification with Linear SVC"
   ]
  },
  {
   "cell_type": "code",
   "execution_count": 19,
   "metadata": {
    "colab": {},
    "colab_type": "code",
    "id": "jHUaWJbTID-X"
   },
   "outputs": [],
   "source": [
    "vect = TfidfVectorizer(ngram_range=(2,4), lowercase=True, max_features=600000, min_df=3)\n",
    "term_doc_matrix = vect.fit_transform(X_train).toarray()    "
   ]
  },
  {
   "cell_type": "code",
   "execution_count": 20,
   "metadata": {
    "colab": {},
    "colab_type": "code",
    "id": "1YUYiS-EID-c",
    "outputId": "33ff6e1f-b094-4d3d-e645-d62fd6b87fce"
   },
   "outputs": [
    {
     "name": "stdout",
     "output_type": "stream",
     "text": [
      "The number of features: 600000\n"
     ]
    }
   ],
   "source": [
    "print(\"The number of features: \" + str(len(vect.get_feature_names())))"
   ]
  },
  {
   "cell_type": "code",
   "execution_count": 21,
   "metadata": {
    "colab": {},
    "colab_type": "code",
    "id": "QGzsVKROID-f"
   },
   "outputs": [],
   "source": [
    "from sklearn.utils import shuffle\n",
    "X_train, term_doc_matrix, Y_train = shuffle(X_train, term_doc_matrix, Y_train)"
   ]
  },
  {
   "cell_type": "code",
   "execution_count": 22,
   "metadata": {
    "colab": {},
    "colab_type": "code",
    "id": "tTKNh9wvID-i"
   },
   "outputs": [
    {
     "data": {
      "text/plain": [
       "(3131, 300000)"
      ]
     },
     "execution_count": 22,
     "metadata": {},
     "output_type": "execute_result"
    }
   ],
   "source": [
    "X_train_new = SelectKBest(chi2, k=300000).fit_transform(term_doc_matrix, Y_train)\n",
    "X_train_new.shape"
   ]
  },
  {
   "cell_type": "code",
   "execution_count": 23,
   "metadata": {
    "colab": {},
    "colab_type": "code",
    "id": "i7HtdO0wID-l"
   },
   "outputs": [
    {
     "data": {
      "text/plain": [
       "LinearSVC(C=0.1, class_weight=None, dual=True, fit_intercept=True,\n",
       "          intercept_scaling=1, loss='squared_hinge', max_iter=1500,\n",
       "          multi_class='ovr', penalty='l2', random_state=None, tol=0.0001,\n",
       "          verbose=0)"
      ]
     },
     "execution_count": 23,
     "metadata": {},
     "output_type": "execute_result"
    }
   ],
   "source": [
    "classifier = svm.LinearSVC(C=0.1, max_iter=1500)             \n",
    "classifier.fit(term_doc_matrix, Y_train)"
   ]
  },
  {
   "cell_type": "markdown",
   "metadata": {
    "colab_type": "text",
    "id": "HhN8QImToaDQ"
   },
   "source": [
    "#### Article 2 results"
   ]
  },
  {
   "cell_type": "code",
   "execution_count": 24,
   "metadata": {
    "colab": {},
    "colab_type": "code",
    "id": "8L8G7VzdoUZh"
   },
   "outputs": [],
   "source": [
    "test_term_doc = vect.transform(X_extra_test_docs[\"Article2\"]).toarray()"
   ]
  },
  {
   "cell_type": "code",
   "execution_count": 25,
   "metadata": {
    "colab": {},
    "colab_type": "code",
    "id": "dMktOvKcID-S"
   },
   "outputs": [],
   "source": [
    "y_test_pred = classifier.predict(test_term_doc)"
   ]
  },
  {
   "cell_type": "code",
   "execution_count": 26,
   "metadata": {
    "colab": {},
    "colab_type": "code",
    "id": "qbDiAbvzID-U"
   },
   "outputs": [
    {
     "name": "stdout",
     "output_type": "stream",
     "text": [
      "Logistic regression performance:\n",
      "Mean absolute error = 0.26\n",
      "Accuracy score = 0.7412060301507538\n",
      "Recall score = 0.7412060301507538\n",
      "Precision score = 1.0\n",
      "F1 score = 0.8513708513708513\n"
     ]
    }
   ],
   "source": [
    "# Compute performance metrics\n",
    "print(\"Logistic regression performance:\")\n",
    "print(\"Mean absolute error =\", round(sm.mean_absolute_error(Y_extra_test_docs[\"Article2\"], y_test_pred), 2))\n",
    "print(\"Accuracy score =\", sm.accuracy_score(Y_extra_test_docs[\"Article2\"], y_test_pred))\n",
    "print(\"Recall score =\", sm.recall_score(Y_extra_test_docs[\"Article2\"], y_test_pred))\n",
    "print(\"Precision score =\", sm.precision_score(Y_extra_test_docs[\"Article2\"], y_test_pred))\n",
    "print(\"F1 score =\", sm.f1_score(Y_extra_test_docs[\"Article2\"], y_test_pred))"
   ]
  },
  {
   "cell_type": "code",
   "execution_count": 27,
   "metadata": {},
   "outputs": [
    {
     "data": {
      "text/plain": [
       "(0, 0, 103, 295)"
      ]
     },
     "execution_count": 27,
     "metadata": {},
     "output_type": "execute_result"
    }
   ],
   "source": [
    "from sklearn.metrics import confusion_matrix\n",
    "tn, fp, fn, tp = confusion_matrix(Y_extra_test_docs[\"Article2\"], y_test_pred).ravel()\n",
    "(tn, fp, fn, tp)"
   ]
  },
  {
   "cell_type": "markdown",
   "metadata": {
    "colab_type": "text",
    "id": "HhN8QImToaDQ"
   },
   "source": [
    "#### Article 3 results"
   ]
  },
  {
   "cell_type": "code",
   "execution_count": 28,
   "metadata": {
    "colab": {},
    "colab_type": "code",
    "id": "8L8G7VzdoUZh"
   },
   "outputs": [],
   "source": [
    "test_term_doc = vect.transform(X_extra_test_docs[\"Article3\"]).toarray()"
   ]
  },
  {
   "cell_type": "code",
   "execution_count": 29,
   "metadata": {
    "colab": {},
    "colab_type": "code",
    "id": "dMktOvKcID-S"
   },
   "outputs": [],
   "source": [
    "y_test_pred = classifier.predict(test_term_doc)"
   ]
  },
  {
   "cell_type": "code",
   "execution_count": 30,
   "metadata": {
    "colab": {},
    "colab_type": "code",
    "id": "qbDiAbvzID-U"
   },
   "outputs": [
    {
     "name": "stdout",
     "output_type": "stream",
     "text": [
      "Logistic regression performance:\n",
      "Mean absolute error = 0.19\n",
      "Accuracy score = 0.8143360752056404\n",
      "Recall score = 0.8143360752056404\n",
      "Precision score = 1.0\n",
      "F1 score = 0.8976683937823835\n"
     ]
    }
   ],
   "source": [
    "# Compute performance metrics\n",
    "print(\"Logistic regression performance:\")\n",
    "print(\"Mean absolute error =\", round(sm.mean_absolute_error(Y_extra_test_docs[\"Article3\"], y_test_pred), 2))\n",
    "print(\"Accuracy score =\", sm.accuracy_score(Y_extra_test_docs[\"Article3\"], y_test_pred))\n",
    "print(\"Recall score =\", sm.recall_score(Y_extra_test_docs[\"Article3\"], y_test_pred))\n",
    "print(\"Precision score =\", sm.precision_score(Y_extra_test_docs[\"Article3\"], y_test_pred))\n",
    "print(\"F1 score =\", sm.f1_score(Y_extra_test_docs[\"Article3\"], y_test_pred))"
   ]
  },
  {
   "cell_type": "code",
   "execution_count": 31,
   "metadata": {},
   "outputs": [
    {
     "data": {
      "text/plain": [
       "(0, 0, 158, 693)"
      ]
     },
     "execution_count": 31,
     "metadata": {},
     "output_type": "execute_result"
    }
   ],
   "source": [
    "from sklearn.metrics import confusion_matrix\n",
    "tn, fp, fn, tp = confusion_matrix(Y_extra_test_docs[\"Article3\"], y_test_pred).ravel()\n",
    "(tn, fp, fn, tp)"
   ]
  },
  {
   "cell_type": "markdown",
   "metadata": {
    "colab_type": "text",
    "id": "HhN8QImToaDQ"
   },
   "source": [
    "#### Article 5 results"
   ]
  },
  {
   "cell_type": "code",
   "execution_count": 32,
   "metadata": {
    "colab": {},
    "colab_type": "code",
    "id": "8L8G7VzdoUZh"
   },
   "outputs": [],
   "source": [
    "test_term_doc = vect.transform(X_extra_test_docs[\"Article5\"]).toarray()"
   ]
  },
  {
   "cell_type": "code",
   "execution_count": 33,
   "metadata": {
    "colab": {},
    "colab_type": "code",
    "id": "dMktOvKcID-S"
   },
   "outputs": [],
   "source": [
    "y_test_pred = classifier.predict(test_term_doc)"
   ]
  },
  {
   "cell_type": "code",
   "execution_count": 34,
   "metadata": {
    "colab": {},
    "colab_type": "code",
    "id": "qbDiAbvzID-U"
   },
   "outputs": [
    {
     "name": "stdout",
     "output_type": "stream",
     "text": [
      "Logistic regression performance:\n",
      "Mean absolute error = 0.21\n",
      "Accuracy score = 0.7924865831842576\n",
      "Recall score = 0.7924865831842576\n",
      "Precision score = 1.0\n",
      "F1 score = 0.8842315369261476\n"
     ]
    }
   ],
   "source": [
    "# Compute performance metrics\n",
    "print(\"Logistic regression performance:\")\n",
    "print(\"Mean absolute error =\", round(sm.mean_absolute_error(Y_extra_test_docs[\"Article5\"], y_test_pred), 2))\n",
    "print(\"Accuracy score =\", sm.accuracy_score(Y_extra_test_docs[\"Article5\"], y_test_pred))\n",
    "print(\"Recall score =\", sm.recall_score(Y_extra_test_docs[\"Article5\"], y_test_pred))\n",
    "print(\"Precision score =\", sm.precision_score(Y_extra_test_docs[\"Article5\"], y_test_pred))\n",
    "print(\"F1 score =\", sm.f1_score(Y_extra_test_docs[\"Article5\"], y_test_pred))"
   ]
  },
  {
   "cell_type": "code",
   "execution_count": 35,
   "metadata": {},
   "outputs": [
    {
     "data": {
      "text/plain": [
       "(0, 0, 232, 886)"
      ]
     },
     "execution_count": 35,
     "metadata": {},
     "output_type": "execute_result"
    }
   ],
   "source": [
    "from sklearn.metrics import confusion_matrix\n",
    "tn, fp, fn, tp = confusion_matrix(Y_extra_test_docs[\"Article5\"], y_test_pred).ravel()\n",
    "(tn, fp, fn, tp)"
   ]
  },
  {
   "cell_type": "markdown",
   "metadata": {
    "colab_type": "text",
    "id": "HhN8QImToaDQ"
   },
   "source": [
    "#### Article 6 results"
   ]
  },
  {
   "cell_type": "code",
   "execution_count": 36,
   "metadata": {
    "colab": {},
    "colab_type": "code",
    "id": "8L8G7VzdoUZh"
   },
   "outputs": [],
   "source": [
    "test_term_doc = vect.transform(X_extra_test_docs[\"Article6\"]).toarray()"
   ]
  },
  {
   "cell_type": "code",
   "execution_count": 37,
   "metadata": {
    "colab": {},
    "colab_type": "code",
    "id": "dMktOvKcID-S"
   },
   "outputs": [],
   "source": [
    "y_test_pred = classifier.predict(test_term_doc)"
   ]
  },
  {
   "cell_type": "code",
   "execution_count": 38,
   "metadata": {
    "colab": {},
    "colab_type": "code",
    "id": "qbDiAbvzID-U"
   },
   "outputs": [
    {
     "name": "stdout",
     "output_type": "stream",
     "text": [
      "Logistic regression performance:\n",
      "Mean absolute error = 0.19\n",
      "Accuracy score = 0.8054740957966764\n",
      "Recall score = 0.8054740957966764\n",
      "Precision score = 1.0\n",
      "F1 score = 0.8922577152138603\n"
     ]
    }
   ],
   "source": [
    "# Compute performance metrics\n",
    "print(\"Logistic regression performance:\")\n",
    "print(\"Mean absolute error =\", round(sm.mean_absolute_error(Y_extra_test_docs[\"Article6\"], y_test_pred), 2))\n",
    "print(\"Accuracy score =\", sm.accuracy_score(Y_extra_test_docs[\"Article6\"], y_test_pred))\n",
    "print(\"Recall score =\", sm.recall_score(Y_extra_test_docs[\"Article6\"], y_test_pred))\n",
    "print(\"Precision score =\", sm.precision_score(Y_extra_test_docs[\"Article6\"], y_test_pred))\n",
    "print(\"F1 score =\", sm.f1_score(Y_extra_test_docs[\"Article6\"], y_test_pred))"
   ]
  },
  {
   "cell_type": "code",
   "execution_count": 39,
   "metadata": {},
   "outputs": [
    {
     "data": {
      "text/plain": [
       "(0, 0, 796, 3296)"
      ]
     },
     "execution_count": 39,
     "metadata": {},
     "output_type": "execute_result"
    }
   ],
   "source": [
    "from sklearn.metrics import confusion_matrix\n",
    "tn, fp, fn, tp = confusion_matrix(Y_extra_test_docs[\"Article6\"], y_test_pred).ravel()\n",
    "(tn, fp, fn, tp)"
   ]
  },
  {
   "cell_type": "markdown",
   "metadata": {
    "colab_type": "text",
    "id": "HhN8QImToaDQ"
   },
   "source": [
    "#### Article 8 results"
   ]
  },
  {
   "cell_type": "code",
   "execution_count": 40,
   "metadata": {
    "colab": {},
    "colab_type": "code",
    "id": "8L8G7VzdoUZh"
   },
   "outputs": [],
   "source": [
    "test_term_doc = vect.transform(X_extra_test_docs[\"Article8\"]).toarray()"
   ]
  },
  {
   "cell_type": "code",
   "execution_count": 41,
   "metadata": {
    "colab": {},
    "colab_type": "code",
    "id": "dMktOvKcID-S"
   },
   "outputs": [],
   "source": [
    "y_test_pred = classifier.predict(test_term_doc)"
   ]
  },
  {
   "cell_type": "code",
   "execution_count": 42,
   "metadata": {
    "colab": {},
    "colab_type": "code",
    "id": "qbDiAbvzID-U"
   },
   "outputs": [
    {
     "name": "stdout",
     "output_type": "stream",
     "text": [
      "Logistic regression performance:\n",
      "Mean absolute error = 0.44\n",
      "Accuracy score = 0.5564516129032258\n",
      "Recall score = 0.5564516129032258\n",
      "Precision score = 1.0\n",
      "F1 score = 0.7150259067357513\n"
     ]
    }
   ],
   "source": [
    "# Compute performance metrics\n",
    "print(\"Logistic regression performance:\")\n",
    "print(\"Mean absolute error =\", round(sm.mean_absolute_error(Y_extra_test_docs[\"Article8\"], y_test_pred), 2))\n",
    "print(\"Accuracy score =\", sm.accuracy_score(Y_extra_test_docs[\"Article8\"], y_test_pred))\n",
    "print(\"Recall score =\", sm.recall_score(Y_extra_test_docs[\"Article8\"], y_test_pred))\n",
    "print(\"Precision score =\", sm.precision_score(Y_extra_test_docs[\"Article8\"], y_test_pred))\n",
    "print(\"F1 score =\", sm.f1_score(Y_extra_test_docs[\"Article8\"], y_test_pred))"
   ]
  },
  {
   "cell_type": "code",
   "execution_count": 43,
   "metadata": {},
   "outputs": [
    {
     "data": {
      "text/plain": [
       "(0, 0, 220, 276)"
      ]
     },
     "execution_count": 43,
     "metadata": {},
     "output_type": "execute_result"
    }
   ],
   "source": [
    "from sklearn.metrics import confusion_matrix\n",
    "tn, fp, fn, tp = confusion_matrix(Y_extra_test_docs[\"Article8\"], y_test_pred).ravel()\n",
    "(tn, fp, fn, tp)"
   ]
  },
  {
   "cell_type": "markdown",
   "metadata": {
    "colab_type": "text",
    "id": "HhN8QImToaDQ"
   },
   "source": [
    "#### Article 10 results"
   ]
  },
  {
   "cell_type": "code",
   "execution_count": 44,
   "metadata": {
    "colab": {},
    "colab_type": "code",
    "id": "8L8G7VzdoUZh"
   },
   "outputs": [],
   "source": [
    "test_term_doc = vect.transform(X_extra_test_docs[\"Article10\"]).toarray()"
   ]
  },
  {
   "cell_type": "code",
   "execution_count": 45,
   "metadata": {
    "colab": {},
    "colab_type": "code",
    "id": "dMktOvKcID-S"
   },
   "outputs": [],
   "source": [
    "y_test_pred = classifier.predict(test_term_doc)"
   ]
  },
  {
   "cell_type": "code",
   "execution_count": 46,
   "metadata": {
    "colab": {},
    "colab_type": "code",
    "id": "qbDiAbvzID-U"
   },
   "outputs": [
    {
     "name": "stdout",
     "output_type": "stream",
     "text": [
      "Logistic regression performance:\n",
      "Mean absolute error = 0.56\n",
      "Accuracy score = 0.4365079365079365\n",
      "Recall score = 0.4365079365079365\n",
      "Precision score = 1.0\n",
      "F1 score = 0.6077348066298343\n"
     ]
    }
   ],
   "source": [
    "# Compute performance metrics\n",
    "print(\"Logistic regression performance:\")\n",
    "print(\"Mean absolute error =\", round(sm.mean_absolute_error(Y_extra_test_docs[\"Article10\"], y_test_pred), 2))\n",
    "print(\"Accuracy score =\", sm.accuracy_score(Y_extra_test_docs[\"Article10\"], y_test_pred))\n",
    "print(\"Recall score =\", sm.recall_score(Y_extra_test_docs[\"Article10\"], y_test_pred))\n",
    "print(\"Precision score =\", sm.precision_score(Y_extra_test_docs[\"Article10\"], y_test_pred))\n",
    "print(\"F1 score =\", sm.f1_score(Y_extra_test_docs[\"Article10\"], y_test_pred))"
   ]
  },
  {
   "cell_type": "code",
   "execution_count": 47,
   "metadata": {},
   "outputs": [
    {
     "data": {
      "text/plain": [
       "(0, 0, 142, 110)"
      ]
     },
     "execution_count": 47,
     "metadata": {},
     "output_type": "execute_result"
    }
   ],
   "source": [
    "from sklearn.metrics import confusion_matrix\n",
    "tn, fp, fn, tp = confusion_matrix(Y_extra_test_docs[\"Article10\"], y_test_pred).ravel()\n",
    "(tn, fp, fn, tp)"
   ]
  },
  {
   "cell_type": "markdown",
   "metadata": {
    "colab_type": "text",
    "id": "HhN8QImToaDQ"
   },
   "source": [
    "#### Article 11 results"
   ]
  },
  {
   "cell_type": "code",
   "execution_count": 48,
   "metadata": {
    "colab": {},
    "colab_type": "code",
    "id": "8L8G7VzdoUZh"
   },
   "outputs": [],
   "source": [
    "test_term_doc = vect.transform(X_extra_test_docs[\"Article11\"]).toarray()"
   ]
  },
  {
   "cell_type": "code",
   "execution_count": 49,
   "metadata": {
    "colab": {},
    "colab_type": "code",
    "id": "dMktOvKcID-S"
   },
   "outputs": [],
   "source": [
    "y_test_pred = classifier.predict(test_term_doc)"
   ]
  },
  {
   "cell_type": "code",
   "execution_count": 50,
   "metadata": {
    "colab": {},
    "colab_type": "code",
    "id": "qbDiAbvzID-U"
   },
   "outputs": [
    {
     "name": "stdout",
     "output_type": "stream",
     "text": [
      "Logistic regression performance:\n",
      "Mean absolute error = 0.3\n",
      "Accuracy score = 0.6966292134831461\n",
      "Recall score = 0.6966292134831461\n",
      "Precision score = 1.0\n",
      "F1 score = 0.8211920529801325\n"
     ]
    }
   ],
   "source": [
    "# Compute performance metrics\n",
    "print(\"Logistic regression performance:\")\n",
    "print(\"Mean absolute error =\", round(sm.mean_absolute_error(Y_extra_test_docs[\"Article11\"], y_test_pred), 2))\n",
    "print(\"Accuracy score =\", sm.accuracy_score(Y_extra_test_docs[\"Article11\"], y_test_pred))\n",
    "print(\"Recall score =\", sm.recall_score(Y_extra_test_docs[\"Article11\"], y_test_pred))\n",
    "print(\"Precision score =\", sm.precision_score(Y_extra_test_docs[\"Article11\"], y_test_pred))\n",
    "print(\"F1 score =\", sm.f1_score(Y_extra_test_docs[\"Article11\"], y_test_pred))"
   ]
  },
  {
   "cell_type": "code",
   "execution_count": 51,
   "metadata": {},
   "outputs": [
    {
     "data": {
      "text/plain": [
       "(0, 0, 27, 62)"
      ]
     },
     "execution_count": 51,
     "metadata": {},
     "output_type": "execute_result"
    }
   ],
   "source": [
    "from sklearn.metrics import confusion_matrix\n",
    "tn, fp, fn, tp = confusion_matrix(Y_extra_test_docs[\"Article11\"], y_test_pred).ravel()\n",
    "(tn, fp, fn, tp)"
   ]
  },
  {
   "cell_type": "markdown",
   "metadata": {
    "colab_type": "text",
    "id": "HhN8QImToaDQ"
   },
   "source": [
    "#### Article 13 results"
   ]
  },
  {
   "cell_type": "code",
   "execution_count": 52,
   "metadata": {
    "colab": {},
    "colab_type": "code",
    "id": "8L8G7VzdoUZh"
   },
   "outputs": [],
   "source": [
    "test_term_doc = vect.transform(X_extra_test_docs[\"Article13\"]).toarray()"
   ]
  },
  {
   "cell_type": "code",
   "execution_count": 53,
   "metadata": {
    "colab": {},
    "colab_type": "code",
    "id": "dMktOvKcID-S"
   },
   "outputs": [],
   "source": [
    "y_test_pred = classifier.predict(test_term_doc)"
   ]
  },
  {
   "cell_type": "code",
   "execution_count": 54,
   "metadata": {
    "colab": {},
    "colab_type": "code",
    "id": "qbDiAbvzID-U"
   },
   "outputs": [
    {
     "name": "stdout",
     "output_type": "stream",
     "text": [
      "Logistic regression performance:\n",
      "Mean absolute error = 0.17\n",
      "Accuracy score = 0.8264150943396227\n",
      "Recall score = 0.8264150943396227\n",
      "Precision score = 1.0\n",
      "F1 score = 0.9049586776859504\n"
     ]
    }
   ],
   "source": [
    "# Compute performance metrics\n",
    "print(\"Logistic regression performance:\")\n",
    "print(\"Mean absolute error =\", round(sm.mean_absolute_error(Y_extra_test_docs[\"Article13\"], y_test_pred), 2))\n",
    "print(\"Accuracy score =\", sm.accuracy_score(Y_extra_test_docs[\"Article13\"], y_test_pred))\n",
    "print(\"Recall score =\", sm.recall_score(Y_extra_test_docs[\"Article13\"], y_test_pred))\n",
    "print(\"Precision score =\", sm.precision_score(Y_extra_test_docs[\"Article13\"], y_test_pred))\n",
    "print(\"F1 score =\", sm.f1_score(Y_extra_test_docs[\"Article13\"], y_test_pred))"
   ]
  },
  {
   "cell_type": "code",
   "execution_count": 55,
   "metadata": {},
   "outputs": [
    {
     "data": {
      "text/plain": [
       "(0, 0, 184, 876)"
      ]
     },
     "execution_count": 55,
     "metadata": {},
     "output_type": "execute_result"
    }
   ],
   "source": [
    "from sklearn.metrics import confusion_matrix\n",
    "tn, fp, fn, tp = confusion_matrix(Y_extra_test_docs[\"Article13\"], y_test_pred).ravel()\n",
    "(tn, fp, fn, tp)"
   ]
  },
  {
   "cell_type": "markdown",
   "metadata": {
    "colab_type": "text",
    "id": "HhN8QImToaDQ"
   },
   "source": [
    "#### Article 14 results"
   ]
  },
  {
   "cell_type": "code",
   "execution_count": 56,
   "metadata": {
    "colab": {},
    "colab_type": "code",
    "id": "8L8G7VzdoUZh"
   },
   "outputs": [],
   "source": [
    "test_term_doc = vect.transform(X_extra_test_docs[\"Article14\"]).toarray()"
   ]
  },
  {
   "cell_type": "code",
   "execution_count": 57,
   "metadata": {
    "colab": {},
    "colab_type": "code",
    "id": "dMktOvKcID-S"
   },
   "outputs": [],
   "source": [
    "y_test_pred = classifier.predict(test_term_doc)"
   ]
  },
  {
   "cell_type": "code",
   "execution_count": 58,
   "metadata": {
    "colab": {},
    "colab_type": "code",
    "id": "qbDiAbvzID-U"
   },
   "outputs": [
    {
     "name": "stdout",
     "output_type": "stream",
     "text": [
      "Logistic regression performance:\n",
      "Mean absolute error = 0.86\n",
      "Accuracy score = 0.13636363636363635\n",
      "Recall score = 0.13636363636363635\n",
      "Precision score = 1.0\n",
      "F1 score = 0.24000000000000002\n"
     ]
    }
   ],
   "source": [
    "# Compute performance metrics\n",
    "print(\"Logistic regression performance:\")\n",
    "print(\"Mean absolute error =\", round(sm.mean_absolute_error(Y_extra_test_docs[\"Article14\"], y_test_pred), 2))\n",
    "print(\"Accuracy score =\", sm.accuracy_score(Y_extra_test_docs[\"Article14\"], y_test_pred))\n",
    "print(\"Recall score =\", sm.recall_score(Y_extra_test_docs[\"Article14\"], y_test_pred))\n",
    "print(\"Precision score =\", sm.precision_score(Y_extra_test_docs[\"Article14\"], y_test_pred))\n",
    "print(\"F1 score =\", sm.f1_score(Y_extra_test_docs[\"Article14\"], y_test_pred))"
   ]
  },
  {
   "cell_type": "code",
   "execution_count": 59,
   "metadata": {},
   "outputs": [
    {
     "data": {
      "text/plain": [
       "(0, 0, 38, 6)"
      ]
     },
     "execution_count": 59,
     "metadata": {},
     "output_type": "execute_result"
    }
   ],
   "source": [
    "from sklearn.metrics import confusion_matrix\n",
    "tn, fp, fn, tp = confusion_matrix(Y_extra_test_docs[\"Article14\"], y_test_pred).ravel()\n",
    "(tn, fp, fn, tp)"
   ]
  }
 ],
 "metadata": {
  "colab": {
   "collapsed_sections": [
    "zMsiqdTRID-W"
   ],
   "machine_shape": "hm",
   "name": "Notebook 9 - Linear Models on Test Set ('Test_violations').ipynb",
   "provenance": []
  },
  "kernelspec": {
   "display_name": "Python 3",
   "language": "python",
   "name": "python3"
  },
  "language_info": {
   "codemirror_mode": {
    "name": "ipython",
    "version": 3
   },
   "file_extension": ".py",
   "mimetype": "text/x-python",
   "name": "python",
   "nbconvert_exporter": "python",
   "pygments_lexer": "ipython3",
   "version": "3.7.4"
  }
 },
 "nbformat": 4,
 "nbformat_minor": 1
}
