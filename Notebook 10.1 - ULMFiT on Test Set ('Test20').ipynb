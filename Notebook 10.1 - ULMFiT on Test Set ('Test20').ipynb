{
 "cells": [
  {
   "cell_type": "markdown",
   "metadata": {
    "colab_type": "text",
    "id": "dr90pmEsJ3CV"
   },
   "source": [
    "# Predicting Judicial Decisions of the European Court of Human Rights"
   ]
  },
  {
   "cell_type": "code",
   "execution_count": 1,
   "metadata": {
    "colab": {},
    "colab_type": "code",
    "id": "YCVS793gJ3CW"
   },
   "outputs": [],
   "source": [
    "from fastai import *\n",
    "from fastai.text import *\n",
    "from fastai.utils.mem import gpu_mem_get_free_no_cache\n",
    "from sklearn.model_selection import train_test_split"
   ]
  },
  {
   "cell_type": "code",
   "execution_count": 2,
   "metadata": {
    "colab": {},
    "colab_type": "code",
    "id": "Umzl3Av-J3Ca"
   },
   "outputs": [],
   "source": [
    "import numpy as np\n",
    "import re\n",
    "import os\n",
    "import copy\n",
    "import torch"
   ]
  },
  {
   "cell_type": "code",
   "execution_count": 3,
   "metadata": {
    "colab": {},
    "colab_type": "code",
    "id": "6QO90ViMTMwn"
   },
   "outputs": [],
   "source": [
    "def read_dataset(PATH):\n",
    "    X_dataset = {}\n",
    "    Y_dataset = {}\n",
    "    for path, dirs, files in os.walk(PATH):\n",
    "        for filename in files:\n",
    "            fullpath = os.path.join(path, filename)\n",
    "            if \"both\" not in fullpath:\n",
    "                with open(fullpath, 'r', encoding=\"utf8\") as file:\n",
    "                    X_dataset, Y_dataset = add_file_to_dataset(fullpath, X_dataset, Y_dataset, file.read())\n",
    "\n",
    "    return X_dataset, Y_dataset       "
   ]
  },
  {
   "cell_type": "code",
   "execution_count": 4,
   "metadata": {
    "colab": {},
    "colab_type": "code",
    "id": "-d1p2EmZTMwp"
   },
   "outputs": [],
   "source": [
    "def add_file_to_dataset(fullpath, x_dataset, y_dataset, file):\n",
    "    article = extract_article(fullpath)\n",
    "    file = preprocess(file)\n",
    "    if article not in x_dataset.keys() :\n",
    "        x_dataset[article] = []\n",
    "        y_dataset[article] = []\n",
    "    x_dataset[article] = x_dataset[article] + [file]\n",
    "    label = 0 if \"non-violation\" in fullpath else 1\n",
    "    y_dataset[article] = y_dataset[article] + [label]\n",
    "    return x_dataset, y_dataset  "
   ]
  },
  {
   "cell_type": "markdown",
   "metadata": {
    "colab_type": "text",
    "id": "6XxpjRuSTMwu"
   },
   "source": [
    "We use regex to extract the number of the Article from the fullpath and insert the file into the list under that specific Article."
   ]
  },
  {
   "cell_type": "code",
   "execution_count": 5,
   "metadata": {
    "colab": {},
    "colab_type": "code",
    "id": "dJl8e_a7TMwv"
   },
   "outputs": [],
   "source": [
    "def extract_article(path): \n",
    "    pattern = r\"(Article\\d+)\"\n",
    "    result = re.search(pattern, path)\n",
    "    article = result.group(1)\n",
    "    return article"
   ]
  },
  {
   "cell_type": "markdown",
   "metadata": {
    "colab_type": "text",
    "id": "kgwhtsttTMwz"
   },
   "source": [
    "### Preprocessing "
   ]
  },
  {
   "cell_type": "code",
   "execution_count": 6,
   "metadata": {
    "colab": {},
    "colab_type": "code",
    "id": "NFb0HepOTMw0"
   },
   "outputs": [],
   "source": [
    "def preprocess(file): \n",
    "    file = extract_paragraphs(file)\n",
    "    return file"
   ]
  },
  {
   "cell_type": "code",
   "execution_count": 7,
   "metadata": {
    "colab": {},
    "colab_type": "code",
    "id": "8c1G6WvJTMw3"
   },
   "outputs": [],
   "source": [
    "def extract_paragraphs(file): \n",
    "    file = re.sub(r'[\\x00-\\x08\\x0b\\x0c\\x0e-\\x1f\\x7f-\\xff]', '', file)\n",
    "    pat = r'(PROCEDURE\\s*\\n.+?)?((THE CIRCUMSTANCES OF THE CASE\\s*\\n.+?RELEVANT DOMESTIC LAW.+?)|(\\n(AS TO THE FACTS|THE FACTS|FACTS)\\s*\\n.+?))(\\nIII\\.|THE LAW\\s*\\n|PROCEEDINGS BEFORE THE COMMISSION\\s*\\n|ALLEGED VIOLATION OF ARTICLE [0-9]+ OF THE CONVENTION \\s*\\n)'\n",
    "    result = re.search(pat, file, re.S |  re.IGNORECASE)\n",
    "    content = \"\"\n",
    "    if result.group(1) is not None:\n",
    "        content += result.group(1)\n",
    "    content += result.group(2)\n",
    "    return content"
   ]
  },
  {
   "cell_type": "markdown",
   "metadata": {
    "colab_type": "text",
    "id": "3HCg3HeRTMw6"
   },
   "source": [
    "### Loading the data"
   ]
  },
  {
   "cell_type": "code",
   "execution_count": 8,
   "metadata": {
    "colab": {},
    "colab_type": "code",
    "id": "W5XYfQ5RTMw6"
   },
   "outputs": [],
   "source": [
    "base_path = \"Datasets\\\\Human rights dataset\""
   ]
  },
  {
   "cell_type": "code",
   "execution_count": 9,
   "metadata": {
    "colab": {},
    "colab_type": "code",
    "id": "SCFZGP-QTMw-"
   },
   "outputs": [],
   "source": [
    "X_train_docs, Y_train_docs = read_dataset(base_path + \"\\\\train\")\n",
    "X_test_docs, Y_test_docs = read_dataset(base_path + \"\\\\test20\")"
   ]
  },
  {
   "cell_type": "code",
   "execution_count": 10,
   "metadata": {
    "colab": {
     "base_uri": "https://localhost:8080/",
     "height": 54
    },
    "colab_type": "code",
    "executionInfo": {
     "elapsed": 16505,
     "status": "ok",
     "timestamp": 1587223242173,
     "user": {
      "displayName": "Irina Carabella",
      "photoUrl": "https://lh3.googleusercontent.com/a-/AOh14Ghc7fU0OvMy7bNgHyLPrhliac5JmVA2O29FjI3rZg=s64",
      "userId": "14771962769165463145"
     },
     "user_tz": -60
    },
    "id": "B7RMOfoVTMxA",
    "outputId": "53aa2b7e-4c86-4652-c17f-248711795965"
   },
   "outputs": [
    {
     "data": {
      "text/plain": [
       "dict_keys(['Article10', 'Article11', 'Article12', 'Article13', 'Article14', 'Article18', 'Article2', 'Article3', 'Article4', 'Article5', 'Article6', 'Article7', 'Article8'])"
      ]
     },
     "execution_count": 10,
     "metadata": {},
     "output_type": "execute_result"
    }
   ],
   "source": [
    "X_train_docs.keys()"
   ]
  },
  {
   "cell_type": "code",
   "execution_count": 11,
   "metadata": {
    "colab": {},
    "colab_type": "code",
    "id": "3-blaGg9TMxG"
   },
   "outputs": [],
   "source": [
    "def select_articles(train_set):\n",
    "    selected_training_set = copy.deepcopy(train_set)\n",
    "    \n",
    "    for key in train_set.keys():\n",
    "        if len(train_set[key]) <= 50:\n",
    "            selected_training_set.pop(key)\n",
    "            continue\n",
    "    return selected_training_set"
   ]
  },
  {
   "cell_type": "code",
   "execution_count": 12,
   "metadata": {
    "colab": {},
    "colab_type": "code",
    "id": "Gk3NkdDMTMxI"
   },
   "outputs": [],
   "source": [
    "X_train_docs = select_articles(X_train_docs)"
   ]
  },
  {
   "cell_type": "code",
   "execution_count": 13,
   "metadata": {
    "colab": {
     "base_uri": "https://localhost:8080/",
     "height": 34
    },
    "colab_type": "code",
    "executionInfo": {
     "elapsed": 15904,
     "status": "ok",
     "timestamp": 1587223242176,
     "user": {
      "displayName": "Irina Carabella",
      "photoUrl": "https://lh3.googleusercontent.com/a-/AOh14Ghc7fU0OvMy7bNgHyLPrhliac5JmVA2O29FjI3rZg=s64",
      "userId": "14771962769165463145"
     },
     "user_tz": -60
    },
    "id": "fhSIE1SpTMxK",
    "outputId": "ca582997-7634-40f3-a35f-f8d86239c25e"
   },
   "outputs": [
    {
     "data": {
      "text/plain": [
       "dict_keys(['Article10', 'Article11', 'Article13', 'Article14', 'Article2', 'Article3', 'Article5', 'Article6', 'Article8'])"
      ]
     },
     "execution_count": 13,
     "metadata": {},
     "output_type": "execute_result"
    }
   ],
   "source": [
    "X_train_docs.keys()"
   ]
  },
  {
   "cell_type": "markdown",
   "metadata": {
    "colab_type": "text",
    "id": "u_JuhGdsTMxO"
   },
   "source": [
    "### Combining all the articles according to class"
   ]
  },
  {
   "cell_type": "code",
   "execution_count": 14,
   "metadata": {
    "colab": {},
    "colab_type": "code",
    "id": "XNlw7Do9ID9k"
   },
   "outputs": [],
   "source": [
    "X_train = X_train_docs[\"Article2\"] + X_train_docs[\"Article3\"] + X_train_docs[\"Article5\"] + X_train_docs[\"Article6\"] + X_train_docs[\"Article8\"] + X_train_docs[\"Article10\"] + X_train_docs[\"Article11\"] + X_train_docs[\"Article13\"] + X_train_docs[\"Article14\"]"
   ]
  },
  {
   "cell_type": "code",
   "execution_count": 15,
   "metadata": {
    "colab": {},
    "colab_type": "code",
    "id": "7wDEZLPzID9l"
   },
   "outputs": [],
   "source": [
    "X_test = X_test_docs[\"Article2\"] + X_test_docs[\"Article3\"] + X_test_docs[\"Article5\"] + X_test_docs[\"Article6\"] + X_test_docs[\"Article8\"] + X_test_docs[\"Article10\"] + X_test_docs[\"Article11\"] + X_test_docs[\"Article13\"] + X_test_docs[\"Article14\"]"
   ]
  },
  {
   "cell_type": "code",
   "execution_count": 16,
   "metadata": {
    "colab": {},
    "colab_type": "code",
    "id": "pDcL4YY8ID9p"
   },
   "outputs": [],
   "source": [
    "Y_train = Y_train_docs[\"Article2\"] + Y_train_docs[\"Article3\"] + Y_train_docs[\"Article5\"] + Y_train_docs[\"Article6\"] + Y_train_docs[\"Article8\"] + Y_train_docs[\"Article10\"] + Y_train_docs[\"Article11\"] + Y_train_docs[\"Article13\"] + Y_train_docs[\"Article14\"]"
   ]
  },
  {
   "cell_type": "code",
   "execution_count": 17,
   "metadata": {
    "colab": {},
    "colab_type": "code",
    "id": "wR8IjE5DID9r"
   },
   "outputs": [],
   "source": [
    "Y_test = Y_test_docs[\"Article2\"] + Y_test_docs[\"Article3\"] + Y_test_docs[\"Article5\"] + Y_test_docs[\"Article6\"] + Y_test_docs[\"Article8\"] + Y_test_docs[\"Article10\"] + Y_test_docs[\"Article11\"] + Y_test_docs[\"Article13\"] + Y_test_docs[\"Article14\"]"
   ]
  },
  {
   "cell_type": "code",
   "execution_count": 18,
   "metadata": {
    "colab": {
     "base_uri": "https://localhost:8080/",
     "height": 34
    },
    "colab_type": "code",
    "executionInfo": {
     "elapsed": 14559,
     "status": "ok",
     "timestamp": 1587223242179,
     "user": {
      "displayName": "Irina Carabella",
      "photoUrl": "https://lh3.googleusercontent.com/a-/AOh14Ghc7fU0OvMy7bNgHyLPrhliac5JmVA2O29FjI3rZg=s64",
      "userId": "14771962769165463145"
     },
     "user_tz": -60
    },
    "id": "nhoo-9CQID9y",
    "outputId": "5e4eebd4-f05d-46b7-bb53-8d21d3eb894c"
   },
   "outputs": [
    {
     "data": {
      "text/plain": [
       "(3131, 3131, 784, 784)"
      ]
     },
     "execution_count": 18,
     "metadata": {},
     "output_type": "execute_result"
    }
   ],
   "source": [
    "len(X_train), len(Y_train), len(X_test), len(Y_test)"
   ]
  },
  {
   "cell_type": "markdown",
   "metadata": {
    "colab_type": "text",
    "id": "iMxz2NrgTMxg"
   },
   "source": [
    "### Creating the Classifier DataBunches"
   ]
  },
  {
   "cell_type": "markdown",
   "metadata": {
    "colab_type": "text",
    "id": "krnZ0O53TMxh"
   },
   "source": [
    "Credit to FastAi for explaining and providing the code (https://github.com/fastai/course-nlp/blob/master/5-nn-imdb.ipynb)"
   ]
  },
  {
   "cell_type": "code",
   "execution_count": 22,
   "metadata": {
    "colab": {
     "base_uri": "https://localhost:8080/",
     "height": 34
    },
    "colab_type": "code",
    "executionInfo": {
     "elapsed": 14369,
     "status": "ok",
     "timestamp": 1587223242179,
     "user": {
      "displayName": "Irina Carabella",
      "photoUrl": "https://lh3.googleusercontent.com/a-/AOh14Ghc7fU0OvMy7bNgHyLPrhliac5JmVA2O29FjI3rZg=s64",
      "userId": "14771962769165463145"
     },
     "user_tz": -60
    },
    "id": "CF2VEKrNTMxh",
    "outputId": "6bfd5673-652f-4dca-9deb-6a2a322b9775"
   },
   "outputs": [],
   "source": [
    "path = os.getcwd() + \"\\\\Data\""
   ]
  },
  {
   "cell_type": "code",
   "execution_count": 20,
   "metadata": {
    "colab": {},
    "colab_type": "code",
    "id": "pg4u2JkJTMxj"
   },
   "outputs": [],
   "source": [
    "X_train_np = np.array(X_train)\n",
    "Y_train_np = np.array(Y_train)\n",
    "\n",
    "X_test_np = np.array(X_test)\n",
    "Y_test_np = np.array(Y_test)\n",
    " \n",
    "train_cases = {'Case': X_train_np, 'Label': Y_train_np}\n",
    "all_train_df = DataFrame(train_cases, columns= ['Case', 'Label'])\n",
    "\n",
    "test_cases = {'Case': X_test_np, 'Label': Y_test_np}\n",
    "test_df = DataFrame(test_cases, columns= ['Case', 'Label'])"
   ]
  },
  {
   "cell_type": "code",
   "execution_count": 23,
   "metadata": {
    "colab": {
     "base_uri": "https://localhost:8080/",
     "height": 17
    },
    "colab_type": "code",
    "executionInfo": {
     "elapsed": 84806,
     "status": "ok",
     "timestamp": 1587223313022,
     "user": {
      "displayName": "Irina Carabella",
      "photoUrl": "https://lh3.googleusercontent.com/a-/AOh14Ghc7fU0OvMy7bNgHyLPrhliac5JmVA2O29FjI3rZg=s64",
      "userId": "14771962769165463145"
     },
     "user_tz": -60
    },
    "id": "O8fLuVdRlSPm",
    "outputId": "94e792ae-149b-42fc-f643-3d02d008626c"
   },
   "outputs": [],
   "source": [
    "data_lm = (TextList.from_df(all_train_df, cols='Case')\n",
    "          .split_none()\n",
    "          .label_for_lm()           \n",
    "          .databunch(bs=16, num_workers=1))\n",
    "data_lm.save(path + '\\\\data_lm_export_test20.pkl')"
   ]
  },
  {
   "cell_type": "code",
   "execution_count": 24,
   "metadata": {
    "colab": {
     "base_uri": "https://localhost:8080/",
     "height": 17
    },
    "colab_type": "code",
    "executionInfo": {
     "elapsed": 152206,
     "status": "ok",
     "timestamp": 1587223380614,
     "user": {
      "displayName": "Irina Carabella",
      "photoUrl": "https://lh3.googleusercontent.com/a-/AOh14Ghc7fU0OvMy7bNgHyLPrhliac5JmVA2O29FjI3rZg=s64",
      "userId": "14771962769165463145"
     },
     "user_tz": -60
    },
    "id": "eMEF3v1Ul-bu",
    "outputId": "64842ca8-b503-4fd4-9081-2b3f6f6ff3aa"
   },
   "outputs": [],
   "source": [
    "data_clas = (TextList.from_df(all_train_df, cols='Case', vocab = data_lm.vocab)\n",
    "            .split_none()\n",
    "            .label_from_df(cols='Label')       \n",
    "            .databunch(bs=16, num_workers=1))\n",
    "data_clas.save(path + '\\\\data_clas_export_test20.pkl')"
   ]
  },
  {
   "cell_type": "code",
   "execution_count": 25,
   "metadata": {
    "colab": {
     "base_uri": "https://localhost:8080/",
     "height": 34
    },
    "colab_type": "code",
    "executionInfo": {
     "elapsed": 151883,
     "status": "ok",
     "timestamp": 1587223380615,
     "user": {
      "displayName": "Irina Carabella",
      "photoUrl": "https://lh3.googleusercontent.com/a-/AOh14Ghc7fU0OvMy7bNgHyLPrhliac5JmVA2O29FjI3rZg=s64",
      "userId": "14771962769165463145"
     },
     "user_tz": -60
    },
    "id": "RZWNCxpLlcJ6",
    "outputId": "f31ef666-133c-43f3-fcdc-4cbabc358dbe"
   },
   "outputs": [
    {
     "data": {
      "text/plain": [
       "(48128, 48128)"
      ]
     },
     "execution_count": 25,
     "metadata": {},
     "output_type": "execute_result"
    }
   ],
   "source": [
    "len(data_clas.vocab.itos), len(data_lm.vocab.itos)"
   ]
  },
  {
   "cell_type": "code",
   "execution_count": 26,
   "metadata": {
    "colab": {
     "base_uri": "https://localhost:8080/",
     "height": 17
    },
    "colab_type": "code",
    "executionInfo": {
     "elapsed": 236443,
     "status": "ok",
     "timestamp": 1587223465344,
     "user": {
      "displayName": "Irina Carabella",
      "photoUrl": "https://lh3.googleusercontent.com/a-/AOh14Ghc7fU0OvMy7bNgHyLPrhliac5JmVA2O29FjI3rZg=s64",
      "userId": "14771962769165463145"
     },
     "user_tz": -60
    },
    "id": "sq6pZfkZTMxl",
    "outputId": "3bfb79ea-2d81-444c-e251-ed76a3cb4a6a"
   },
   "outputs": [],
   "source": [
    "data_clas_test = TextClasDataBunch.from_df(path, train_df = all_train_df, valid_df = test_df, vocab=data_lm.vocab, text_cols = 'Case', label_cols = 'Label', bs=16)\n",
    "data_clas_test.save('data_clas_test_export_test20.pkl')"
   ]
  },
  {
   "cell_type": "markdown",
   "metadata": {
    "colab_type": "text",
    "id": "T5fb2O9qKXvF"
   },
   "source": [
    "### Loading the DataBunches"
   ]
  },
  {
   "cell_type": "code",
   "execution_count": 3,
   "metadata": {
    "colab": {},
    "colab_type": "code",
    "id": "4plwLtWuJ3Cj"
   },
   "outputs": [],
   "source": [
    "lm_filename = 'data_lm_export_test20.pkl'\n",
    "clas_filename = 'data_clas_export_test20.pkl'\n",
    "clas_test_filename = 'data_clas_test_export_test20.pkl'"
   ]
  },
  {
   "cell_type": "code",
   "execution_count": 4,
   "metadata": {
    "colab": {
     "base_uri": "https://localhost:8080/",
     "height": 34
    },
    "colab_type": "code",
    "executionInfo": {
     "elapsed": 27000,
     "status": "ok",
     "timestamp": 1587230777145,
     "user": {
      "displayName": "Irina Carabella",
      "photoUrl": "https://lh3.googleusercontent.com/a-/AOh14Ghc7fU0OvMy7bNgHyLPrhliac5JmVA2O29FjI3rZg=s64",
      "userId": "14771962769165463145"
     },
     "user_tz": -60
    },
    "id": "Oe4o-NuOwqFW",
    "outputId": "70db5d5a-1ecb-4c42-951b-4bb01139afa9"
   },
   "outputs": [],
   "source": [
    "base_path = os.getcwd()\n",
    "path = base_path + \"\\\\Data\""
   ]
  },
  {
   "cell_type": "code",
   "execution_count": 5,
   "metadata": {
    "colab": {},
    "colab_type": "code",
    "id": "LdBeD3bgJ3Cl"
   },
   "outputs": [],
   "source": [
    "bs = 16\n",
    "data_lm = load_data(path, lm_filename, bs=bs)\n",
    "data_clas = load_data(path, clas_filename, bs=bs)\n",
    "data_clas_test = load_data(path, clas_test_filename, bs=bs)"
   ]
  },
  {
   "cell_type": "code",
   "execution_count": 6,
   "metadata": {
    "colab": {
     "base_uri": "https://localhost:8080/",
     "height": 34
    },
    "colab_type": "code",
    "executionInfo": {
     "elapsed": 38778,
     "status": "ok",
     "timestamp": 1587230789861,
     "user": {
      "displayName": "Irina Carabella",
      "photoUrl": "https://lh3.googleusercontent.com/a-/AOh14Ghc7fU0OvMy7bNgHyLPrhliac5JmVA2O29FjI3rZg=s64",
      "userId": "14771962769165463145"
     },
     "user_tz": -60
    },
    "id": "6tZUv8r7J3Co",
    "outputId": "5b162500-7873-4569-b124-0600cb3c0a59"
   },
   "outputs": [
    {
     "data": {
      "text/plain": [
       "4021"
      ]
     },
     "execution_count": 6,
     "metadata": {},
     "output_type": "execute_result"
    }
   ],
   "source": [
    "torch.cuda.set_device(0)\n",
    "gpu_mem_get_free_no_cache()"
   ]
  },
  {
   "cell_type": "markdown",
   "metadata": {
    "colab_type": "text",
    "id": "14hMl-xBJ3Cg"
   },
   "source": [
    "### Creating and Fine-tuning the Language Model"
   ]
  },
  {
   "cell_type": "code",
   "execution_count": 8,
   "metadata": {
    "colab": {
     "base_uri": "https://localhost:8080/",
     "height": 34
    },
    "colab_type": "code",
    "executionInfo": {
     "elapsed": 16403,
     "status": "ok",
     "timestamp": 1587230806283,
     "user": {
      "displayName": "Irina Carabella",
      "photoUrl": "https://lh3.googleusercontent.com/a-/AOh14Ghc7fU0OvMy7bNgHyLPrhliac5JmVA2O29FjI3rZg=s64",
      "userId": "14771962769165463145"
     },
     "user_tz": -60
    },
    "id": "ZNXW70g8J3Cr",
    "outputId": "9c9022b4-7ead-4176-bb63-3fc867c45788"
   },
   "outputs": [],
   "source": [
    "learn_lm = language_model_learner(data_lm, AWD_LSTM, drop_mult=0.5)\n",
    "learn_lm.model = learn_lm.model.cuda()"
   ]
  },
  {
   "cell_type": "code",
   "execution_count": 9,
   "metadata": {
    "colab": {},
    "colab_type": "code",
    "id": "EF4YHk5fJ3Cw"
   },
   "outputs": [],
   "source": [
    "lr = 1e-2\n",
    "lr *= bs/48\n",
    "learn_lm.to_fp16();"
   ]
  },
  {
   "cell_type": "code",
   "execution_count": 10,
   "metadata": {
    "colab": {
     "base_uri": "https://localhost:8080/",
     "height": 77
    },
    "colab_type": "code",
    "executionInfo": {
     "elapsed": 1073131,
     "status": "ok",
     "timestamp": 1587231863037,
     "user": {
      "displayName": "Irina Carabella",
      "photoUrl": "https://lh3.googleusercontent.com/a-/AOh14Ghc7fU0OvMy7bNgHyLPrhliac5JmVA2O29FjI3rZg=s64",
      "userId": "14771962769165463145"
     },
     "user_tz": -60
    },
    "id": "1Jl63u0-J3Cz",
    "outputId": "e6bc50f5-549b-491f-d507-d13838871bfa"
   },
   "outputs": [
    {
     "data": {
      "text/html": [
       "<table border=\"1\" class=\"dataframe\">\n",
       "  <thead>\n",
       "    <tr style=\"text-align: left;\">\n",
       "      <th>epoch</th>\n",
       "      <th>train_loss</th>\n",
       "      <th>valid_loss</th>\n",
       "      <th>accuracy</th>\n",
       "      <th>time</th>\n",
       "    </tr>\n",
       "  </thead>\n",
       "  <tbody>\n",
       "    <tr>\n",
       "      <td>0</td>\n",
       "      <td>3.677093</td>\n",
       "      <td>#na#</td>\n",
       "      <td>1:59:35</td>\n",
       "    </tr>\n",
       "  </tbody>\n",
       "</table>"
      ],
      "text/plain": [
       "<IPython.core.display.HTML object>"
      ]
     },
     "metadata": {},
     "output_type": "display_data"
    }
   ],
   "source": [
    "learn_lm.fit_one_cycle(1, lr*10, moms=(0.8,0.7))"
   ]
  },
  {
   "cell_type": "code",
   "execution_count": 11,
   "metadata": {
    "colab": {
     "base_uri": "https://localhost:8080/",
     "height": 94
    },
    "colab_type": "code",
    "executionInfo": {
     "elapsed": 1481952,
     "status": "ok",
     "timestamp": 1587144375493,
     "user": {
      "displayName": "Irina Carabella",
      "photoUrl": "https://lh3.googleusercontent.com/a-/AOh14Ghc7fU0OvMy7bNgHyLPrhliac5JmVA2O29FjI3rZg=s64",
      "userId": "14771962769165463145"
     },
     "user_tz": -60
    },
    "id": "pEAjHGVgJ3C2",
    "outputId": "96712290-761c-48c8-dae7-2a0d1fdbf6d2"
   },
   "outputs": [
    {
     "data": {
      "text/html": [
       "<table border=\"1\" class=\"dataframe\">\n",
       "  <thead>\n",
       "    <tr style=\"text-align: left;\">\n",
       "      <th>epoch</th>\n",
       "      <th>train_loss</th>\n",
       "      <th>valid_loss</th>\n",
       "      <th>accuracy</th>\n",
       "      <th>time</th>\n",
       "    </tr>\n",
       "  </thead>\n",
       "  <tbody>\n",
       "    <tr>\n",
       "      <td>0</td>\n",
       "      <td>2.925367</td>\n",
       "      <td>#na#</td>\n",
       "      <td>2:01:17</td>\n",
       "    </tr>\n",
       "    <tr>\n",
       "      <td>1</td>\n",
       "      <td>2.823620</td>\n",
       "      <td>#na#</td>\n",
       "      <td>2:00:36</td>\n",
       "    </tr>\n",
       "    <tr>\n",
       "      <td>2</td>\n",
       "      <td>2.680472</td>\n",
       "      <td>#na#</td>\n",
       "      <td>1:59:19</td>\n",
       "    </tr>\n",
       "  </tbody>\n",
       "</table>"
      ],
      "text/plain": [
       "<IPython.core.display.HTML object>"
      ]
     },
     "metadata": {},
     "output_type": "display_data"
    }
   ],
   "source": [
    "learn_lm.unfreeze()\n",
    "learn_lm.fit_one_cycle(3, lr, moms=(0.8,0.7))"
   ]
  },
  {
   "cell_type": "code",
   "execution_count": 12,
   "metadata": {
    "colab": {},
    "colab_type": "code",
    "id": "ShGyt8K46Lqu"
   },
   "outputs": [],
   "source": [
    "model_save = \"fine_tuned_test20\"\n",
    "enc_save = \"fine_tuned_enc_test20\""
   ]
  },
  {
   "cell_type": "code",
   "execution_count": 13,
   "metadata": {
    "colab": {},
    "colab_type": "code",
    "id": "TDqSs5ihJ3C4"
   },
   "outputs": [],
   "source": [
    "learn_lm.save(model_save)\n",
    "learn_lm.save_encoder(enc_save)"
   ]
  },
  {
   "cell_type": "markdown",
   "metadata": {
    "colab_type": "text",
    "id": "CRd049_UJ3C9"
   },
   "source": [
    "### Classification"
   ]
  },
  {
   "cell_type": "code",
   "execution_count": 7,
   "metadata": {
    "colab": {},
    "colab_type": "code",
    "id": "JZK1GhpFSnye"
   },
   "outputs": [],
   "source": [
    "model_save = \"fine_tuned_test20\"\n",
    "enc_save = \"fine_tuned_enc_test20\""
   ]
  },
  {
   "cell_type": "code",
   "execution_count": 8,
   "metadata": {
    "colab": {
     "base_uri": "https://localhost:8080/",
     "height": 390
    },
    "colab_type": "code",
    "executionInfo": {
     "elapsed": 11147,
     "status": "error",
     "timestamp": 1587221056191,
     "user": {
      "displayName": "Irina Carabella",
      "photoUrl": "https://lh3.googleusercontent.com/a-/AOh14Ghc7fU0OvMy7bNgHyLPrhliac5JmVA2O29FjI3rZg=s64",
      "userId": "14771962769165463145"
     },
     "user_tz": -60
    },
    "id": "mKpDHv3-J3C9",
    "outputId": "5fdda3b4-649b-42ba-9415-a6171a81da1e"
   },
   "outputs": [],
   "source": [
    "learn_c = text_classifier_learner(data_clas, AWD_LSTM, drop_mult=0.5).to_fp16()\n",
    "learn_c.load_encoder(enc_save)\n",
    "learn_c.freeze()"
   ]
  },
  {
   "cell_type": "code",
   "execution_count": 9,
   "metadata": {
    "colab": {},
    "colab_type": "code",
    "id": "Cf7rNXvcJ3C_"
   },
   "outputs": [],
   "source": [
    "learn_c.metrics= [accuracy,\n",
    "               Precision(average='micro'),\n",
    "               Recall(average='micro'),\n",
    "               FBeta(average='micro')]"
   ]
  },
  {
   "cell_type": "code",
   "execution_count": 12,
   "metadata": {
    "colab": {
     "base_uri": "https://localhost:8080/",
     "height": 380
    },
    "colab_type": "code",
    "executionInfo": {
     "elapsed": 1307,
     "status": "error",
     "timestamp": 1587213740906,
     "user": {
      "displayName": "Irina Carabella",
      "photoUrl": "https://lh3.googleusercontent.com/a-/AOh14Ghc7fU0OvMy7bNgHyLPrhliac5JmVA2O29FjI3rZg=s64",
      "userId": "14771962769165463145"
     },
     "user_tz": -60
    },
    "id": "j0O_tQONJ3DF",
    "outputId": "20ed0e0a-4ab7-420b-b0f2-29cf9b23f820"
   },
   "outputs": [
    {
     "data": {
      "text/html": [
       "<table border=\"1\" class=\"dataframe\">\n",
       "  <thead>\n",
       "    <tr style=\"text-align: left;\">\n",
       "      <th>epoch</th>\n",
       "      <th>train_loss</th>\n",
       "      <th>valid_loss</th>\n",
       "      <th>accuracy</th>\n",
       "      <th>precision</th>\n",
       "      <th>recall</th>\n",
       "      <th>f_beta</th>\n",
       "      <th>time</th>\n",
       "    </tr>\n",
       "  </thead>\n",
       "  <tbody>\n",
       "    <tr>\n",
       "      <td>0</td>\n",
       "      <td>0.608677</td>\n",
       "      <td>#na#</td>\n",
       "      <td>39:31</td>\n",
       "    </tr>\n",
       "  </tbody>\n",
       "</table>"
      ],
      "text/plain": [
       "<IPython.core.display.HTML object>"
      ]
     },
     "metadata": {},
     "output_type": "display_data"
    }
   ],
   "source": [
    "learn_c.fit_one_cycle(1, 1e-2, moms=(0.8, 0.7))"
   ]
  },
  {
   "cell_type": "code",
   "execution_count": 13,
   "metadata": {
    "colab": {
     "base_uri": "https://localhost:8080/",
     "height": 397
    },
    "colab_type": "code",
    "executionInfo": {
     "elapsed": 1127,
     "status": "error",
     "timestamp": 1587213741335,
     "user": {
      "displayName": "Irina Carabella",
      "photoUrl": "https://lh3.googleusercontent.com/a-/AOh14Ghc7fU0OvMy7bNgHyLPrhliac5JmVA2O29FjI3rZg=s64",
      "userId": "14771962769165463145"
     },
     "user_tz": -60
    },
    "id": "r2L1Rv7JJ3DN",
    "outputId": "f56943d3-ab26-4201-ab54-0afc95937c51"
   },
   "outputs": [
    {
     "data": {
      "text/html": [
       "<table border=\"1\" class=\"dataframe\">\n",
       "  <thead>\n",
       "    <tr style=\"text-align: left;\">\n",
       "      <th>epoch</th>\n",
       "      <th>train_loss</th>\n",
       "      <th>valid_loss</th>\n",
       "      <th>accuracy</th>\n",
       "      <th>precision</th>\n",
       "      <th>recall</th>\n",
       "      <th>f_beta</th>\n",
       "      <th>time</th>\n",
       "    </tr>\n",
       "  </thead>\n",
       "  <tbody>\n",
       "    <tr>\n",
       "      <td>0</td>\n",
       "      <td>0.640671</td>\n",
       "      <td>#na#</td>\n",
       "      <td>33:09</td>\n",
       "    </tr>\n",
       "  </tbody>\n",
       "</table>"
      ],
      "text/plain": [
       "<IPython.core.display.HTML object>"
      ]
     },
     "metadata": {},
     "output_type": "display_data"
    }
   ],
   "source": [
    "learn_c.freeze_to(-2)\n",
    "learn_c.fit_one_cycle(1, slice(1e-2/(2.6**4), 1e-2), moms=(0.8, 0.7))"
   ]
  },
  {
   "cell_type": "code",
   "execution_count": 14,
   "metadata": {
    "colab": {},
    "colab_type": "code",
    "id": "qU2j01cfSxgR"
   },
   "outputs": [],
   "source": [
    "learn_c.save('2nd_test20')"
   ]
  },
  {
   "cell_type": "code",
   "execution_count": 10,
   "metadata": {},
   "outputs": [
    {
     "data": {
      "text/plain": [
       "RNNLearner(data=TextClasDataBunch;\n",
       "\n",
       "Train: LabelList (3131 items)\n",
       "x: TextList\n",
       "xxbos xxup procedure \n",
       "  1.the case originated in an application ( no . xxunk / 03 ) against the xxmaj republic of xxmaj bulgaria lodged with the xxmaj court under xxmaj article 34 of the xxmaj convention for the xxmaj protection of xxmaj human xxmaj rights and xxmaj fundamental xxmaj freedoms ( “ the xxmaj convention ” ) by a xxmaj bulgarian national , xxmaj mr xxmaj xxunk xxmaj xxunk xxmaj pankov ( “ the applicant ” ) , on 28 xxmaj march 2003 . \n",
       "  2.the applicant was represented by xxmaj mr xxup y. xxmaj grozev , a lawyer practising in xxmaj sofia and by xxmaj mr xxup b. xxmaj boev , formerly a lawyer practising in xxmaj sofia , who on 7october 2008 was granted leave under xxmaj rule 36 4 ( a ) in fine of the xxmaj rules of xxmaj court to continue representing the applicant . xxmaj the xxmaj bulgarian xxmaj government ( “ the xxmaj government ” ) were represented by their xxmaj agents , xxmaj ms xxup n. xxmaj nikolova and xxmaj ms xxup s. xxmaj atanasova , of the xxmaj ministry of xxmaj justice . \n",
       "  3.the applicant alleged that his lifethreatening injury sustained during military shooting practice was due to the use of deadly force by another serviceman , that the authorities failed to take the necessary precautions to prevent that from happening , and that the ensuing investigation was not effective . \n",
       "  4.on 4 xxmaj december 2008 the xxmaj president of the xxmaj fifth xxmaj section decided to give notice of the application to the xxmaj government . xxmaj it was also decided to examine the merits of the application at the same time as its admissibility ( xxmaj article 29 3 of the xxmaj convention ) . \n",
       "  xxup the xxup facts \n",
       "  xxup i.the xxup circumstances xxup of xxup the xxup case \n",
       "  5.the applicant was born in 1980 and lives in xxmaj pleven . \n",
       "  a.the incident of 22 xxmaj july 1999 \n",
       "  6.in xxmaj april 1999 the applicant was conscripted into the xxmaj bulgarian xxmaj army to perform his mandatory military service . xxmaj he was serving in a regiment in the town of xxmaj xxunk xxmaj banya . xxmaj in mid - xxmaj july 1999 the regiment doctor relieved him from physical exercise and daily duty because of illness . xxmaj nevertheless , on the night of 21 xxmaj july 1999 he was assigned to night duty . \n",
       "  7.after finishing his duty , in the morning of 22 xxmaj july 1999 the applicant was sent , together with other soldiers from his regiment , to shooting practice at a military shooting range near the town of xxmaj xxunk . xxmaj during the practice soldiers from the applicant 's regiment and another regiment were present on the range . xxmaj the applicant performed his task , which consisted of firing twelve rounds . xxmaj after that he handed back all spent cartridge cases and was sent to a watchtower to guard against outsiders penetrating into the range . xxmaj the tower was a square concrete construction 9.3 metres long and 7metres wide . xxmaj in the middle it had a xxunk chimney . \n",
       "  8.at about 11.10 a.m. , minutes after climbing up the tower , the applicant was shot in the abdomen . xxmaj according to the findings of the ensuing investigation , the shot was fired at close range from his own automatic rifle , whose breechblock he was trying to fix without following the applicable safety procedures . xxmaj the applicant disputes those findings and asserts that the shot was in all probability fired by another soldier from afar . \n",
       "  9.after the shot the applicant fell down on the roof of the tower , screaming and moaning . xxmaj chief xxmaj lieutenant xxup p.p. , who was sitting with a few soldiers from his regiment at the foot of the tower , rushed up the stairs . xxmaj he brought the applicant down with the help of soldier xxup t. and medical officer xxup n.g. , who were also at the foot of the tower and climbed up after the shot . \n",
       "  10.after that the applicant was put into an ambulance and transported , accompanied by medical officer xxup n.g. , to the xxmaj military xxmaj medical xxmaj academy in xxmaj sofia , where he underwent lifesaving surgical operations on 23 , 26 and 27july 1999 . xxmaj on 28 xxmaj july 1999 his condition was found to be serious but stable . xxmaj he was discharged from hospital on 9 xxmaj september 1999 , and later received a medical discharge from the army . \n",
       "  b.the investigation \n",
       "  11.on the day of the incident a military investigator , notified by the military police , opened a preliminary investigation whose aim was to “ determine the causes and the circumstances in which [ the applicant ] shot himself ” . \n",
       "  12.at 2.30 p.m. the investigator inspected the scene of the incident . xxmaj he found that it had not been preserved intact . xxmaj he described in detail everything he found . xxmaj he also identified , on the basis of the statement of xxmaj chief xxmaj lieutenant xxup p.p. , the likely positions of the applicant 's body and of his rifle “ after the shot ” . xxmaj he impounded the rifle , a xxunk and xxunk cartridge case , some pieces of dark reddish matter , dactyloscopic traces from the rifle , and traces from the surface of the tower . \n",
       "  13.later that day the hospital where the applicant had been operated upon sent the investigator the piece of skin surrounding his entry wound and acetone smears from his palms . xxmaj the applicant 's commander handed over to the investigator the shirt he had been wearing during the shooting and some of his personal items . \n",
       "  14.the next day , 23 xxmaj july 1999 , the investigator interviewed xxmaj chief xxmaj lieutenant xxup p.p. , a sergeant responsible for counting the targets at the shooting range , the applicant 's mother , and xxmaj captain xxup y.p. , the officer in charge of the shooting practice . xxmaj he also ordered a complex ballistic , microbiological and physicochemical report and a medical expert report . \n",
       "  xxunk xxmaj lieutenant xxup p.p. said that while he was sitting at the foot of the watchtower he heard a single shot from above , much xxunk than those coming from the firing range , and then heard screaming from the top of the tower . xxmaj he climbed up the stairs and saw the applicant lying on the ground , moaning and xxunk his upper body up and down . xxmaj he noticed that the applicant 's shirt was unbuttoned and that he had a wound on the left side of his abdomen . xxmaj the wound did not have a clear shape and looked more like a star than a hole . xxmaj it was surrounded by a round black patch with a diameter of five to seven centimetres and consisting of many black spots close together . xxmaj the lieutenant saw another wound on the applicant 's back , with a clear round shape , one centimetre in diameter , with a little blood on it . xxmaj he also saw the applicant 's rifle , which did not have a round in its chamber , had its safety lever down and was in xxunk mode . \n",
       "  16.captain xxup y.p. handed over to the investigator the order and the plan for the shooting practice , and described the safety briefing given to all soldiers before the start of the shooting practice . xxmaj he said that after the briefing a chief lieutenant checked the weapons of all soldiers taking part in the practice , and ordered two soldiers to step aside and clean their weapons . xxmaj then the captain announced to the soldiers the manner in which the practice would be conducted and the safety measures . xxmaj they were to fire solely upon his command , and stop firing immediately if he so ordered , or if they received a visual signal from the watchtower , or if they noticed people , animals or machines near the targets . xxmaj the firing range was delimited by xxunk at both ends . xxmaj it was strictly forbidden , under any circumstances , to point a firearm outside the firing range . xxmaj if a firearm jammed , the soldier had to report it immediately , remain still , put the safety catch down and not touch the firearm . xxmaj the soldiers fired in groups of four , with those waiting their turn having unloaded weapons . xxmaj the soldiers first went to the starting point , received magazines containing twelve rounds , and put them in their bags , while keeping their rifles on their backs . xxmaj when they received the order to fire , they had to run to the firing position with their rifles pointing towards the firing range . xxmaj then , on a further order , they had to take the magazines out of the bags , put them onto the rifles , load a round , lift the safety catch and report that they were ready to fire . xxmaj when ordered to fire , after the captain had made sure that each of them had loaded his weapon and was ready to fire , they put the safety catch in automatic firing mode and started firing . xxmaj after finishing firing , they had to report , remove the magazine , and , when ordered , fire a control shot towards the firing range and put the safety catch on . xxmaj after that they had to stand up , have their rifles checked by the captain with the magazine removed , fire a second control shot , and hand back the spent cartridges . xxmaj at the time of the incident a group of soldiers was firing , with the captain standing about two metres behind them . xxmaj immediately after hearing the applicant 's screams the captain ordered the soldiers to stop firing and empty their weapons , and then checked the weapons . \n",
       "  17.the order for the shooting practice , issued by the head of the regiment , designed a commanding officer , an officer , a sergeant and a soldier ensuring the sealing off of the area , a technician , an emergency medical officer , a standby ambulance , two guards , one of whom was the applicant , and a head of the ammunition supply point . xxmaj it directed the commanding officer to ensure compliance with the safety measures in line with the applicable instructions . xxmaj an annex to that order shows that all the soldiers confirmed that they had been briefed about the safety measures . \n",
       "  18.on 27 xxmaj july 1999 the investigator interviewed medical officer xxup n.g. , sergeantmajor xxup g.i. , the person in charge of ammunition safety during the shooting practice , and soldier xxup r.v. of the applicant 's regiment . \n",
       "  xxup xxunk said that , while sitting at the foot of the watchtower , she heard a loud whizzing sound and then screaming . xxmaj she climbed up the tower and saw a wound on the applicant 's abdomen . xxmaj it was a small hole with a round xxunk patch around it . xxmaj later , the officer was with the applicant in the ambulance , she noticed another wound , with a diameter of one centimetre , on the left side of his lower back . xxmaj in the ambulance , she repeatedly asked the applicant how he had sustained the injury , but he kept silent . xxmaj at one point , he said “ i wanted to fix it ” . xxmaj she pressed him for more , but he said “ xxmaj oh , leave me , leave me ” and asked whether they had already reached the hospital . \n",
       "  xxup xxunk said that following the incident , when he had been counting the cartridge cases spent during the shooting practice , somebody , probably xxmaj lieutenant xxup m. , threw a cartridge case on to the pile , and it got mixed up with the others . xxmaj when xxup g.i. enquired about the case 's origin , lieutenant xxup m. had replied that it had come from the scene of the incident . xxmaj later , with a view to identifying the case , the officer in charge of the practice ordered xxup g.i. to divide the cases up into lots . xxmaj he found only one with a diverging serial number , and handed it over to the investigator . xxup g.i. also said that he was certain that the applicant had earlier returned to him all twelve cases of the cartridges allotted to him for the shooting practice . \n",
       "  xxup xxunk said that the applicant had been in a good mood on the day of the incident , that both of them had had their rifles checked and returned their spent cartridge cases after the shooting practice , and that , prior to climbing up the watchtower , the applicant did not have a magazine on his rifle . \n",
       "  22.on 29 xxmaj july 1999 the investigator interviewed the applicant , who was still in the intensive care unit of the emergency surgical department of the xxmaj military xxmaj medical xxmaj academy in xxmaj sofia ( see paragraph 10 above ) . xxmaj according to the record of this interview , the applicant said that while he was on the watchtower he tried to fix his rifle 's sling . xxmaj he knelt down on his right knee and laid the rifle on the ground with the muzzle pointing towards him . xxmaj he noticed that the safety catch was in automatic firing position and the breechblock was not in position . xxmaj with his right hand he pushed the breechblock forward . xxmaj it jammed and he used force to push it , with the rifle 's barrel lying on his left hand and the magazine holder pointing upwards . xxmaj when the breechblock moved into position , he heard a shot . xxmaj he became short of breath and started crying for help . \n",
       "  23.the applicant strongly disputes the accuracy of this record and maintains that , being in a very serious medical condition , he could not remember how this interview unfolded or the statements he made during it . xxmaj he submits that the only reliable statements were those which he made during a subsequent interview on 13 xxmaj september 1999 , four days after his discharge from hospital . xxmaj at that interview he said that before going to the tower he fired all twelve cartridges at the shooting range and then returned the spent cases to sergeantmajor xxup g.i. xxmaj when going up the tower , he noticed two sergeants there , talked to them for a while and then remained alone . xxmaj when standing with his left side toward the shooting range and his rifle slung over his shoulder , he suddenly felt powerless , weak in the knees and short of breath , but did not hear a shot close by . xxmaj he started shouting for help and ten seconds later someone came up to him . \n",
       "  24.on 11 and 17 xxmaj november 1999 the investigator interviewed xxmaj captain xxup v.p. , a staff doctor from the applicant 's regiment , and two soldiers serving with the applicant . xxmaj all of them said that they had not seen any signs of depression in the applicant prior to the incident . \n",
       "  25.the medical expert report ordered by the investigator was drawn up on 28 xxmaj july 1999 by xxmaj dr xxup g.d. , deputy chief of the xxmaj forensic xxmaj medicine xxmaj centre of the xxmaj bulgarian xxmaj army . xxmaj he had not examined the applicant but based his report on the existing medical documentation . xxmaj the report read as follows : \n",
       "  “ ... xxmaj the entry wound is situated on the front left side of the abdomen , slightly above the navel and on the midclavicular line , with burns on the surrounding skin . xxmaj the exit wound is on the left side of the back , under the corner of the scapula . \n",
       "  xxmaj if the body was in an upright position the channel of the wound would go slightly upward from the front to the back . \n",
       "  xxmaj the entry wound 's description in the medical documents shows that it was the result of a shot from a very close range . xxmaj to determine precisely the distance of the shot it is necessary to carry out a ballistic testing of the clothes worn by [ the applicant ] at the time when the shot was fired . \n",
       "  xxmaj when passing through the body the projectile ( the bullet ) , in addition to damaging the soft tissues , broke the twelfth rib on the left , ruptured the front and the back walls of the stomach , the xxunk colon , the splenic flexure ( in two places ) , and the spleen . xxmaj as a result , there was a flow of faeces and a massive haemorrhage in the abdominal cavity , causing a temporarily lifethreatening medical condition . \n",
       "  xxmaj the above necessitated an emergency lifesaving surgery , consisting of a full midline laparotomy , with a drainage of the blood and the faeces from the abdominal cavity and a resection of the xxunk , a xxunk - shaped resection and stitching of the stomach , partial resection of the transversal colon and of the splenic flexure , with a removal of a xxunk xxunk , surgical removal of the spleen , treatment of the fractured rib , lavage and drainage of the abdominal cavity , and laparostoma . \n",
       "  xxmaj after that surgical intervention the bleeding was stopped and the risk to [ the applicant 's ] life was averted , i.e. the case concerns loss of the spleen . \n",
       "  xxmaj it should be borne in mind that without a timely and xxunk medical intervention death would have occurred very rapidly . \n",
       "  xxmaj after the surgical intervention [ the applicant ] was placed in an intensive care unit . xxmaj following xxmaj xray data about a haemorrhage in the left pleural cavity on 23 xxmaj july 1999 , a left - side xxunk ( drainage of the pleural fluid ) was carried out . xxmaj on 26 xxmaj july 1999 a surgical bandage was made , and on 27 xxmaj july 1999 – a second laparotomy with a revision of the laparostoma and of the abdominal cavity was carried out , a local aesthetic was applied on the mesentery , xxunk and xxunk of the small intestine through it were performed , and a new laparostoma was placed . xxmaj after the surgical intervention the [ applicant ] was again placed in an intensive care unit . xxmaj on 28july 1999 his condition was assessed as being stable but serious . ” \n",
       "  26.on 10 xxmaj september 1999 a biology expert drew up a report saying that the blood - red dry matter taken from the scene of the incident was indeed human blood . xxmaj however , as a result of the depletion of the sample , it was impossible to determine its type or to tell whether it was identical with the applicant 's blood . xxmaj the applicant 's shirt had blood on it . \n",
       "  27.in a report of 14 xxmaj september 1999 three experts stated that the applicant 's rifle was in good working order and able to produce a shot . xxmaj the force needed to be applied to the trigger in order to fire was within the acceptable limits . xxmaj they further found that the rifle had been fired since it had last been cleaned , and that the cartridge case handed over by sergeantmajor xxup g.i. to the investigator did not come from that rifle . \n",
       "  28.in a physicochemical report of 4 xxmaj october 1999 two experts said that they had been unable to conclude whether the gunpowder from the rifle 's barrel was identical to that taken from the applicant 's shirt . xxmaj they also said that the smears from the applicant 's palms and wrist - bands did not contain traces of a shot . \n",
       "  c.the discontinuance of the investigation and the applicant 's appeals \n",
       "  29.on 22 xxmaj november 1999 the investigator proposed discontinuing the investigation . xxmaj he found that the applicant had shot himself at close range . xxmaj there was no evidence pointing to breaches of the regulations on conducting shooting exercises or the applicable safety rules . xxmaj nor was there any indication that the applicant had had psychological problems or depression which could push him to commit suicide , or that he had tried to damage his health with a view to evading military service . xxmaj the evidence thus led to the conclusion that his injury was the result of an accidental shot fired because of his improper handling of his firearm . \n",
       "  30.on 30 xxmaj november 1999 the xxmaj sofia xxmaj military xxmaj regional xxmaj prosecutor 's xxmaj office decided to discontinue the investigation , repeating the reasons given by the investigator verbatim . \n",
       "  31.on 9 xxmaj april 2001 the applicant appealed to the xxmaj military xxmaj appellate xxmaj prosecutor 's xxmaj office . xxmaj he argued , among other things , that the authorities had explored solely the version that he had shot himself . xxmaj no expert report had been drawn up on the identity of the firearm which had produced the shot . xxmaj it was absurd to think that this was the rifle he had been carrying while on the watchtower , because it had not been loaded and had its safety catch down . xxmaj his clothes had not been examined by an expert and it was therefore impossible to conclude whether or nor the shot had been fired at close range . xxmaj the medical expert report was not based on primary medical documents and had thus come to the erroneous conclusion that the bullet had left his body , producing a second wound on his back . xxmaj there were indications , such as the noise of the shot , noted by the witnesses , that he had been wounded by a xxunk and that the bullet had shattered . \n",
       "  32.on 18 xxmaj june 2002 the xxmaj military xxmaj appellate xxmaj prosecutor 's xxmaj office dismissed the appeal . xxmaj it noted that during his interview on 29 xxmaj july 1999 the applicant had stated that he had shot himself . xxmaj moreover , the medical expert had found that he had both an entry and an exit wound . xxmaj the medical documents showed that the wound was from a shot fired at close range . xxmaj xxunk else was around the applicant at the time of the shot . xxmaj the lower prosecutor 's findings were thus correct . \n",
       "  33.on 9 xxmaj july 2002 the applicant appealed to the xxmaj chief xxmaj prosecutor . xxmaj he asserted that his statement of 29 xxmaj july 1999 was far from reliable . xxmaj at that time he had been in hospital , in a very bad condition following several lifesaving operations . xxmaj it was therefore surprising to see that the official record of this statement seemed so detailed and logical . xxmaj no expert report had been drawn up on the identity of the firearm which had produced the shot , whereas the evidence showing that it had been fired by his rifle was unreliable and was called into doubt by other evidence . xxmaj there was no evidence showing that the shot had been fired at close range . xxmaj lastly , no consideration had been given to the fact that he had been ordered to take part in the shooting exercises after night duty and while he was ill . \n",
       "  34.on 11 xxmaj october 2002 the xxmaj supreme xxmaj cassation xxmaj prosecutor 's xxmaj office dismissed the appeal . xxmaj it observed that the testing of the piece of skin surrounding the applicant 's entry wound showed that the shot had been fired at close range . xxmaj this was consistent with the applicant 's statement of 29 xxmaj july 1999 and the statement of medical officer xxup n.g. xxmaj it was impossible to examine the bullet , because it had not been found . xxmaj it was established that the spent cartridge case handed over to the investigator by sergeantmajor xxup g.i. did not come from the applicant 's rifle . xxmaj however , it could not be ruled out that xxup g.i. had mistakenly identified it as the one thrown on to the pile by lieutenant xxup m. , given that the pile contained in total more than nine hundred spent cartridge cases . xxmaj even if all of them were to be tested , which was impossible in view of the time elapsed since the events , that would not have led to a definite conclusion about the firearm 's identity . xxmaj the lower prosecutors had thus correctly found that the applicant had injured himself by handling his rifle improperly . xxmaj there was no indication that other soldiers had shot him or that he had injured himself deliberately . \n",
       "  d.the private expert opinion obtained by the applicant in xxmaj june 2003 \n",
       "  35.on 11 xxmaj june 2003 the applicant 's representative before the xxmaj court wrote to xxmaj dr xxup p.l. , the head of the forensic department of the xxmaj pleven xxmaj medical xxmaj university . xxmaj he sent him the relevant medical documents and asked for his opinion on ( a ) whether the description of the applicant 's wound was comprehensive ; ( b ) whether it was possible to determine , on the basis of that description , the distance from which the shot had been fired ; ( c ) what could be the exact basis for such determination ; ( d ) what could be the possibility for error ; and ( e ) what type of data would allow a more precise determination of the distance from which the shot had been fired . \n",
       "  36.dr xxup p.l. 's opinion , drawn up on 13 xxmaj june 2003 , read as follows : \n",
       "  “ xxmaj the questions you pose in your letter ... may be answered like this : \n",
       "  1.the description , which says ' visible entry wound in the abdominal area , at the midclavicular line , slightly above the navel , with burns ' , is not detailed – the shape of the wound , the condition of the edges , the size of the wound ( diameter or xxunk ) , the size of the ' burn ' and its position relative to the edges of the wound – xxunk or eccentric – are lacking . \n",
       "  2.on the basis of that description , one could make the very general conclusion that the wound was the result of a shot from a close distance . xxmaj indeed , the shot could have been even a contact one , if it was fired through several layers of clothing , or thicker , or damp clothing . \n",
       "  xxmaj in forensic medicine , shot distances are categorised in three ways : contact shots ( complete or incomplete ) , closedistance shots ( within the range of action of the shot 's additional effects ) , and xxunk shots ( outside the range of action of the shot 's additional effects ) , without this being linked with a concrete distance in centimetres or meters . \n",
       "  3.the basis for the conclusion in point 2 is the fact that the wound was surrounded by a ring , described as a ' burn ' . \n",
       "  4.in the case of closedistance shots ( and sometimes in the case of contact shots ) , one can see traces of unburned powder , metal particles , xxunk , etc . around the wound ( the socalled ' stain ring ' or ' blackened ring ' ) . xxmaj the range at which those can make an impact ( in the case of a shot with a xxmaj kalashnikov rifle ) is twentyfive to thirty centimetres . xxmaj with the increase in the distance , the intensity of those additional effects of the shot diminishes . \n",
       "  xxmaj there is no burning around an entry firearm wound because the action of the flame and the hot gases is short - term . xxmaj sometimes one can find traces of the high xxunk slight burning of thin or more tender hairs or of artificial tissues . \n",
       "  xxmaj the ' stain ring ' around the wound is a result of the mechanical action of the blacks and of the other particles and their ramming into the skin , as well as of the chemical action of the powder gases and the other residues from the shot . \n",
       "  xxmaj it is also possible that the so - called ' burn ' was in fact a ' muzzle mark ' – a bruise around the entry wound resulting from the impact of the muzzle in the case of a full contact shot . xxmaj such marks are characteristic for shots in the head or in areas having a solid surface ( bone ) underneath , but can sometimes occur in cases of shots in the abdominal area . xxmaj the available description does not allow a more specific conclusion to be drawn . \n",
       "  xxmaj the possibility for error when concluding that a shot has been fired from a close distance on the basis of a ' stain ring ' is minimal . xxmaj the medical literature refers to the so - called ' phenomenon of xxmaj vinogradov ' , in which such a ring appears after a shot from a distance of even several hundred meters . xxmaj however , such occurrences are rare and do not correspond to the description of the wound in the present case . xxmaj the description of the wound allows one to conclude that the shot was fired either from a close distance or that it was a contact shot . a long - distance shot is to be excluded . \n",
       "  5.it would be possible to make a more specific assessment of the distance from which the shot has been fired on the basis of : \n",
       "  –a more detailed medical description ( as mentioned in point 1 ) ; \n",
       "  xxunk information about the conditions in which the shot was fired ( clothes , type of bullet , etc . ) ; \n",
       "  –a special analysis determining the composition of the stain around the wound or on the clothes ; \n",
       "  xxunk shots with the same weapon and in the same conditions as the shot under consideration . ” \n",
       "  xxup ii.relevant xxup domestic xxup law \n",
       "  37.article 192 of the 1974 xxmaj code of xxmaj criminal xxmaj procedure , as in force at the material time , provided that proceedings concerning publicly prosecutable offences could be initiated only by a prosecutor or an investigator . xxmaj when military courts had jurisdiction to hear a case , as for example when it concerned soldiers or army officers ( xxmaj article 388 1(1 ) of the xxmaj code ) , the responsibility for conducting the preliminary investigation lay with military investigators and prosecutors . \n",
       "  38.under xxmaj article 237 1 ( 1 ) of the xxmaj code , as in force at the relevant time , prosecutors were to discontinue an investigation if they found that the matters alleged did not amount to a criminal offence . xxmaj until 31 xxmaj december 1999 their decisions to do so could be appealed against before the superior prosecutor ( paragraph 6 of that xxmaj article , as in force until 31 xxmaj december 1999 ) . \n",
       "  39.paragraphs 3 and 4 of xxmaj article 237 of the xxmaj code , as in force between 1january 2000 and 30 xxmaj april 2001 , provided that after the discontinuance the prosecutor had to send the case file and his decision to the superior prosecutor 's office , which could confirm , modify or quash it . xxmaj if it confirmed the decision , it had to send the case file to the appropriate court , which had to rule in private as to whether the discontinuation was or was not warranted ( xxmaj article 237 5 , 6 and 7 of the xxmaj code , as in force at that time ) . xxmaj paragraph 9 of that xxmaj article provided that no appeal lay against the court 's decision . xxmaj no provision was made for the victim of the offence to be notified of the discontinuance . \n",
       "  40.article 237 of the xxmaj code was completely changed with effect from 1may 2001 and from that point on provided that the prosecutor 's decision to discontinue the proceedings was to be served on the accused and on the victim of the offence . xxmaj either of them could then seek judicial review . \n",
       "  41.under the 2005 xxmaj code of xxmaj criminal xxmaj procedure , which superseded the 1974 xxmaj code on 29 xxmaj april 2006 , a prosecutor 's decision to discontinue an investigation is served on the accused and the victim of the offence and is subject to judicial review by the relevant firstinstance court . xxmaj an appeal lies against the court 's decision to the higher court , whose decision is final ( xxmaj article 243 37 of that xxmaj code ) . \n",
       " ,xxbos xxup procedure \n",
       "  1.the case originated in an application ( no . xxunk / 04 ) against the xxmaj republic of xxmaj bulgaria lodged with the xxmaj court under xxmaj article 34 of the xxmaj convention for the xxmaj protection of xxmaj human xxmaj rights and xxmaj fundamental xxmaj freedoms ( “ the xxmaj convention ” ) by two xxmaj bulgarian nationals , xxmaj ms xxmaj xxunk xxmaj vasileva xxmaj stoyanova and xxmaj mr xxmaj xxunk xxmaj kirilov xxmaj stoyanov ( “ the applicants ” ) , on 25november 2004 . \n",
       "  2.the applicants were represented by xxmaj mr xxup y. xxmaj grozev , a lawyer practising in xxmaj sofia , and xxmaj mr xxup b. xxmaj boev , a legal officer at xxmaj article 19 , a nongovernmental organisation based in xxmaj london . xxmaj on 8 xxmaj october 2008 the xxmaj president of the xxmaj fifth xxmaj section granted leave to xxmaj mr xxmaj boev to represent the applicants , in accordance with xxmaj rule 36 4 ( a ) in fine of the xxmaj rules of xxmaj court . xxmaj the xxmaj bulgarian xxmaj government ( “ the xxmaj government ” ) were represented by their xxmaj agent , msm.dimova , of the xxmaj ministry of xxmaj justice . \n",
       "  3.the applicants alleged that the xxmaj state was responsible for the death of their son , an army officer , and that it had failed to respond to his death in an effective manner . \n",
       "  4.on 6 xxmaj january 2009 the xxmaj president of the xxmaj fifth xxmaj section decided to give notice of the application to the xxmaj government . xxmaj it was also decided to examine the merits of the application at the same time as its admissibility ( xxmaj article 29 of the xxmaj convention ) . \n",
       "  xxup the xxup facts \n",
       "  xxup i.the xxup circumstances xxup of xxup the xxup case \n",
       "  5.the applicants were born in 1946 and 1938 respectively and live in xxmaj xxunk . \n",
       "  6.on 27 xxmaj may 1998 their son , xxmaj mr xxmaj rosen xxmaj stoyanov , born in 1967 , a parachute instructor in the xxmaj bulgarian xxmaj army , died when performing a parachute jump from a xxmaj mi-17 helicopter during a training exercise of the xxmaj ministry of the xxmaj interior 's xxmaj special xxmaj anti - xxmaj terrorism xxmaj squad . \n",
       "  1.the 27 xxmaj may 1998 accident \n",
       "  xxunk paratroopers were scheduled to jump on that day . xxmaj before getting into the helicopter they were examined by a doctor who confirmed that they were physically fit . xxmaj the helicopter took off at 1 p.m. and several minutes later reached a height of about 1,100 metres . xxmaj immediately before the start of the parachute jumps xxmaj chief xxmaj sergeant xxup t. , in charge of the jumps , instructed the helicopter 's pilots to speed up . xxmaj the pilots responded “ xxmaj you have it ” . xxmaj it is unclear what the exact speed thus reached was , because , as it was established later , the helicopter 's device recording the parameters of the flight had not been loaded with a tape . \n",
       "  8.one of the paratroopers , xxmaj mr xxup g. , jumped first . xxmaj immediately after the jump , his body was thrust back by the air stream and his head passed about 20 centimetres from the left rear tyre of the helicopter . \n",
       "  9.the applicants ' son jumped four seconds later . xxmaj immediately after the jump , his head hit the left rear tyre of the helicopter and he became unconscious . xxmaj his body fell freely and hit the ground . \n",
       "  xxunk seconds later the next xxunk , xxmaj mr xxup v. , jumped . xxmaj his head also hit the left rear tyre of the helicopter and he became unconscious . xxmaj sixty to seventy metres from the ground he regained consciousness and attempted unsuccessfully to open his parachute . xxmaj his body also hit the ground . \n",
       "  11.after the accidents with the applicants ' son and xxmaj mr xxup v. the parachute jumps stopped and the helicopter landed . xxmaj the two bodies were located soon afterwards . \n",
       "  2.the internal inquiry \n",
       "  12.on 27 xxmaj may 1998 the xxmaj ministers of the xxmaj interior and xxmaj defence appointed a ten - member commission to investigate the reasons that had led to the fatal accident . xxmaj the commission , which included paratroopers , doctors and other experts , conducted inspections , interviewed witnesses and examined documents . xxmaj on 6 xxmaj june 1998 it presented an interim report proposing , with a view to establishing properly the circumstances of the accident , that an experiment with a dummy being thrown from a helicopter at different speeds be carried out and that the helicopter 's manufacturer be asked for additional technical information . xxmaj however , it appears that none of these actions was taken . \n",
       "  13.on 24 xxmaj june 1998 the commission submitted its final report . xxmaj it established that after xxmaj chief xxmaj sergeant xxup t. had instructed the crew to speed up ( see paragraph 7 above ) , the helicopter had increased its speed from about 150 to about 200 km / h. xxmaj this estimation was based on ground control data . \n",
       "  14.furthermore , the commission established that the helicopter , which was built in 1986 , had been in a good state of technical repair , and that its equipment had been functioning well during the fatal flight . xxmaj the three members of the crew were experienced and qualified . xxmaj the commission established that up to 27 xxmaj may 1998 xxmaj mr xxmaj rosen xxmaj stoyanov had performed 450 parachute jumps , 112 of which were from a xxmaj mi-17 helicopter . xxmaj mr xxup v. had performed 178 jumps , 120 of which were from a xxmaj mi-17 helicopter . \n",
       "  15.the commission concluded that the accident had been caused by \n",
       "  “ the inappropriate speed of the helicopter and the position of the paratroopers ' bodies at the time of jumping , not in conformity with that speed ” . \n",
       "  xxmaj additionally , the accident had been due to : \n",
       "  “ 1 ) incomplete coordination between the helicopter 's crew and the paratroopers ; xxunk in the preparation and conduct of the flight on the part of the helicopter 's crew ; and 3 ) shortcomings in the organisation and the conducting of the parachute jumps on the part of the xxmaj ministry of the xxmaj interior 's xxmaj special xxmaj anti - xxmaj terrorism xxmaj squad . ” \n",
       "  16.the commission criticised the failure of the officials responsible for the organisation of the flight to load the helicopter 's recording device with a tape ( see paragraph 7 above ) , which was against the rules . \n",
       "  17.furthermore , the commission criticised xxmaj chief xxmaj sergeant xxup t. 's failure to communicate to the crew the exact speed he needed when he requested them to speed up . xxmaj neither had the speed at which the jumps were to be performed been indicated by the officer in charge of the training ( he had remained on the ground ) before the helicopter took off . \n",
       "  18.the commission recommended various measures for the prevention of similar accidents in the future , mostly concerning the training of paratroopers and flight preparation . xxmaj it is unclear whether any of them were put into practice . \n",
       "  19.on 30 xxmaj june 1998 the commission 's report was affirmed by the xxmaj minister of xxmaj defence , but not by the xxmaj minister of the xxmaj interior . xxmaj subsequently , the document was extended to the prosecuting authorities who investigated the deaths of xxmaj mr xxmaj stoyanov and xxmaj mr xxup v. ( see below ) . \n",
       "  3.the criminal proceedings \n",
       "  20.on 27 xxmaj may 1998 the xxmaj sofia military regional prosecutor 's office opened a preliminary investigation into the accident . \n",
       "  ( xxunk investigative actions \n",
       "  xxup 21.a post - mortem examination of the bodies of the applicants ' son and mrv. was carried out on 28 xxmaj may 1998 . xxmaj it concluded that the death had been caused by “ numerous traumas incompatible with the maintenance of life ” . xxmaj there were no traces of alcohol or poison in the blood . \n",
       "  xxunk were any traces of alcohol or poison found in the crew members ' blood . \n",
       "  xxunk xxup o. , the flight captain , was questioned on 28 xxmaj may 1998 . xxmaj he stated that the helicopter had been checked and found to be in good technical repair just before the flight . xxmaj furthermore , he stated that after xxmaj chief xxmaj sergeant xxup t. had asked the pilots to speed up he had increased speed from 130 to 150 km / h. xxmaj after the first three paratroopers had jumped , he had been told to land as two of the paratroopers ' parachutes had not opened . \n",
       "  xxunk xxmaj sergeant xxup a. , the flight engineer , was questioned on 1 xxmaj june 1998 . xxmaj he also testified that the helicopter 's speed at the time when the parachute jumps had started had been 150 km / h. xxmaj the speed and the height had not changed during the jumps . xxmaj when jumping from the helicopter , mrg. had plunged energetically and xxmaj mr xxmaj rosen xxmaj stoyanov and xxmaj mr xxup v. had not , which , in xxmaj senior xxmaj sergeant xxup a. 's view , had been the reason for the fatal accident . \n",
       "  25.on 29 xxmaj may 1998 xxmaj mr xxup g. , who had jumped before xxmaj mr xxmaj stoyanov , testified that immediately after jumping he had felt an unexpectedly strong air stream . \n",
       "  xxunk xxmaj sergeant xxup p. , who had been on board the helicopter , was questioned on 29 xxmaj may 1998 . xxmaj he explained that he had seen xxmaj mr xxup g. 's head pass about 20 centimetres from the helicopter 's left rear tyre and then xxunk xxmaj stoyanov and xxmaj mr xxup v. hit the tyre . xxmaj because of the force of the blow , xxmaj mr xxmaj stoyanov 's body had turned several times in the air . \n",
       "  xxunk xxup d. , who had also been in the helicopter , testified that he , too , had seen xxmaj mr xxmaj rosen xxmaj stoyanov 's head hit the tyre . xxmaj captain xxup c. , who had also been on board , described the position of xxmaj mr xxup g. 's body immediately after he had jumped as “ totally abnormal ” . \n",
       "  xxunk xxmaj sergeant xxup t. , who had been in charge of the jumps and had been scheduled to jump after xxmaj mr xxup v. , was questioned on 29 xxmaj may 1998 . xxmaj he explained that he had not seen xxmaj mr xxmaj rosen xxmaj stoyanov and xxmaj mr xxup v. hit the tyre but had become aware of the abnormal position of xxmaj mr xxup v. 's body and had not jumped . xxmaj he had not noticed any change in the speed , height or direction of the helicopter during the parachute jumps . \n",
       "  29.during the first several weeks after 27 xxmaj may 1998 the investigator in charge of the case examined other witnesses , conducted inspections and collected documentary evidence . \n",
       "  30.on 28 xxmaj may 1998 he appointed the members of the internal inquiry commission of the xxmaj ministries of the xxmaj interior and xxmaj defence ( see paragraphs 12 - 19 above ) as experts in the criminal proceedings , with the task of determining the cause of the two paratroopers ' deaths . xxmaj since the experts failed to submit a report within the months that followed , on 25 xxmaj november 1998 a prosecutor from the xxmaj sofia military regional prosecutor 's office stayed the proceedings . \n",
       "  ( b)subsequent developments \n",
       "  31.on several occasions in 1999 and early 2000 the xxmaj sofia military regional prosecutor 's office sent letters to the xxmaj ministries of the xxmaj interior and xxmaj defence requesting that their officials appointed as experts prepare and submit a report for the purposes of the criminal proceedings . \n",
       "  32.on 18 xxmaj april 2000 the criminal proceedings were resumed and the prosecutor in charge of the case appointed a new group of experts from the xxmaj national xxmaj military xxmaj university in xxmaj xxunk xxmaj xxunk , with the task of assessing the reasons for the deaths of the applicants ' son and xxmaj mr xxup v. \n",
       "  33.on 25 xxmaj april 2000 the experts submitted their conclusions , specifying that the information they had been given was insufficient , there being no data on the exact parameters of the flight , and also that they were not experts in xxunk ; therefore , they were not able to draw up a formal expert report . \n",
       "  34.the experts considered that the helicopter 's speed at the time of xxunk xxmaj stoyanov 's and xxmaj mr xxup v. 's jumps had been between 150 and 170 km / h. xxmaj however , in their view , the speed was not related to the fatal accident , which had instead been caused by the two paratroopers ' jumping technique ; this had not been in compliance with the respective instructions for performing parachute jumps . \n",
       "  35.in xxmaj july and xxmaj october 2000 the xxmaj sofia military regional prosecutor 's office sent new letters to the xxmaj ministries of the xxmaj interior and xxmaj defence requesting again that the experts appointed on 28 xxmaj may 1998 ( see paragraph 30 above ) draw up a formal report . \n",
       "  36.on 17 xxmaj november 2000 the xxmaj ministry of xxmaj defence experts submitted their report . xxmaj the group included four paratroopers and a doctor . xxmaj the xxmaj ministry of the xxmaj interior experts did not sign the document . \n",
       "  37.on the basis of ground control data , the xxmaj ministry of xxmaj defence experts established that the helicopter 's speed at the time of xxmaj mr xxmaj rosen xxmaj stoyanov 's and xxmaj mr xxup v. 's jumps had been 210 km / h. xxmaj the experts were of the opinion that xxmaj mr xxmaj stoyanov and xxmaj mr xxup v. had not committed any errors when jumping from the helicopter , but pointed out that they did not possess the expertise to assess whether the helicopter 's crew had committed any errors that might have led to the tragic accident . xxmaj the experts noted that the two paratroopers ' parachutes had been well packed and in good repair and that the weather conditions at the time had not affected the flight . \n",
       "  ( xxunk of the criminal proceedings \n",
       "  38.on 4 xxmaj february 2002 a prosecutor from the xxmaj sofia military regional prosecutor 's office discontinued the criminal proceedings . xxmaj relying on witness testimony and the conclusions of the xxmaj national xxmaj military xxmaj university experts ( see paragraph 34 above ) , he found that the helicopter 's speed and course of flight did not change significantly during the parachute jumps and were not related to the fatal accident . xxmaj he accepted that sufficient data could not be collected to assess whether the helicopter 's crew had committed any errors and that the applicants ' son and xxmaj mr xxup v. had not complied with the respective instructions on performing parachute jumps . \n",
       "  39.on an appeal by the applicants , on 6 xxmaj august 2002 the xxmaj sofia xxmaj military xxmaj court quashed the prosecutor 's decision . xxmaj on 28 xxmaj november 2002 the xxmaj military xxmaj court of xxmaj appeal affirmed the lower court 's findings . xxmaj it held that the prosecutor had breached the procedural rules and that the conclusions of the xxmaj national xxmaj military xxmaj university experts , on which his decision had been based , could not serve as valid evidence in the case . \n",
       "  40.after the case was remitted to the prosecution , some of the witnesses were re - examined . xxmaj on an unspecified date xxmaj chief xxmaj sergeant xxup t. , who had been in charge of the parachute jumps , explained that when he had instructed the helicopter crew to speed up he had meant a speed of about 150 km / h , as was usual . xxmaj he had become aware later , apparently from the conclusions of the internal inquiry , that the speed had been above 200 km / h. xxmaj he considered that this , coupled with a possible minor side inclination of the helicopter , which would have shifted the position of the left rear tyre vis -- vis the paratroopers ' bodies , had been the reason for the accident with the applicants ' son and xxmaj mr xxup v. \n",
       "  41.on 13 xxmaj may 2003 a prosecutor from the xxmaj sofia military regional prosecutor 's office requested the xxmaj ministers of the xxmaj interior and xxmaj defence to nominate seven experts in xxunk , aviation , xxunk and xxunk to be appointed experts in the criminal proceedings and draw up a new expert report . xxmaj he received no reply . \n",
       "  42.on 16 xxmaj june 2003 the prosecutor appointed another group of xxunk a physician from the xxmaj military xxmaj medical xxmaj academy and five lecturers from the xxmaj air xxmaj transport xxmaj department of the xxmaj technical xxmaj university in xxmaj sofia – with the task of assessing the reasons for the two paratroopers ' deaths on 27may 1998 . \n",
       "  43.the experts submitted their report on 25 xxmaj july 2003 . xxmaj they considered it scientifically impossible for xxmaj mr xxmaj stoyanov and xxmaj mr xxup v. to have hit the helicopter 's left rear tyre ; in their view those blows had been “ made up ” . xxmaj the experts considered that the two paratroopers had wrongly estimated the distance to the ground and had failed to open their parachutes in time ; this had led to their deaths . xxmaj furthermore , the paratroopers had failed to comply with the relevant instructions on the position of their bodies at the time of jumping . xxmaj the speed and course of the helicopter had not been related to their death . \n",
       "  44.on 10 xxmaj june 2004 a prosecutor from the xxmaj sofia military regional prosecutor 's office once again discontinued the criminal proceedings . xxmaj in his decision , he referred to the expert report of 25 xxmaj july 2003 and its conclusion that the applicants ' son and xxmaj mr xxup v. had not in fact hit the left rear tyre of the helicopter ( see paragraph 43 above ) . xxmaj however , he also mentioned the witness testimony indicating that these impacts had happened ( see paragraphs 26 - 27 above ) . xxmaj he failed to examine the apparent controversy between those two groups of evidence and to indicate which version he found plausible . xxmaj he merely concluded , after describing the evidence collected in the case , that there was no appearance of a crime . \n",
       "  45.upon appeal by the first applicant , on 30 xxmaj june 2004 the prosecutor 's decision was upheld by the xxmaj sofia xxmaj military xxmaj court . xxmaj examining the evidence collected in the case , that court dismissed the conclusion of the expert report of 25 xxmaj july 2003 ( see paragraph 43 above ) that xxmaj mr xxmaj stoyanov and xxmaj mr xxup v. had not hit the helicopter 's left rear tyre ; it considered that in this regard the testimony of the other participants in the flight was reliable . xxmaj nevertheless , the domestic court accepted the experts ' conclusion to the effect that xxunk and xxmaj mr xxup v. had not positioned themselves correctly when they jumped . xxmaj it concluded that this had been the reason for their hitting the tyre and falling to the ground . xxmaj accordingly , it upheld the prosecution 's conclusion that no offence had been committed in the case . \n",
       "  4.other developments \n",
       "  xxunk after their son 's death , the applicants sought the compensation provided for in section 249(2 ) of the xxmaj armed xxmaj forces xxmaj act 1995 ( see paragraph 49 below ) . xxmaj as they had not received that sum by 2003 , they brought a claim . xxmaj they sought the compensation provided for in section 249(2 ) of the xxmaj armed xxmaj forces xxmaj act , plus interest , as provided for in section 250 ( ibid . ) . \n",
       "  47.while the proceedings were pending , the xxmaj bulgarian xxmaj army paid up the compensation due , which was in the amount of xxunk xxmaj bulgarian levs ( xxup bgn ) , the equivalent of approximately xxunk euros ( xxup eur ) . xxmaj therefore , in a judgment of 6 xxmaj july 2004 the xxmaj sofia xxmaj district xxmaj court only awarded the applicants the interest accrued , in accordance with section 250 of the xxmaj armed xxmaj forces xxmaj act , which amounted to xxup bgn xxunk , the equivalent of xxup eur 220 . xxmaj that judgment was not appealed against and entered into force . \n",
       "  48.in xxmaj september 2003 the applicants also sought indemnification from the company with which their son had been insured by the xxmaj bulgarian xxmaj army . xxmaj they claimed a sum of about xxup bgn 3,000 , the equivalent of xxup eur xxunk . xxmaj however , that indemnification was refused as they had failed to claim it within the statutory three - year time - limit from the date of their son 's death . \n",
       "  xxup ii.relevant xxup domestic xxup law \n",
       "  a.the xxmaj armed xxmaj forces xxmaj act of 1995 \n",
       "  49.section 249(2 ) of that xxmaj act , in force at the relevant time , provided that the xxmaj bulgarian xxmaj army would be liable to pay compensation in the amount of twelve months ' salary , to each of the heirs ( spouse , children or parents ) of an army serviceman who had died during military service . xxmaj by section 250 of the same xxmaj act , the xxmaj army was also liable to pay any interest accrued in the event of a delay of payment . \n",
       "  xxunk the heirs of an army serviceman who had died during military service sought a larger amount in damages , they could , by virtue of the provision of section xxunk ) of the xxmaj armed xxmaj forces xxmaj act , bring an action before the civil courts . \n",
       "  b.state liability for damage \n",
       "  51.section 1(1 ) of the 1988 xxmaj state xxmaj responsibility for xxmaj damage xxmaj caused to xxmaj citizens xxmaj act ( on 12 xxmaj july 2006 its name was changed to “ xxmaj state and xxmaj municipalities xxmaj responsibility for xxmaj damage xxmaj act ” ) provides that the xxmaj state is liable for damage suffered by private persons as a result of unlawful decisions , actions or omissions by civil servants committed in the course of or in connection with the performance of their duties . \n",
       "  52.in addition , section 45(1 ) of the 1951 xxmaj contracts and xxmaj obligations xxmaj act provides that everyone is obliged to make good the damage which they have , through their fault , caused to another person . xxmaj section 49 of the xxmaj act provides that a person who has entrusted another with performing a job is liable for the damage caused by that other person in the course of or in connection with the performance of the job . \n",
       " ,xxbos xxup procedure \n",
       "  1.the case originated in an application ( no . 8532 / 06 ) against the xxmaj russian xxmaj federation lodged with the xxmaj court under xxmaj article 34 of the xxmaj convention for the xxmaj protection of xxmaj human xxmaj rights and xxmaj fundamental xxmaj freedoms ( “ the xxmaj convention ” ) by a xxmaj russian national , xxmaj ms xxmaj valentina xxmaj petrovna xxmaj geppa ( “ the applicant ” ) , on 30 xxmaj december 2005 . \n",
       "  2.the applicant was represented by xxmaj ms xxup g.v. xxmaj xxunk , a lawyer practising in xxmaj kursk . xxmaj the xxmaj russian xxmaj government ( “ the xxmaj government ” ) were represented by xxmaj mr xxup g. xxmaj matyushkin , xxmaj representative of the xxmaj russian xxmaj federation at the xxmaj european xxmaj court of xxmaj human xxmaj rights . \n",
       "  3.the applicant alleged that the authorities were responsible for the death of her son in a correctional colony and that there had been no effective investigation of the circumstances of his death . \n",
       "  4.on 6 xxmaj november 2009 the xxmaj president of the xxmaj first xxmaj section decided to give notice of the application to the xxmaj government . xxmaj it was also decided to examine the merits of the application at the same time as its admissibility ( xxmaj article 29 1 ) . \n",
       "  xxup the xxup facts \n",
       "  xxup i.the xxup circumstances xxup of xxup the xxup case \n",
       "  5.the applicant lives in xxmaj kursk . xxmaj she is the mother of xxmaj yevgeniy xxmaj geppa , born in 1974 and deceased in 2004 while serving his prison sentence . \n",
       "  a.the events prior to xxmaj yevgeniy xxmaj geppa 's death \n",
       "  6.on 19 xxmaj november 1998 xxmaj yevgeniy xxmaj geppa was found guilty of organised violent robbery and , following appeal proceedings before the xxmaj kursk xxmaj regional xxmaj court which ended on 10 xxmaj february 1999 , was sentenced to eight years of imprisonment in a high - security penitentiary facility . xxmaj he was sent to serve his sentence in xxup ik-2 in xxmaj xxunk , xxmaj kursk xxmaj region . \n",
       "  7.in the periods from 17 to 31 xxmaj august 2000 and from 10 to 29 xxmaj july 2003 he was transferred to the hospital of the xxmaj penitentiary xxmaj department in xxmaj kursk for treatment for chronic pyelonephritis of his only kidney in the active phase . \n",
       "  8.on 28 xxmaj january 2004 he was transferred to the same hospital , having been diagnosed with a psychiatric disorder , namely , “ past organic brain lesion of complex origin ” ( owing to a head injury and drug abuse ) , with emotional instability and compensatory behaviour . xxmaj it was noted that his medical history included a reference to epileptic syndrome . \n",
       "  9.on 20 xxmaj may 2004 , following changes introduced to the xxmaj criminal xxmaj code , the xxmaj kursk xxmaj regional xxmaj court reduced the applicant 's prison sentence to seven years and ordered it to be served in a facility of average security level . xxmaj yevgeniy xxmaj geppa was therefore transferred to the xxmaj xxunk correctional colony xxup ox-30 / 3 ( учреждение xxup ox-30 / 3 , hereafter “ the colony ” ) . \n",
       "  10.in xxmaj june 2004 xxmaj yevgeniy xxmaj geppa 's wife received a letter from him . xxmaj his distorted handwriting , repetitive use of words and confused language made her suspect that he was unwell . \n",
       "  11.on 5 xxmaj august 2004 the applicant and xxmaj yevgeniy xxmaj geppa 's wife visited him in the colony . xxmaj they found him very weak , pale and exhausted . xxmaj he had lost weight and had a blank expression . xxmaj during the visit he fainted and collapsed on the floor ; according to the applicant , when they pulled up his shirt they saw faded bruises of yellow - xxunk colour on his chest . xxmaj they also saw clotted blood on his lips . xxmaj yevgeniy xxmaj geppa told them afterwards that he was being beaten by the colony officials because he had refused “ to co - operate ” , that is , to systematically report on his fellow inmates . xxmaj according to the xxmaj government , xxmaj yevgeniy xxmaj geppa had an epileptic fit on that day and his medical examination did not reveal any injuries . \n",
       "  12.on 20 xxmaj august 2004 the applicant wrote to the xxmaj kursk xxmaj regional xxmaj prosecutor 's xxmaj office complaining that her son had been ill - treated at the colony , referring to the incident of 5 xxmaj august 2004 when he fainted during the visit ; she described the injuries they had allegedly found on his chest and lips and also complained that he was not receiving medical care . xxmaj she contended that this had not happened in the previous detention facility and had only started after her son 's transfer to correctional colony xxup ox-30 / 3 . xxmaj she requested that he be transferred elsewhere . \n",
       "  13.from 27 xxmaj august 2004 to 18 xxmaj september 2004 xxmaj yevgeniy xxmaj geppa was transferred to the hospital of the xxmaj penitentiary xxmaj department in xxmaj kursk for examination and treatment . xxmaj he was diagnosed with a psychiatric disorder , namely , “ past organic brain lesion of complex origin ” ( owing to a head injury and drug abuse ) , with emotional instability and compensatory behaviour , and epileptic syndrome . xxmaj in addition , he was diagnosed with chronic pyelonephritis of his only kidney at the stage of remission ; it was recommended that he be placed in the psychiatric hospital of xxmaj smolensk . \n",
       "  14.in the meantime , on 3 xxmaj september 2004 the applicant received a reply from the xxmaj kursk xxmaj regional xxmaj penitentiary xxmaj department of the xxmaj ministry of xxmaj justice to the effect that the on - site inspection conducted following her complaint had established that the conditions of her son 's detention complied with the law and there were no grounds to transfer him to another facility . xxmaj it was also stated that he was provided with medical care when necessary . \n",
       "  15.on 17 xxmaj october 2004 the applicant and xxmaj yevgeniy xxmaj geppa 's wife visited him in the colony for the last time . xxmaj according to the applicant , when they met him he had had a fever and had been shivering despite being dressed in a winter jacket and gloves . xxmaj he had allegedly told them that he had pain “ all over inside ” and splitting headaches but that the colony medical staff had refused to see him and had accused him of faking the illness . xxmaj he had also allegedly told them that he had requested a transfer to the psychiatric hospital of the xxmaj penitentiary xxmaj department of the xxmaj smolensk xxmaj region ( the psychiatric hospital of xxmaj smolensk ) because he could not bear the constant beatings any longer . xxmaj before they said goodbye he had told them that he felt he was dying and they would probably not see him again . \n",
       "  16.on 18 xxmaj october 2004 the applicant wrote to the xxmaj penitentiary xxmaj department complaining that her son was being ill - treated at the colony . xxmaj she complained about the beatings , the deterioration of his health and the lack of medical assistance . xxmaj she requested that he be given a medical examination to identify the cause of his headaches , stomach and chest pains , and deteriorating eyesight . xxmaj she also requested to see his pre - transfer medical records from xxup ik-2 and the colony medical records relating to the period between 27 xxmaj august and 16 xxmaj september 2004 . \n",
       "  17.on 25 xxmaj october 2004 the xxmaj penitentiary xxmaj department replied to the applicant that her enquiry had been examined by its medical division . xxmaj it informed the applicant that xxmaj yevgeniy xxmaj geppa 's medical file at the colony contained records on his past organic brain lesion of complex origin ( owing to a traumatic brain injury and drug abuse ) , with emotional instability and compensatory behaviour , and epileptic syndrome ; he was also diagnosed with chronic pyelonephritis of his only kidney at the stage of remission . xxmaj it stated that he was receiving the necessary medical care . xxmaj when interviewed , xxmaj yevgeniy xxmaj geppa had refused to be placed in the hospital of the xxmaj penitentiary xxmaj department but had given his consent to be placed in the psychiatric hospital of xxmaj smolensk . a similar letter was sent to her on 18 xxmaj november 2004 , adding that no physical force had been applied against xxmaj yevgeniy xxmaj geppa and informing her of his transfer to the psychiatric hospital of xxmaj smolensk . \n",
       "  18.on 14 xxmaj november 2004 xxmaj yevgeniy xxmaj geppa was taken to the psychiatric hospital of xxmaj smolensk . xxmaj on the way a stop was made at xxup xxunk / 1 of xxmaj voronezh , where he asked to see a doctor . xxmaj the medical examination revealed several symptoms of medium severity , such as a “ confused state of consciousness ” . xxmaj after he had been given medication his condition improved , and he was sent on to xxmaj smolensk . \n",
       "  19.on 20 xxmaj november 2004 xxmaj yevgeniy xxmaj geppa arrived at the psychiatric hospital of xxmaj smolensk . xxmaj the medical examination conducted on his arrival established that his condition was serious , he was unable to walk by himself , was pale and his extremities were cold . xxmaj he could communicate with the doctor , but quickly became exhausted . xxmaj symptomatic treatment began immediately and further examinations were ordered . \n",
       "  20.on 22 xxmaj november 2004 xxmaj yevgeniy xxmaj geppa had a general blood test . xxmaj on the following day he had a chest x - ray and an electrocardiogram . xxmaj on 24november 2004 he had an xxup hiv test , which was negative . \n",
       "  21.on 29 xxmaj november 2004 xxmaj yevgeniy xxmaj geppa underwent an x - ray brain scan that revealed hypertension . xxmaj on the same day an xxunk was performed , and it was concluded that there was probably a pathological formation in the left hemisphere . xxmaj he also had a stomach x - ray on that day . \n",
       "  22.on 30 xxmaj november 2004 he had a general ultrasound abdominal scan that revealed some changes in the liver and pancreas . xxmaj on the same day he was seen by an infection specialist , who did not find any infection . \n",
       "  23.on 1 xxmaj december 2004 he was seen by a neurologist who ordered a brain xxup ct scan , which was performed on 6 xxmaj december 2004 and confirmed the presence of a formation in the left hemisphere . xxmaj it was followed by a consultation with a neurosurgeon , who advised against surgery . xxmaj on the following day an oncologist diagnosed xxmaj yevgeniy xxmaj geppa with a brain tumour and oedema of the brain . \n",
       "  24.on 8 xxmaj december 2004 xxmaj yevgeniy xxmaj geppa died . \n",
       "  25.on 9 xxmaj december 2004 an autopsy , including a histological study , was conducted and established that xxmaj yevgeniy xxmaj geppa 's death was caused by a brain tumour ( xxunk multiforme ) . \n",
       "  b.inquiry into xxmaj yevgeniy xxmaj geppa 's death and subsequent proceedings \n",
       "  26.following xxmaj yevgeniy xxmaj geppa 's death the xxmaj smolensk xxmaj prosecutor 's xxmaj office conducted an inquiry in order to decide whether there were grounds for a criminal investigation . xxmaj on 17 xxmaj december 2004 it decided that no criminal investigation was necessary . xxmaj the decision referred to the autopsy report , the medical file , and the statements of the hospital director and detainee xxup k. , who was employed at the hospital . \n",
       "  27.on 21 xxmaj december 2004 the applicant complained to the xxmaj kursk xxmaj regional xxmaj prosecutor 's xxmaj office about the beatings to which her son had allegedly been subjected in the colony and alleged that there had been a negligent failure to provide him with medical assistance ; she also alleged that his transfer to the psychiatric hospital had been delayed without justification . \n",
       "  28.on 27 xxmaj january 2005 the prosecutor 's office decided that there were no grounds to open a criminal investigation into xxmaj yevgeniy xxmaj geppa 's death . xxmaj the prosecutor 's office had questioned the colony officials and inmates , who made the following statements : \n",
       "  – the head officer of unit no . 12 where xxmaj yevgeniy xxmaj geppa was held stated that he had not received any complaints that physical force had been applied to xxmaj mr xxmaj geppa and had not seen any injuries on him ; \n",
       "  – inmate xxup k. stated that upon his arrival at the colony xxmaj yevgeniy xxmaj geppa had had certain health complaints , in particular he had mentioned that he was suffering from epilepsy ; he had not seen any injuries on him and had not heard any complaints about the use of force against him ; \n",
       "  – inmate xxmaj ch . stated that he had not seen any injuries on xxmaj yevgeniy xxmaj geppa and had not heard any complaints about the use of force against him ; \n",
       "  – inmate xxmaj kh . stated that his sleeping place in the dormitory had been next to xxmaj yevgeniy xxmaj geppa 's and that he had not seen any injuries on him or heard any complaints about the use of force against him ; \n",
       "  – an officer of the visits and parcels section , xxup m. , stated that on 5 xxmaj august 2004 xxmaj yevgeniy xxmaj geppa had been visited by his wife and mother and that about thirty minutes into the visit he had had an epileptic fit and had been taken to the medical unit ; xxmaj yevgeniy xxmaj geppa 's mother had not mentioned seeing any injuries on him ; \n",
       "  – an officer of the visits and parcels section , xxmaj kh . , stated that on 5 xxmaj august 2004 he had searched xxmaj yevgeniy xxmaj geppa before the visit , though without removing his clothes , and had not seen any injuries on him ; following an epileptic fit during the visit xxmaj yevgeniy xxmaj geppa had been taken to the medical unit ; his mother had not mentioned seeing any injuries on him ; \n",
       "  – inmate xxmaj sh . stated that on one occasion in xxmaj august 2004 he had accompanied xxmaj yevgeniy xxmaj geppa from the medical unit back to unit no . 12 ; xxmaj yevgeniy xxmaj geppa had spent about one or two hours in the medical unit ; on the way he had not heard any complaints ; he could not say whether xxmaj yevgeniy xxmaj geppa had had any injuries ; \n",
       "  – an officer of the medical unit , xxup g. , stated that on 5 xxmaj august 2004 he had attended to xxmaj yevgeniy xxmaj geppa after he had fainted during the visit ; when examined , xxmaj yevgeniy xxmaj geppa had been conscious ; he had diagnosed him with epileptic syndrome and given him an injection of xxunk ; he had had a bruise on his knee ; no other injuries had been revealed ; \n",
       "  – the head of the medical unit stated that xxmaj yevgeniy xxmaj geppa had been registered with the colony medical unit as suffering from a psychiatric disorder , namely , “ past organic brain lesion of complex origin ” ( owing to a traumatic brain injury and drug abuse ) , with emotional instability and compensatory behaviour , and epileptic syndrome . xxmaj from 27 xxmaj august 2004 to 18 xxmaj september 2004 he had been transferred to the hospital of the xxmaj penitentiary xxmaj department for examination and treatment ; the above diagnosis had been confirmed and in addition to that he had been diagnosed with chronic pyelonephritis of his only kidney at the stage of remission . xxmaj it had been recommended that he be placed in the psychiatric hospital of xxmaj smolensk . xxmaj in the colony xxmaj yevgeniy xxmaj geppa had been provided with adequate medical care ; on 14 xxmaj november 2004 he had been transferred , with his consent , to the psychiatric hospital of xxmaj smolensk . \n",
       "  29.the applicant challenged the decision of 27 xxmaj january 2005 in court . \n",
       "  30.on 17 xxmaj march 2005 the xxmaj kirovskiy xxmaj district xxmaj court of xxmaj kursk found that the inquiry conducted by the prosecutor 's office into xxmaj yevgeniy xxmaj geppa 's death had been insufficient . xxmaj it referred in particular to the failure to verify the allegations of ill - treatment and indicated that it was necessary to establish the origin of the head injury and the brain tumour which caused his death . xxmaj the court granted the applicant 's request and ordered the prosecutor 's office to carry out the inquiry in accordance with law . xxmaj the prosecutor 's office appealed . \n",
       "  31.on 19 xxmaj april 2005 the xxmaj kursk xxmaj regional xxmaj court upheld the decision of the xxmaj kirovskiy xxmaj district xxmaj court dated 17 xxmaj march 2005 . xxmaj following this decision the prosecutor 's office requested the xxmaj penitentiary xxmaj department to send xxmaj yevgeniy xxmaj geppa 's medical file and the autopsy report to it . \n",
       "  32.on 22 xxmaj april 2005 the applicant requested the prosecutor 's office to grant her victim status in the criminal proceedings concerning her son 's death . xxmaj she also requested access to documents from his medical file . \n",
       "  33.on 3 xxmaj may 2005 the prosecutor 's office quashed its decision of 27january 2005 refusing to open a criminal investigation and an additional inquiry was ordered . xxmaj the applicant was informed of the decision ; she was also informed that there were no grounds to grant her victim status . \n",
       "  34.on 13 xxmaj may 2005 the prosecutor 's office decided to refuse to institute criminal proceedings concerning xxmaj yevgeniy xxmaj geppa 's death . xxmaj it stated that an additional inquiry had been carried out , which had included an examination of the medical file and questioning of the psychiatrists of the colony and of the hospital of the xxmaj penitentiary xxmaj department . xxmaj it was established that the cause of death , the brain tumour , was consistent with the earlier diagnosis indicated in the colony medical file . xxmaj it was also noted that xxmaj yevgeniy xxmaj geppa had sustained a head injury in 1997 and in the past he had abused alcohol , psychotropic substances and home - xxunk narcotics ; he had also been diagnosed with epilepsy . xxmaj it was therefore concluded that there were no grounds to believe that the colony staff had committed a crime against xxmaj yevgeniy xxmaj geppa . \n",
       "  35.the applicant challenged the decision of 13 xxmaj may 2005 in court . \n",
       "  36.on 3 xxmaj june 2005 the xxmaj kirovskiy xxmaj district xxmaj court declared the decision dispensing with criminal proceedings unlawful . xxmaj it found that the investigation file was incomplete and the prosecutor 's conclusions contradictory , in particular with reference to the failure to verify the origin of the head injury and the brain tumour , as well as xxmaj yevgeniy xxmaj geppa 's state of health and the adequacy of his medical treatment prior to his transfer to the psychiatric hospital . xxmaj the prosecutor 's office appealed . \n",
       "  37.on 16 xxmaj june 2005 the prosecutor 's office sent a number of official inquiries to medical institutions . xxmaj it asked the xxmaj kursk xxmaj regional xxmaj psychiatric xxmaj hospital if xxmaj yevgeniy xxmaj geppa 's had been under their supervision in the past ; it requested the details of his treatment for his head injury in 1997 from the xxmaj kursk xxmaj municipal xxmaj clinic and the xxmaj kursk xxmaj regional xxmaj clinic . xxmaj finally , it requested the director of the specialist oncology clinic to explain the origin , the development pattern , methods of diagnosing and treatment of the brain tumour with which xxmaj yevgeniy xxmaj geppa had been diagnosed and the recovery rate for the disease . xxmaj the latter enquiry does not appear to have been answered . \n",
       "  38.on 30 xxmaj june 2005 the xxmaj kursk xxmaj regional xxmaj court upheld , in substance , the decision of the xxmaj kirovskiy xxmaj district xxmaj court dated 3 xxmaj june 2005 . \n",
       "  39.on 27 xxmaj july 2005 the prosecutor 's office quashed its decision of 13may 2005 refusing to open the criminal investigation and an additional inquiry was ordered . xxmaj the applicant was informed about the decision and provided with a copy thereof . \n",
       "  40.on 29 xxmaj july 2005 the administrative officer of the hospital of the xxmaj penitentiary xxmaj department in xxmaj kursk wrote an explanatory note for the investigation file . xxmaj he stated that during his in - patient treatment at the hospital xxmaj yevgeniy xxmaj geppa had showed no symptoms of formation of a brain tumour . xxmaj early signs of the tumour could have only been detected by a xxup ct scan , which had not been possible in the hospital for the lack of the requisite equipment . xxmaj moreover , there had been no apparent reason to order a xxup ct scan . \n",
       "  41.on the same day the prosecutor 's office decided to refuse to institute criminal proceedings concerning xxmaj yevgeniy xxmaj geppa 's death . xxmaj it referred to the medical records dated xxmaj october - xxmaj november 1997 relating to his head injury and concluded that it had predated his imprisonment . xxmaj it further stated that the medical equipment available at the institutions and medical centres of the penitentiary system could not be used to diagnose the early stages of a brain tumour or to assess the necessity of a xxup ct scan . xxmaj the scan was recommended on 1 xxmaj december 2004 , after the examination at the psychiatric hospital , and carried out on 6 xxmaj december 2004 , two days before xxmaj yevgeniy xxmaj geppa 's death . xxmaj it was therefore concluded that there had been no grounds to believe that the colony staff had caused xxmaj yevgeniy xxmaj geppa injuries or had been negligent in deciding to transfer him to the psychiatric hospital for examination . xxmaj the applicant was informed about the decision and provided with a copy thereof . \n",
       "  42.the applicant challenged the decision of 29 xxmaj july 2005 in court . \n",
       "  43.on 30 xxmaj september 2005 the xxmaj kirovskiy xxmaj district xxmaj court declared the decision dispensing with criminal proceedings unlawful . xxmaj it found that the inquiry had failed to establish a link between the head injury sustained by xxmaj yevgeniy xxmaj geppa in 1997 and his death in 2004 and had also failed to substantiate the conclusion that the medical care received by xxmaj yevgeniy xxmaj geppa had been appropriate for his condition . xxmaj the court indicated that the above defects could only be remedied by a proper investigation and criminal proceedings and therefore it had been mandatory to open a criminal file . xxmaj the court also pointed out that the procedural law did not allow a ten - day preliminary inquiry to be conducted more than once . \n",
       "  44.on 14 xxmaj november 2005 the prosecutor 's office quashed its decision of 29 xxmaj july 2005 refusing to open a criminal investigation and an additional inquiry was ordered . xxmaj the applicant was informed about the decision and provided with a copy thereof . \n",
       "  45.on the same day the prosecutor 's office of xxmaj kursk requested the prosecutor 's office of xxmaj smolensk to provide it with xxmaj yevgeniy xxmaj geppa 's medical file from the psychiatric hospital of xxmaj smolensk and the autopsy report . \n",
       "  46.on 18 xxmaj november 2005 the prosecutor 's office decided to refuse to institute criminal proceedings concerning xxmaj yevgeniy xxmaj geppa 's death . xxmaj it essentially reiterated the contents of the decision of 29 xxmaj july 2005 , adding that the prosecutor 's office of xxmaj smolensk had not replied to the request of 14november 2005 , hence there was no new information that would allow the allegations of medical negligence to be confirmed . xxmaj the applicant was informed about the decision and provided with a copy thereof . \n",
       "  47.on 13 xxmaj december 2005 the prosecutor 's office of xxmaj smolensk forwarded the requested documents to the prosecutor 's office of xxmaj kursk . \n",
       "  48.on 30 xxmaj december 2005 the prosecutor 's office quashed its decision of 18 xxmaj november 2005 refusing to open a criminal investigation and an additional inquiry was ordered . xxmaj the applicant was informed about the decision and provided with a copy thereof . xxmaj on 10 xxmaj january 2006 the term for additional inquiry was extended from three to ten days in order to obtain the medical expert opinion . \n",
       "  49.on 10 xxmaj january 2006 the prosecutor 's office requested the director of the xxmaj kursk xxmaj regional xxmaj clinic to explain the origin of , the possible cause of and methods of diagnosing the brain tumour found in xxmaj yevgeniy xxmaj geppa . xxmaj the director was asked whether the tumour could have been caused by xxunk 's head injury , whether it was treatable and whether xxmaj mr xxmaj geppa 's death could have been avoided if timely medical treatment had been provided . \n",
       "  50.on 16 xxmaj january 2006 the clinic director and the head of the clinic 's neurosurgery department replied as follows : \n",
       "  “ 1.the cause of cancerous brain tumours ( xxunk multiforme ) is currently unknown . \n",
       "  xxunk scientific research data nor our experience confirms any link between brain injuries and [ tumours ] . \n",
       "  3.early signs of a brain tumour formation are general brain and localised neurological symptoms and changes in the xxunk of the eye . \n",
       "  xxunk multiforme is one of the most malignant forms of brain tumour with the period between its formation and death varying between two and six months depending on its location . \n",
       "  5.the prognosis of this disease , regardless of the promptness of its diagnosis and specialist treatment , is extremely negative , the disease not being susceptible to treatment . ” \n",
       "  51.on 17 xxmaj january 2006 the prosecutor 's office decided to refuse to institute criminal proceedings concerning xxmaj yevgeniy xxmaj geppa 's death . xxmaj in addition to the medical documents and witness statements relied on in the previous decisions , it referred to the medical opinion of 16 xxmaj january 2006 given by the xxmaj kursk xxmaj regional xxmaj clinic director . xxmaj it concluded that there had been no evidence of violence or medical negligence having contributed to his death . xxmaj the applicant was informed about the decision and provided with a copy thereof . xxmaj she appealed against this decision in court . \n",
       "  52.on 13 xxmaj march 2006 the xxmaj kirovskiy xxmaj district xxmaj court declared the decision dispensing with criminal proceedings unlawful . xxmaj it found that the inquiry had failed to address the reasons for the diagnosis having been established so late despite xxmaj yevgeniy xxmaj geppa 's frequent examination and treatment ; the court could not rule out that there had been an unjustified delay in providing him with specialised medical care and pointed out that the negative prognosis did not absolve the penitentiary and medical staff from taking all the necessary steps in order to diagnose and treat him . xxmaj the prosecutor 's office appealed . \n",
       "  53.on 11 xxmaj april 2006 the xxmaj kursk xxmaj regional xxmaj court quashed the decision of 13 xxmaj march 2006 on the grounds that it had failed to specify the shortcomings in the investigation that the prosecutor 's office had to remedy . xxmaj the case was remitted to the same court for a fresh examination . \n",
       "  54.on 25 xxmaj april 2006 the xxmaj kirovskiy xxmaj district xxmaj court found the decision dispensing with criminal proceedings lawful and justified . xxmaj addressing the applicant 's argument that the investigators had failed to request the medical file from the psychiatric hospital of xxmaj smolensk , the court observed that the file had actually been obtained , that it had been attached to the investigation file and , furthermore , that it had been directly examined in the courtroom . \n",
       "  55.on 5 xxmaj may 2006 the applicant was given the opportunity to access xxmaj yevgeniy xxmaj geppa 's medical file . \n",
       "  xxup ii.relevant xxup domestic xxup law xxup and xxup practice \n",
       "  xxmaj early release on health grounds \n",
       "  56.article 175 6 of the xxmaj penitentiary xxmaj code of the xxmaj russian xxmaj federation provides as follows : \n",
       "  “ a detainee who has acquired a serious illness [ other than psychiatric ] which prevents him from serving his sentence may lodge a request with a court for [ early ] release ... [ xxmaj this request ] must be lodged by the detainee through the administration of the penitentiary institution ... xxmaj the said request must be accompanied by the expert opinion of a medical commission or a socio - medical expert institution and the detainee 's prison record . ” \n",
       "  57.on 6 xxmaj february 2004 the xxmaj government of the xxmaj russian xxmaj federation adopted xxmaj decree no . 54 establishing a list of diseases incompatible with serving a prison sentence . xxmaj that list included malignant tumours ( cancer ) in stage xxup iv according to xxup xxunk classification ( point 7 of the decree ) and kidney diseases in the terminal phase with chronic renal failure . \n",
       " ,xxbos xxup procedure \n",
       "  1.the case originated in an application ( no . xxunk / 04 ) against xxmaj bosnia and xxmaj herzegovina lodged with the xxmaj court under xxmaj article 34 of the xxmaj convention for the xxmaj protection of xxmaj human xxmaj rights and xxmaj fundamental xxmaj freedoms ( “ the xxmaj convention ” ) by a citizen of xxmaj bosnia and xxmaj herzegovina , xxmaj ms xxmaj esma xxmaj palić ( “ the applicant ” ) , on 27 xxmaj january 2004 . \n",
       "  2.the applicant , who had been granted legal aid , was represented by mrn. xxmaj xxunk and xxmaj ms xxup l. xxmaj xxunk , lawyers practising in xxmaj sarajevo , and xxmaj mr xxup p. xxmaj troop , a lawyer practising in xxmaj london . xxmaj the xxmaj government of xxmaj bosnia and xxmaj herzegovina ( “ the xxmaj government ” ) were represented by their xxmaj deputy xxmaj agent , xxmaj ms xxup z. xxmaj ibrahimović . \n",
       "  xxunk xxmaj mijović , the judge elected in respect of xxmaj bosnia and xxmaj herzegovina , was unable to sit in the case ( xxmaj rule 28 ) . xxmaj the xxmaj government accordingly appointed xxmaj faris xxmaj vehabović to sit as an ad hoc judge ( xxmaj article 26 4 of the xxmaj convention and xxmaj rule 29 1 ) . \n",
       "  4.the case is about the applicant ’s husband ’s disappearance during the 1992 - 95 war in xxmaj bosnia and xxmaj herzegovina . xxmaj it raises issues under xxmaj articles 2 , 3 and 5 of the xxmaj convention . \n",
       "  5.on 9 xxmaj january 2007 a xxmaj chamber of the xxmaj fourth xxmaj section of the xxmaj court decided to give notice of the application to the xxmaj government . xxmaj it also decided to rule on the admissibility and merits of the application at the same time ( xxmaj article 29 1 ) . \n",
       "  xxup the xxup facts \n",
       "  xxup i.the xxup circumstances xxup of xxup the xxup case \n",
       "  a.relevant background \n",
       "  6.after its declaration of independence on 6 xxmaj march 1992 , a brutal war started in xxmaj bosnia and xxmaj herzegovina . xxmaj it would appear that more than 100,000 people were killed and more than two million people were displaced . xxmaj it is estimated that almost 30,000 people went missing and that one third of them is still missing . xxmaj the major parties to the conflict were the xxup arbh ( mostly made up of xxmaj bosniacs and loyal to the central authorities of xxmaj bosnia and xxmaj herzegovina ) , the xxup hvo ( mostly made up of xxmaj croats ) and the xxup vrs ( mostly made up of xxmaj serbs ) . xxmaj the conflict came to an end on 14 xxmaj december 1995 when the xxmaj general xxmaj framework xxmaj agreement for xxmaj peace ( “ the xxmaj dayton xxmaj peace xxmaj agreement ” ) entered into force . xxmaj in accordance with that xxmaj agreement , xxmaj bosnia and xxmaj herzegovina consists of two xxmaj entities : the xxmaj federation of xxmaj bosnia and xxmaj herzegovina and the xxmaj republika xxmaj srpska . xxmaj the xxmaj dayton xxmaj peace xxmaj agreement failed to resolve the xxmaj inter - xxmaj entity xxmaj boundary xxmaj line in the xxmaj brčko area , but the parties agreed to a binding arbitration in this regard under xxup uncitral rules ( xxmaj article v of xxmaj annex 2 to the xxmaj dayton xxmaj peace xxmaj agreement ) . xxmaj the xxmaj brčko xxmaj district , under the exclusive sovereignty of the xxmaj state and international supervision , was formally inaugurated on 8 xxmaj march 2000 . \n",
       "  7.in response to atrocities then taking place in xxmaj bosnia and xxmaj herzegovina , on 25 xxmaj may 1993 the xxmaj united xxmaj nations xxmaj security xxmaj council passed resolution 827 establishing the xxmaj international xxmaj criminal xxmaj tribunal for the former xxmaj yugoslavia ( “ the xxup icty ” ) headquartered in xxmaj the xxmaj hague . xxmaj although the xxup icty and national courts have concurrent jurisdiction over serious violations of international humanitarian law committed in the former xxmaj yugoslavia , the xxup icty can claim primacy and may take over national investigations and proceedings at any stage if this proves to be in the interest of international justice . xxmaj it can also refer its cases to competent national authorities in the former xxmaj yugoslavia . xxmaj more than 60 individuals have been convicted and currently more than 40 people are in different stages of proceedings before the xxup icty . xxmaj two accused are still at large ( xxmaj mr xxmaj goran xxmaj xxunk and xxmaj mr xxmaj ratko xxmaj xxunk ) . \n",
       "  8.furthermore , the xxmaj international xxmaj commission on xxmaj missing xxmaj persons ( “ the xxup icmp ” ) was established at the initiative of xxmaj united xxmaj states xxmaj president xxmaj clinton in 1996 . xxmaj it is currently headquartered in xxmaj sarajevo . xxmaj in addition to its work in the former xxmaj yugoslavia , the xxup icmp is now actively involved in helping governments and other institutions in various parts of the world address social and political issues related to missing persons and establish effective identification systems in the wake of conflict or natural disaster . xxmaj reportedly , the xxup icmp has so far identified by xxup dna around 13,000 missing persons in xxmaj bosnia and xxmaj herzegovina , whereas local authorities have identified by traditional methods around 7,000 missing persons . \n",
       "  9.after the war , the xxup arbh , xxup hvo and xxup vrs forces merged into the xxmaj armed xxmaj forces of xxmaj bosnia and xxmaj herzegovina . \n",
       "  b.the present case \n",
       "  10.the applicant was born in 1967 and lives in xxmaj sarajevo . \n",
       "  11.the applicant ’s husband , xxmaj mr xxmaj xxunk xxmaj palić , was a military commander of the xxup arbh forces in the xxmaj united xxmaj nations “ safe area ” of xxmaj žepa during the war . xxmaj on 27 xxmaj july 1995 , shortly after the xxup vrs forces had taken control of that area , xxmaj mr xxmaj palić went to negotiate the terms of surrender with the xxup vrs forces and disappeared . \n",
       "  12.following many fruitless attempts to obtain any official news about her husband , on 18 xxmaj november 1999 the applicant lodged an application against the xxmaj republika xxmaj srpska with the xxmaj human xxmaj rights xxmaj chamber , a domestic human - rights body set up by xxmaj annex 6 to the xxmaj dayton xxmaj peace xxmaj agreement . \n",
       "  13.on 5 xxmaj september 2000 the xxmaj human xxmaj rights xxmaj chamber held a public hearing and heard several witnesses , including xxmaj mr xxmaj abdurahman xxmaj xxunk and xxmaj mr xxmaj sado xxmaj xxunk who had been detained together with xxmaj mr xxmaj palić in a military prison in xxmaj bijeljina in xxmaj august 1995 . xxmaj the xxmaj republika xxmaj srpska maintained at the hearing that it had no knowledge of the arrest and detention of xxmaj mr xxmaj palić . \n",
       "  14.in its decision of 9 xxmaj december 2000 , the xxmaj human xxmaj rights xxmaj chamber held that xxmaj mr xxmaj palić had been a victim of “ enforced disappearance ” within the meaning of the xxmaj declaration on the xxmaj protection of xxmaj all xxmaj persons from xxmaj enforced xxmaj disappearance and found a breach of xxmaj articles 2 , 3 and 5 of the xxmaj convention in respect of xxmaj mr xxmaj palić and xxmaj articles 3 and 8 of the xxmaj convention in respect of the applicant . xxmaj the xxmaj republika xxmaj srpska was ordered : ( a ) to carry out immediately a full investigation capable of exploring all the facts regarding the fate of xxmaj mr xxmaj palić with a view to bringing the perpetrators to justice ; ( b ) to release xxmaj mr xxmaj palić , if still alive , or to make available his mortal remains to the applicant ; and ( c ) to make all information about the fate and whereabouts of xxmaj mr xxmaj palić known to the applicant . xxmaj the applicant was awarded , for non - pecuniary damage , 15,000 convertible marks ( xxup bam – xxunk euros ( xxup eur ) ) and , in respect of her husband ( which sum was to be held by the applicant for her husband or his heirs ) , xxup bam 50,000 ( xxup eur 25,565 ) . xxmaj the decision was delivered on 11 xxmaj january 2001 and entered into force on 8 xxmaj march 2001 when the full xxmaj chamber rejected the xxmaj republika xxmaj srpska ’s request for review . \n",
       "  15.on 14 xxmaj november 2001 the xxmaj republika xxmaj srpska acknowledged that xxmaj mr xxmaj palić had been held in xxmaj vanekov mlin , a military prison in xxmaj bijeljina administered by the xxup vrs forces , between 4 xxmaj august and 5 xxmaj september 1995 and that on the latter date xxmaj mr xxmaj dragomir xxmaj pećanac , xxmaj security xxmaj officer of the xxmaj main xxmaj staff of the xxup vrs , had taken xxmaj mr xxmaj palić from that prison . \n",
       "  16.having found that xxmaj mr xxmaj pećanac had meanwhile settled in xxmaj serbia , in xxmaj february 2002 the xxmaj republika xxmaj srpska authorities issued a domestic arrest warrant against him . xxmaj in xxmaj march and xxmaj april 2002 they interviewed the entire war - time personnel of xxmaj vanekov mlin , including its governor . \n",
       "  17.on 12 xxmaj june 2003 the xxmaj bijeljina xxmaj district xxmaj prosecutor ( answerable to the xxmaj prosecutor of the xxmaj republika xxmaj srpska ) asked the xxmaj state xxmaj prosecutor to take over this case . xxmaj on 25 xxmaj december 2003 the latter decided that the case should remain with the xxmaj bijeljina xxmaj district xxmaj prosecutor and returned the case file . \n",
       "  18.on 7 xxmaj september 2005 the xxmaj human xxmaj rights xxmaj commission , which had replaced the xxmaj human xxmaj rights xxmaj chamber , rendered another decision in this case : while noting that the monetary award had been paid , it held that the decision of 9 xxmaj december 2000 had not yet been fully enforced . xxmaj the xxmaj republika xxmaj srpska was given an additional three - month period in which to do so . \n",
       "  19.from xxmaj october until xxmaj december 2005 the authorities of the xxmaj republika xxmaj srpska and xxmaj serbia , at the request of the xxmaj republika xxmaj srpska , interviewed eighteen people in connection with this case , including xxmaj mr xxmaj pećanac . \n",
       "  20.on 16 xxmaj january 2006 the xxmaj human xxmaj rights xxmaj commission repeated in another decision that the core element of the decision of 9 xxmaj december 2000 had not been enforced : the xxmaj republika xxmaj srpska had not released xxmaj mr xxmaj palić , if still alive , or otherwise had not made available his mortal remains to the applicant and no prosecution had been brought . xxmaj this decision was submitted to the xxmaj state xxmaj prosecutor ( non - enforcement of the decisions of the xxmaj human xxmaj rights xxmaj chamber constitutes a criminal offence , see paragraph 36 below ) . \n",
       "  21.on 25 xxmaj january 2006 the xxmaj republika xxmaj srpska , at the request of the xxmaj high xxmaj representative , established an ad hoc commission to investigate this case . xxmaj it included xxmaj mr xxmaj xxunk xxmaj xxunk who had allegedly attended the meeting of \n",
       " 27 xxmaj july 1995 mentioned in paragraph 11 above ( see paragraph 61 below ) . xxmaj the applicant appointed her representative to that commission . \n",
       "  22.on 17 xxmaj march 2006 the xxmaj sarajevo xxmaj municipal xxmaj court , at the applicant ’s request , issued a declaration of presumed death with respect to xxmaj mr xxmaj palić ( see paragraph 39 below ) . \n",
       "  23.on 20 xxmaj april 2006 the ad hoc commission adopted a report . xxmaj having interviewed numerous people , it established that xxmaj mr xxmaj palić had been captured by the xxup vrs forces ( that is , by xxmaj mr xxmaj xxunk xxmaj xxunk of the xxmaj rogatica xxmaj brigade ) and handed over to xxmaj mr xxmaj zdravko xxmaj tolimir , xxmaj assistant xxmaj commander for xxmaj intelligence and xxmaj security of the xxmaj main xxmaj staff of the xxup vrs . xxmaj by order of xxunk , the xxmaj commander of the xxup vrs , he was held in a private flat in xxmaj rogatica ( belonging to xxmaj mr xxmaj zoran xxmaj xxunk , xxmaj security xxmaj officer of the xxmaj rogatica xxmaj brigade ) for a week or so and then in xxmaj vanekov mlin , the military prison mentioned above . xxmaj he was interrogated daily by security officers of the xxup vrs . xxmaj it was also established that xxmaj mr xxmaj pećanac and his driver , xxmaj mr xxmaj željko xxmaj mijatović , had taken xxmaj mr xxmaj palić from that prison on the night of 4 / 5 xxmaj september 1995 . xxmaj while questioned by the xxmaj serbian authorities , at the request of the xxmaj republika xxmaj srpska , xxmaj mr xxmaj pećanac and xxmaj mr xxmaj mijatović said that they had taken xxmaj mr xxmaj palić to xxmaj han xxmaj pijesak and handed him over to the late xxmaj mr xxmaj xxunk xxmaj marić . xxmaj however , the report established that xxmaj mr xxmaj marić had not been in xxmaj han xxmaj pijesak at that time . \n",
       "  24.on 13 xxmaj december 2006 the xxmaj prime xxmaj minister of the xxmaj republika xxmaj srpska established another ad hoc commission to investigate this case . xxmaj he also met the applicant who appointed her representative to that commission . \n",
       "  25.on 20 xxmaj december 2006 the xxmaj court of xxmaj bosnia and xxmaj herzegovina issued international arrest warrants against xxmaj mr xxmaj pećanac and xxmaj mr xxmaj mijatović on suspicion of having committed an enforced disappearance as a crime against humanity . \n",
       "  26.in xxmaj march 2007 the second ad hoc commission established that \n",
       " xxmaj mr xxmaj palić had been buried in a mass grave in xxmaj xxunk near xxmaj rogatica and , having searched the area in vain , that he could have been transferred to a secondary mass grave in xxmaj vragolovi near xxmaj rogatica ( where nine unidentified bodies had been exhumed on 12 xxmaj november 2001 ) or elsewhere in that area . \n",
       "  27.on 31 xxmaj may 2007 the authorities of xxmaj bosnia and xxmaj herzegovina arrested xxmaj mr xxmaj tolimir and transferred him to the custody of the xxup icty . \n",
       "  28.on 5 xxmaj august 2009 the xxup icmp established that one of the unidentified bodies from the mass grave in xxmaj vragolovi ( which had been exhumed on \n",
       " 12 xxmaj november 2001 and reburied in a nameless grave in xxmaj xxunk on 14 xxmaj march 2002 ) was that of xxmaj mr xxmaj palić . xxmaj the xxmaj sarajevo xxmaj cantonal xxmaj court then ordered that the body be exhumed . xxmaj on 20 xxmaj august 2009 the xxup icmp confirmed through xxup dna tests that the body indeed belonged to xxmaj mr xxmaj palić . \n",
       "  29.on 26 xxmaj august 2009 xxmaj mr xxmaj palić was finally buried on the grounds of the xxmaj ali xxmaj pasha ’s xxmaj mosque in xxmaj sarajevo with military honours . \n",
       "  30.on 16 xxmaj december 2009 the xxup icty amended the indictment against \n",
       " xxmaj mr xxmaj tolimir . xxmaj he is charged with the participation in joint criminal enterprise to forcibly transfer and deport the xxmaj muslim populations of xxmaj xxunk and xxmaj žepa , a natural and foreseeable consequence of which was the killing of xxmaj mr xxmaj palić and two other xxmaj muslim leaders from xxmaj žepa by the xxup vrs ( the third category of joint criminal enterprise ) . xxmaj his trial commenced on 26 xxmaj february 2010 . \n",
       "  31.mr xxmaj pećanac and xxmaj mr xxmaj mijatović live in xxmaj serbia . xxmaj they were granted xxmaj serbian citizenship on 4 xxmaj january 1999 and 17 xxmaj september 1998 , respectively . \n",
       "  xxup ii.relevant xxup international xxup and xxup domestic xxup law \n",
       "  a.relevant international law \n",
       "  xxunk persons \n",
       "  xxunk conflicts often lead to the disappearance of hundreds or even thousands of people . xxmaj pursuant to xxmaj articles 32 - 34 of xxmaj protocol xxmaj additional to the xxmaj geneva xxmaj conventions of 12 xxmaj august 1949 , and relating to the xxmaj protection of xxmaj victims of xxmaj international xxmaj armed xxmaj conflicts ( xxmaj protocol i ) , of 8 xxmaj june 1977 , families have the right to be informed of the fate of missing relatives ; the parties to a conflict must search for persons reported missing by an adverse party and facilitate enquiries made by members of families dispersed as a result of the conflict so as to help them restore contact with one another and try to bring them together again ; and lists showing the exact location and markings of the graves , together with particulars of the dead interred therein , must be exchanged . xxmaj the xxmaj international xxmaj committee of the xxmaj red xxmaj cross ( xxup icrc ) , with the assistance of its xxmaj central xxmaj tracing xxmaj agency , has long experience in searching for soldiers and combatants who go missing during military operations ( “ missing in action ” ) and for civilians who are reported missing as a consequence of armed conflict . \n",
       "  xxunk disappearance \n",
       "  33.this is a much narrower concept . a recent definition of “ enforced disappearance ” is set out in xxmaj article 2 of the xxmaj international xxmaj convention for the xxmaj protection of xxmaj all xxmaj persons from xxmaj enforced xxmaj disappearance of 20 xxmaj december 2006 : \n",
       "  “ xxmaj for the purposes of this xxmaj convention , ‘ enforced xxunk is considered to be the arrest , detention , abduction or any other form of deprivation of liberty by agents of the xxmaj state or by persons or groups of persons acting with the authorisation , support or acquiescence of the xxmaj state , followed by a refusal to acknowledge the deprivation of liberty or by concealment of the fate or whereabouts of the disappeared person , which place such a person outside the protection of the law . ” \n",
       "  34.the widespread or systematic practice of enforced disappearance is described as a crime against humanity in xxmaj article 7 of the xxmaj rome xxmaj statute of the xxmaj international xxmaj criminal xxmaj court of 17 xxmaj july 1998 . \n",
       "  xxunk assistance between xxmaj bosnia and xxmaj herzegovina and xxmaj serbia \n",
       "  35.the xxmaj agreement between xxmaj bosnia and xxmaj herzegovina and xxmaj serbia on xxmaj mutual xxmaj assistance in xxmaj civil and xxmaj criminal xxmaj matters ( published in xxmaj official xxmaj gazette of xxmaj bosnia and xxmaj herzegovina , xxmaj international xxmaj treaty xxmaj series , no . 11 / 05 of 8 xxmaj december 2005 , amendments published in xxmaj official xxmaj gazette no . 8 / 10 of 29 xxmaj july 2010 ) entered into force on 9 xxmaj february 2006 . xxmaj under xxmaj article 39 thereof , when a citizen or resident of one xxmaj contracting xxmaj state is suspected of having committed an offence in the territory of the other xxmaj contracting xxmaj state , the latter may request the former to take proceedings in the case . xxmaj while such a request is pending , the requesting xxmaj state may not prosecute the suspected person for the same offence . xxmaj moreover , a person in respect of whom a final criminal judgment has been rendered in the requested xxmaj state may not be prosecuted for the same offence in the requesting xxmaj state if he or she has been acquitted or if the sanction imposed has been enforced or the subject of a pardon or amnesty ( xxmaj article 41 of the xxmaj agreement ) . xxmaj lastly , when one xxmaj state intends to request the transfer of proceedings , it may also request the other xxmaj state to provisionally arrest the suspected person ( xxmaj article 40a of the xxmaj agreement ) . \n",
       "  b.relevant domestic law \n",
       "  xxunk and xxmaj herzegovina \n",
       "  ( a)criminal legislation \n",
       "  36.the 2003 xxmaj criminal xxmaj code ( published in xxmaj official xxmaj gazette of xxmaj bosnia and xxmaj herzegovina nos . 3 / 03 of 10 xxmaj february 2003 and 37 / 03 of 22 xxmaj november 2003 , amendments published in xxmaj official xxmaj gazette nos . 32 / 03 of 28 xxmaj october 2003 , 54 / 04 of 8 xxmaj december 2004 , 61 / 04 of 29december 2004 , 30 / 05 of \n",
       " 17 xxmaj may 2005 , 53 / 06 of 13 xxmaj july 2006 , 55 / 06 of 18 xxmaj july 2006 , 32 / 07 of \n",
       " 30 xxmaj april 2007 and 8 / 10 of 2 xxmaj february 2010 ) entered into force on 1 xxmaj march 2003 . \n",
       "  xxmaj the relevant part of xxmaj article 172 of the xxmaj code provides as follows : \n",
       "  “ 1.whoever , as part of a widespread or systematic attack directed against any civilian population , with knowledge of such an attack perpetrates any of the following acts : \n",
       "  ... \n",
       "  xxunk disappearance of persons ; \n",
       "  ... \n",
       "  shall be punished by imprisonment for a term not less than ten years or long - term imprisonment . \n",
       "  2.for the purpose of paragraph 1 of this xxmaj article the following terms shall have the following meanings : \n",
       "  ... \n",
       "  xxunk disappearance of persons means the arrest , detention or abduction of persons by , or with the authorisation , support or acquiescence of , a xxmaj state or a political organisation , followed by a refusal to acknowledge that deprivation of freedom or to give information on the fate or whereabouts of those persons , with an aim of removing them from the protection of the law for a prolonged period of time . \n",
       "  ... ” \n",
       "  xxmaj furthermore , in accordance with xxmaj article 239 of the xxmaj code , non - enforcement of a decision of the xxmaj human xxmaj rights xxmaj chamber is an offence : \n",
       "  “ xxmaj an official of the xxmaj state , the xxmaj entities or the xxmaj brčko xxmaj district who refuses to enforce a final and enforceable decision of the xxmaj constitutional xxmaj court of xxmaj bosnia and xxmaj herzegovina , the xxmaj court of xxmaj bosnia and xxmaj herzegovina , the xxmaj human xxmaj rights xxmaj chamber or the xxmaj european xxmaj court of xxmaj human xxmaj rights , or who prevents the enforcement of any such decision , or who xxunk the enforcement of any such decision in some other way , shall be punished by imprisonment for a term between six months and five years . ” \n",
       "  37.the 2003 xxmaj code of xxmaj criminal xxmaj procedure ( published in xxmaj official xxmaj gazette of xxmaj bosnia and xxmaj herzegovina nos . 3 / 03 of 10 xxmaj february 2003 and 36 / 03 of \n",
       " 21 xxmaj november 2003 , amendments published in xxmaj official xxmaj gazette nos . 32 / 03 of 28 xxmaj october 2003 , 26 / 04 of 7 xxmaj june 2004 , 63 / 04 of 31 xxmaj december 2004 , 13 / 05 of 9 xxmaj march 2005 , 48 / 05 of 19 xxmaj july 2005 , 46 / 06 of 19 xxmaj june 2006 , 76 / 06 of \n",
       " 25 xxmaj september 2006 , 29 / 07 of 17 xxmaj april 2007 , 32 / 07 of 30 xxmaj april 2007 , 53 / 07 of 16 xxmaj july 2007 , 76 / 07 of 15 xxmaj october 2007 , 15 / 08 of 25 xxmaj february 2008 , 58 / 08 of 21 xxmaj july 2008 , 12 / 09 of 10 xxmaj february 2009 , 16 / 09 of 24 xxmaj february 2009 and 93 / 09 of 1 xxmaj december 2009 ) entered into force on 1 xxmaj march 2003 . \n",
       "  xxmaj article 247 of the xxmaj code reads as follows : \n",
       "  “ xxmaj an accused may never be tried in absentia . ” \n",
       "  ( b)war xxmaj crimes xxmaj sections within the xxmaj court of xxmaj bosnia and xxmaj herzegovina \n",
       "  xxunk xxmaj crimes xxmaj sections of the xxmaj criminal and xxmaj appellate xxmaj divisions of the xxmaj court of xxmaj bosnia and xxmaj herzegovina have been set up pursuant to the xxmaj court of xxmaj bosnia and xxmaj herzegovina xxmaj act 2000 ( a consolidated version thereof published in xxmaj official xxmaj gazette of xxmaj bosnia and xxmaj herzegovina no . 49 / 09 of 22 xxmaj june 2009 , amendments published in xxmaj official xxmaj gazette nos . 74 / 09 of 21 xxmaj september 2009 and 97 / 09 of 15 xxmaj december 2009 ) . \n",
       "  ( xxunk of presumed death \n",
       "  39.any person or body demonstrating a legitimate interest may lodge a request for a declaration of presumed death with respect to those who went missing during the 1992 - 95 war as from the expiry of the waiting period , which is one year from the cessation of the hostilities ( the xxmaj non - xxmaj contentious xxmaj procedure xxmaj act 1989 , published in xxmaj official xxmaj gazette of the xxmaj socialist xxmaj republic of xxmaj bosnia and xxmaj herzegovina no . 10 / 89 of 23 xxmaj march 1989 , which was in force in the xxmaj federation of xxmaj bosnia and xxmaj herzegovina until 28 xxmaj january 1998 and in the xxmaj republika xxmaj srpska until 15 xxmaj may 2009 ; the xxmaj non - xxmaj contentious xxmaj procedure xxmaj act 1998 , published in xxmaj official xxmaj gazette of the xxmaj federation of xxmaj bosnia and xxmaj herzegovina no . 2 / 98 of 20 xxmaj january 1998 , amendments published in xxmaj official xxmaj gazette nos . 39 / 04 of 24 xxmaj july 2004 and 73 / 05 of 28 xxmaj december 2005 ; and the xxmaj non - xxmaj contentious xxmaj procedure xxmaj act 2009 , published in xxmaj official xxmaj gazette of the xxmaj republika xxmaj srpska no . 36 / 09 of 7 xxmaj may 2009 ) . \n",
       "  xxmaj pursuant to section 27(1 ) of the xxmaj missing xxmaj persons xxmaj act 2004 , a declaration of presumed death will automatically be issued with respect to all those recorded as missing in the xxmaj central xxmaj records ( see paragraph 40 below ) . \n",
       "  ( xxunk xxmaj persons xxmaj act 2004 \n",
       "  40.the xxmaj missing xxmaj persons xxmaj act 2004 ( published in xxmaj official xxmaj gazette of xxmaj bosnia and xxmaj herzegovina no . 50 / 04 of 9 xxmaj november 2004 ) entered into force on 17 xxmaj november 2004 . xxmaj it provides , in so far as relevant , as follows : \n",
       "  xxmaj article 3 ( xxmaj the right to know ) \n",
       "  “ xxmaj families of missing persons have the right to know the fate of their missing family members and relatives , their place of ( temporary ) residence , or if dead , the circumstances and cause of death and location of burial , if such location is known , and to receive the mortal remains . ” \n",
       "  xxmaj article 9 ( xxmaj termination of status ) \n",
       "  “ xxmaj the status of missing person is terminated on the date of identification , and the process of tracing the missing person is concluded . \n",
       "  xxmaj in the event that a missing person is proclaimed dead , but the mortal remains have not been found , the process of tracing shall not be terminated . ” \n",
       "  xxmaj the xxmaj missing xxmaj persons xxmaj institute and , within that xxmaj institute , the xxmaj central xxmaj records have been set up as domestic institutions pursuant to that xxmaj act . xxmaj the xxmaj missing xxmaj persons xxmaj fund , although envisaged , has not yet been set up . \n",
       "  xxunk \n",
       "  ( a)war xxmaj crimes xxmaj act 2003 \n",
       "  41.the xxmaj war xxmaj crimes xxmaj act 2003 ( published in xxmaj official xxmaj gazette of the xxmaj republic of xxmaj serbia no . 67 / 03 , amendments published in xxmaj official xxmaj gazette nos . 135 / 04 , 61 / 05 , 101 / 07 and 104 / 09 ) entered into force on 9 xxmaj july 2003 . xxmaj the xxmaj war xxmaj crimes xxmaj prosecutor , the xxmaj war xxmaj crimes xxmaj police xxmaj unit and the xxmaj war xxmaj crimes xxmaj sections within the xxmaj belgrade xxmaj higher xxmaj court and the xxmaj belgrade xxmaj court of xxmaj appeal have been set up pursuant to this xxmaj act . xxmaj they have jurisdiction over serious violations of international humanitarian law committed anywhere in the former xxmaj yugoslavia ( see section 3 of this xxmaj act ) . a number of persons have been convicted in xxmaj serbia for war crimes committed during the 1992 - 95 war in xxmaj bosnia and xxmaj herzegovina . xxmaj as an example , at the request of xxmaj bosnia and xxmaj herzegovina , the xxmaj serbian authorities have taken proceedings and convicted xxmaj mr xxmaj nenad xxmaj xxunk of war crimes committed against xxmaj bosniacs in xxmaj xxunk xxmaj xxunk in 1992 and sentenced him to 13 years’ imprisonment . xxmaj as another example , they have recently convicted xxmaj mr xxmaj xxunk xxmaj medić , xxmaj mr xxmaj xxunk xxmaj medić , xxmaj mr xxmaj xxunk xxmaj xxunk and xxmaj mr xxmaj aleksandar xxmaj medić of war crimes committed against xxmaj bosniacs in xxmaj xxunk in 1995 and sentenced them to 20 , 15 , 13 and 5 years’ imprisonment respectively . \n",
       "  ( xxunk xxmaj assistance in xxmaj criminal xxmaj matters xxmaj act 2009 \n",
       "  42.the xxmaj mutual xxmaj assistance in xxmaj criminal xxmaj matters xxmaj act 2009 ( published in xxmaj official xxmaj gazette of the xxmaj republic of xxmaj serbia no . 20 / 09 ) entered into force on 27 xxmaj march 2009 . xxmaj under section 16 of this xxmaj act , xxmaj serbian citizens may not be extradited . xxmaj this xxmaj act repealed the corresponding provision of the xxmaj code of xxmaj criminal xxmaj procedure 2001 ( published in xxmaj official xxmaj gazette of the xxmaj federal xxmaj republic of xxmaj yugoslavia no . 70 / 01 , amendments published in xxmaj official xxmaj gazette of the xxmaj federal xxmaj republic of xxmaj yugoslavia no . 68 / 02 and xxmaj official xxmaj gazette of the xxmaj republic of xxmaj serbia nos . 58 / 04 , 85 / 05 , 115 / 05 , 49 / 07 , 20 / 09 and 72 / 09 ) which was in force between 28 xxmaj march 2002 and 27 xxmaj march 2009 . \n",
       " ,xxbos xxup procedure \n",
       "  1.the case originated in an application ( no . xxunk / 02 ) against the xxmaj italian xxmaj republic lodged with the xxmaj court under xxmaj article 34 of the xxmaj convention for the xxmaj protection of xxmaj human xxmaj rights and xxmaj fundamental xxmaj freedoms ( “ the xxmaj convention ” ) by three xxmaj italian nationals , xxmaj mr xxmaj giuliano xxmaj giuliani , xxmaj ms xxmaj adelaide xxmaj gaggio ( married name xxmaj giuliani ) and xxmaj ms xxmaj elena xxmaj giuliani ( “ the applicants ” ) , on 18 xxmaj june 2002 . \n",
       "  2.the applicants were represented by xxmaj mr xxup n. xxmaj paoletti and xxmaj mr xxup g. xxmaj xxunk , lawyers practising in xxmaj rome . xxmaj the xxmaj italian xxmaj government ( “ the xxmaj government ” ) were represented by their xxmaj agent , xxmaj mrs xxup e. xxmaj spatafora , and by their co - xxmaj agent , xxmaj mr xxup n. xxmaj lettieri . \n",
       "  3.the applicants complained of the death of their son and brother , carlogiuliani , which they considered to have been caused by excessive use of force . xxmaj they further alleged that the respondent xxmaj state had not taken the necessary legislative , administrative and regulatory measures to reduce as far as possible the adverse consequences of the use of force , that the organisation and planning of the policing operations had not been compatible with the obligation to protect life and that the investigation into the circumstances of their relative 's death had not been effective . \n",
       "  4.the application was allocated to the xxmaj fourth xxmaj section of the xxmaj court ( xxmaj rule52 1 of the xxmaj rules of xxmaj court ) . xxmaj on 6 xxmaj february 2007 , following a hearing on admissibility and the merits ( xxmaj rule 54 3 ) , it was declared admissible by a xxmaj chamber of that xxmaj section composed of the following judges : xxmaj sir xxmaj nicolas xxmaj bratza , xxmaj josep xxmaj casadevall , xxmaj giovanni xxmaj bonello , xxmaj kristaq xxmaj traja , xxmaj vladimiro xxmaj zagrebelsky , xxmaj stanislav xxmaj pavlovschi and xxmaj lech xxmaj garlicki , and also of xxmaj lawrence xxmaj early , xxmaj section xxmaj registrar . \n",
       "  5.on 25 xxmaj august 2009 a xxmaj chamber of that xxmaj section , composed of the following judges : xxmaj sir xxmaj nicolas xxmaj bratza , xxmaj josep xxmaj casadevall , xxmaj lech xxmaj garlicki , xxmaj giovanni xxmaj bonello , xxmaj vladimiro xxmaj zagrebelsky , xxmaj ljiljana xxmaj mijović and xxmaj jn xxmaj šikuta , and also of xxmaj lawrence xxmaj early , xxmaj section xxmaj registrar , delivered a judgment in which it held as follows : unanimously , that there had been no violation of xxmaj article 2 of the xxmaj convention in its substantive aspect with regard to the excessive use of force ; by five votes to two , that there had been no violation of xxmaj article 2 of the xxmaj convention in its substantive aspect with regard to the positive obligation to protect life ; by four votes to three , that there had been a violation of xxmaj article 2 of the xxmaj convention in its procedural aspect ; unanimously , that it was not necessary to examine the case under xxmaj articles 3 , 6 and 13 of the xxmaj convention ; and unanimously , that there had been no violation of xxmaj article 38 of the xxmaj convention . xxmaj it also awarded , in respect of nonpecuniary damage , 15,000 euros ( xxup eur ) each to the applicants xxunk and xxmaj adelaide xxmaj gaggio and xxup eur 10,000 to the applicant xxmaj elena xxmaj giuliani . \n",
       "  6.on 24 xxmaj november 2009 the xxmaj government and the applicants requested , in accordance with xxmaj article 43 of the xxmaj convention and xxmaj rule 73 of the xxmaj rules of xxmaj court , that the case be referred to the xxmaj grand xxmaj chamber . xxmaj on 1 xxmaj march 2010 a panel of the xxmaj grand xxmaj chamber granted the requests . \n",
       "  7.the composition of the xxmaj grand xxmaj chamber was determined according to the provisions of xxmaj article 26 4 and 5 of the xxmaj convention and xxmaj rule 24 of the xxmaj rules of xxmaj court . \n",
       "  8.the applicants and the xxmaj government each filed further written observations ( xxmaj rule 59 1 ) . \n",
       "  9.on 27 xxmaj september 2010 the judges and substitute judges appointed to sit in the present case viewed the xxup cd - roms submitted by the parties on 28june and 9 xxmaj july 2010 ( see paragraph 139 below ) . \n",
       "  xxup 10.a hearing took place in public in the xxmaj human xxmaj rights xxmaj building , xxmaj strasbourg , on 29 xxmaj september 2010 ( xxmaj rule 59 3 ) . \n",
       "  xxmaj there appeared before the xxmaj court : \n",
       "  ( a)for the xxmaj government \n",
       " xxmaj mr \t xxup n. xxmaj lettieri , \t xxmaj co - xxmaj agent , \n",
       " xxmaj ms \t xxup p. xxmaj accardo , \t xxmaj co - xxmaj agent , \n",
       " xxmaj mr \t xxup g. xxmaj xxunk , \t xxmaj avvocato dello xxmaj stato ; \n",
       "  ( b)for the applicants \n",
       " xxmaj mr \t xxup n. xxmaj paoletti , \n",
       " xxmaj ms \t xxup g. xxmaj paoletti , \n",
       " xxmaj ms \t xxup n. xxmaj paoletti , \t xxmaj counsel , \n",
       " xxmaj ms \t xxup c. xxmaj sartori , \t xxmaj assistant . \n",
       " \n",
       "  xxmaj the xxmaj court heard addresses by them . \n",
       "  xxup the xxup facts \n",
       "  xxup i.the xxup circumstances xxup of xxup the xxup case \n",
       "  11.the applicants were born in 1938 , 1944 and 1972 respectively and live in xxmaj genoa and xxmaj milan . xxmaj they are the father , mother and sister of xxmaj carlo xxmaj giuliani , who was shot and killed during the demonstrations on the xxunk of the xxup g8 summit in xxmaj genoa in xxmaj july 2001 . \n",
       "  a.the background to the xxup g8 summit in xxmaj genoa and the events preceding the death of xxmaj carlo xxmaj giuliani \n",
       "  12.on 19 , 20 and 21 xxmaj july 2001 the xxup g8 summit was held in xxmaj genoa . xxmaj numerous “ anti - globalisation ” demonstrations were staged in the city and substantial security measures were put in place by the xxmaj italian authorities . xxmaj under section 4(1 ) of xxmaj law no . 149 of 8 xxmaj june 2000 , the prefect of xxmaj genoa was authorised to deploy military personnel to ensure public safety in connection with the summit . xxmaj in addition , the part of the city where the xxup g8 were meeting ( the historic centre ) was designated as a “ red zone ” and cordoned off by means of a metal fence . xxmaj as a result , only residents and persons working in the area were allowed access . xxmaj access to the port was prohibited and the airport was closed to traffic . xxmaj the red zone was contained within a yellow zone , which in turn was surrounded by a white ( normal ) zone . \n",
       "  13.the service instructions of 19 xxmaj july 2001 were issued by the officer in command of the law - enforcement agencies the day before xxmaj carlo xxmaj giuliani 's death . xxmaj they sum up the priorities of the law - enforcement agencies as follows : establishing a line of defence within the red zone , with the task of repelling rapidly any attempt to break through ; establishing a line of defence within the yellow zone to deal with any incidents , taking account of the position of the demonstrators in various locations and of actions perpetrated by more extremist elements ; putting in place public - order measures on the streets concerned by the demonstrations , bearing in mind the risk of violence encouraged by the presence of crowds of people . \n",
       "  14.the parties agreed as to the fact that the service instructions of 19july 2001 amended the plans hitherto established regarding the deployment of the available means and resources , in order to enable the law - enforcement agencies to counter effectively any attempt to enter the red zone by participants in the demonstration of the xxmaj tute xxmaj bianche ( “ xxmaj white overalls ” ) which had been announced and authorised for the following day . \n",
       "  15.the applicants maintained that the service instructions of 19 xxmaj july had given a detachment of carabinieri implicated in the death of xxmaj carlo xxmaj giuliani a dynamic role , whereas it had previously been supposed to remain in one location . xxmaj the xxmaj government stated that the service instructions had been communicated orally to the officers on the ground . \n",
       "  xxup 16.a radio communications system had been put in place , with an operations control room located in the xxmaj genoa police headquarters ( questura ) , which was in radio contact with the officers on the ground . xxmaj the carabinieri and police officers could not communicate directly amongst themselves by radio ; they could only contact the control room . \n",
       "  17.on the morning of 20 xxmaj july some groups of particularly aggressive demonstrators , wearing balaclavas and masks ( the “ xxmaj black xxmaj bloc ” ) sparked numerous incidents and clashes with law - enforcement officers . xxmaj the xxmaj tute xxmaj bianche march was due to set off from the xxmaj carlini stadium . xxmaj this was a demonstration involving several organisations : representatives of the “ xxmaj no xxmaj global ” movement and of community centres , and young communists from the xxmaj xxunk comunista party . xxmaj while they believed in non - violent protest ( civil disobedience ) , they had announced a strategic objective , namely to try to penetrate the red zone . xxmaj on 19 xxmaj july 2001 the head of the xxmaj genoa police authority ( questore ) had prohibited the xxmaj tute xxmaj bianche march from entering the red zone or the zone adjacent to it , and had deployed lawenforcement officers to halt the march at xxmaj piazza xxmaj verdi . xxmaj consequently , the demonstrators were able to march from the xxmaj carlini stadium and all the way along xxmaj via xxmaj tolemaide to xxmaj piazza xxmaj verdi , that is to say , well beyond the junction of xxmaj via xxmaj tolemaide and xxmaj corso xxmaj torino where clashes occurred , as detailed below . \n",
       "  18.at around 1.30 p.m. the march set off and headed slowly xxunk . xxmaj around xxmaj via xxmaj tolemaide there were signs of earlier disturbances . xxmaj the march was headed by a contact group made up of politicians and a group of journalists carrying video recorders and cameras . xxmaj the marchers slowed down and made a number of stops . xxmaj in the vicinity of xxmaj via xxmaj tolemaide there were incidents involving persons wearing masks and balaclavas and lawenforcement officers . xxmaj the march reached the railway tunnel at the junction with xxmaj corso xxmaj torino . xxmaj suddenly , tear gas was fired on the demonstrators by carabinieri under the command of xxmaj mr xxmaj mondelli . xxmaj the carabinieri charged forward , making use of their batons . xxmaj the march was pushed back xxunk as far as the junction with xxmaj via xxmaj invrea . \n",
       "  19.the demonstrators split up : some headed towards the xxunk , while others sought refuge in xxmaj via xxmaj invrea and then in the area around xxmaj piazza xxmaj alimonda . xxmaj some demonstrators responded to the attack by throwing hard objects such as glass bottles or rubbish bins at the law - enforcement officers . xxmaj armoured vehicles belonging to the carabinieri drove up xxmaj via xxmaj xxunk and xxmaj via xxmaj invrea at high speed , knocking down the barriers erected by the demonstrators and forcing the demonstrators at the scene to leave . xxmaj at xxunk . the control room ordered xxmaj mr xxmaj mondelli to move away and allow the marchers to pass . \n",
       "  20.some of the demonstrators retaliated with violence and clashes took place with the law - enforcement agencies . xxmaj at around 3.40 p.m. a group of demonstrators attacked an armoured carabinieri van and set it alight . \n",
       "  b.the death of xxmaj carlo xxmaj giuliani \n",
       "  21.at approximately 5 p.m. the presence of a group of demonstrators who appeared very aggressive was observed by the xxmaj sicilia battalion , consisting of around fifty carabinieri stationed close to xxmaj piazza xxmaj alimonda . xxmaj two xxmaj defender jeeps were parked nearby . xxmaj police officer xxmaj lauro ordered the carabinieri to charge the demonstrators . xxmaj the carabinieri charged on foot , followed by the two jeeps . xxmaj the demonstrators succeeded in pushing back the charge , and the carabinieri were forced to withdraw in disorderly fashion near xxmaj piazza xxmaj alimonda . xxmaj pictures taken from a helicopter at 5.23 p.m. show the demonstrators running along xxmaj via xxmaj caffa in pursuit of the lawenforcement officers . \n",
       "  22.in view of the withdrawal of the carabinieri the jeeps attempted to reverse away from the scene . xxmaj one succeeded in moving off while the other found its exit blocked by an overturned refuse container . xxmaj suddenly , several demonstrators wielding stones , sticks and iron bars surrounded it . xxmaj the two side windows at the rear and the rear window of the jeep were smashed . xxmaj the demonstrators shouted insults and threats at the jeep 's occupants and threw stones and a fire extinguisher at the vehicle . \n",
       "  23.there were three carabinieri on board the jeep : xxmaj filippo xxmaj xxunk ( “ xxup f.c. ” ) , who was driving , xxmaj mario xxmaj xxunk ( “ xxup m.p. ” ) and xxmaj xxunk xxmaj xxunk ( “ xxup d.r. ” ) . xxup m.p. , who was suffering from the effects of the tear - gas grenades he had thrown during the day , had been given permission by xxmaj captain xxmaj cappello , commander of a company of carabinieri , to get into the jeep in order to get away from the scene of the clashes . xxmaj crouched down in the back of the jeep , injured and panicking , he was protecting himself on one side with a riot shield ( according to the statement of a demonstrator named xxmaj predonzani ) . xxmaj shouting at the demonstrators to leave “ or he would kill them ” , xxup m.p. drew his xxmaj beretta 9 mm pistol , pointed it in the direction of the smashed rear window of the vehicle and , after some tens of seconds , fired two shots . \n",
       "  24.one of the shots struck xxmaj carlo xxmaj giuliani , a balaclava - clad demonstrator , in the face under the left eye . xxmaj he had been close to the rear of the jeep and had just picked an empty fire extinguisher off the ground and raised it up . xxmaj he fell to the ground near the left - side rear wheel of the vehicle . \n",
       "  25.shortly afterwards , xxup f.c. managed to restart the engine and in an attempt to move off , reversed , driving over xxmaj carlo xxmaj giuliani 's body in the process . xxmaj he then engaged first gear and drove over the body a second time as he left the scene . xxmaj the jeep then drove towards xxmaj piazza xxmaj tommaseo . \n",
       "  26.after “ a few metres ” , carabinieri sergeant - major xxmaj amatori got into the jeep and took over at the wheel , “ as the driver was in a state of shock ” . xxmaj another carabiniere named xxmaj rando also got in . \n",
       "  27.police forces stationed on the other side of xxmaj piazza xxmaj alimonda intervened and dispersed the demonstrators . xxmaj they were joined by some carabinieri . xxmaj at 5.27 p.m. a police officer present at the scene called the control room to request an ambulance . a doctor who arrived at the scene subsequently pronounced xxmaj carlo xxmaj giuliani dead . \n",
       "  28.according to the xxmaj ministry of the xxmaj interior ( ministero xxunk ) , it was impossible to indicate the exact number of carabinieri and police officers at the scene at the moment of xxmaj carlo xxmaj giuliani 's death ; there had been approximately fifty carabinieri , some 150 metres from the jeep . xxmaj in addition , 200 metres away , near xxmaj piazza xxmaj tommaseo , there had been a group of police officers . \n",
       "  29.relying , inter alia , on witness evidence given by law - enforcement officers during a parallel set of proceedings ( the “ trial of the twenty - five ” , see paragraphs 121 - 138 below ) , the applicants stated in particular that , while on xxmaj piazza xxmaj alimonda , the carabinieri had been able to take off their gas masks , eat and rest . xxmaj with the situation “ calm ” , xxmaj captain xxmaj cappello had ordered xxup m.p. and xxup d.r. to board one of the two jeeps . xxmaj he considered the two carabinieri to be mentally exhausted ( “ a terra ” ) and no longer physically fit for duty . xxmaj cappello also considered that xxup m.p. should stop firing tear gas and took away his tear - gas gun and the xxunk containing the tear - gas grenades . \n",
       "  xxunk to the photographs taken shortly before the fatal shot , the applicants stressed that the weapon had been held at a downward angle from the horizontal . xxmaj they also referred to the statements made by lieutenantcolonel xxmaj truglio ( see paragraph 43 below ) , who said that he had been ten metres or so from xxmaj piazza xxmaj alimonda and thirty to forty metres away from the jeep . xxmaj the carabinieri ( around a hundred of them ) had been some tens of metres from the jeep . xxmaj the police officers had been at the end of xxmaj via xxmaj caffa , towards xxmaj piazza xxmaj tommaseo . xxmaj the applicants submitted that the photographs in the investigation file clearly showed some carabinieri not far from the jeep . \n",
       "  c.the investigation by the domestic authorities \n",
       "  1.the first steps in the investigation \n",
       "  xxup 31.a spent cartridge was found a few metres from xxmaj carlo xxmaj giuliani 's body . xxmaj no bullet was found . a fire extinguisher and a bloodstained stone , among other objects , were found beside the body and were seized by the police . xxmaj it emerges from the file that the public prosecutor 's office entrusted thirty - six investigative measures to the police . xxmaj the jeep in which xxup m.p. had been travelling , and also the weapon and equipment belonging to him , remained in the hands of the carabinieri and were subsequently seized under a court order . a spent cartridge was found inside the jeep . \n",
       "  32.during the night of 20 xxmaj july 2001 the xxmaj genoa mobile police unit heard evidence from two police officers , xxmaj mr xxmaj martino and xxmaj mr xxmaj xxunk . xxmaj on 21 xxmaj july xxmaj captain xxmaj cappello , who was in charge of the xxup echo company , recounted the events of the previous day and gave the names of the carabinieri who had been in the jeep . xxmaj he said that he had heard no shots , probably because of his radio xxunk , his helmet and his gas mask , which reduced his hearing . \n",
       "  xxunk under investigation of xxup m.p. and xxup f.c. \n",
       "  33.on the night of 20 xxmaj july 2001 xxup m.p. and xxup f.c. were identified and examined by the xxmaj genoa public prosecutor 's office on suspicion of intentional homicide . xxmaj the interviews took place at the headquarters of the xxmaj genoa carabinieri . \n",
       "  ( xxunk 's first statement \n",
       "  xxup xxunk was an auxiliary carabiniere assigned to xxmaj battalion no . 12 ( xxmaj sicilia ) , and one of the members of the xxup echo company constituted for the purpose of the xxup g8 summit . xxmaj together with four other companies from different regions of xxmaj italy , the company formed part of the xxup xxunk , under the orders of xxmaj lieutenant - xxmaj colonel xxmaj truglio . xxmaj the xxup echo company was under the orders of xxmaj captain xxmaj cappello and his deputies xxmaj xxunk and xxmaj zappia , and was directed and coordinated by xxmaj mr xxmaj lauro , a senior officer ( vice questore ) of the xxmaj rome police . xxmaj each of the five companies was divided into four detachments of fifty men . xxmaj the overall commander of the companies was xxmaj colonel xxmaj xxunk . \n",
       "  xxup xxunk , who was born on 13 xxmaj august 1980 and began serving as a carabiniere on 16 xxmaj september 2000 , was twenty years and eleven months old at the material time . xxmaj he was trained in the use of grenades and had been deployed to fire tear gas . xxmaj he stated that during the public - order operations he had been supposed to move around on foot with his detachment . xxmaj having fired several tear - gas grenades , he had felt a burning in his eyes and face and had asked xxmaj captain xxmaj cappello for permission to board a jeep . xxmaj shortly afterwards another carabiniere ( xxup d.r. ) , who was injured , had joined him . \n",
       "  xxup xxunk said that he had been very frightened because of everything he had seen being thrown that day , and was particularly afraid that the demonstrators would throw xxmaj molotov cocktails . xxmaj he explained that he had grown more afraid after being injured in the leg by a metal object and in the head by a stone . xxmaj he had become aware that the jeep was under attack because of the stones being thrown and had thought that “ hundreds of demonstrators were surrounding the jeep ” , although he added that “ at the time [ he ] fired the shots , no one was in sight ” . xxmaj he said he had been “ xxunk ” . xxmaj at some point he realised that his hand was gripping his pistol ; he thrust the hand carrying the weapon through the jeep 's rear window and , after about a minute , fired two shots . xxmaj he maintained that he had not noticed xxmaj carlo xxmaj giuliani behind the jeep either before or after firing . \n",
       "  ( xxunk 's statement \n",
       "  xxup xxunk , the jeep 's driver , was born on 3 xxmaj september 1977 and had been serving as a carabiniere for twenty - two months . xxmaj at the material time he was twenty - three years and ten months old . xxmaj he stated that he had been in an alleyway near xxmaj piazza xxmaj alimonda and had attempted to reverse towards the square because the detachment was being pushed back by the demonstrators . xxmaj however , he had found his path blocked by a refuse container and his engine had stalled . xxmaj he had concentrated on trying to move the jeep out while his colleagues inside the vehicle were shouting . xxmaj as a result , he had not heard the shots . xxmaj lastly , he stated : “ i did not notice anyone on the ground because i was wearing a mask , which partly blocked my view ... and also because it is hard to see properly out the side of the vehicle . i reversed and felt no resistance ; actually , i felt the left wheel xxunk and thought it must be a pile of rubbish , since the refuse container had been overturned . xxmaj the only thought in my head was how to get out of that mess . ” \n",
       "  ( xxunk 's statement \n",
       "  xxup xxunk , who was born on 25 xxmaj january 1982 , had been performing military service since 16 xxmaj march 2001 . xxmaj at the material time he was nineteen years and six months old . xxmaj he stated that he had been struck in the face and back by stones thrown by demonstrators and had started to bleed . xxmaj he had tried to protect himself by covering his face , and xxup m.p. for his part had tried to shield him with his body . xxmaj at that point , he could no longer see anything , but he could hear the shouting and the sound of blows and objects entering the jeep . xxmaj he heard xxup m.p. shouting at their attackers to stop and leave , and then heard two shots . \n",
       "  ( xxunk 's second statement \n",
       "  39.on 11 xxmaj september 2001 xxup m.p. , during questioning by the public prosecutor , confirmed his statement of 20 xxmaj july 2001 , adding that he had shouted to the demonstrators : “ xxmaj leave or i 'll kill you ! ” . \n",
       "  3.other statements taken during the investigation \n",
       "  ( a)statements by other carabinieri \n",
       "  xxunk - xxmaj major xxmaj amatori , who was in the other jeep on xxmaj piazza xxmaj alimonda , said that he had noticed that the jeep in which xxup m.p. was travelling had its path blocked by a refuse container and was surrounded by a large number of demonstrators , “ certainly more than twenty ” . xxmaj the latter were throwing objects at the jeep . xxmaj in particular , he saw one demonstrator throw a fire extinguisher at the rear window . xxmaj he heard shots and saw xxmaj carlo xxmaj giuliani fall down . xxmaj the jeep then drove twice over xxmaj carlo xxmaj giuliani 's body . xxmaj once the jeep had succeeded in leaving xxmaj piazza xxmaj alimonda , he went over to it and saw that the driver had got out and , visibly shaken , was asking for help . xxmaj the sergeant - major took over the driving seat and , noticing that xxup m.p. had a pistol in his hand , ordered him to replace the safety catch . xxmaj he immediately thought that this was the weapon that had just fired the shots , but said nothing to xxup m.p. , who was injured and whose head was bleeding . xxmaj the driver told him that he had heard shots while he was manoeuvring the jeep . xxmaj the sergeant - major was not given any explanation as to the circumstances surrounding the decision to shoot and did not ask any questions on the subject . \n",
       "  xxunk xxmaj rando had gone over to the jeep on foot . xxmaj he said that he had seen that the pistol was drawn and asked xxup m.p. if he had fired . xxup m.p. said that he had , without specifying whether he had fired into the air or in the direction of a particular demonstrator . xxup m.p. kept saying : “ xxmaj they wanted to kill me , i do n't want to die ” . \n",
       "  42.on 11 xxmaj september 2001 the public prosecutor heard evidence from xxmaj captain xxmaj cappello , commander of the xxup echo company ( see paragraph 34 above ) . xxmaj captain xxmaj cappello stated that he had given xxup m.p. permission to board the jeep and had taken his tear - gas gun as xxup m.p. was experiencing difficulties . xxmaj he stated subsequently ( at the “ trial of the twenty five ” , hearing of 20 xxmaj september 2005 ) that xxup m.p. had been physically unfit to continue on account of his mental state and nervous tension . xxmaj captain xxmaj cappello had then moved with his men – about fifty in number – towards the corner of xxmaj piazza xxmaj alimonda and xxmaj via xxmaj caffa . xxmaj he was requested by police officer xxmaj lauro to proceed up xxmaj via xxmaj caffa in the direction of xxmaj via xxmaj tolemaide to assist the men engaged there in trying to push back the demonstrators . xxmaj he said he had been puzzled by the request , given the number of men with him and their state of tiredness , but had nevertheless stationed them on xxmaj via xxmaj caffa . xxmaj the carabinieri were forced back by the demonstrators coming from xxmaj via xxmaj tolemaide ; they initially withdrew in an orderly manner , and then in disorderly fashion . xxunk did not realise that , when the carabinieri withdrew , they were being followed by the two jeeps , as there was no “ operational reason ” for the vehicles to be there . xxmaj the demonstrators dispersed only when the mobile police units stationed on the other side of xxmaj piazza xxmaj alimonda intervened . xxmaj only then did he observe a man wearing a balaclava lying on the ground , apparently seriously injured . xxmaj some of his men were wearing helmets equipped with video cameras which should make it possible to shed light on the sequence of events ; the video recordings were handed over to xxunk . \n",
       "  xxunk - xxmaj colonel xxmaj truglio , xxmaj captain xxmaj cappello 's superior officer , stated that he had stopped around ten metres from xxmaj piazza xxmaj alimonda and thirty to forty metres from the jeep , and had seen the jeep drive over a body lying on the ground . \n",
       "  ( b)statement by police officer xxmaj lauro \n",
       "  44.on 21 xxmaj december 2001 xxmaj mr xxmaj lauro gave evidence to the public prosecutor . xxmaj he stated that he had learnt of the change to the service instructions on the morning of 20 xxmaj july 2001 . xxmaj at the hearing of 26 xxmaj april 2005 during the “ trial of the twenty - five ” , he stated that he had been informed on 19 xxmaj july 2001 that no march was authorised for the following day . xxmaj on 20 xxmaj july he had still been unaware that an authorised march was due to take place . xxmaj during the day he went to xxmaj piazza xxmaj tommaseo , where clashes were taking place with demonstrators . xxmaj at 3.30 p.m. , while the situation was calm , xxmaj lieutenant - xxmaj colonel xxmaj truglio and the two jeeps joined the contingent . xxmaj between 4 p.m. and 4.45 p.m. the contingent was involved in clashes on xxmaj corso xxmaj torino . xxmaj it then arrived in the vicinity of xxmaj piazza xxmaj tommaseo and xxmaj piazza xxmaj alimonda . xxmaj lieutenant - xxmaj colonel xxmaj truglio and the two jeeps came back and the contingent was reorganised . xxmaj mr xxmaj lauro observed a group of demonstrators at the end of xxmaj via xxmaj caffa who had formed a barrier using wheeled refuse containers and were advancing towards the law - enforcement officers . xxmaj he asked xxmaj captain xxmaj cappello whether his men were in a position to deal with the situation and the latter replied in the affirmative . xxmaj mr xxmaj lauro and the contingent therefore took up positions close to xxmaj via xxmaj caffa . xxmaj he heard an order to withdraw and took part in the disorderly withdrawal of the contingent . \n",
       "  ( c)other statements made to the public prosecutor \n",
       "  45.some demonstrators present at the time of the events also gave statements to the public prosecutor . xxmaj some of them said they had been very close to the jeep and had themselves thrown stones and had struck the jeep with sticks and other objects . xxmaj according to one demonstrator , xxup m.p. had cried : “ xxmaj bastards , i 'm going to kill the lot of you ! ” . xxmaj another noticed that the carabiniere inside the jeep had taken out his pistol ; the demonstrator then shouted to his friends to watch out and moved away . xxmaj another demonstrator said that xxup m.p. had been protecting himself on one side with a riot shield . \n",
       "  xxunk individuals who witnessed the events from the windows of their homes said they had seen a demonstrator pick up a fire extinguisher and raise it up . xxmaj they had heard two shots and had seen the demonstrator fall to the ground . \n",
       "  xxunk material \n",
       "  47.the public prosecutor 's office ordered the law - enforcement agencies to hand over any audiovisual material which might help in reconstructing the events on xxmaj piazza xxmaj alimonda . xxmaj photographs had been taken and video recordings made by film crews , helicopter cameras and xxunk video cameras in the helmets of some of the officers . xxmaj pictures taken by private individuals were also available . \n",
       "  5.the forensic examinations \n",
       "  ( a)the autopsy \n",
       "  48.within twenty - four hours the public prosecutor 's office ordered an autopsy to establish the cause of xxmaj carlo xxmaj giuliani 's death . xxmaj on 21 xxmaj july 2001 at 12.10 p.m. notice of the autopsy – specifying that the injured party could appoint an expert and a lawyer – was served on the first applicant , xxmaj carlo xxmaj giuliani 's father . xxmaj at 3.15 p.m. xxmaj mr xxmaj canale and xxmaj mr xxmaj salvi , the experts appointed by the prosecuting authorities , were given their official brief and work commenced on the autopsy . xxmaj the applicants did not send any representative or expert of their own . \n",
       "  49.the experts requested the public prosecutor 's office to give them sixty days to prepare their report . xxmaj the request was granted . xxmaj on 23 xxmaj july 2001 the public prosecutor 's office authorised the cremation of xxmaj carlo xxmaj giuliani 's body in accordance with the family 's wishes . \n",
       "  50.the expert report was submitted on 6 xxmaj november 2001 . xxmaj it found that xxmaj carlo xxmaj giuliani had been struck below the left eye by a bullet which had passed through the skull and exited through the rear of the skull on the left . xxmaj the bullet 's trajectory had been as follows : it had been fired from a distance exceeding fifty centimetres and had travelled from front to back , from right to left and in a downward direction . xxmaj carlo xxmaj giuliani had been 1.65 metres tall . xxmaj the person firing the shot had been facing the victim and slightly to his right . xxmaj according to the experts , the bullet injury to the head had resulted in death within a few minutes ; the jeep 's being driven over the body had caused only insignificant minor injuries to the organs in the thorax and the abdomen . \n",
       "  ( b)the expert medical examinations carried out on xxup m.p. and xxup d.r. \n",
       "  51.after leaving xxmaj piazza xxmaj alimonda the three carabinieri who had been in the jeep went to the casualty department of xxmaj genoa xxmaj hospital . xxup m.p. complained of diffuse bruising to his right leg and an injury to the skull with open wounds ; against the advice of the doctors , who wished to admit him , xxup m.p. signed a discharge and left the hospital at around 9.30 p.m. xxmaj he had an injury to the skull which , he said , had been caused by a blow to the head with a blunt instrument while he had been in the jeep . \n",
       "  xxup xxunk presented with bruising and abrasions to the nose and the right cheekbone and bruises on the left shoulder and left foot . xxup f.c. was suffering from a posttraumatic psychological disorder and was expected to recover within fifteen days . \n",
       "  53.medical examinations were carried out to establish the nature of the injuries and their connection with the attack on the jeep 's occupants . xxmaj the reports concluded that the injuries sustained by xxup m.p. and xxup d.r. had not been life - threatening . xxup m.p. 's head injuries could have been caused by a stone thrown at him , but it was not possible to determine the origin of his other injuries . xxmaj the injury to xxup d.r. 's face could have been caused by a stone thrown at him and his shoulder injury by a blow from a wooden plank . \n",
       "  ( c)the ballistics tests ordered by the public prosecutor 's office \n",
       "  ( i)the first set of tests \n",
       "  54.on 4 xxmaj september 2001 the public prosecutor 's office instructed xxunk to establish whether the two spent cartridges found at the scene ( one in the jeep and the other a few metres from xxmaj carlo xxmaj giuliani 's body – see paragraph 31 above ) had come from the same weapon , and specifically from xxup m.p. 's weapon . xxmaj in his report of 5 xxmaj december 2001 the expert concluded that there was a 90 % probability that the cartridge found in the jeep had come from xxup m.p. 's pistol , whereas there was only a 10 % probability that the cartridge found close to xxmaj carlo xxmaj giuliani 's body had issued from the same weapon . xxmaj in accordance with xxmaj article 392 of the xxmaj code of xxmaj criminal xxmaj procedure ( “ the xxup ccp ” ) , these tests were carried out unilaterally , that is to say , without the injured party having an opportunity to participate . \n",
       "  ( ii)the second set of tests \n",
       "  55.the public prosecutor 's office appointed a second expert , police inspector xxmaj xxunk . xxmaj the latter , in a report submitted on 15 xxmaj january 2002 , stated that there was a 60 % probability that the spent cartridge found near the victim 's body had come from xxup m.p. 's weapon . xxmaj he concluded that both the cartridges had come from xxup m.p. 's pistol , and estimated the distance between xxup m.p. and xxmaj carlo xxmaj giuliani at the moment of impact at between 110 and 140 centimetres . xxmaj the tests were conducted unilaterally . \n",
       "  ( iii)the third set of tests \n",
       "  56.on 12 xxmaj february 2002 the public prosecutor 's office instructed a panel of experts ( made up of xxmaj mr xxmaj xxunk , xxmaj mr xxmaj benedetti , xxmaj mr xxmaj romanini and xxmaj mr xxmaj torre ) “ to reconstruct , even in virtual form , the actions of xxup m.p. and xxmaj carlo xxmaj giuliani in the moments immediately before and after the bullet struck the victim 's body ” . xxmaj in particular , the experts were asked to “ establish the distance between xxup m.p. and xxmaj carlo xxmaj giuliani , their respective angles of vision and xxup m.p. 's field of vision inside the jeep at the moment the shots were fired ” . xxmaj it appears from the file that xxmaj mr xxmaj romanini had published an article in xxmaj september 2001 in a specialist journal ( xxup xxunk xxmaj xxunk ) , in which he expressed the view , among other things , that xxup m.p. 's actions had constituted “ a clear and wholly justified defensive reaction ” . \n",
       "  57.the representatives and experts appointed by the applicants attended the examinations by the panel of experts . xxmaj the applicants ' lawyer , xxmaj mr xxmaj xxunk , stated that he did not wish to make an application for the immediate production of evidence ( incidente xxunk ) . xxmaj article 392 1 ( f ) and 2 of the xxup ccp allows the public prosecutor and the accused , among other things , to request the investigating judge ( giudice per le indagini preliminari ) to order a forensic examination where the latter concerns a person , object or place which is subject to unavoidable alteration or where , if ordered during the trial , the examination in question could entail suspension of the proceedings for a period exceeding sixty days . xxmaj under xxmaj article 394 of the xxup ccp the injured party may request the public prosecutor to apply for the immediate production of evidence . xxmaj if the public prosecutor refuses the request , he or she must issue an order giving reasons and must serve it on the injured party . \n",
       "  58.an on - site inspection was conducted on 20 xxmaj april 2002 . xxmaj traces of the impact of a shot were found on the wall of a building on xxmaj piazza xxmaj alimonda , at a height of about five metres . \n",
       "  59.on 10 xxmaj june 2002 the experts submitted their report . xxmaj the experts stated at the outset that the fact that they had not had access to xxmaj carlo xxmaj giuliani 's body ( because it had been cremated ) had been a major obstacle which had prevented them from producing an exhaustive report , as they had been unable to re - examine parts of the body and search for micro - traces . xxmaj on the basis of the “ little material available ” the experts attempted to establish first of all what the impact of the bullet had been on xxmaj carlo xxmaj giuliani 's body , setting out the following considerations . \n",
       "  60.the injuries to the skull had been very serious and had resulted in death “ within a short space of time ” . xxmaj the bullet had not exited whole from xxmaj carlo xxmaj giuliani 's head ; the report ( xxunk xxunk ) of the full body scan performed before the autopsy referred to a “ subcutaneous fragment , probably metal ” above the bones in the occipital region . xxmaj this piece of opaque metal looked like a fragment of bullet casing . xxmaj the appearance of the entry wound on the face did not lend itself to an unequivocal interpretation ; its irregular shape was explained chiefly by the type of tissue in the part of the body struck by the bullet . xxmaj however , one possible explanation was that the bullet had not hit xxmaj carlo xxmaj giuliani directly , but had encountered an intermediate object which could have distorted it and slowed it down before it reached the victim 's body . xxmaj that hypothesis would explain the small dimensions of the exit wound and the fact that the bullet had fragmented inside xxmaj carlo xxmaj giuliani 's head . \n",
       "  61.the experts reported finding a small fragment of lead , probably from the bullet , which had come off xxmaj carlo xxmaj giuliani 's balaclava when the latter was being handled ; it was impossible to ascertain whether the fragment had come from the front , side or back of the balaclava . xxmaj it bore traces of a substance which was not part of the bullet as such , but came from material used in the building industry . xxmaj in addition , micro - fragments of lead were found on the front and back of the balaclava , apparently confirming the hypothesis that the bullet had lost part of its casing at the moment of impact . xxmaj according to the experts , it was not possible to establish the nature of the “ intermediate object ” apparently hit by the bullet ; however , they ruled out the possibility that it was the fire extinguisher which xxmaj carlo xxmaj giuliani had been holding in his outstretched hand . xxmaj the distance from which the shot had been fired had been in excess of 50 - 100 centimetres . \n",
       "  62.in order to reconstruct the events on the basis of the “ intermediate object theory ” , the experts then had some test shots fired and conducted video and computer simulations . xxmaj they concluded that it was not possible to establish the bullet 's trajectory as the latter had undoubtedly been altered as a result of the collision . xxmaj on the basis of video footage showing a stone disintegrating in the air and of the shot that could be heard on the soundtrack , the experts concluded that the stone had shattered immediately after the shot had been fired . a computer simulation showed the bullet , fired upwards , hitting xxmaj carlo xxmaj giuliani after colliding with the stone in question , thrown at the jeep by another demonstrator . xxmaj the experts estimated that the distance between xxmaj carlo xxmaj giuliani and the jeep had been approximately 1.75metres and that xxup m.p. had been able to see xxmaj carlo xxmaj giuliani at the moment the shot was fired . \n",
       "  6.the applicants ' investigations \n",
       "  63.the applicants submitted a statement made to their lawyer by xxup j.m. , one of the demonstrators , on 19 xxmaj february 2002 . xxup j.m. stated in particular that xxmaj carlo xxmaj giuliani had still been alive after the jeep had driven over his body . xxmaj the applicants also produced a statement made by a carabiniere ( xxup v.m. ) , who reported a widespread practice among law - enforcement officers consisting in altering bullets of the kind used by xxup m.p. in order to increase their capacity to expand and hence fragment . \n",
       "  64.lastly , the applicants submitted two reports drawn up by experts they themselves had chosen . xxmaj according to one of the experts , xxmaj mr xxmaj gentile , the bullet had already been in fragments when it struck the victim . xxmaj the fact that it had fragmented could be explained by a manufacturing defect or by its having been manipulated to make it more likely to break up . xxmaj in the expert 's view , however , these two scenarios occurred only rarely and were therefore less likely than the one advanced by the prosecuting authorities ' experts ( namely that the bullet had collided with an intermediate object ) . \n",
       "  65.the other experts appointed by the applicants to reconstruct the events concluded that the stone had shattered on impact with the jeep rather than with the bullet fired by xxup m.p .. xxmaj in order to reconstruct the events on the basis of the audiovisual material , and especially of the photographs , it was necessary to establish the exact position of the photographer , and in particular his or her angle of vision , taking into account also the type of equipment used . xxmaj in addition , it was necessary to establish the timing of the images and how they fitted in with the sound . xxmaj the applicants ' experts criticised the method used by the prosecuting authorities ' experts , who had based their analysis on “ video and computer simulations ” and had not analysed the available images rigorously and in detail . xxmaj the method used to perform the test shots was also criticised . \n",
       "  66.the applicants ' experts concluded that xxmaj carlo xxmaj giuliani had been about three metres away from the jeep when the shot was fired . xxmaj while it was undeniable that the fatal bullet had been in fragments when it struck the victim , the possibility of its having collided with the stone which could be seen in the video should be ruled out . a stone would have distorted the bullet differently and left different marks on xxmaj carlo xxmaj giuliani 's body . xxmaj moreover , xxup m.p. had not fired upwards . \n",
       "  d.the request to discontinue the proceedings and the applicants ' objection \n",
       "  1.the request to discontinue the proceedings \n",
       "  67.on completion of the domestic investigation the xxmaj genoa public prosecutor decided to request that the case against xxup m.p. and xxup f.c. be discontinued . xxmaj the public prosecutor noted first of all that far - reaching changes had been made to the organisation of the public - order operations on the night of 19 xxmaj july 2001 , and took the view that this partly explained the problems that had arisen on 20 xxmaj july . xxmaj however , he did not detail the changes or the problems that had resulted . \n",
       "  68.the public prosecutor went on to observe that xxmaj mr xxmaj lauro 's version of events and that of xxmaj captain xxmaj cappello differed on one specific point : whereas the former asserted that the decision to position law - enforcement personnel on xxmaj via xxmaj caffa in order to block the demonstrators had been taken by mutual agreement , the latter maintained that it had been a unilateral decision taken by xxmaj mr xxmaj lauro despite the risks entailed by the small size of the detachment and the fact that the men were tired . \n",
       "  69.the experts agreed on the following points : two shots had been fired from xxup m.p. 's pistol , the first of which had killed xxmaj carlo xxmaj giuliani ; the bullet in question had not fragmented solely as a result of striking the victim ; and the photograph of xxmaj carlo xxmaj giuliani holding the fire extinguisher had been taken when he was approximately three metres away from the jeep . \n",
       "  70.however , they differed on the following points : \n",
       "  ( a)according to the prosecuting authorities ' experts , xxmaj carlo xxmaj giuliani had been 1.75 metres from the jeep when the bullet struck him ( approximately three metres away according to the xxmaj giuliani family 's experts ) ; \n",
       "  ( xxunk to the xxmaj giuliani family 's experts , the shot had been fired before the stone could be seen on the video , contrary to the view of the prosecuting authorities ' experts . \n",
       "  71.as the parties agreed that the bullet had fragmented before striking the victim , the public prosecutor concluded that they were also in agreement as to the causes of the bullet 's fragmentation , and that the applicants subscribed to the “ intermediate object theory ” . xxmaj other possible explanations for the fragmentation of the bullet advanced by the applicants – such as the manipulation of the bullet or a manufacturing defect – had been considered by the applicants themselves to be much less likely . xxmaj they could not therefore be regarded as valid explanations in the public prosecutor 's view . \n",
       "  72.the investigation had been lengthy , in particular owing to delays with some of the forensic reports , the “ superficial nature ” of the autopsy report and the errors committed by one of the experts , xxmaj mr xxmaj xxunk . xxmaj however , it had addressed all the relevant issues in detail and led to the conclusion that the hypothesis of the bullet having been fired upwards and deflected by a stone was “ the most convincing ” . xxmaj nevertheless , there was insufficient evidence in the file to determine whether xxup m.p. had fired with the sole intention of dispersing the demonstrators or had knowingly run the risk of injuring or killing one or more of them . xxmaj there were three possibilities , and “ the matter [ would ] never be resolved with certainty ” . xxmaj the possibilities were as follows : \n",
       "  –the shots had been designed to intimidate the demonstrators and it was therefore a case of causing death by negligence ; \n",
       "  xxup –m.p. had fired the shots in order to put a stop to the attack and had accepted the risk of killing someone ; that would mean that it was a case of intentional homicide ; \n",
       "  xxup –m.p. had aimed at xxmaj carlo xxmaj giuliani ; this would also be intentional homicide . \n",
       "  xxmaj in the public prosecutor 's view , the evidence in the file was such that the third possibility could be ruled out . \n",
       "  73.the public prosecutor further considered that the fact that the bullet had collided with the stone was not capable of severing the causal link between xxup m.p. 's actions and xxmaj carlo xxmaj giuliani 's death . xxmaj given that the link remained , the question was whether xxup m.p. had acted in self - defence . \n",
       "  74 . xxmaj it had been proven that the physical integrity of the jeep 's occupants had been under threat and that xxup m.p. had been “ responding ” in the face of danger . xxmaj that response had to be examined in terms of both its necessity and its proportionality , “ the latter aspect being the more delicate ” . \n",
       "  75.the public prosecutor took the view that xxup m.p. had had no other option and could not have been expected to act differently , since “ the jeep was surrounded by demonstrators [ and ] the physical aggression against the occupants was patent and virulent ” . xxup m.p. had been justified in perceiving his life to be in danger . xxmaj the pistol had been a tool capable of putting a stop to the attack , and xxup m.p. could not be criticised for the equipment issued to him . xxmaj he could not be expected to refrain from using his weapon and submit to an attack liable to endanger his physical integrity . xxmaj these considerations justified a decision to discontinue the case . \n",
       "  2.the applicants ' objection \n",
       "  76.on 10 xxmaj december 2002 the applicants lodged an objection against the public prosecutor 's request to discontinue the proceedings . xxmaj they alleged that , since the prosecuting authorities themselves had acknowledged that the investigation had been flawed and raised questions which had not been answered with certainty , adversarial proceedings were essential in order to arrive at the truth . xxmaj in their view , it was impossible to argue simultaneously that xxup m.p. had fired into the air and that he had acted in self - defence , particularly since he had said that he could not see xxmaj carlo xxmaj giuliani when he had fired the shots . \n",
       "  77.the applicants further remarked that the intermediate object theory , which they disputed , had been put forward one year after the events and was based on pure supposition not backed up by objective evidence . xxmaj there were other possible explanations . \n",
       "  78.the applicants also observed that , according to the evidence in the file , xxmaj carlo xxmaj giuliani had still been alive after the jeep had driven over his body . xxmaj they stressed that the autopsy report , which found that no appreciable injuries had been caused by the jeep driving over the body , had been described by the public prosecutor as superficial ; they also criticised the decision to entrust a number of investigative measures to the carabinieri . \n",
       "  79.it followed that xxup m.p. and xxup f.c. should have been committed for trial . xxmaj in the alternative , the applicants requested that further investigative measures be undertaken , in particular : \n",
       "  ( a)that a forensic report be prepared aimed at establishing the causes and the time of xxmaj carlo xxmaj giuliani 's death , in order to ascertain in particular whether he had still been alive when the jeep drove over his body , and afterwards ; \n",
       "  ( b)that evidence be heard from the chief of police , xxmaj mr xxmaj de xxmaj gennaro , and from carabiniere xxmaj zappia , to establish what instructions had been given regarding the wearing of weapons on the thigh ; \n",
       "  ( c)that the person who had thrown the stone which allegedly deflected the bullet be identified and traced ; \n",
       "  ( d)that further evidence be heard from the demonstrators who had come forward ; \n",
       "  ( e)that evidence be heard from the carabiniere xxup v.m. , who had reported the practice of cutting the tips of bullets ( see paragraph 63 above ) ; \n",
       "  ( f)that forensic tests be carried out on the spent cartridges and on the weapons of all the police and carabinieri on xxmaj piazza xxmaj alimonda at the time of the events . \n",
       "  3.the hearing before the investigating judge \n",
       "  80.the hearing before the investigating judge took place on 17 xxmaj april 2003 . xxmaj the applicants maintained their argument that the fatal bullet had not been deflected but had struck the victim directly . xxmaj however , they conceded that there was no evidence that xxup m.p. had altered the bullet to increase its impact ; that was simply one theory . \n",
       "  81.the representative of the public prosecutor 's office said he had the impression that “ certain points which [ he had ] believed to be the subject of agreement were in fact not ; on the contrary , there were divergences of opinion ” . xxmaj he pointed out that the applicants ' expert , xxmaj mr xxmaj gentile , had been in agreement as to the fact that the bullet had been damaged before striking xxmaj carlo xxmaj giuliani . xxmaj furthermore , xxmaj mr xxmaj gentile had acknowledged that one of the possible causes of the damage was a collision with some object or an intrinsic defect in the bullet , and that the second cause was less likely than the first . \n",
       "  e.the decision of the investigating judge \n",
       "  82.by an order lodged with the registry on 5 xxmaj may 2003 , the xxmaj genoa investigating judge granted the public prosecutor 's request to discontinue the case . \n",
       "  1.establishment of the facts \n",
       "  83.the investigating judge referred to an anonymous account of the events posted by a xxmaj french person on an anarchist website ( xxunk ) , which she considered to be credible given that it concurred with the audiovisual material and with the witness statements . xxmaj the account in question described the situation on xxmaj piazza xxmaj alimonda and a charge by demonstrators against the carabinieri . xxmaj the charge had been led by demonstrators throwing anything that came to hand , followed by others carrying containers and rubbish bins for use as mobile barricades . xxmaj the atmosphere on the square was described as “ xxunk ” , with the lawenforcement agencies coming under attack from a crowd which was advancing , throwing missiles and immediately picking up new ones . xxmaj the carabinieri , for their part , were firing tear gas , but a contingent was eventually forced to retreat towards xxmaj piazza xxmaj alimonda , where one of the two jeeps accompanying them found itself xxunk in and surrounded by demonstrators . xxmaj the latter , brandishing iron bars and other objects , began hitting the jeep , and the rear window was soon smashed . xxmaj the author of the account heard two shots and could see the hand of one of the two carabinieri inside the jeep , holding a firearm . xxmaj when the jeep drove off and the noise died down , he saw a young man with serious head injuries lying on the ground . xxmaj the author also described the anger of certain demonstrators on learning that a demonstrator had died . \n",
       "  84.the investigating judge observed that the description by the anonymous demonstrator tallied with the findings of the investigation , according to which , at around 5 p.m. , a group of demonstrators had gathered in xxmaj via xxmaj caffa at the junction with xxmaj via xxmaj tolemaide , erecting barricades using rubbish bins , supermarket trolleys and other objects . xxmaj from behind this barricade the group began throwing large numbers of stones and hard objects at a contingent of carabinieri who , having been stationed originally on xxmaj piazza xxmaj alimonda at the corner of xxmaj via xxmaj caffa , had begun to move forward in a bid to stop the demonstrators , whose numbers had increased in the meantime . xxmaj two jeeps , one of them driven by xxup f.c. and with xxup m.p. and xxup d.r. on board , joined the contingent of carabinieri ; however , the demonstrators charged violently , forcing the contingent to retreat . xxmaj the jeeps reversed towards xxmaj piazza xxmaj alimonda , where one of them collided with a refuse container . xxmaj in a matter of moments , the demonstrators surrounded the vehicle , hitting it using all available means and throwing stones . xxmaj as the audiovisual material in the file showed , the jeep 's windows were smashed with stones , iron bars and sticks . xxmaj the unrelenting nature of the demonstrators ' attack on the jeep was described as “ impressive ” . xxmaj some stones struck members of the carabinieri in the face and the head and one demonstrator , xxmaj mr xxmaj monai , thrust a long wooden beam through one of the windows , with the result that xxup d.r. sustained bruises and grazing to his right shoulder . \n",
       "  xxunk of the photographs showed xxup m.p. kicking a fire extinguisher away ; this was very probably the metal object which had caused severe bruising to his leg . xxmaj successive photographs showed a hand holding a weapon above the jeep 's spare wheel while a young man ( xxmaj carlo xxmaj giuliani ) reached down to the ground and picked up a fire extinguisher , in all likelihood with the intention of throwing it at the jeep 's rear window . xxmaj at that moment two shots were fired from inside the jeep and the young man fell to the ground . xxmaj the jeep drove over his body twice before managing to leave the scene . \n",
       "  xxunk the available evidence , including xxup m.p. 's statement of 20 xxmaj july 2001 ( see paragraphs 34 - 36 above ) , indicated that xxmaj carlo xxmaj giuliani 's death had been caused by one of the shots fired by xxup m.p. xxmaj the investigating judge cited virtually the whole of that statement , in which xxup m.p. spoke of his state of panic , the injuries he and xxup d.r. had sustained and the fact that at the moment he pointed his pistol he had not seen anyone but had been aware of the presence of attackers because of the continuous barrage of stones . xxmaj that version matched the statements made by xxup d.r. and xxup f.c. and those of other armed forces personnel and witnesses . xxmaj in addition , the case file showed that xxup m.p. had bruising and injuries to his right leg , his arm and the top of his skull ; xxup d.r. had scratches on his face and bruising on his shoulder and foot , while xxup f.c. had a post - traumatic disorder treatable within fifteen days ( see paragraphs 51 - 53 above ) . \n",
       "  2.the “ intermediate object ” theory \n",
       "  87.the investigating judge noted that the evidence in the file showed that the first bullet fired by xxup m.p. had killed xxmaj carlo xxmaj giuliani . xxmaj in exiting through the occipital bone in the skull the bullet had lost a fragment of its casing , as shown by the scan performed before the autopsy . xxmaj this fact , combined with the characteristics of the entry and exit wounds , had led the prosecuting authorities ' experts to formulate the theory that the bullet had collided with an object before hitting xxmaj carlo xxmaj giuliani . xxmaj the entry wound had been very irregular in shape and the exit wound had been small , as was the case when a bullet had lost momentum and / or fragmented . \n",
       "  88.the bullet in question was an encased 9 mm parabellum , and therefore very powerful . xxmaj this fact , together with the low resistance of the body tissue through which the bullet had travelled , served to confirm the theory advanced by the prosecuting authorities ' experts . xxmaj moreover , a “ tiny fragment of lead ” , compatible with the bullets issued to xxup m.p. , had been found in the victim 's balaclava with particles of bone attached to it . xxmaj this suggested that the bullet had lost part of its casing before hitting the bone . \n",
       "  89.the simulated shots had revealed that the intermediate object which caused the bullet to fragment could not have been either the fire extinguisher carried by the victim or one of the bones through which the bullet had passed ; on the other hand , it could have been one of the numerous stones thrown at the jeep by demonstrators . xxmaj this appeared to be confirmed by the video footage showing a stone disintegrating in the air at the same time as a shot was heard . xxmaj the fact that the sound and the disintegration of the object occurred simultaneously made the applicants ' theory that the stone had smashed on impact with the roof of the jeep less convincing . xxmaj furthermore , the lead fragment in the victim 's balaclava had borne traces of building materials . xxmaj lastly , the test shots had shown that , when they were hit by a bullet , objects made up of building materials “ exploded ” in a similar manner to that seen in the video footage and caused damage to the cartridge casing . xxmaj the tests performed showed that disintegration occurred differently when such objects were thrown against a vehicle ( the dust was produced after rather than simultaneously with fragmentation , and in smaller quantities ) . \n",
       "  90.the second shot fired by xxup m.p. had left a mark on the wall of the church on xxmaj piazza xxmaj alimonda ( at a height of 5.3 metres ) . xxmaj the first shot had hit xxmaj carlo xxmaj giuliani . xxmaj the ballistics tests had been unable to establish the original trajectory of that bullet . xxmaj however , the experts appointed by the public prosecutor 's office had taken into account the fact that the jeep was xxunk high and that the stone seen on the video had been at a height of around 1.9 m when the image was recorded . xxmaj they had therefore fired some test shots , positioning the weapon around 1.3 metres from a stone suspended 1.9 metres above the ground : the bullet had been deflected downwards and hit the “ collecting tray ” ( located 1.75 metres from the weapon ) at heights of between 1.1 and 1.8 metres . xxmaj these data tallied with the statements of certain demonstrators who had been eyewitnesses to the events , according to whom xxmaj carlo xxmaj giuliani had been about two metres from the jeep when he was shot dead . xxmaj the prosecuting authorities ' experts had not had these statements available to them at the time they had carried out their work . \n",
       "  91.the foregoing considerations suggested that , as concluded by the prosecuting authorities ' experts , the shot had been fired upwards , above xxmaj carlo xxmaj giuliani , who was 1.65 m tall . xxmaj the stone had disintegrated 1.9 metres above the ground . \n",
       "  xxup xxunk 's angle of vision \n",
       "  xxup xxunk 's angle of vision had probably been restricted by the jeep 's spare wheel . xxmaj however , it was difficult to be certain on that point as xxup m.p. 's face did not appear on any of the photographs in the file , whereas they clearly showed his hand holding the weapon . xxmaj the pictures suggested , however , that he had been half - lying ( in xxunk xxunk ) or crouching on the floor , as confirmed by xxup m.p. 's own statements and those of xxup d.r. and the demonstrator xxmaj predonzani . xxmaj that led to the conclusion that xxup m.p. had been unable to see the persons close to the jeep 's rear door below the spare wheel , and that he had fired the shots in an attempt to intimidate the demonstrators . \n",
       "  4.legal characterisation of xxup m.p. 's actions \n",
       "  xxunk thus reconstructed the facts , the investigating judge addressed the legal characterisation of xxup m.p. 's actions . xxmaj the prosecuting authorities had advanced two hypotheses in that regard ( see paragraph 72 above ) : ( a ) that xxup m.p. had fired as high in the air as possible with the sole aim of intimidating the jeep 's assailants , in which case the charge should be one of causing death by negligence ( omicidio xxunk ) ; ( b ) that xxup m.p. had fired without aiming at anyone or anything , with the aim of halting the attack , in which case the charge should be one of intentional homicide on account of “ reckless conduct ” , as he had accepted the risk that demonstrators might be hit . \n",
       "  94.the investigating judge took the view that the first hypothesis advanced by the public prosecutor was not correct . xxmaj if xxup m.p. had fired as high in the air as possible his actions would not have been punishable , by virtue of xxmaj article 53 of the xxmaj criminal xxmaj code ( “ the xxup cc ” ) , and the causal link would in any case have been severed by an unforeseeable factor beyond his control , namely the bullet 's collision with an intermediate object . \n",
       "  95.if , on the other hand , the second hypothesis advanced by the prosecuting authorities was accepted , it had to be established whether any grounds of justification existed ( the legitimate use of weapons and / or selfdefence , under xxmaj articles 53 and 52 of the xxup cc – see paragraphs 142 - 144 below ) which would exempt xxup m.p. from criminal responsibility and make his actions not punishable . \n",
       "  5.whether xxup m.p. made legitimate use of his weapon ( xxmaj article 53 of the xxup cc ) \n",
       "  96.the investigating judge first addressed the question whether the use of a weapon had been necessary . xxmaj under xxmaj article 53 of the xxup cc ( see xxunk below ) , xxmaj state agents had wider powers than ordinary individuals in the context of self - defence ; this ground of justification was not subject to the condition that the reaction was proportionate to the threat , but to the condition of “ necessity ” . xxmaj even for xxmaj state agents , the use of a weapon was a measure of last resort ( xxunk ratio ) ; however , xxmaj state agents could not be held responsible for the occurrence of a more serious event than that foreseen by them , as this risk was inherent in the use of firearms . xxmaj in general terms , xxmaj article 53 of the xxup cc permitted the use of force where it was necessary to repel violence or thwart an attempt to resist official authority . \n",
       "  xxup xxunk had found himself in a situation of extreme violence designed to disturb public order and targeting the carabinieri , whose safety was directly threatened . xxmaj in that connection the investigating judge cited extracts from the testimonies of two of the jeep 's assailants ( xxmaj mr xxmaj predonzani and xxunk ) , noting once again the violence of the assault , and referred to the photographs in the file . xxmaj the victim 's conduct had not been an isolated act of aggression , but one phase in a violent attack on the jeep by several persons , who had been xxunk it sideways and probably trying to open the rear door . \n",
       "  98.the evidence in the file ruled out the possibility that xxup m.p. had deliberately targeted xxmaj carlo xxmaj giuliani ; however , even assuming that this had been the case , in the particular circumstances of the case his conduct would have been justified under xxmaj article 53 of the xxup cc , as it was legitimate to fire in the direction of assailants in order to halt an attack while endeavouring to limit the damage , for instance by avoiding vital organs . xxmaj in conclusion , the use of a firearm had been justified and had been likely not to cause serious harm , given that xxup m.p. had “ certainly fired upwards ” and that the bullet had struck xxmaj carlo xxmaj giuliani only because it had been deflected in a manner that could not have been foreseen . \n",
       "  xxunk xxup m.p. acted in self - defence ( xxmaj article 52 of the xxup cc ) \n",
       "  99.the investigating judge next considered it necessary to determine whether xxup m.p. had acted in self - defence , which was a “ more stringent ” test for exemption from responsibility . xxmaj she took the view that xxup m.p. had rightly perceived a threat to his physical integrity and that of his colleagues , and that the threat had persisted on account of the violent attack on the jeep by a crowd of assailants and not just by xxmaj carlo xxmaj giuliani . xxmaj in order to be assessed in its proper context , xxup m.p. 's response had to be viewed in relation to that attack . xxmaj the investigating judge rejected the hypothesis advanced by the victim 's family that xxup m.p. 's head injuries had been caused by the internal lever of the flashing light on the jeep 's roof rather than by stones thrown by demonstrators . \n",
       "  xxup xxunk 's response had been necessary in view of the number of assailants , the means used , the sustained nature of the violence , the injuries to the carabinieri in the jeep and the vehicle 's difficulty in leaving the square because the engine had stalled . xxmaj the response had been appropriate given the level of violence . \n",
       "  xxunk xxup m.p. not taken out his weapon and fired two shots , the attack would have continued . xxmaj if the fire extinguisher – which xxup m.p. had already kicked away once – had landed in the jeep , it would have caused serious injury , or worse , to the occupants . xxmaj as to the relationship of proportionality between the attack and the response , the xxmaj court of xxmaj cassation had held that the interests under threat had to be weighed against the means available to the accused , and that a plea of self - defence might be allowed even if the harm to the assailant was slightly greater than the threatened harm to the accused ( see xxmaj court of xxmaj cassation , xxmaj first xxmaj section , judgment no . xxunk of 13april 1987 , xxmaj catania ) . xxmaj furthermore , the response had to be the only one possible in the circumstances , in the sense that other responses less damaging to the assailant would not suffice to counter the danger ( see xxmaj court of xxmaj cassation , xxmaj first xxmaj section , judgment no . xxunk of 1 xxmaj december 1995 , xxup p.m. and xxmaj xxunk ) . xxmaj where a firearm was the only means of defence available to the person under attack , its use should be confined to displaying the person 's resolve to make use of it , firing into the air or onto the ground or firing in the direction of the assailant but taking care not to hit vital organs , so as to inflict injury but not kill ( see xxmaj court of xxmaj cassation judgment of 20september 1982 , xxmaj xxunk ) . \n",
       "  102.in the instant case xxup m.p. had had only one means of countering the attack : his firearm . xxmaj he had made proportionate use of it , since before shooting he had called out to the demonstrators to leave , in an attempt to put a stop to their actions ; he had then fired upwards and the bullet had hit the victim as the result of a tragic twist of fate ( per una xxunk xxunk ) . xxmaj had he wished to be sure of harming his assailants he would have fired through the side windows of the jeep , next to which numerous demonstrators had gathered . xxmaj it followed that he had acted in self - defence . xxmaj that being so , it was of little relevance whether xxup m.p. had had a partial view of xxmaj carlo xxmaj giuliani ( as the applicants ' experts maintained and the prosecuting authorities ' experts considered possible ) or whether , as seemed more likely , he had not seen him and had fired as high in the air as his position would allow , accepting the risk that the shot might hit somebody . \n",
       "  7.the accusations against xxup f.c. \n",
       "  103.the investigating judge also considered that the evidence in the file excluded any criminal responsibility on the part of xxup f.c. , given that , as indicated by the forensic experts , xxmaj carlo xxmaj giuliani 's death had undoubtedly been caused within minutes by the pistol shot . xxmaj the jeep 's driving over the victim 's body had caused only bruising . xxmaj in any event , owing to the confused situation around the jeep , xxup f.c. had not been able to see xxmaj carlo xxmaj giuliani or observe that he had fallen to the ground . \n",
       "  xxunk of the applicants ' requests for further investigation \n",
       "  104.the investigating judge refused all the applicants ' requests for further investigative measures to be taken ( see paragraph 79 above ) . xxmaj the reasons for the refusal can be summarised as follows : \n",
       "  ( a)with regard to the request for a forensic report to be prepared aimed at establishing whether xxmaj carlo xxmaj giuliani had still been alive when the jeep drove over his body ( see paragraph xxunk ) above ) , the checks already carried out had been thorough ; furthermore , the injured parties had been offered the opportunity of appointing an expert of their choosing to attend the autopsy , but had not availed themselves of that possibility . xxmaj in addition , the victim 's body had been cremated scarcely three days after his death , thereby rendering any subsequent examination impossible ; \n",
       "  ( b)as to the request for police chief xxmaj de xxmaj gennaro and carabinieri second lieutenant xxmaj zappia to be examined on the subject of the lawfulness of the use of “ thigh xxunk ” of the kind from which xxup m.p. had drawn the weapon ( see paragraph xxunk ) above ) , it was clear that the directives issued with a view to the maintenance of public order could only be of a general nature and did not include instructions applying to unforeseeable situations involving direct attacks on officers . xxmaj furthermore , the manner in which xxup m.p. had been wearing the pistol was of no relevance in the present case given that he could legitimately make use of his weapon irrespective of where he was wearing it or where he drew it from ; \n",
       "  ( c)any attempt to identify the person who had thrown the stone which deflected the bullet ( see paragraph xxunk ) above ) was bound to fail , as it was not realistic to imagine that a demonstrator would have followed the trajectory of a stone after throwing it . xxmaj in any event , it would be impossible to identify the person concerned and his or her statements would have no bearing on the technical findings in the judge 's possession ; \n",
       "  ( xxunk purpose whatsoever would be served by further examining the demonstrators xxmaj monai and xxmaj predonzani concerning the conduct of the carabinieri inside the jeep , the number of demonstrators in the vicinity of the vehicle , the person inside the jeep who had actually seized the weapon , xxmaj carlo xxmaj giuliani 's position or the number of the jeep 's windows that were broken ( see paragraph xxunk ) above ) . xxmaj those witnesses had made statements very shortly after the events , while the latter were still fresh in their minds ; the statements contained extremely precise details which were confirmed by the video footage and photographs in the file . xxmaj lastly , it was not relevant to establish how many of the jeep 's windows had been broken as it was beyond dispute that some of the right - side windows and the rear window were smashed ; \n",
       "  ( e)it was unnecessary to take evidence from xxmaj mr d'auria , supposedly to confirm that no xxmaj molotov cocktails had been thrown on xxmaj piazza xxmaj alimonda , contrary to xxup m.p. 's assertion , or to determine how far away xxmaj mr d'auria had been when he took the photograph which the prosecuting authorities ' experts had used as a basis for the ballistics reconstruction . xxmaj the photograph in question had been merely a starting point for determining carlogiuliani 's position , which had been deduced from the position of the persons in relation to the fixed elements on the square . xxmaj furthermore , xxup m.p. had never asserted that xxmaj molotov cocktails had been thrown on xxmaj piazza xxmaj alimonda ; he had simply spoken of his fear that they might be ; \n",
       "  ( xxunk regard to the request to hear evidence from xxmaj sergeant - xxmaj major xxmaj xxunk as to when the xxunk window of the jeep had been smashed , the photographs showed clearly that it had happened well before the shots were fired and that the latter had not been the cause of the smashed window ; even if the witness whom the applicants wished to see called perceived the matter differently , this would not alter those findings ; \n",
       "  ( g)the footage recorded on xxmaj piazza xxmaj alimonda by two carabinieri whose helmets were equipped with video cameras was already in the file ; \n",
       "  ( xxunk was nothing to be gained by hearing evidence from carabiniere xxup v.m. concerning the practice of cutting the tips of bullets ( see xxunk ) above ) . xxmaj it could only be assumed that this improper practice was not widespread ; in any event , the findings of the ballistics reports , based on objective tests , were already available . xxmaj there was nothing to indicate that xxup m.p. had adopted the practice in question in this case , given that the other bullets found in the magazine of his pistol had been perfectly normal ; \n",
       "  ( i)it was beyond dispute that the damage to the jeep had been caused by the stones and other hard objects thrown at it ; it was therefore unnecessary to order a technical inspection of the vehicle ; \n",
       "  ( xxunk tests on the spent cartridges seized , in order to establish which weapons they had come from ( see paragraph xxunk ) above ) , would “ serve no actual purpose ” , as there was no doubt that the fatal bullet had been fired from xxup m.p. 's weapon ; this had been confirmed by xxup m.p. 's statements and the findings of the forensic examinations . \n",
       "  9.the decision to delegate certain investigative steps to the carabinieri \n",
       "  105.the investigating judge dismissed the criticisms made by the applicants ' lawyers to the effect that it had been inappropriate to entrust several aspects of the investigation to the carabinieri and to hear evidence from a large number of witnesses in the presence of members of the carabinieri . xxmaj the judge observed that the events on xxmaj piazza xxmaj alimonda had been reconstructed with the aid of the large volume of video and photographic material in the file and the statements of the participants themselves , and that all plausible scenarios had been considered . \n",
       "  106.in the light of all the above considerations the xxmaj genoa investigating judge decided that the proceedings should be discontinued . \n",
       "  f.the parliamentary inquiry \n",
       "  107.on 2 xxmaj august 2001 the xxmaj speakers of the xxmaj senate and the xxmaj chamber of xxmaj deputies decided that an inquiry ( indagine xxunk ) into the events which occurred during the xxup g8 in xxmaj genoa should be carried out by the constitutional affairs committees of both houses of xxmaj parliament . xxmaj to that end , a commission representing the different parliamentary groups was established , made up of eighteen members of xxmaj parliament and the same number of senators ( “ the parliamentary commission ” ) . \n",
       "  108.on 8 xxmaj august 2001 the parliamentary commission heard evidence from the xxmaj commander - xxmaj general of the carabinieri . xxmaj the latter stated , in particular , that xxunk additional troops and 375 specialised carabinieri had been drafted in to xxmaj genoa to assist the 1,200 members of the provincial command . xxmaj only 27 % of the men present in xxmaj genoa had been auxiliary carabinieri performing military service ( for public - order operations the figure was usually 70 % ) . xxmaj most of the auxiliary carabinieri had performed nine or ten months ' service and had already been deployed in similar settings . xxmaj beginning in xxmaj april 2001 all the personnel to be deployed in xxmaj genoa had received training in public - order operations and use of the standard equipment . xxmaj team exercises and seminars had been organised , the latter relating to the identification of potential threats and the layout of the city . xxmaj all those deployed had protective helmets , riot shields , batons , gas masks and xxunk suits with protection for the most exposed parts of the body . xxmaj each carabiniere had a pistol ( xxunk xxunk ) and numerous tear - gas grenades had been issued to the detachments ; there were also 100 armoured vehicles and 226 vehicles equipped with protective grilles , in addition to the special vehicles ( for instance , vehicles fitted with mobile barriers to reinforce the fixed barriers protecting the red zone ) . \n",
       "  109.according to a memorandum from the senior command of the carabinieri , an elite force ( xxunk xxunk ) of xxunk men had undergone a programme of training in xxmaj velletri ahead of the xxup g8 summit , covering both theory ( the psychology of crowds and opposition groups , public - order techniques , handling emergencies ) and practice ( physical activity , use of resources , materials and equipment , final exercise with debriefing ) . xxmaj the remaining troops had received three days ' training in public - order techniques . xxmaj forty - eight officers had taken part in an information seminar covering topics such as the layout of the city of xxmaj genoa . \n",
       "  110.on 5 xxmaj september 2001 the parliamentary commission heard evidence from xxmaj mr xxmaj lauro , an officer of the xxmaj rome police who had taken part in the public - order operations in xxmaj genoa ( see paragraph 34 above ) . \n",
       "  xxunk xxmaj lauro stated that the carabinieri had been equipped with throat microphones , enabling them to communicate very rapidly with one another . xxmaj when asked to explain why the law - enforcement officers stationed quite near to the jeep ( fifteen to twenty metres away ) had not intervened , xxunk replied that the men had been on duty since the morning and had been involved in several clashes during the day . xxmaj he added that he had not noticed at the time of the events that there was a group of carabinieri and police officers who could have intervened . \n",
       "  xxunk to the function of the two jeeps , xxmaj mr xxmaj lauro explained that they had brought fresh supplies at around 4 p.m. and had left and then returned about an hour later to see if anyone was injured . xxmaj mr xxmaj lauro also said that he had called an ambulance for xxmaj carlo xxmaj giuliani as no doctor was present at the scene . \n",
       "  113.on 20 xxmaj september 2001 the parliamentary commission submitted a report setting out the conclusions of the majority of its members following the inquiry . xxmaj the document dealt with the organisation of the xxup g8 in xxmaj genoa , the political context and protest movements surrounding the summit and similar events worldwide , and the numerous contacts which had taken place between representatives of the institutions and associations making up the xxmaj genoa xxmaj social xxmaj forum , with the aim of preventing public - order disturbances and making arrangements to receive the demonstrators . xxmaj despite that dialogue , the protest movement had not succeeded in isolating the violent elements , numbering “ around 10,000 ” ; within the latter , a distinction had to be made between the xxmaj black xxmaj bloc and “ opportunistic ” individuals who had concealed themselves in the crowd . \n",
       "  xxunk thousand law - enforcement officers had taken part in the operation . xxmaj there had been about 2,000 delegates and xxunk accredited journalists ; the number of demonstrators ran into the tens of thousands ( 100,000 had taken part in the final demonstration ) . xxmaj seminars on the coordination and training of the law - enforcement agencies ( with contributions by trainers from the xxmaj los xxmaj xxunk police ) had been held on 24april and 18 and 19 xxmaj june 2001 . xxmaj the agencies concerned had staged practical exercises , albeit after a deplorable delay . xxmaj the administrative authorities had conducted research into non - lethal ammunition ( including rubber bullets ) , in particular by means of study visits to foreign police forces . xxmaj the authorities had been informed that xxmaj black xxmaj bloc demonstrators from anarchist circles in xxmaj italy and abroad were likely to travel to xxmaj genoa . xxmaj after contacts with police forces in other countries , a decision had been taken to suspend application of the xxmaj schengen xxmaj agreements between 13 and 21 xxmaj july 2001 . xxmaj from 14 xxmaj july onwards checks had been carried out at the xxmaj italian borders to allow certain demonstrators to enter the country and prevent violent elements from gaining access . xxmaj in the meantime , by an order dated 12 xxmaj july 2001 , the xxmaj genoa questore had indicated the areas of the city where the summit and the demonstrations would take place and had given an analytical breakdown of the security measures in place in each area . \n",
       "  115.the parliamentary commission next examined the various violent incidents and clashes which had taken place between the law - enforcement agencies and demonstrators on 19 , 20 and 21 xxmaj july 2001 ( in particular during a search conducted in a school , described by the commission as “ perhaps the most notable example of organisational and operational failings ” ) . xxmaj with specific reference to the death of xxmaj carlo xxmaj giuliani , the commission observed that a carabiniere had fired the fatal shot while the victim had been preparing to throw a fire extinguisher in his direction ; the carabiniere in question had previously sustained a blow to the head from another demonstrator . xxmaj in view of the fact that a criminal investigation was in progress , the commission decided to focus its analysis on the “ overall situation giving rise to the tragedy ” , examining in particular the communications system between the contingents of law - enforcement personnel , their commanding officers and the control centres , in order to study the coordination arrangements between the different areas . xxmaj the commission also noted that the “ fundamental cause ” of the loss of a life had been “ the xxunk violence perpetrated by extremist groups which jeopardised the lives of the young people who became caught up in their criminal activities ” . \n",
       "  116.in the commission 's view , the overall outcome of the xxup g8 had been positive . xxmaj while certain shortcomings had been identified in the coordination of the operations , it had to be borne in mind that the law - enforcement agencies had been confronted with between 6,000 and 9,000 violent individuals who had not been isolated by the peaceful demonstrators ( the commission referred in that regard to the “ double game ” being played by the xxmaj genoa xxmaj social xxmaj forum ) . xxmaj the parliamentary commission 's report concluded as follows : \n",
       "  “ xxmaj the commission ... reiterates that violence is not and must not be a tool for political action and that the rule of law is a fundamental value of democratic societies . xxmaj at the same time it emphasises strongly the inviolability of the constitutional principles of freedom to express one 's thoughts and respect for the individual even – not to say especially – where he or she is detained following arrest , and also the need to ensure the safety of citizens and public order ; if acts constituting a criminal or disciplinary offence are established , [ the commission ] would like to see the judicial authority and the administrative bodies concerned identify those responsible and punish their actions . ” \n",
       "  117.the xxmaj government produced before the xxmaj court the verbatim records of the hearings at which the parliamentary commission had heard evidence from the xxmaj minister of the xxmaj interior , the xxmaj director - xxmaj general of the xxmaj public xxmaj safety xxmaj department and the xxmaj commander - xxmaj general of the xxmaj revenue xxmaj police . \n",
       "  118.on 20 xxmaj september 2001 a group of parliamentarians called on the government to explain why law - enforcement officers being deployed on public - order operations were equipped with live ammunition rather than rubber bullets . xxmaj the parliamentarians advocated the use of the latter , arguing that they had been used successfully on several occasions in other countries . \n",
       "  119.the government spokesman replied that the legislation made no provision for that option and that , moreover , it had not been proven that rubber bullets did not also cause very serious harm to the victim . xxmaj finally , he said that the possibility of introducing non - lethal weapons was currently being examined . \n",
       "  120.on 22 xxmaj june 2006 the applicants applied to the xxmaj prime xxmaj minister 's xxmaj office and to the xxmaj ministry of xxmaj defence for compensation in respect of the damage they had suffered as a result of the death of xxmaj carlo xxmaj giuliani . xxmaj the xxmaj government explained that the application had been refused on the ground that it had been established in criminal proceedings that xxup m.p. had acted in self - defence . xxmaj for the same reason , no disciplinary proceedings were instituted against xxup m.p. \n",
       "  g.the decisions given in the “ trial of the twenty - five ” \n",
       "  1.the first - instance judgment \n",
       "  121.on 13 xxmaj march 2008 the xxmaj genoa xxmaj district xxmaj court published its reasoning in the judgment adopted on 14 xxmaj december 2007 following the trial of twenty - five demonstrators charged with a number of offences committed on 20 xxmaj july 2001 ( including criminal damage , theft , destroying property , looting and acts of violence against law - enforcement officers ) . xxmaj during the trial , in which 144 hearings were held , the xxmaj district xxmaj court , among other things , heard evidence from numerous witnesses and examined a wealth of audiovisual material . \n",
       "  122.the xxmaj district xxmaj court held , inter alia , that the attack by carabinieri on the xxmaj tute xxmaj bianche marchers had been unlawful and arbitrary . xxmaj the march had been authorised and the demonstrators had not committed any significant acts of violence against the carabinieri . xxmaj the attack by the latter had been launched against hundreds of persons who were doing no harm , and no order to disperse had been given . xxmaj the subsequent charge had also been unlawful and arbitrary . xxmaj it had not been preceded by a warning to disperse , had not been ordered by the officer authorised to do so and had been unnecessary . \n",
       "  123.the methods deployed had also been unlawful . xxmaj the carabinieri had fired tear - gas grenades at chest height , a large number of demonstrators had sustained injuries caused by non - regulation batons , and the armoured vehicles had knocked down the barricades and pursued members of the crowd along the pavement with the clear intention of causing harm . \n",
       "  124.the unlawful and arbitrary nature of the carabinieri 's actions had justified the resistance shown by the demonstrators while tear gas was being used and during the attack on the march . xxmaj their resistance had also been warranted during the clashes which occurred in the side streets prior to 3.30p.m . , that is , up to the point at which the carabinieri had acted on the order to stop and allow the march to proceed . xxmaj according to the court , the accused 's actions had been a “ necessary response ” to the arbitrary actions of the law - enforcement officers for the purposes of xxmaj article 4 of xxmaj legislative xxmaj decree no . 288 of 1944 . xxmaj article 4 reads as follows : \n",
       "  “ xxmaj articles 336 , 337 , 338 , 339 , 341 , 342 and 343 of the xxmaj criminal xxmaj code [ making punishable various acts of resistance against law - enforcement officers ] shall not apply where the xxmaj state agent or person authorised to exercise public authority caused the offence contemplated in those xxmaj articles by overstepping the limits of his or her authority through arbitrary acts . ” \n",
       "  125.the xxmaj district xxmaj court decided to forward the file to the public prosecutor 's office on the ground that the statements made by xxmaj mr xxmaj mondelli and two other law - enforcement officers ( to the effect that the attack had been necessary to counter the aggression shown by the demonstrators ) did not match the facts . \n",
       "  xxunk 3.30 p.m. , although the demonstrators may still have felt a sense of abuse and injustice , their conduct had no longer been defensive but had been driven by a desire for revenge ; it was therefore unjustified and punishable . \n",
       "  127.the charge ordered by police officer xxmaj lauro , which had triggered the events on xxmaj piazza xxmaj alimonda , had been neither unlawful nor arbitrary . xxmaj as a result , the violent reaction by the demonstrators , which had led to the carabinieri being pursued and the jeep being attacked , could not be regarded as a defensive response . \n",
       "  128.the carabinieri in the jeep might well have feared that they would be subjected to an attempted lynching . xxmaj the fact that the demonstrators surrounding them did not have xxmaj molotov cocktails and were therefore not in a position to set the vehicle on fire was a factor that could be appreciated with hindsight . xxmaj the occupants of the jeep could not be blamed for having panicked . \n",
       "  129 . xxmaj carlo xxmaj giuliani had probably been four metres from the jeep when he was shot down . xxup m.p. had stated that he could only see what was happening inside the vehicle . xxmaj when the shot was fired , he had been lying down with his feet pointing towards the rear door of the vehicle . xxmaj he had pulled xxup d.r. down on top of him and could not see his own hand ; he was unable to say whether it had been inside or outside the jeep . xxmaj in any event , he had fired upwards . \n",
       "  130.the xxmaj district xxmaj court judgment mentions the statements made by the expert xxmaj xxunk xxmaj salvi , who performed the autopsy on xxmaj carlo xxmaj giuliani 's body . xxmaj mr xxmaj salvi stated in particular that the trajectory of the fatal bullet indicated a direct shot and that the metal fragment lodged in the victim 's body had been very difficult to find . xxmaj the fragment , which had shown up on the scan ( see paragraph 60 above ) , “ must have been very small ” ; the experts had tried to locate it by going through the brain tissue section by section ( per xxunk ) , although the latter had been damaged and xxunk with blood . xxmaj the more the experts worked , the more damaged the tissue had become . xxmaj given that the fragment was not a bullet and was of no use for ballistics purposes , the experts had considered it to be a minor detail ( un particolare xxunk ) and had not pursued their search . \n",
       "  2.the appeal judgment \n",
       "  xxunk - four of the accused appealed against the first - instance judgment . xxmaj in a judgment of 9 xxmaj october 2009 , deposited with the registry on 23december 2009 , the xxmaj genoa xxmaj court of xxmaj appeal partly upheld the convictions handed down by the xxmaj district xxmaj court , increased some of the sentences and declared the prosecution of some of the offences time - barred . \n",
       "  xxunk the carabinieri attack on the xxmaj tute xxmaj bianche march , the xxmaj court of xxmaj appeal largely endorsed the view of the xxmaj district xxmaj court . xxmaj it observed that the carabinieri had encountered the march , which numbered around 10,000 persons , as a result of the route indicated to them by the control room . xxmaj the front of the march , or “ contact group ” , had been made up of around twenty individuals , mostly members of xxmaj parliament , mayors , cultural figures and journalists . xxmaj behind them had been a series of xxmaj xxunk protective devices , joined together ; these were followed by the “ head of the procession ” made up of demonstrators equipped with helmets and shoulder and arm protectors . xxmaj the march had not encountered the scenes of any clashes but had simply proceeded for about two kilometres without meeting any obstacle . xxmaj the protective equipment showed that , although they were not carrying blunt instruments , the demonstrators had been prepared for possible clashes . \n",
       "  xxunk these circumstances it was difficult to understand why officers xxmaj bruno and xxmaj mondelli had decided to launch an attack on the march . xxmaj they had not received any orders to that effect ; on the contrary , they had been requested to avoid crossing the marchers ' path . xxmaj the news that an attack was in progress had been greeted with cries of disapproval in the control room . \n",
       "  134.the carabinieri had been summoned to intervene urgently in xxmaj xxunk xxmaj prison , where law - enforcement officers were struggling to cope with an attack by the xxmaj black xxmaj bloc . xxmaj accordingly , when they encountered the march they had attempted to clear the junction and the tunnel through which they wished to pass . xxmaj according to the witness testimony of one journalist , judged to be “ neutral ” and therefore credible , youths belonging to the xxmaj black xxmaj bloc arriving from the opposite direction to the marchers had thrown stones at the carabinieri ; this had led to the order to fire tear gas , given by xxunk . xxmaj the xxmaj court of xxmaj appeal concluded that , although the charge by the carabinieri had been illegitimate , they had been called upon to intervene in a situation characterised by violence from the xxmaj black xxmaj bloc demonstrators , who had earlier ransacked other parts of the city , and by the fact that the junction they needed to cross was occupied by the crowd and the tunnel was blocked by barricades . \n",
       "  135.in the xxmaj court of xxmaj appeal 's view , the xxmaj district xxmaj court had correctly found the following actions by the carabinieri to be illegitimate : \n",
       "  ( a)the firing of tear gas at chest height ; \n",
       "  ( b)the failure to order the dispersal of the marchers , who were not causing a disturbance and who could only have entered the red zone much further on , at xxmaj piazza xxmaj verdi ; \n",
       "  ( c)the attack on an authorised , peaceful march made up of unarmed demonstrators . xxmaj while the xxmaj black xxmaj bloc had created serious disturbances elsewhere in the city , there was no proof that they were being “ covered ” by the marchers , that is , that they had hidden amongst them before or after committing acts of vandalism . \n",
       "  xxunk , there had been arbitrary acts in the form of : the use of non - regulation batons ( xxunk ) ( pieces of wood or iron wrapped in adhesive tape and a source of serious cuts and bleeding ) ; the use of armoured vehicles to make “ xxunk ” amidst the demonstrators , pursuing some of them at high speed along the pavement ( the xxmaj court of xxmaj appeal observed that the vehicles did not have sufficiently safe brakes and that one of them had pursued a demonstrator in xxunk fashion , as if attempting to run him over ) ; the infliction of excessive injury and the beating of demonstrators , journalists and an ambulance driver . \n",
       "  137.the illegitimate and arbitrary attack had produced a reaction from the demonstrators which was not punishable in view of the grounds of justification provided for in xxmaj article 4 of xxmaj legislative xxmaj decree no . 288 of 1944 . xxmaj however , once the carabinieri had withdrawn and an armoured vehicle had broken down , the demonstrators had no longer been in danger . xxmaj hence , the attack on the vehicle and its occupants had not constituted a defensive act , but an act of retaliation . xxmaj from that point onwards the xxmaj tute xxmaj bianche had “ reclaimed ” their right of assembly and protest , and any further acts of violence and vandalism on their part , including the damage to the armoured vehicle , amounted to a criminal offence . \n",
       "  138.the xxmaj court of xxmaj appeal endorsed the xxmaj district xxmaj court 's view that , despite their violent response , the marchers had not been guilty of the offence of criminal damage . xxmaj the damage caused had been minor and had resulted from the use of objects ( cars and refuse containers ) as protection against the carabinieri . xxmaj unlike the xxmaj black xxmaj bloc , the xxmaj tute xxmaj bianche had not taken to the streets with the intention of damaging public or private property symbolising the system they opposed . xxmaj the damage had been confined to the fairly small area in which the response had occurred and , by and large , had ceased with the withdrawal of the carabinieri . xxmaj although “ disquieting ” , the fact that the demonstrators in the front lines had worn protectors could not give rise to the assumption that they had intended to engage in acts of violence . \n",
       "  h.the audiovisual material produced by the parties \n",
       "  xxunk the proceedings before the xxmaj court the parties submitted a large volume of audiovisual material . xxmaj the xxup cd - roms produced by the xxmaj government and the applicants on 28 xxmaj june and 9 xxmaj july 2010 respectively were viewed by the judges of the xxmaj grand xxmaj chamber on 27 xxmaj september 2010 ( see paragraph 9 above ) . xxmaj these show several phases in the demonstrations that took place in xxmaj genoa on 20 xxmaj july 2001 and contain images of the moments before and after the shot which killed xxmaj carlo xxmaj giuliani . xxmaj they also show the violence perpetrated by the demonstrators ( throwing of stones , charges on the law - enforcement agencies , acts of vandalism in the street and against police and carabinieri vehicles ) and violence imputable to the authorities . xxmaj some of the footage shows police armoured vehicles pursuing demonstrators at high speed along the pavement and police officers beating a demonstrator lying on the ground . xxmaj the applicants ' xxup cdrom also contains extracts from xxmaj mr xxmaj lauro 's statement and from an interview with xxup m.p. shown on television . \n",
       "  i.the administrative documents produced by the xxmaj government \n",
       "  140.the xxmaj government produced numerous administrative documents from the police authorities , the xxmaj ministry of the xxmaj interior and the xxmaj chamber of xxmaj deputies . xxmaj the documents relevant to the present case noted the following : \n",
       "  –on 6 xxmaj february 2001 the xxmaj public xxmaj safety xxmaj department of the xxmaj interior xxmaj ministry had sent out a circular to all questori reminding them , in particular , that the firing of tear gas should be considered a “ measure of last resort for dealing with particularly serious situations which can not be managed otherwise ” ; \n",
       "  –the xxmaj public xxmaj safety xxmaj department of the xxmaj interior xxmaj ministry had prepared “ an information handbook for xxmaj state police personnel ” which contained guidelines on conduct at the xxmaj genoa xxup g8 ; \n",
       "  –on 17 xxmaj july 2001 – hence , before the xxup g8 – the xxmaj minister of the xxmaj interior had addressed the xxmaj chamber of xxmaj deputies “ on the public - order situation in xxmaj genoa ” ; \n",
       "  –on 23 xxmaj july 2001 the same xxmaj minister had addressed xxmaj parliament on the subject of the “ serious incidents occurring in xxmaj genoa during the xxup g8 summit ” ; \n",
       "  –on 30 and 31 xxmaj july 2001 the xxmaj interior xxmaj ministry 's xxmaj public xxmaj safety xxmaj department had submitted reports on the conduct of the law - enforcement agencies during the search carried out on the night of 21 xxmaj july 2001 in a school occupied by demonstrators , and in a police station where persons had been taken into custody . xxmaj disciplinary action had been proposed against several police officers and the xxmaj genoa questore ; \n",
       "  –on 6 xxmaj august 2001 the inter - regional police directorate had forwarded to the chief of police the findings of an administrative inspection carried out in the xxmaj genoa questura , which pointed to certain organisational problems during the xxup g8 and analysed thirteen “ potentially punishable incidents ” imputable to the law - enforcement agencies emerging from the available audiovisual material ; none of the incidents related to the use of force by xxup m.p. \n",
       "  141.the xxmaj government also produced a memorandum from the xxmaj public xxmaj safety xxmaj department of the xxmaj interior xxmaj ministry dated 4 xxmaj october 2010 , according to which some 18,000 law - enforcement officers had been deployed at the xxup g8 in xxmaj genoa . xxmaj in particular , the xxmaj state had drafted in xxunk “ reinforcements ” including 11,352 “ police operators ” ( police officers , carabinieri , officers of the revenue and forestry police and prison officers ) and 2,750 members of the armed forces . xxmaj of the 11,352 “ police operators ” , 128 belonged to the elite units , while xxunk police officers and xxunk carabinieri belonged to “ mobile units ” ( xxunk mobile ) made up of personnel specially trained and equipped for public - order operations . xxmaj the xxmaj public xxmaj safety xxmaj department indicated that , beginning in xxmaj march 2001 , it had put in place a training programme aimed specifically at personnel taking part in the xxup g8 , with a view to ensuring public - order management based on the principles of democracy and respect for fundamental rights ( hence , participants in the training courses were reminded that the use of force was a measure of last resort ) . xxmaj advanced training seminars had also been organised which explored the dynamics of events such as the xxup g8 summit . \n",
       "  xxup ii.relevant xxup domestic xxup law xxup and xxup practice \n",
       "  xxunk of justification ” \n",
       "  142.the xxmaj criminal xxmaj code ( “ the xxup cc ” ) provides for situations ( cause di xxunk or xxunk ) which may exempt individuals from criminal responsibility and render not punishable conduct which amounts to an offence under the law . xxmaj possible grounds of justification include the legitimate use of weapons and selfdefence . \n",
       "  xxunk use of weapons \n",
       "  143.article 53 of the xxup cc provides that no sanctions may be imposed on \n",
       "  “ a xxmaj state agent who uses or orders the use of weapons or any other means of physical force in the exercise of his or her official duties , where he or she is obliged to do so in order to repel an act of violence or thwart an attempt to resist official authority . xxmaj in any case , he or she shall not be liable where such action is taken to prevent criminal acts entailing massacre , shipwreck , flooding , aviation or railway disasters , intentional homicide , armed robbery or abduction ... xxmaj the law provides for other cases in which the use of weapons or any other means of physical force is authorised . ” \n",
       "  2.self - defence \n",
       "  144.article 52 of the xxup cc provides that no sanctions may be imposed on \n",
       "  “ persons who commit an offence when forced to do so by the need to defend their rights or the rights of others against a real danger of unjust attack , provided that the defensive response is proportionate to the attack . ” \n",
       "  xxunk excess \n",
       "  145.under xxmaj article 55 of the xxup cc , in cases , inter alia , of selfdefence or legitimate use of weapons , where the person concerned has negligently ( xxunk ) overstepped the limits laid down by law or by the competent authority , or dictated by necessity , his or her actions are punishable as negligent conduct to the extent provided for by law . \n",
       "  b.provisions governing public safety \n",
       "  xxunk 18 - 24 of the xxmaj public xxmaj safety xxmaj code ( xxmaj testo xxmaj unico ) of 18 xxmaj june 1931 ( xxmaj no . 773 ) govern public gatherings and assemblies in public places or open to the public . xxmaj where such a gathering is liable to endanger public order or safety , or where offences are committed , the gathering may be dissolved . xxmaj before it is dissolved , the participants must be requested by the lawenforcement agencies to disperse . xxmaj if the request is not complied with , the crowd must be given three formal warnings to disperse . xxmaj if these are not complied with or can not be issued because of revolt or opposition , the police officers or carabinieri order the gathering or assembly to be broken up by force . xxmaj the order is carried out by the police and the armed forces under the command of their respective senior officers . xxmaj refusal to comply with the order to disperse is punishable by a term of imprisonment of between one month and one year and by a fine of between 30 and 413 euros ( xxup eur ) . \n",
       "  c.rules governing the use of weapons \n",
       "  147.in xxmaj february 2001 the xxmaj ministry of the xxmaj interior issued a directive to questori containing general provisions on the use of tear gas and batons ( xxunk ) . xxmaj the use of such equipment must be ordered clearly and expressly by the head of the service after consultation with the questore . xxmaj the personnel must be informed . \n",
       "  148.in addition , xxmaj presidential xxmaj decree xxmaj no . 359 of 5 xxmaj october 1991 lays down the “ criteria for determining the weapons to be issued to the public safety authorities and the xxmaj state police ” . xxmaj the decree contains a description of the various weapons issued as standard ( xxmaj articles 10 to 32 ) , making a distinction between “ personal weapons ” and “ collective weapons ” . xxmaj the personal weapons consist of a pistol which is allocated to the individual for the duration of his or her service ( xxmaj article 3 2 ) . xxmaj he or she must keep the weapon , ensure its upkeep , apply the safety measures provided for at all times and in all situations and participate in the firing exercises organised by the authorities ( xxmaj article 6 1 ) . \n",
       "  149.article 32 states that the authorities “ may issue weapons with xxunk agents ( xxunk xxunk ) ” and that in cases of necessity and urgency the xxmaj minister of the xxmaj interior may authorise police officers who have received ad hoc training to use weapons other than those issued as standard , provided that the weapons have been checked and do not exceed the offensive capacity of the standard - issue weapons ( xxmaj article 37 ) . xxmaj the above - mentioned decree further provides that the standard - issue weapons must be appropriate and proportionate to the requirements of protecting public order and public safety , preventing and dealing with crime and other institutional aims ( xxmaj article 1 ) . \n",
       "  d.the rights of injured parties during the preliminary investigation and following a request by the public prosecutor to discontinue the proceedings \n",
       "  xxunk xxmaj article 79 of the xxmaj code of xxmaj criminal xxmaj procedure ( “ the xxup ccp ” ) , the injured party may apply to join the proceedings as a civil party from the preliminary hearing onwards ; the latter is the hearing at which the judge is called upon to decide whether the accused should be committed for trial . xxmaj before the preliminary hearing , or where no such hearing is held because the case is discontinued at an earlier stage , injured parties may exercise certain powers . xxmaj the relevant provisions of the xxup ccp provide : \n",
       "  xxmaj article 90 \n",
       "  “ xxmaj injured parties shall exercise the rights and powers expressly afforded to them by law and may furthermore , at any stage of the proceedings , submit pleadings and , except in cassation proceedings , request the inclusion of evidence . ” \n",
       "  xxmaj article 101 \n",
       "  “ xxmaj injured parties may appoint a legal representative for the exercise of the rights and powers afforded to them ... ” \n",
       "  xxmaj article 359 1 \n",
       "  “ xxmaj where the public prosecutor orders examinations ... or any other technical operation calling for a specific competence , he or she may appoint ... experts . xxmaj the latter may not refuse to cooperate . ” \n",
       "  xxmaj article 360 \n",
       "  “ 1.where the examinations referred to in xxmaj article 359 ... concern persons , objects or places in a state subject to alteration , the public prosecutor shall inform the accused , the injured party and the lawyers without delay of the date , time and place designated for the briefing of the experts and of the possibility of appointing experts . \n",
       "  ... \n",
       "  3.any lawyers or experts appointed shall have the right to attend the briefing of the experts , participate in the examinations , make observations and express reservations . ” \n",
       "  xxmaj article 392 \n",
       "  “ 1.in the course of the preliminary investigation , the public prosecutor and the accused may apply to the judge for the immediate production of evidence ... \n",
       "  2.the public prosecutor and the accused may also request a forensic examination where such examination , if ordered during the trial , could entail the suspension of the latter for more than 60 days ... . ” \n",
       "  xxmaj article 394 \n",
       "  “ xxunk parties may request the public prosecutor to apply for the immediate production of evidence . \n",
       "  xxunk the public prosecutor refuse that request , he or she shall give reasons for the decision and serve it on the injured party . ” \n",
       "  151.the public prosecutor does not have the power to discontinue the proceedings ; he or she may simply request the investigating judge to do so . xxmaj the injured party may object to that request . xxmaj the relevant provisions of the xxup ccp read as follows : \n",
       "  xxmaj article 409 \n",
       "  “ 1.except in cases where the objection referred to in xxmaj article 410 has been lodged , if the judge grants the request for the proceedings to be discontinued he or she shall make an order to that effect , giving reasons , and return the file to the public prosecutor 's office . ... \n",
       "  2.if the judge rejects the request [ to discontinue the proceedings ] , he or she shall fix the date of the private hearing and shall inform the public prosecutor , the accused and the injured party accordingly . xxmaj the procedure shall be conducted in accordance with xxmaj article 127 . xxmaj the documents shall be deposited with the registry up to the day of the hearing , and copies may be obtained by counsel . \n",
       "  ... \n",
       "  4.after the hearing , if the judge considers additional investigative measures to be necessary , he or she shall issue an order to the public prosecutor detailing the measures and laying down a binding time - limit for their completion . \n",
       "  5.where the circumstances described in paragraph 4 do not apply and the judge rejects the request to discontinue the proceedings , he or she shall issue an order instructing the public prosecutor to draw up the indictment within ten days . ... \n",
       "  6.an appeal against the decision to discontinue the proceedings shall lie to the xxmaj court of xxmaj cassation solely on the grounds of nullity provided for by xxmaj article 127 5 [ in particular failure to comply with the procedural provisions concerning the holding of hearings in private ] . ” \n",
       "  xxmaj article 410 \n",
       "  “ 1.when objecting to the request to discontinue the proceedings , the injured party shall request that the investigation be continued , indicating the purpose of further investigation and requesting the inclusion of the relevant evidence , failing which the objection shall be declared inadmissible . \n",
       "  2.where the objection is declared inadmissible and the accusations are unfounded , the judge shall issue an order discontinuing the proceedings and shall return the file to the public prosecutor 's office . \n",
       "  ... ” \n",
       "  xxunk and cremation \n",
       "  152 . xxmaj article 116 of the implementing provisions of the xxup ccp concerns investigations into deaths where there are grounds for suspecting that a crime has been committed . xxmaj this xxmaj article provides : \n",
       "  “ xxmaj where it is suspected that a person died as the result of a crime , the public prosecutor shall verify the cause of death and , should he or she consider it necessary , shall order an autopsy in accordance with the procedure laid down in xxmaj article 369 of the xxmaj code or apply for the immediate production of evidence ... \n",
       "  ... xxmaj the burial may not take place without an order from the public prosecutor . ” \n",
       "  153.article 79 of xxmaj presidential xxmaj decree no . 285 of 10 xxmaj september 1990 stipulates that cremation must be authorised by the judicial authority where death occurred suddenly or in suspicious circumstances .\n",
       "y: CategoryList\n",
       "0,0,0,0,0\n",
       "Path: .;\n",
       "\n",
       "Valid: LabelList (0 items)\n",
       "x: TextList\n",
       "\n",
       "y: CategoryList\n",
       "\n",
       "Path: .;\n",
       "\n",
       "Test: None, model=SequentialRNN(\n",
       "  (0): MultiBatchEncoder(\n",
       "    (module): AWD_LSTM(\n",
       "      (encoder): Embedding(48128, 400, padding_idx=1)\n",
       "      (encoder_dp): EmbeddingDropout(\n",
       "        (emb): Embedding(48128, 400, padding_idx=1)\n",
       "      )\n",
       "      (rnns): ModuleList(\n",
       "        (0): WeightDropout(\n",
       "          (module): LSTM(400, 1152, batch_first=True)\n",
       "        )\n",
       "        (1): WeightDropout(\n",
       "          (module): LSTM(1152, 1152, batch_first=True)\n",
       "        )\n",
       "        (2): WeightDropout(\n",
       "          (module): LSTM(1152, 400, batch_first=True)\n",
       "        )\n",
       "      )\n",
       "      (input_dp): RNNDropout()\n",
       "      (hidden_dps): ModuleList(\n",
       "        (0): RNNDropout()\n",
       "        (1): RNNDropout()\n",
       "        (2): RNNDropout()\n",
       "      )\n",
       "    )\n",
       "  )\n",
       "  (1): PoolingLinearClassifier(\n",
       "    (layers): Sequential(\n",
       "      (0): BatchNorm1d(1200, eps=1e-05, momentum=0.1, affine=True, track_running_stats=True)\n",
       "      (1): Dropout(p=0.2, inplace=False)\n",
       "      (2): Linear(in_features=1200, out_features=50, bias=True)\n",
       "      (3): ReLU(inplace=True)\n",
       "      (4): BatchNorm1d(50, eps=1e-05, momentum=0.1, affine=True, track_running_stats=True)\n",
       "      (5): Dropout(p=0.1, inplace=False)\n",
       "      (6): Linear(in_features=50, out_features=2, bias=True)\n",
       "    )\n",
       "  )\n",
       "), opt_func=functools.partial(<class 'torch.optim.adam.Adam'>, betas=(0.9, 0.99)), loss_func=FlattenedLoss of CrossEntropyLoss(), metrics=[<function accuracy at 0x0000016792726048>, Precision(average='micro', pos_label=1, eps=1e-09), Recall(average='micro', pos_label=1, eps=1e-09), FBeta(average='micro', pos_label=1, eps=1e-09, beta=2)], true_wd=True, bn_wd=True, wd=0.01, train_bn=True, path=WindowsPath('C:/Users/user/NLP/Data'), model_dir='models', callback_fns=[functools.partial(<class 'fastai.basic_train.Recorder'>, add_time=True, silent=False)], callbacks=[RNNTrainer\n",
       "learn: ...\n",
       "alpha: 2.0\n",
       "beta: 1.0, MixedPrecision\n",
       "learn: ...\n",
       "loss_scale: 65536\n",
       "max_noskip: 1000\n",
       "dynamic: True\n",
       "clip: None\n",
       "flat_master: False\n",
       "max_scale: 16777216\n",
       "loss_fp32: True], layer_groups=[Sequential(\n",
       "  (0): Embedding(48128, 400, padding_idx=1)\n",
       "  (1): EmbeddingDropout(\n",
       "    (emb): Embedding(48128, 400, padding_idx=1)\n",
       "  )\n",
       "), Sequential(\n",
       "  (0): WeightDropout(\n",
       "    (module): LSTM(400, 1152, batch_first=True)\n",
       "  )\n",
       "  (1): RNNDropout()\n",
       "), Sequential(\n",
       "  (0): WeightDropout(\n",
       "    (module): LSTM(1152, 1152, batch_first=True)\n",
       "  )\n",
       "  (1): RNNDropout()\n",
       "), Sequential(\n",
       "  (0): WeightDropout(\n",
       "    (module): LSTM(1152, 400, batch_first=True)\n",
       "  )\n",
       "  (1): RNNDropout()\n",
       "), Sequential(\n",
       "  (0): PoolingLinearClassifier(\n",
       "    (layers): Sequential(\n",
       "      (0): BatchNorm1d(1200, eps=1e-05, momentum=0.1, affine=True, track_running_stats=True)\n",
       "      (1): Dropout(p=0.2, inplace=False)\n",
       "      (2): Linear(in_features=1200, out_features=50, bias=True)\n",
       "      (3): ReLU(inplace=True)\n",
       "      (4): BatchNorm1d(50, eps=1e-05, momentum=0.1, affine=True, track_running_stats=True)\n",
       "      (5): Dropout(p=0.1, inplace=False)\n",
       "      (6): Linear(in_features=50, out_features=2, bias=True)\n",
       "    )\n",
       "  )\n",
       ")], add_time=True, silent=False)"
      ]
     },
     "execution_count": 10,
     "metadata": {},
     "output_type": "execute_result"
    }
   ],
   "source": [
    "learn_c.load('2nd_test20')"
   ]
  },
  {
   "cell_type": "code",
   "execution_count": 11,
   "metadata": {
    "colab": {
     "base_uri": "https://localhost:8080/",
     "height": 934
    },
    "colab_type": "code",
    "executionInfo": {
     "elapsed": 3589,
     "status": "error",
     "timestamp": 1587213744764,
     "user": {
      "displayName": "Irina Carabella",
      "photoUrl": "https://lh3.googleusercontent.com/a-/AOh14Ghc7fU0OvMy7bNgHyLPrhliac5JmVA2O29FjI3rZg=s64",
      "userId": "14771962769165463145"
     },
     "user_tz": -60
    },
    "id": "DUTeCJcCJ3DT",
    "outputId": "62286d4c-4b4d-4217-856e-95546bd2d38b"
   },
   "outputs": [
    {
     "data": {
      "text/html": [
       "<table border=\"1\" class=\"dataframe\">\n",
       "  <thead>\n",
       "    <tr style=\"text-align: left;\">\n",
       "      <th>epoch</th>\n",
       "      <th>train_loss</th>\n",
       "      <th>valid_loss</th>\n",
       "      <th>accuracy</th>\n",
       "      <th>precision</th>\n",
       "      <th>recall</th>\n",
       "      <th>f_beta</th>\n",
       "      <th>time</th>\n",
       "    </tr>\n",
       "  </thead>\n",
       "  <tbody>\n",
       "    <tr>\n",
       "      <td>0</td>\n",
       "      <td>0.586339</td>\n",
       "      <td>#na#</td>\n",
       "      <td>36:51</td>\n",
       "    </tr>\n",
       "  </tbody>\n",
       "</table>"
      ],
      "text/plain": [
       "<IPython.core.display.HTML object>"
      ]
     },
     "metadata": {},
     "output_type": "display_data"
    }
   ],
   "source": [
    "learn_c.freeze_to(-3)\n",
    "learn_c.fit_one_cycle(1, slice(5e-3/(2.6**4), 5e-3), moms=(0.7, 0.6))"
   ]
  },
  {
   "cell_type": "code",
   "execution_count": 12,
   "metadata": {
    "colab": {},
    "colab_type": "code",
    "id": "2VPqtlIAJ3DV"
   },
   "outputs": [],
   "source": [
    "learn_c.save('3rd_test20')"
   ]
  },
  {
   "cell_type": "code",
   "execution_count": 10,
   "metadata": {},
   "outputs": [
    {
     "data": {
      "text/plain": [
       "RNNLearner(data=TextClasDataBunch;\n",
       "\n",
       "Train: LabelList (3131 items)\n",
       "x: TextList\n",
       "xxbos xxup procedure \n",
       "  1.the case originated in an application ( no . xxunk / 03 ) against the xxmaj republic of xxmaj bulgaria lodged with the xxmaj court under xxmaj article 34 of the xxmaj convention for the xxmaj protection of xxmaj human xxmaj rights and xxmaj fundamental xxmaj freedoms ( “ the xxmaj convention ” ) by a xxmaj bulgarian national , xxmaj mr xxmaj xxunk xxmaj xxunk xxmaj pankov ( “ the applicant ” ) , on 28 xxmaj march 2003 . \n",
       "  2.the applicant was represented by xxmaj mr xxup y. xxmaj grozev , a lawyer practising in xxmaj sofia and by xxmaj mr xxup b. xxmaj boev , formerly a lawyer practising in xxmaj sofia , who on 7october 2008 was granted leave under xxmaj rule 36 4 ( a ) in fine of the xxmaj rules of xxmaj court to continue representing the applicant . xxmaj the xxmaj bulgarian xxmaj government ( “ the xxmaj government ” ) were represented by their xxmaj agents , xxmaj ms xxup n. xxmaj nikolova and xxmaj ms xxup s. xxmaj atanasova , of the xxmaj ministry of xxmaj justice . \n",
       "  3.the applicant alleged that his lifethreatening injury sustained during military shooting practice was due to the use of deadly force by another serviceman , that the authorities failed to take the necessary precautions to prevent that from happening , and that the ensuing investigation was not effective . \n",
       "  4.on 4 xxmaj december 2008 the xxmaj president of the xxmaj fifth xxmaj section decided to give notice of the application to the xxmaj government . xxmaj it was also decided to examine the merits of the application at the same time as its admissibility ( xxmaj article 29 3 of the xxmaj convention ) . \n",
       "  xxup the xxup facts \n",
       "  xxup i.the xxup circumstances xxup of xxup the xxup case \n",
       "  5.the applicant was born in 1980 and lives in xxmaj pleven . \n",
       "  a.the incident of 22 xxmaj july 1999 \n",
       "  6.in xxmaj april 1999 the applicant was conscripted into the xxmaj bulgarian xxmaj army to perform his mandatory military service . xxmaj he was serving in a regiment in the town of xxmaj xxunk xxmaj banya . xxmaj in mid - xxmaj july 1999 the regiment doctor relieved him from physical exercise and daily duty because of illness . xxmaj nevertheless , on the night of 21 xxmaj july 1999 he was assigned to night duty . \n",
       "  7.after finishing his duty , in the morning of 22 xxmaj july 1999 the applicant was sent , together with other soldiers from his regiment , to shooting practice at a military shooting range near the town of xxmaj xxunk . xxmaj during the practice soldiers from the applicant 's regiment and another regiment were present on the range . xxmaj the applicant performed his task , which consisted of firing twelve rounds . xxmaj after that he handed back all spent cartridge cases and was sent to a watchtower to guard against outsiders penetrating into the range . xxmaj the tower was a square concrete construction 9.3 metres long and 7metres wide . xxmaj in the middle it had a xxunk chimney . \n",
       "  8.at about 11.10 a.m. , minutes after climbing up the tower , the applicant was shot in the abdomen . xxmaj according to the findings of the ensuing investigation , the shot was fired at close range from his own automatic rifle , whose breechblock he was trying to fix without following the applicable safety procedures . xxmaj the applicant disputes those findings and asserts that the shot was in all probability fired by another soldier from afar . \n",
       "  9.after the shot the applicant fell down on the roof of the tower , screaming and moaning . xxmaj chief xxmaj lieutenant xxup p.p. , who was sitting with a few soldiers from his regiment at the foot of the tower , rushed up the stairs . xxmaj he brought the applicant down with the help of soldier xxup t. and medical officer xxup n.g. , who were also at the foot of the tower and climbed up after the shot . \n",
       "  10.after that the applicant was put into an ambulance and transported , accompanied by medical officer xxup n.g. , to the xxmaj military xxmaj medical xxmaj academy in xxmaj sofia , where he underwent lifesaving surgical operations on 23 , 26 and 27july 1999 . xxmaj on 28 xxmaj july 1999 his condition was found to be serious but stable . xxmaj he was discharged from hospital on 9 xxmaj september 1999 , and later received a medical discharge from the army . \n",
       "  b.the investigation \n",
       "  11.on the day of the incident a military investigator , notified by the military police , opened a preliminary investigation whose aim was to “ determine the causes and the circumstances in which [ the applicant ] shot himself ” . \n",
       "  12.at 2.30 p.m. the investigator inspected the scene of the incident . xxmaj he found that it had not been preserved intact . xxmaj he described in detail everything he found . xxmaj he also identified , on the basis of the statement of xxmaj chief xxmaj lieutenant xxup p.p. , the likely positions of the applicant 's body and of his rifle “ after the shot ” . xxmaj he impounded the rifle , a xxunk and xxunk cartridge case , some pieces of dark reddish matter , dactyloscopic traces from the rifle , and traces from the surface of the tower . \n",
       "  13.later that day the hospital where the applicant had been operated upon sent the investigator the piece of skin surrounding his entry wound and acetone smears from his palms . xxmaj the applicant 's commander handed over to the investigator the shirt he had been wearing during the shooting and some of his personal items . \n",
       "  14.the next day , 23 xxmaj july 1999 , the investigator interviewed xxmaj chief xxmaj lieutenant xxup p.p. , a sergeant responsible for counting the targets at the shooting range , the applicant 's mother , and xxmaj captain xxup y.p. , the officer in charge of the shooting practice . xxmaj he also ordered a complex ballistic , microbiological and physicochemical report and a medical expert report . \n",
       "  xxunk xxmaj lieutenant xxup p.p. said that while he was sitting at the foot of the watchtower he heard a single shot from above , much xxunk than those coming from the firing range , and then heard screaming from the top of the tower . xxmaj he climbed up the stairs and saw the applicant lying on the ground , moaning and xxunk his upper body up and down . xxmaj he noticed that the applicant 's shirt was unbuttoned and that he had a wound on the left side of his abdomen . xxmaj the wound did not have a clear shape and looked more like a star than a hole . xxmaj it was surrounded by a round black patch with a diameter of five to seven centimetres and consisting of many black spots close together . xxmaj the lieutenant saw another wound on the applicant 's back , with a clear round shape , one centimetre in diameter , with a little blood on it . xxmaj he also saw the applicant 's rifle , which did not have a round in its chamber , had its safety lever down and was in xxunk mode . \n",
       "  16.captain xxup y.p. handed over to the investigator the order and the plan for the shooting practice , and described the safety briefing given to all soldiers before the start of the shooting practice . xxmaj he said that after the briefing a chief lieutenant checked the weapons of all soldiers taking part in the practice , and ordered two soldiers to step aside and clean their weapons . xxmaj then the captain announced to the soldiers the manner in which the practice would be conducted and the safety measures . xxmaj they were to fire solely upon his command , and stop firing immediately if he so ordered , or if they received a visual signal from the watchtower , or if they noticed people , animals or machines near the targets . xxmaj the firing range was delimited by xxunk at both ends . xxmaj it was strictly forbidden , under any circumstances , to point a firearm outside the firing range . xxmaj if a firearm jammed , the soldier had to report it immediately , remain still , put the safety catch down and not touch the firearm . xxmaj the soldiers fired in groups of four , with those waiting their turn having unloaded weapons . xxmaj the soldiers first went to the starting point , received magazines containing twelve rounds , and put them in their bags , while keeping their rifles on their backs . xxmaj when they received the order to fire , they had to run to the firing position with their rifles pointing towards the firing range . xxmaj then , on a further order , they had to take the magazines out of the bags , put them onto the rifles , load a round , lift the safety catch and report that they were ready to fire . xxmaj when ordered to fire , after the captain had made sure that each of them had loaded his weapon and was ready to fire , they put the safety catch in automatic firing mode and started firing . xxmaj after finishing firing , they had to report , remove the magazine , and , when ordered , fire a control shot towards the firing range and put the safety catch on . xxmaj after that they had to stand up , have their rifles checked by the captain with the magazine removed , fire a second control shot , and hand back the spent cartridges . xxmaj at the time of the incident a group of soldiers was firing , with the captain standing about two metres behind them . xxmaj immediately after hearing the applicant 's screams the captain ordered the soldiers to stop firing and empty their weapons , and then checked the weapons . \n",
       "  17.the order for the shooting practice , issued by the head of the regiment , designed a commanding officer , an officer , a sergeant and a soldier ensuring the sealing off of the area , a technician , an emergency medical officer , a standby ambulance , two guards , one of whom was the applicant , and a head of the ammunition supply point . xxmaj it directed the commanding officer to ensure compliance with the safety measures in line with the applicable instructions . xxmaj an annex to that order shows that all the soldiers confirmed that they had been briefed about the safety measures . \n",
       "  18.on 27 xxmaj july 1999 the investigator interviewed medical officer xxup n.g. , sergeantmajor xxup g.i. , the person in charge of ammunition safety during the shooting practice , and soldier xxup r.v. of the applicant 's regiment . \n",
       "  xxup xxunk said that , while sitting at the foot of the watchtower , she heard a loud whizzing sound and then screaming . xxmaj she climbed up the tower and saw a wound on the applicant 's abdomen . xxmaj it was a small hole with a round xxunk patch around it . xxmaj later , the officer was with the applicant in the ambulance , she noticed another wound , with a diameter of one centimetre , on the left side of his lower back . xxmaj in the ambulance , she repeatedly asked the applicant how he had sustained the injury , but he kept silent . xxmaj at one point , he said “ i wanted to fix it ” . xxmaj she pressed him for more , but he said “ xxmaj oh , leave me , leave me ” and asked whether they had already reached the hospital . \n",
       "  xxup xxunk said that following the incident , when he had been counting the cartridge cases spent during the shooting practice , somebody , probably xxmaj lieutenant xxup m. , threw a cartridge case on to the pile , and it got mixed up with the others . xxmaj when xxup g.i. enquired about the case 's origin , lieutenant xxup m. had replied that it had come from the scene of the incident . xxmaj later , with a view to identifying the case , the officer in charge of the practice ordered xxup g.i. to divide the cases up into lots . xxmaj he found only one with a diverging serial number , and handed it over to the investigator . xxup g.i. also said that he was certain that the applicant had earlier returned to him all twelve cases of the cartridges allotted to him for the shooting practice . \n",
       "  xxup xxunk said that the applicant had been in a good mood on the day of the incident , that both of them had had their rifles checked and returned their spent cartridge cases after the shooting practice , and that , prior to climbing up the watchtower , the applicant did not have a magazine on his rifle . \n",
       "  22.on 29 xxmaj july 1999 the investigator interviewed the applicant , who was still in the intensive care unit of the emergency surgical department of the xxmaj military xxmaj medical xxmaj academy in xxmaj sofia ( see paragraph 10 above ) . xxmaj according to the record of this interview , the applicant said that while he was on the watchtower he tried to fix his rifle 's sling . xxmaj he knelt down on his right knee and laid the rifle on the ground with the muzzle pointing towards him . xxmaj he noticed that the safety catch was in automatic firing position and the breechblock was not in position . xxmaj with his right hand he pushed the breechblock forward . xxmaj it jammed and he used force to push it , with the rifle 's barrel lying on his left hand and the magazine holder pointing upwards . xxmaj when the breechblock moved into position , he heard a shot . xxmaj he became short of breath and started crying for help . \n",
       "  23.the applicant strongly disputes the accuracy of this record and maintains that , being in a very serious medical condition , he could not remember how this interview unfolded or the statements he made during it . xxmaj he submits that the only reliable statements were those which he made during a subsequent interview on 13 xxmaj september 1999 , four days after his discharge from hospital . xxmaj at that interview he said that before going to the tower he fired all twelve cartridges at the shooting range and then returned the spent cases to sergeantmajor xxup g.i. xxmaj when going up the tower , he noticed two sergeants there , talked to them for a while and then remained alone . xxmaj when standing with his left side toward the shooting range and his rifle slung over his shoulder , he suddenly felt powerless , weak in the knees and short of breath , but did not hear a shot close by . xxmaj he started shouting for help and ten seconds later someone came up to him . \n",
       "  24.on 11 and 17 xxmaj november 1999 the investigator interviewed xxmaj captain xxup v.p. , a staff doctor from the applicant 's regiment , and two soldiers serving with the applicant . xxmaj all of them said that they had not seen any signs of depression in the applicant prior to the incident . \n",
       "  25.the medical expert report ordered by the investigator was drawn up on 28 xxmaj july 1999 by xxmaj dr xxup g.d. , deputy chief of the xxmaj forensic xxmaj medicine xxmaj centre of the xxmaj bulgarian xxmaj army . xxmaj he had not examined the applicant but based his report on the existing medical documentation . xxmaj the report read as follows : \n",
       "  “ ... xxmaj the entry wound is situated on the front left side of the abdomen , slightly above the navel and on the midclavicular line , with burns on the surrounding skin . xxmaj the exit wound is on the left side of the back , under the corner of the scapula . \n",
       "  xxmaj if the body was in an upright position the channel of the wound would go slightly upward from the front to the back . \n",
       "  xxmaj the entry wound 's description in the medical documents shows that it was the result of a shot from a very close range . xxmaj to determine precisely the distance of the shot it is necessary to carry out a ballistic testing of the clothes worn by [ the applicant ] at the time when the shot was fired . \n",
       "  xxmaj when passing through the body the projectile ( the bullet ) , in addition to damaging the soft tissues , broke the twelfth rib on the left , ruptured the front and the back walls of the stomach , the xxunk colon , the splenic flexure ( in two places ) , and the spleen . xxmaj as a result , there was a flow of faeces and a massive haemorrhage in the abdominal cavity , causing a temporarily lifethreatening medical condition . \n",
       "  xxmaj the above necessitated an emergency lifesaving surgery , consisting of a full midline laparotomy , with a drainage of the blood and the faeces from the abdominal cavity and a resection of the xxunk , a xxunk - shaped resection and stitching of the stomach , partial resection of the transversal colon and of the splenic flexure , with a removal of a xxunk xxunk , surgical removal of the spleen , treatment of the fractured rib , lavage and drainage of the abdominal cavity , and laparostoma . \n",
       "  xxmaj after that surgical intervention the bleeding was stopped and the risk to [ the applicant 's ] life was averted , i.e. the case concerns loss of the spleen . \n",
       "  xxmaj it should be borne in mind that without a timely and xxunk medical intervention death would have occurred very rapidly . \n",
       "  xxmaj after the surgical intervention [ the applicant ] was placed in an intensive care unit . xxmaj following xxmaj xray data about a haemorrhage in the left pleural cavity on 23 xxmaj july 1999 , a left - side xxunk ( drainage of the pleural fluid ) was carried out . xxmaj on 26 xxmaj july 1999 a surgical bandage was made , and on 27 xxmaj july 1999 – a second laparotomy with a revision of the laparostoma and of the abdominal cavity was carried out , a local aesthetic was applied on the mesentery , xxunk and xxunk of the small intestine through it were performed , and a new laparostoma was placed . xxmaj after the surgical intervention the [ applicant ] was again placed in an intensive care unit . xxmaj on 28july 1999 his condition was assessed as being stable but serious . ” \n",
       "  26.on 10 xxmaj september 1999 a biology expert drew up a report saying that the blood - red dry matter taken from the scene of the incident was indeed human blood . xxmaj however , as a result of the depletion of the sample , it was impossible to determine its type or to tell whether it was identical with the applicant 's blood . xxmaj the applicant 's shirt had blood on it . \n",
       "  27.in a report of 14 xxmaj september 1999 three experts stated that the applicant 's rifle was in good working order and able to produce a shot . xxmaj the force needed to be applied to the trigger in order to fire was within the acceptable limits . xxmaj they further found that the rifle had been fired since it had last been cleaned , and that the cartridge case handed over by sergeantmajor xxup g.i. to the investigator did not come from that rifle . \n",
       "  28.in a physicochemical report of 4 xxmaj october 1999 two experts said that they had been unable to conclude whether the gunpowder from the rifle 's barrel was identical to that taken from the applicant 's shirt . xxmaj they also said that the smears from the applicant 's palms and wrist - bands did not contain traces of a shot . \n",
       "  c.the discontinuance of the investigation and the applicant 's appeals \n",
       "  29.on 22 xxmaj november 1999 the investigator proposed discontinuing the investigation . xxmaj he found that the applicant had shot himself at close range . xxmaj there was no evidence pointing to breaches of the regulations on conducting shooting exercises or the applicable safety rules . xxmaj nor was there any indication that the applicant had had psychological problems or depression which could push him to commit suicide , or that he had tried to damage his health with a view to evading military service . xxmaj the evidence thus led to the conclusion that his injury was the result of an accidental shot fired because of his improper handling of his firearm . \n",
       "  30.on 30 xxmaj november 1999 the xxmaj sofia xxmaj military xxmaj regional xxmaj prosecutor 's xxmaj office decided to discontinue the investigation , repeating the reasons given by the investigator verbatim . \n",
       "  31.on 9 xxmaj april 2001 the applicant appealed to the xxmaj military xxmaj appellate xxmaj prosecutor 's xxmaj office . xxmaj he argued , among other things , that the authorities had explored solely the version that he had shot himself . xxmaj no expert report had been drawn up on the identity of the firearm which had produced the shot . xxmaj it was absurd to think that this was the rifle he had been carrying while on the watchtower , because it had not been loaded and had its safety catch down . xxmaj his clothes had not been examined by an expert and it was therefore impossible to conclude whether or nor the shot had been fired at close range . xxmaj the medical expert report was not based on primary medical documents and had thus come to the erroneous conclusion that the bullet had left his body , producing a second wound on his back . xxmaj there were indications , such as the noise of the shot , noted by the witnesses , that he had been wounded by a xxunk and that the bullet had shattered . \n",
       "  32.on 18 xxmaj june 2002 the xxmaj military xxmaj appellate xxmaj prosecutor 's xxmaj office dismissed the appeal . xxmaj it noted that during his interview on 29 xxmaj july 1999 the applicant had stated that he had shot himself . xxmaj moreover , the medical expert had found that he had both an entry and an exit wound . xxmaj the medical documents showed that the wound was from a shot fired at close range . xxmaj xxunk else was around the applicant at the time of the shot . xxmaj the lower prosecutor 's findings were thus correct . \n",
       "  33.on 9 xxmaj july 2002 the applicant appealed to the xxmaj chief xxmaj prosecutor . xxmaj he asserted that his statement of 29 xxmaj july 1999 was far from reliable . xxmaj at that time he had been in hospital , in a very bad condition following several lifesaving operations . xxmaj it was therefore surprising to see that the official record of this statement seemed so detailed and logical . xxmaj no expert report had been drawn up on the identity of the firearm which had produced the shot , whereas the evidence showing that it had been fired by his rifle was unreliable and was called into doubt by other evidence . xxmaj there was no evidence showing that the shot had been fired at close range . xxmaj lastly , no consideration had been given to the fact that he had been ordered to take part in the shooting exercises after night duty and while he was ill . \n",
       "  34.on 11 xxmaj october 2002 the xxmaj supreme xxmaj cassation xxmaj prosecutor 's xxmaj office dismissed the appeal . xxmaj it observed that the testing of the piece of skin surrounding the applicant 's entry wound showed that the shot had been fired at close range . xxmaj this was consistent with the applicant 's statement of 29 xxmaj july 1999 and the statement of medical officer xxup n.g. xxmaj it was impossible to examine the bullet , because it had not been found . xxmaj it was established that the spent cartridge case handed over to the investigator by sergeantmajor xxup g.i. did not come from the applicant 's rifle . xxmaj however , it could not be ruled out that xxup g.i. had mistakenly identified it as the one thrown on to the pile by lieutenant xxup m. , given that the pile contained in total more than nine hundred spent cartridge cases . xxmaj even if all of them were to be tested , which was impossible in view of the time elapsed since the events , that would not have led to a definite conclusion about the firearm 's identity . xxmaj the lower prosecutors had thus correctly found that the applicant had injured himself by handling his rifle improperly . xxmaj there was no indication that other soldiers had shot him or that he had injured himself deliberately . \n",
       "  d.the private expert opinion obtained by the applicant in xxmaj june 2003 \n",
       "  35.on 11 xxmaj june 2003 the applicant 's representative before the xxmaj court wrote to xxmaj dr xxup p.l. , the head of the forensic department of the xxmaj pleven xxmaj medical xxmaj university . xxmaj he sent him the relevant medical documents and asked for his opinion on ( a ) whether the description of the applicant 's wound was comprehensive ; ( b ) whether it was possible to determine , on the basis of that description , the distance from which the shot had been fired ; ( c ) what could be the exact basis for such determination ; ( d ) what could be the possibility for error ; and ( e ) what type of data would allow a more precise determination of the distance from which the shot had been fired . \n",
       "  36.dr xxup p.l. 's opinion , drawn up on 13 xxmaj june 2003 , read as follows : \n",
       "  “ xxmaj the questions you pose in your letter ... may be answered like this : \n",
       "  1.the description , which says ' visible entry wound in the abdominal area , at the midclavicular line , slightly above the navel , with burns ' , is not detailed – the shape of the wound , the condition of the edges , the size of the wound ( diameter or xxunk ) , the size of the ' burn ' and its position relative to the edges of the wound – xxunk or eccentric – are lacking . \n",
       "  2.on the basis of that description , one could make the very general conclusion that the wound was the result of a shot from a close distance . xxmaj indeed , the shot could have been even a contact one , if it was fired through several layers of clothing , or thicker , or damp clothing . \n",
       "  xxmaj in forensic medicine , shot distances are categorised in three ways : contact shots ( complete or incomplete ) , closedistance shots ( within the range of action of the shot 's additional effects ) , and xxunk shots ( outside the range of action of the shot 's additional effects ) , without this being linked with a concrete distance in centimetres or meters . \n",
       "  3.the basis for the conclusion in point 2 is the fact that the wound was surrounded by a ring , described as a ' burn ' . \n",
       "  4.in the case of closedistance shots ( and sometimes in the case of contact shots ) , one can see traces of unburned powder , metal particles , xxunk , etc . around the wound ( the socalled ' stain ring ' or ' blackened ring ' ) . xxmaj the range at which those can make an impact ( in the case of a shot with a xxmaj kalashnikov rifle ) is twentyfive to thirty centimetres . xxmaj with the increase in the distance , the intensity of those additional effects of the shot diminishes . \n",
       "  xxmaj there is no burning around an entry firearm wound because the action of the flame and the hot gases is short - term . xxmaj sometimes one can find traces of the high xxunk slight burning of thin or more tender hairs or of artificial tissues . \n",
       "  xxmaj the ' stain ring ' around the wound is a result of the mechanical action of the blacks and of the other particles and their ramming into the skin , as well as of the chemical action of the powder gases and the other residues from the shot . \n",
       "  xxmaj it is also possible that the so - called ' burn ' was in fact a ' muzzle mark ' – a bruise around the entry wound resulting from the impact of the muzzle in the case of a full contact shot . xxmaj such marks are characteristic for shots in the head or in areas having a solid surface ( bone ) underneath , but can sometimes occur in cases of shots in the abdominal area . xxmaj the available description does not allow a more specific conclusion to be drawn . \n",
       "  xxmaj the possibility for error when concluding that a shot has been fired from a close distance on the basis of a ' stain ring ' is minimal . xxmaj the medical literature refers to the so - called ' phenomenon of xxmaj vinogradov ' , in which such a ring appears after a shot from a distance of even several hundred meters . xxmaj however , such occurrences are rare and do not correspond to the description of the wound in the present case . xxmaj the description of the wound allows one to conclude that the shot was fired either from a close distance or that it was a contact shot . a long - distance shot is to be excluded . \n",
       "  5.it would be possible to make a more specific assessment of the distance from which the shot has been fired on the basis of : \n",
       "  –a more detailed medical description ( as mentioned in point 1 ) ; \n",
       "  xxunk information about the conditions in which the shot was fired ( clothes , type of bullet , etc . ) ; \n",
       "  –a special analysis determining the composition of the stain around the wound or on the clothes ; \n",
       "  xxunk shots with the same weapon and in the same conditions as the shot under consideration . ” \n",
       "  xxup ii.relevant xxup domestic xxup law \n",
       "  37.article 192 of the 1974 xxmaj code of xxmaj criminal xxmaj procedure , as in force at the material time , provided that proceedings concerning publicly prosecutable offences could be initiated only by a prosecutor or an investigator . xxmaj when military courts had jurisdiction to hear a case , as for example when it concerned soldiers or army officers ( xxmaj article 388 1(1 ) of the xxmaj code ) , the responsibility for conducting the preliminary investigation lay with military investigators and prosecutors . \n",
       "  38.under xxmaj article 237 1 ( 1 ) of the xxmaj code , as in force at the relevant time , prosecutors were to discontinue an investigation if they found that the matters alleged did not amount to a criminal offence . xxmaj until 31 xxmaj december 1999 their decisions to do so could be appealed against before the superior prosecutor ( paragraph 6 of that xxmaj article , as in force until 31 xxmaj december 1999 ) . \n",
       "  39.paragraphs 3 and 4 of xxmaj article 237 of the xxmaj code , as in force between 1january 2000 and 30 xxmaj april 2001 , provided that after the discontinuance the prosecutor had to send the case file and his decision to the superior prosecutor 's office , which could confirm , modify or quash it . xxmaj if it confirmed the decision , it had to send the case file to the appropriate court , which had to rule in private as to whether the discontinuation was or was not warranted ( xxmaj article 237 5 , 6 and 7 of the xxmaj code , as in force at that time ) . xxmaj paragraph 9 of that xxmaj article provided that no appeal lay against the court 's decision . xxmaj no provision was made for the victim of the offence to be notified of the discontinuance . \n",
       "  40.article 237 of the xxmaj code was completely changed with effect from 1may 2001 and from that point on provided that the prosecutor 's decision to discontinue the proceedings was to be served on the accused and on the victim of the offence . xxmaj either of them could then seek judicial review . \n",
       "  41.under the 2005 xxmaj code of xxmaj criminal xxmaj procedure , which superseded the 1974 xxmaj code on 29 xxmaj april 2006 , a prosecutor 's decision to discontinue an investigation is served on the accused and the victim of the offence and is subject to judicial review by the relevant firstinstance court . xxmaj an appeal lies against the court 's decision to the higher court , whose decision is final ( xxmaj article 243 37 of that xxmaj code ) . \n",
       " ,xxbos xxup procedure \n",
       "  1.the case originated in an application ( no . xxunk / 04 ) against the xxmaj republic of xxmaj bulgaria lodged with the xxmaj court under xxmaj article 34 of the xxmaj convention for the xxmaj protection of xxmaj human xxmaj rights and xxmaj fundamental xxmaj freedoms ( “ the xxmaj convention ” ) by two xxmaj bulgarian nationals , xxmaj ms xxmaj xxunk xxmaj vasileva xxmaj stoyanova and xxmaj mr xxmaj xxunk xxmaj kirilov xxmaj stoyanov ( “ the applicants ” ) , on 25november 2004 . \n",
       "  2.the applicants were represented by xxmaj mr xxup y. xxmaj grozev , a lawyer practising in xxmaj sofia , and xxmaj mr xxup b. xxmaj boev , a legal officer at xxmaj article 19 , a nongovernmental organisation based in xxmaj london . xxmaj on 8 xxmaj october 2008 the xxmaj president of the xxmaj fifth xxmaj section granted leave to xxmaj mr xxmaj boev to represent the applicants , in accordance with xxmaj rule 36 4 ( a ) in fine of the xxmaj rules of xxmaj court . xxmaj the xxmaj bulgarian xxmaj government ( “ the xxmaj government ” ) were represented by their xxmaj agent , msm.dimova , of the xxmaj ministry of xxmaj justice . \n",
       "  3.the applicants alleged that the xxmaj state was responsible for the death of their son , an army officer , and that it had failed to respond to his death in an effective manner . \n",
       "  4.on 6 xxmaj january 2009 the xxmaj president of the xxmaj fifth xxmaj section decided to give notice of the application to the xxmaj government . xxmaj it was also decided to examine the merits of the application at the same time as its admissibility ( xxmaj article 29 of the xxmaj convention ) . \n",
       "  xxup the xxup facts \n",
       "  xxup i.the xxup circumstances xxup of xxup the xxup case \n",
       "  5.the applicants were born in 1946 and 1938 respectively and live in xxmaj xxunk . \n",
       "  6.on 27 xxmaj may 1998 their son , xxmaj mr xxmaj rosen xxmaj stoyanov , born in 1967 , a parachute instructor in the xxmaj bulgarian xxmaj army , died when performing a parachute jump from a xxmaj mi-17 helicopter during a training exercise of the xxmaj ministry of the xxmaj interior 's xxmaj special xxmaj anti - xxmaj terrorism xxmaj squad . \n",
       "  1.the 27 xxmaj may 1998 accident \n",
       "  xxunk paratroopers were scheduled to jump on that day . xxmaj before getting into the helicopter they were examined by a doctor who confirmed that they were physically fit . xxmaj the helicopter took off at 1 p.m. and several minutes later reached a height of about 1,100 metres . xxmaj immediately before the start of the parachute jumps xxmaj chief xxmaj sergeant xxup t. , in charge of the jumps , instructed the helicopter 's pilots to speed up . xxmaj the pilots responded “ xxmaj you have it ” . xxmaj it is unclear what the exact speed thus reached was , because , as it was established later , the helicopter 's device recording the parameters of the flight had not been loaded with a tape . \n",
       "  8.one of the paratroopers , xxmaj mr xxup g. , jumped first . xxmaj immediately after the jump , his body was thrust back by the air stream and his head passed about 20 centimetres from the left rear tyre of the helicopter . \n",
       "  9.the applicants ' son jumped four seconds later . xxmaj immediately after the jump , his head hit the left rear tyre of the helicopter and he became unconscious . xxmaj his body fell freely and hit the ground . \n",
       "  xxunk seconds later the next xxunk , xxmaj mr xxup v. , jumped . xxmaj his head also hit the left rear tyre of the helicopter and he became unconscious . xxmaj sixty to seventy metres from the ground he regained consciousness and attempted unsuccessfully to open his parachute . xxmaj his body also hit the ground . \n",
       "  11.after the accidents with the applicants ' son and xxmaj mr xxup v. the parachute jumps stopped and the helicopter landed . xxmaj the two bodies were located soon afterwards . \n",
       "  2.the internal inquiry \n",
       "  12.on 27 xxmaj may 1998 the xxmaj ministers of the xxmaj interior and xxmaj defence appointed a ten - member commission to investigate the reasons that had led to the fatal accident . xxmaj the commission , which included paratroopers , doctors and other experts , conducted inspections , interviewed witnesses and examined documents . xxmaj on 6 xxmaj june 1998 it presented an interim report proposing , with a view to establishing properly the circumstances of the accident , that an experiment with a dummy being thrown from a helicopter at different speeds be carried out and that the helicopter 's manufacturer be asked for additional technical information . xxmaj however , it appears that none of these actions was taken . \n",
       "  13.on 24 xxmaj june 1998 the commission submitted its final report . xxmaj it established that after xxmaj chief xxmaj sergeant xxup t. had instructed the crew to speed up ( see paragraph 7 above ) , the helicopter had increased its speed from about 150 to about 200 km / h. xxmaj this estimation was based on ground control data . \n",
       "  14.furthermore , the commission established that the helicopter , which was built in 1986 , had been in a good state of technical repair , and that its equipment had been functioning well during the fatal flight . xxmaj the three members of the crew were experienced and qualified . xxmaj the commission established that up to 27 xxmaj may 1998 xxmaj mr xxmaj rosen xxmaj stoyanov had performed 450 parachute jumps , 112 of which were from a xxmaj mi-17 helicopter . xxmaj mr xxup v. had performed 178 jumps , 120 of which were from a xxmaj mi-17 helicopter . \n",
       "  15.the commission concluded that the accident had been caused by \n",
       "  “ the inappropriate speed of the helicopter and the position of the paratroopers ' bodies at the time of jumping , not in conformity with that speed ” . \n",
       "  xxmaj additionally , the accident had been due to : \n",
       "  “ 1 ) incomplete coordination between the helicopter 's crew and the paratroopers ; xxunk in the preparation and conduct of the flight on the part of the helicopter 's crew ; and 3 ) shortcomings in the organisation and the conducting of the parachute jumps on the part of the xxmaj ministry of the xxmaj interior 's xxmaj special xxmaj anti - xxmaj terrorism xxmaj squad . ” \n",
       "  16.the commission criticised the failure of the officials responsible for the organisation of the flight to load the helicopter 's recording device with a tape ( see paragraph 7 above ) , which was against the rules . \n",
       "  17.furthermore , the commission criticised xxmaj chief xxmaj sergeant xxup t. 's failure to communicate to the crew the exact speed he needed when he requested them to speed up . xxmaj neither had the speed at which the jumps were to be performed been indicated by the officer in charge of the training ( he had remained on the ground ) before the helicopter took off . \n",
       "  18.the commission recommended various measures for the prevention of similar accidents in the future , mostly concerning the training of paratroopers and flight preparation . xxmaj it is unclear whether any of them were put into practice . \n",
       "  19.on 30 xxmaj june 1998 the commission 's report was affirmed by the xxmaj minister of xxmaj defence , but not by the xxmaj minister of the xxmaj interior . xxmaj subsequently , the document was extended to the prosecuting authorities who investigated the deaths of xxmaj mr xxmaj stoyanov and xxmaj mr xxup v. ( see below ) . \n",
       "  3.the criminal proceedings \n",
       "  20.on 27 xxmaj may 1998 the xxmaj sofia military regional prosecutor 's office opened a preliminary investigation into the accident . \n",
       "  ( xxunk investigative actions \n",
       "  xxup 21.a post - mortem examination of the bodies of the applicants ' son and mrv. was carried out on 28 xxmaj may 1998 . xxmaj it concluded that the death had been caused by “ numerous traumas incompatible with the maintenance of life ” . xxmaj there were no traces of alcohol or poison in the blood . \n",
       "  xxunk were any traces of alcohol or poison found in the crew members ' blood . \n",
       "  xxunk xxup o. , the flight captain , was questioned on 28 xxmaj may 1998 . xxmaj he stated that the helicopter had been checked and found to be in good technical repair just before the flight . xxmaj furthermore , he stated that after xxmaj chief xxmaj sergeant xxup t. had asked the pilots to speed up he had increased speed from 130 to 150 km / h. xxmaj after the first three paratroopers had jumped , he had been told to land as two of the paratroopers ' parachutes had not opened . \n",
       "  xxunk xxmaj sergeant xxup a. , the flight engineer , was questioned on 1 xxmaj june 1998 . xxmaj he also testified that the helicopter 's speed at the time when the parachute jumps had started had been 150 km / h. xxmaj the speed and the height had not changed during the jumps . xxmaj when jumping from the helicopter , mrg. had plunged energetically and xxmaj mr xxmaj rosen xxmaj stoyanov and xxmaj mr xxup v. had not , which , in xxmaj senior xxmaj sergeant xxup a. 's view , had been the reason for the fatal accident . \n",
       "  25.on 29 xxmaj may 1998 xxmaj mr xxup g. , who had jumped before xxmaj mr xxmaj stoyanov , testified that immediately after jumping he had felt an unexpectedly strong air stream . \n",
       "  xxunk xxmaj sergeant xxup p. , who had been on board the helicopter , was questioned on 29 xxmaj may 1998 . xxmaj he explained that he had seen xxmaj mr xxup g. 's head pass about 20 centimetres from the helicopter 's left rear tyre and then xxunk xxmaj stoyanov and xxmaj mr xxup v. hit the tyre . xxmaj because of the force of the blow , xxmaj mr xxmaj stoyanov 's body had turned several times in the air . \n",
       "  xxunk xxup d. , who had also been in the helicopter , testified that he , too , had seen xxmaj mr xxmaj rosen xxmaj stoyanov 's head hit the tyre . xxmaj captain xxup c. , who had also been on board , described the position of xxmaj mr xxup g. 's body immediately after he had jumped as “ totally abnormal ” . \n",
       "  xxunk xxmaj sergeant xxup t. , who had been in charge of the jumps and had been scheduled to jump after xxmaj mr xxup v. , was questioned on 29 xxmaj may 1998 . xxmaj he explained that he had not seen xxmaj mr xxmaj rosen xxmaj stoyanov and xxmaj mr xxup v. hit the tyre but had become aware of the abnormal position of xxmaj mr xxup v. 's body and had not jumped . xxmaj he had not noticed any change in the speed , height or direction of the helicopter during the parachute jumps . \n",
       "  29.during the first several weeks after 27 xxmaj may 1998 the investigator in charge of the case examined other witnesses , conducted inspections and collected documentary evidence . \n",
       "  30.on 28 xxmaj may 1998 he appointed the members of the internal inquiry commission of the xxmaj ministries of the xxmaj interior and xxmaj defence ( see paragraphs 12 - 19 above ) as experts in the criminal proceedings , with the task of determining the cause of the two paratroopers ' deaths . xxmaj since the experts failed to submit a report within the months that followed , on 25 xxmaj november 1998 a prosecutor from the xxmaj sofia military regional prosecutor 's office stayed the proceedings . \n",
       "  ( b)subsequent developments \n",
       "  31.on several occasions in 1999 and early 2000 the xxmaj sofia military regional prosecutor 's office sent letters to the xxmaj ministries of the xxmaj interior and xxmaj defence requesting that their officials appointed as experts prepare and submit a report for the purposes of the criminal proceedings . \n",
       "  32.on 18 xxmaj april 2000 the criminal proceedings were resumed and the prosecutor in charge of the case appointed a new group of experts from the xxmaj national xxmaj military xxmaj university in xxmaj xxunk xxmaj xxunk , with the task of assessing the reasons for the deaths of the applicants ' son and xxmaj mr xxup v. \n",
       "  33.on 25 xxmaj april 2000 the experts submitted their conclusions , specifying that the information they had been given was insufficient , there being no data on the exact parameters of the flight , and also that they were not experts in xxunk ; therefore , they were not able to draw up a formal expert report . \n",
       "  34.the experts considered that the helicopter 's speed at the time of xxunk xxmaj stoyanov 's and xxmaj mr xxup v. 's jumps had been between 150 and 170 km / h. xxmaj however , in their view , the speed was not related to the fatal accident , which had instead been caused by the two paratroopers ' jumping technique ; this had not been in compliance with the respective instructions for performing parachute jumps . \n",
       "  35.in xxmaj july and xxmaj october 2000 the xxmaj sofia military regional prosecutor 's office sent new letters to the xxmaj ministries of the xxmaj interior and xxmaj defence requesting again that the experts appointed on 28 xxmaj may 1998 ( see paragraph 30 above ) draw up a formal report . \n",
       "  36.on 17 xxmaj november 2000 the xxmaj ministry of xxmaj defence experts submitted their report . xxmaj the group included four paratroopers and a doctor . xxmaj the xxmaj ministry of the xxmaj interior experts did not sign the document . \n",
       "  37.on the basis of ground control data , the xxmaj ministry of xxmaj defence experts established that the helicopter 's speed at the time of xxmaj mr xxmaj rosen xxmaj stoyanov 's and xxmaj mr xxup v. 's jumps had been 210 km / h. xxmaj the experts were of the opinion that xxmaj mr xxmaj stoyanov and xxmaj mr xxup v. had not committed any errors when jumping from the helicopter , but pointed out that they did not possess the expertise to assess whether the helicopter 's crew had committed any errors that might have led to the tragic accident . xxmaj the experts noted that the two paratroopers ' parachutes had been well packed and in good repair and that the weather conditions at the time had not affected the flight . \n",
       "  ( xxunk of the criminal proceedings \n",
       "  38.on 4 xxmaj february 2002 a prosecutor from the xxmaj sofia military regional prosecutor 's office discontinued the criminal proceedings . xxmaj relying on witness testimony and the conclusions of the xxmaj national xxmaj military xxmaj university experts ( see paragraph 34 above ) , he found that the helicopter 's speed and course of flight did not change significantly during the parachute jumps and were not related to the fatal accident . xxmaj he accepted that sufficient data could not be collected to assess whether the helicopter 's crew had committed any errors and that the applicants ' son and xxmaj mr xxup v. had not complied with the respective instructions on performing parachute jumps . \n",
       "  39.on an appeal by the applicants , on 6 xxmaj august 2002 the xxmaj sofia xxmaj military xxmaj court quashed the prosecutor 's decision . xxmaj on 28 xxmaj november 2002 the xxmaj military xxmaj court of xxmaj appeal affirmed the lower court 's findings . xxmaj it held that the prosecutor had breached the procedural rules and that the conclusions of the xxmaj national xxmaj military xxmaj university experts , on which his decision had been based , could not serve as valid evidence in the case . \n",
       "  40.after the case was remitted to the prosecution , some of the witnesses were re - examined . xxmaj on an unspecified date xxmaj chief xxmaj sergeant xxup t. , who had been in charge of the parachute jumps , explained that when he had instructed the helicopter crew to speed up he had meant a speed of about 150 km / h , as was usual . xxmaj he had become aware later , apparently from the conclusions of the internal inquiry , that the speed had been above 200 km / h. xxmaj he considered that this , coupled with a possible minor side inclination of the helicopter , which would have shifted the position of the left rear tyre vis -- vis the paratroopers ' bodies , had been the reason for the accident with the applicants ' son and xxmaj mr xxup v. \n",
       "  41.on 13 xxmaj may 2003 a prosecutor from the xxmaj sofia military regional prosecutor 's office requested the xxmaj ministers of the xxmaj interior and xxmaj defence to nominate seven experts in xxunk , aviation , xxunk and xxunk to be appointed experts in the criminal proceedings and draw up a new expert report . xxmaj he received no reply . \n",
       "  42.on 16 xxmaj june 2003 the prosecutor appointed another group of xxunk a physician from the xxmaj military xxmaj medical xxmaj academy and five lecturers from the xxmaj air xxmaj transport xxmaj department of the xxmaj technical xxmaj university in xxmaj sofia – with the task of assessing the reasons for the two paratroopers ' deaths on 27may 1998 . \n",
       "  43.the experts submitted their report on 25 xxmaj july 2003 . xxmaj they considered it scientifically impossible for xxmaj mr xxmaj stoyanov and xxmaj mr xxup v. to have hit the helicopter 's left rear tyre ; in their view those blows had been “ made up ” . xxmaj the experts considered that the two paratroopers had wrongly estimated the distance to the ground and had failed to open their parachutes in time ; this had led to their deaths . xxmaj furthermore , the paratroopers had failed to comply with the relevant instructions on the position of their bodies at the time of jumping . xxmaj the speed and course of the helicopter had not been related to their death . \n",
       "  44.on 10 xxmaj june 2004 a prosecutor from the xxmaj sofia military regional prosecutor 's office once again discontinued the criminal proceedings . xxmaj in his decision , he referred to the expert report of 25 xxmaj july 2003 and its conclusion that the applicants ' son and xxmaj mr xxup v. had not in fact hit the left rear tyre of the helicopter ( see paragraph 43 above ) . xxmaj however , he also mentioned the witness testimony indicating that these impacts had happened ( see paragraphs 26 - 27 above ) . xxmaj he failed to examine the apparent controversy between those two groups of evidence and to indicate which version he found plausible . xxmaj he merely concluded , after describing the evidence collected in the case , that there was no appearance of a crime . \n",
       "  45.upon appeal by the first applicant , on 30 xxmaj june 2004 the prosecutor 's decision was upheld by the xxmaj sofia xxmaj military xxmaj court . xxmaj examining the evidence collected in the case , that court dismissed the conclusion of the expert report of 25 xxmaj july 2003 ( see paragraph 43 above ) that xxmaj mr xxmaj stoyanov and xxmaj mr xxup v. had not hit the helicopter 's left rear tyre ; it considered that in this regard the testimony of the other participants in the flight was reliable . xxmaj nevertheless , the domestic court accepted the experts ' conclusion to the effect that xxunk and xxmaj mr xxup v. had not positioned themselves correctly when they jumped . xxmaj it concluded that this had been the reason for their hitting the tyre and falling to the ground . xxmaj accordingly , it upheld the prosecution 's conclusion that no offence had been committed in the case . \n",
       "  4.other developments \n",
       "  xxunk after their son 's death , the applicants sought the compensation provided for in section 249(2 ) of the xxmaj armed xxmaj forces xxmaj act 1995 ( see paragraph 49 below ) . xxmaj as they had not received that sum by 2003 , they brought a claim . xxmaj they sought the compensation provided for in section 249(2 ) of the xxmaj armed xxmaj forces xxmaj act , plus interest , as provided for in section 250 ( ibid . ) . \n",
       "  47.while the proceedings were pending , the xxmaj bulgarian xxmaj army paid up the compensation due , which was in the amount of xxunk xxmaj bulgarian levs ( xxup bgn ) , the equivalent of approximately xxunk euros ( xxup eur ) . xxmaj therefore , in a judgment of 6 xxmaj july 2004 the xxmaj sofia xxmaj district xxmaj court only awarded the applicants the interest accrued , in accordance with section 250 of the xxmaj armed xxmaj forces xxmaj act , which amounted to xxup bgn xxunk , the equivalent of xxup eur 220 . xxmaj that judgment was not appealed against and entered into force . \n",
       "  48.in xxmaj september 2003 the applicants also sought indemnification from the company with which their son had been insured by the xxmaj bulgarian xxmaj army . xxmaj they claimed a sum of about xxup bgn 3,000 , the equivalent of xxup eur xxunk . xxmaj however , that indemnification was refused as they had failed to claim it within the statutory three - year time - limit from the date of their son 's death . \n",
       "  xxup ii.relevant xxup domestic xxup law \n",
       "  a.the xxmaj armed xxmaj forces xxmaj act of 1995 \n",
       "  49.section 249(2 ) of that xxmaj act , in force at the relevant time , provided that the xxmaj bulgarian xxmaj army would be liable to pay compensation in the amount of twelve months ' salary , to each of the heirs ( spouse , children or parents ) of an army serviceman who had died during military service . xxmaj by section 250 of the same xxmaj act , the xxmaj army was also liable to pay any interest accrued in the event of a delay of payment . \n",
       "  xxunk the heirs of an army serviceman who had died during military service sought a larger amount in damages , they could , by virtue of the provision of section xxunk ) of the xxmaj armed xxmaj forces xxmaj act , bring an action before the civil courts . \n",
       "  b.state liability for damage \n",
       "  51.section 1(1 ) of the 1988 xxmaj state xxmaj responsibility for xxmaj damage xxmaj caused to xxmaj citizens xxmaj act ( on 12 xxmaj july 2006 its name was changed to “ xxmaj state and xxmaj municipalities xxmaj responsibility for xxmaj damage xxmaj act ” ) provides that the xxmaj state is liable for damage suffered by private persons as a result of unlawful decisions , actions or omissions by civil servants committed in the course of or in connection with the performance of their duties . \n",
       "  52.in addition , section 45(1 ) of the 1951 xxmaj contracts and xxmaj obligations xxmaj act provides that everyone is obliged to make good the damage which they have , through their fault , caused to another person . xxmaj section 49 of the xxmaj act provides that a person who has entrusted another with performing a job is liable for the damage caused by that other person in the course of or in connection with the performance of the job . \n",
       " ,xxbos xxup procedure \n",
       "  1.the case originated in an application ( no . 8532 / 06 ) against the xxmaj russian xxmaj federation lodged with the xxmaj court under xxmaj article 34 of the xxmaj convention for the xxmaj protection of xxmaj human xxmaj rights and xxmaj fundamental xxmaj freedoms ( “ the xxmaj convention ” ) by a xxmaj russian national , xxmaj ms xxmaj valentina xxmaj petrovna xxmaj geppa ( “ the applicant ” ) , on 30 xxmaj december 2005 . \n",
       "  2.the applicant was represented by xxmaj ms xxup g.v. xxmaj xxunk , a lawyer practising in xxmaj kursk . xxmaj the xxmaj russian xxmaj government ( “ the xxmaj government ” ) were represented by xxmaj mr xxup g. xxmaj matyushkin , xxmaj representative of the xxmaj russian xxmaj federation at the xxmaj european xxmaj court of xxmaj human xxmaj rights . \n",
       "  3.the applicant alleged that the authorities were responsible for the death of her son in a correctional colony and that there had been no effective investigation of the circumstances of his death . \n",
       "  4.on 6 xxmaj november 2009 the xxmaj president of the xxmaj first xxmaj section decided to give notice of the application to the xxmaj government . xxmaj it was also decided to examine the merits of the application at the same time as its admissibility ( xxmaj article 29 1 ) . \n",
       "  xxup the xxup facts \n",
       "  xxup i.the xxup circumstances xxup of xxup the xxup case \n",
       "  5.the applicant lives in xxmaj kursk . xxmaj she is the mother of xxmaj yevgeniy xxmaj geppa , born in 1974 and deceased in 2004 while serving his prison sentence . \n",
       "  a.the events prior to xxmaj yevgeniy xxmaj geppa 's death \n",
       "  6.on 19 xxmaj november 1998 xxmaj yevgeniy xxmaj geppa was found guilty of organised violent robbery and , following appeal proceedings before the xxmaj kursk xxmaj regional xxmaj court which ended on 10 xxmaj february 1999 , was sentenced to eight years of imprisonment in a high - security penitentiary facility . xxmaj he was sent to serve his sentence in xxup ik-2 in xxmaj xxunk , xxmaj kursk xxmaj region . \n",
       "  7.in the periods from 17 to 31 xxmaj august 2000 and from 10 to 29 xxmaj july 2003 he was transferred to the hospital of the xxmaj penitentiary xxmaj department in xxmaj kursk for treatment for chronic pyelonephritis of his only kidney in the active phase . \n",
       "  8.on 28 xxmaj january 2004 he was transferred to the same hospital , having been diagnosed with a psychiatric disorder , namely , “ past organic brain lesion of complex origin ” ( owing to a head injury and drug abuse ) , with emotional instability and compensatory behaviour . xxmaj it was noted that his medical history included a reference to epileptic syndrome . \n",
       "  9.on 20 xxmaj may 2004 , following changes introduced to the xxmaj criminal xxmaj code , the xxmaj kursk xxmaj regional xxmaj court reduced the applicant 's prison sentence to seven years and ordered it to be served in a facility of average security level . xxmaj yevgeniy xxmaj geppa was therefore transferred to the xxmaj xxunk correctional colony xxup ox-30 / 3 ( учреждение xxup ox-30 / 3 , hereafter “ the colony ” ) . \n",
       "  10.in xxmaj june 2004 xxmaj yevgeniy xxmaj geppa 's wife received a letter from him . xxmaj his distorted handwriting , repetitive use of words and confused language made her suspect that he was unwell . \n",
       "  11.on 5 xxmaj august 2004 the applicant and xxmaj yevgeniy xxmaj geppa 's wife visited him in the colony . xxmaj they found him very weak , pale and exhausted . xxmaj he had lost weight and had a blank expression . xxmaj during the visit he fainted and collapsed on the floor ; according to the applicant , when they pulled up his shirt they saw faded bruises of yellow - xxunk colour on his chest . xxmaj they also saw clotted blood on his lips . xxmaj yevgeniy xxmaj geppa told them afterwards that he was being beaten by the colony officials because he had refused “ to co - operate ” , that is , to systematically report on his fellow inmates . xxmaj according to the xxmaj government , xxmaj yevgeniy xxmaj geppa had an epileptic fit on that day and his medical examination did not reveal any injuries . \n",
       "  12.on 20 xxmaj august 2004 the applicant wrote to the xxmaj kursk xxmaj regional xxmaj prosecutor 's xxmaj office complaining that her son had been ill - treated at the colony , referring to the incident of 5 xxmaj august 2004 when he fainted during the visit ; she described the injuries they had allegedly found on his chest and lips and also complained that he was not receiving medical care . xxmaj she contended that this had not happened in the previous detention facility and had only started after her son 's transfer to correctional colony xxup ox-30 / 3 . xxmaj she requested that he be transferred elsewhere . \n",
       "  13.from 27 xxmaj august 2004 to 18 xxmaj september 2004 xxmaj yevgeniy xxmaj geppa was transferred to the hospital of the xxmaj penitentiary xxmaj department in xxmaj kursk for examination and treatment . xxmaj he was diagnosed with a psychiatric disorder , namely , “ past organic brain lesion of complex origin ” ( owing to a head injury and drug abuse ) , with emotional instability and compensatory behaviour , and epileptic syndrome . xxmaj in addition , he was diagnosed with chronic pyelonephritis of his only kidney at the stage of remission ; it was recommended that he be placed in the psychiatric hospital of xxmaj smolensk . \n",
       "  14.in the meantime , on 3 xxmaj september 2004 the applicant received a reply from the xxmaj kursk xxmaj regional xxmaj penitentiary xxmaj department of the xxmaj ministry of xxmaj justice to the effect that the on - site inspection conducted following her complaint had established that the conditions of her son 's detention complied with the law and there were no grounds to transfer him to another facility . xxmaj it was also stated that he was provided with medical care when necessary . \n",
       "  15.on 17 xxmaj october 2004 the applicant and xxmaj yevgeniy xxmaj geppa 's wife visited him in the colony for the last time . xxmaj according to the applicant , when they met him he had had a fever and had been shivering despite being dressed in a winter jacket and gloves . xxmaj he had allegedly told them that he had pain “ all over inside ” and splitting headaches but that the colony medical staff had refused to see him and had accused him of faking the illness . xxmaj he had also allegedly told them that he had requested a transfer to the psychiatric hospital of the xxmaj penitentiary xxmaj department of the xxmaj smolensk xxmaj region ( the psychiatric hospital of xxmaj smolensk ) because he could not bear the constant beatings any longer . xxmaj before they said goodbye he had told them that he felt he was dying and they would probably not see him again . \n",
       "  16.on 18 xxmaj october 2004 the applicant wrote to the xxmaj penitentiary xxmaj department complaining that her son was being ill - treated at the colony . xxmaj she complained about the beatings , the deterioration of his health and the lack of medical assistance . xxmaj she requested that he be given a medical examination to identify the cause of his headaches , stomach and chest pains , and deteriorating eyesight . xxmaj she also requested to see his pre - transfer medical records from xxup ik-2 and the colony medical records relating to the period between 27 xxmaj august and 16 xxmaj september 2004 . \n",
       "  17.on 25 xxmaj october 2004 the xxmaj penitentiary xxmaj department replied to the applicant that her enquiry had been examined by its medical division . xxmaj it informed the applicant that xxmaj yevgeniy xxmaj geppa 's medical file at the colony contained records on his past organic brain lesion of complex origin ( owing to a traumatic brain injury and drug abuse ) , with emotional instability and compensatory behaviour , and epileptic syndrome ; he was also diagnosed with chronic pyelonephritis of his only kidney at the stage of remission . xxmaj it stated that he was receiving the necessary medical care . xxmaj when interviewed , xxmaj yevgeniy xxmaj geppa had refused to be placed in the hospital of the xxmaj penitentiary xxmaj department but had given his consent to be placed in the psychiatric hospital of xxmaj smolensk . a similar letter was sent to her on 18 xxmaj november 2004 , adding that no physical force had been applied against xxmaj yevgeniy xxmaj geppa and informing her of his transfer to the psychiatric hospital of xxmaj smolensk . \n",
       "  18.on 14 xxmaj november 2004 xxmaj yevgeniy xxmaj geppa was taken to the psychiatric hospital of xxmaj smolensk . xxmaj on the way a stop was made at xxup xxunk / 1 of xxmaj voronezh , where he asked to see a doctor . xxmaj the medical examination revealed several symptoms of medium severity , such as a “ confused state of consciousness ” . xxmaj after he had been given medication his condition improved , and he was sent on to xxmaj smolensk . \n",
       "  19.on 20 xxmaj november 2004 xxmaj yevgeniy xxmaj geppa arrived at the psychiatric hospital of xxmaj smolensk . xxmaj the medical examination conducted on his arrival established that his condition was serious , he was unable to walk by himself , was pale and his extremities were cold . xxmaj he could communicate with the doctor , but quickly became exhausted . xxmaj symptomatic treatment began immediately and further examinations were ordered . \n",
       "  20.on 22 xxmaj november 2004 xxmaj yevgeniy xxmaj geppa had a general blood test . xxmaj on the following day he had a chest x - ray and an electrocardiogram . xxmaj on 24november 2004 he had an xxup hiv test , which was negative . \n",
       "  21.on 29 xxmaj november 2004 xxmaj yevgeniy xxmaj geppa underwent an x - ray brain scan that revealed hypertension . xxmaj on the same day an xxunk was performed , and it was concluded that there was probably a pathological formation in the left hemisphere . xxmaj he also had a stomach x - ray on that day . \n",
       "  22.on 30 xxmaj november 2004 he had a general ultrasound abdominal scan that revealed some changes in the liver and pancreas . xxmaj on the same day he was seen by an infection specialist , who did not find any infection . \n",
       "  23.on 1 xxmaj december 2004 he was seen by a neurologist who ordered a brain xxup ct scan , which was performed on 6 xxmaj december 2004 and confirmed the presence of a formation in the left hemisphere . xxmaj it was followed by a consultation with a neurosurgeon , who advised against surgery . xxmaj on the following day an oncologist diagnosed xxmaj yevgeniy xxmaj geppa with a brain tumour and oedema of the brain . \n",
       "  24.on 8 xxmaj december 2004 xxmaj yevgeniy xxmaj geppa died . \n",
       "  25.on 9 xxmaj december 2004 an autopsy , including a histological study , was conducted and established that xxmaj yevgeniy xxmaj geppa 's death was caused by a brain tumour ( xxunk multiforme ) . \n",
       "  b.inquiry into xxmaj yevgeniy xxmaj geppa 's death and subsequent proceedings \n",
       "  26.following xxmaj yevgeniy xxmaj geppa 's death the xxmaj smolensk xxmaj prosecutor 's xxmaj office conducted an inquiry in order to decide whether there were grounds for a criminal investigation . xxmaj on 17 xxmaj december 2004 it decided that no criminal investigation was necessary . xxmaj the decision referred to the autopsy report , the medical file , and the statements of the hospital director and detainee xxup k. , who was employed at the hospital . \n",
       "  27.on 21 xxmaj december 2004 the applicant complained to the xxmaj kursk xxmaj regional xxmaj prosecutor 's xxmaj office about the beatings to which her son had allegedly been subjected in the colony and alleged that there had been a negligent failure to provide him with medical assistance ; she also alleged that his transfer to the psychiatric hospital had been delayed without justification . \n",
       "  28.on 27 xxmaj january 2005 the prosecutor 's office decided that there were no grounds to open a criminal investigation into xxmaj yevgeniy xxmaj geppa 's death . xxmaj the prosecutor 's office had questioned the colony officials and inmates , who made the following statements : \n",
       "  – the head officer of unit no . 12 where xxmaj yevgeniy xxmaj geppa was held stated that he had not received any complaints that physical force had been applied to xxmaj mr xxmaj geppa and had not seen any injuries on him ; \n",
       "  – inmate xxup k. stated that upon his arrival at the colony xxmaj yevgeniy xxmaj geppa had had certain health complaints , in particular he had mentioned that he was suffering from epilepsy ; he had not seen any injuries on him and had not heard any complaints about the use of force against him ; \n",
       "  – inmate xxmaj ch . stated that he had not seen any injuries on xxmaj yevgeniy xxmaj geppa and had not heard any complaints about the use of force against him ; \n",
       "  – inmate xxmaj kh . stated that his sleeping place in the dormitory had been next to xxmaj yevgeniy xxmaj geppa 's and that he had not seen any injuries on him or heard any complaints about the use of force against him ; \n",
       "  – an officer of the visits and parcels section , xxup m. , stated that on 5 xxmaj august 2004 xxmaj yevgeniy xxmaj geppa had been visited by his wife and mother and that about thirty minutes into the visit he had had an epileptic fit and had been taken to the medical unit ; xxmaj yevgeniy xxmaj geppa 's mother had not mentioned seeing any injuries on him ; \n",
       "  – an officer of the visits and parcels section , xxmaj kh . , stated that on 5 xxmaj august 2004 he had searched xxmaj yevgeniy xxmaj geppa before the visit , though without removing his clothes , and had not seen any injuries on him ; following an epileptic fit during the visit xxmaj yevgeniy xxmaj geppa had been taken to the medical unit ; his mother had not mentioned seeing any injuries on him ; \n",
       "  – inmate xxmaj sh . stated that on one occasion in xxmaj august 2004 he had accompanied xxmaj yevgeniy xxmaj geppa from the medical unit back to unit no . 12 ; xxmaj yevgeniy xxmaj geppa had spent about one or two hours in the medical unit ; on the way he had not heard any complaints ; he could not say whether xxmaj yevgeniy xxmaj geppa had had any injuries ; \n",
       "  – an officer of the medical unit , xxup g. , stated that on 5 xxmaj august 2004 he had attended to xxmaj yevgeniy xxmaj geppa after he had fainted during the visit ; when examined , xxmaj yevgeniy xxmaj geppa had been conscious ; he had diagnosed him with epileptic syndrome and given him an injection of xxunk ; he had had a bruise on his knee ; no other injuries had been revealed ; \n",
       "  – the head of the medical unit stated that xxmaj yevgeniy xxmaj geppa had been registered with the colony medical unit as suffering from a psychiatric disorder , namely , “ past organic brain lesion of complex origin ” ( owing to a traumatic brain injury and drug abuse ) , with emotional instability and compensatory behaviour , and epileptic syndrome . xxmaj from 27 xxmaj august 2004 to 18 xxmaj september 2004 he had been transferred to the hospital of the xxmaj penitentiary xxmaj department for examination and treatment ; the above diagnosis had been confirmed and in addition to that he had been diagnosed with chronic pyelonephritis of his only kidney at the stage of remission . xxmaj it had been recommended that he be placed in the psychiatric hospital of xxmaj smolensk . xxmaj in the colony xxmaj yevgeniy xxmaj geppa had been provided with adequate medical care ; on 14 xxmaj november 2004 he had been transferred , with his consent , to the psychiatric hospital of xxmaj smolensk . \n",
       "  29.the applicant challenged the decision of 27 xxmaj january 2005 in court . \n",
       "  30.on 17 xxmaj march 2005 the xxmaj kirovskiy xxmaj district xxmaj court of xxmaj kursk found that the inquiry conducted by the prosecutor 's office into xxmaj yevgeniy xxmaj geppa 's death had been insufficient . xxmaj it referred in particular to the failure to verify the allegations of ill - treatment and indicated that it was necessary to establish the origin of the head injury and the brain tumour which caused his death . xxmaj the court granted the applicant 's request and ordered the prosecutor 's office to carry out the inquiry in accordance with law . xxmaj the prosecutor 's office appealed . \n",
       "  31.on 19 xxmaj april 2005 the xxmaj kursk xxmaj regional xxmaj court upheld the decision of the xxmaj kirovskiy xxmaj district xxmaj court dated 17 xxmaj march 2005 . xxmaj following this decision the prosecutor 's office requested the xxmaj penitentiary xxmaj department to send xxmaj yevgeniy xxmaj geppa 's medical file and the autopsy report to it . \n",
       "  32.on 22 xxmaj april 2005 the applicant requested the prosecutor 's office to grant her victim status in the criminal proceedings concerning her son 's death . xxmaj she also requested access to documents from his medical file . \n",
       "  33.on 3 xxmaj may 2005 the prosecutor 's office quashed its decision of 27january 2005 refusing to open a criminal investigation and an additional inquiry was ordered . xxmaj the applicant was informed of the decision ; she was also informed that there were no grounds to grant her victim status . \n",
       "  34.on 13 xxmaj may 2005 the prosecutor 's office decided to refuse to institute criminal proceedings concerning xxmaj yevgeniy xxmaj geppa 's death . xxmaj it stated that an additional inquiry had been carried out , which had included an examination of the medical file and questioning of the psychiatrists of the colony and of the hospital of the xxmaj penitentiary xxmaj department . xxmaj it was established that the cause of death , the brain tumour , was consistent with the earlier diagnosis indicated in the colony medical file . xxmaj it was also noted that xxmaj yevgeniy xxmaj geppa had sustained a head injury in 1997 and in the past he had abused alcohol , psychotropic substances and home - xxunk narcotics ; he had also been diagnosed with epilepsy . xxmaj it was therefore concluded that there were no grounds to believe that the colony staff had committed a crime against xxmaj yevgeniy xxmaj geppa . \n",
       "  35.the applicant challenged the decision of 13 xxmaj may 2005 in court . \n",
       "  36.on 3 xxmaj june 2005 the xxmaj kirovskiy xxmaj district xxmaj court declared the decision dispensing with criminal proceedings unlawful . xxmaj it found that the investigation file was incomplete and the prosecutor 's conclusions contradictory , in particular with reference to the failure to verify the origin of the head injury and the brain tumour , as well as xxmaj yevgeniy xxmaj geppa 's state of health and the adequacy of his medical treatment prior to his transfer to the psychiatric hospital . xxmaj the prosecutor 's office appealed . \n",
       "  37.on 16 xxmaj june 2005 the prosecutor 's office sent a number of official inquiries to medical institutions . xxmaj it asked the xxmaj kursk xxmaj regional xxmaj psychiatric xxmaj hospital if xxmaj yevgeniy xxmaj geppa 's had been under their supervision in the past ; it requested the details of his treatment for his head injury in 1997 from the xxmaj kursk xxmaj municipal xxmaj clinic and the xxmaj kursk xxmaj regional xxmaj clinic . xxmaj finally , it requested the director of the specialist oncology clinic to explain the origin , the development pattern , methods of diagnosing and treatment of the brain tumour with which xxmaj yevgeniy xxmaj geppa had been diagnosed and the recovery rate for the disease . xxmaj the latter enquiry does not appear to have been answered . \n",
       "  38.on 30 xxmaj june 2005 the xxmaj kursk xxmaj regional xxmaj court upheld , in substance , the decision of the xxmaj kirovskiy xxmaj district xxmaj court dated 3 xxmaj june 2005 . \n",
       "  39.on 27 xxmaj july 2005 the prosecutor 's office quashed its decision of 13may 2005 refusing to open the criminal investigation and an additional inquiry was ordered . xxmaj the applicant was informed about the decision and provided with a copy thereof . \n",
       "  40.on 29 xxmaj july 2005 the administrative officer of the hospital of the xxmaj penitentiary xxmaj department in xxmaj kursk wrote an explanatory note for the investigation file . xxmaj he stated that during his in - patient treatment at the hospital xxmaj yevgeniy xxmaj geppa had showed no symptoms of formation of a brain tumour . xxmaj early signs of the tumour could have only been detected by a xxup ct scan , which had not been possible in the hospital for the lack of the requisite equipment . xxmaj moreover , there had been no apparent reason to order a xxup ct scan . \n",
       "  41.on the same day the prosecutor 's office decided to refuse to institute criminal proceedings concerning xxmaj yevgeniy xxmaj geppa 's death . xxmaj it referred to the medical records dated xxmaj october - xxmaj november 1997 relating to his head injury and concluded that it had predated his imprisonment . xxmaj it further stated that the medical equipment available at the institutions and medical centres of the penitentiary system could not be used to diagnose the early stages of a brain tumour or to assess the necessity of a xxup ct scan . xxmaj the scan was recommended on 1 xxmaj december 2004 , after the examination at the psychiatric hospital , and carried out on 6 xxmaj december 2004 , two days before xxmaj yevgeniy xxmaj geppa 's death . xxmaj it was therefore concluded that there had been no grounds to believe that the colony staff had caused xxmaj yevgeniy xxmaj geppa injuries or had been negligent in deciding to transfer him to the psychiatric hospital for examination . xxmaj the applicant was informed about the decision and provided with a copy thereof . \n",
       "  42.the applicant challenged the decision of 29 xxmaj july 2005 in court . \n",
       "  43.on 30 xxmaj september 2005 the xxmaj kirovskiy xxmaj district xxmaj court declared the decision dispensing with criminal proceedings unlawful . xxmaj it found that the inquiry had failed to establish a link between the head injury sustained by xxmaj yevgeniy xxmaj geppa in 1997 and his death in 2004 and had also failed to substantiate the conclusion that the medical care received by xxmaj yevgeniy xxmaj geppa had been appropriate for his condition . xxmaj the court indicated that the above defects could only be remedied by a proper investigation and criminal proceedings and therefore it had been mandatory to open a criminal file . xxmaj the court also pointed out that the procedural law did not allow a ten - day preliminary inquiry to be conducted more than once . \n",
       "  44.on 14 xxmaj november 2005 the prosecutor 's office quashed its decision of 29 xxmaj july 2005 refusing to open a criminal investigation and an additional inquiry was ordered . xxmaj the applicant was informed about the decision and provided with a copy thereof . \n",
       "  45.on the same day the prosecutor 's office of xxmaj kursk requested the prosecutor 's office of xxmaj smolensk to provide it with xxmaj yevgeniy xxmaj geppa 's medical file from the psychiatric hospital of xxmaj smolensk and the autopsy report . \n",
       "  46.on 18 xxmaj november 2005 the prosecutor 's office decided to refuse to institute criminal proceedings concerning xxmaj yevgeniy xxmaj geppa 's death . xxmaj it essentially reiterated the contents of the decision of 29 xxmaj july 2005 , adding that the prosecutor 's office of xxmaj smolensk had not replied to the request of 14november 2005 , hence there was no new information that would allow the allegations of medical negligence to be confirmed . xxmaj the applicant was informed about the decision and provided with a copy thereof . \n",
       "  47.on 13 xxmaj december 2005 the prosecutor 's office of xxmaj smolensk forwarded the requested documents to the prosecutor 's office of xxmaj kursk . \n",
       "  48.on 30 xxmaj december 2005 the prosecutor 's office quashed its decision of 18 xxmaj november 2005 refusing to open a criminal investigation and an additional inquiry was ordered . xxmaj the applicant was informed about the decision and provided with a copy thereof . xxmaj on 10 xxmaj january 2006 the term for additional inquiry was extended from three to ten days in order to obtain the medical expert opinion . \n",
       "  49.on 10 xxmaj january 2006 the prosecutor 's office requested the director of the xxmaj kursk xxmaj regional xxmaj clinic to explain the origin of , the possible cause of and methods of diagnosing the brain tumour found in xxmaj yevgeniy xxmaj geppa . xxmaj the director was asked whether the tumour could have been caused by xxunk 's head injury , whether it was treatable and whether xxmaj mr xxmaj geppa 's death could have been avoided if timely medical treatment had been provided . \n",
       "  50.on 16 xxmaj january 2006 the clinic director and the head of the clinic 's neurosurgery department replied as follows : \n",
       "  “ 1.the cause of cancerous brain tumours ( xxunk multiforme ) is currently unknown . \n",
       "  xxunk scientific research data nor our experience confirms any link between brain injuries and [ tumours ] . \n",
       "  3.early signs of a brain tumour formation are general brain and localised neurological symptoms and changes in the xxunk of the eye . \n",
       "  xxunk multiforme is one of the most malignant forms of brain tumour with the period between its formation and death varying between two and six months depending on its location . \n",
       "  5.the prognosis of this disease , regardless of the promptness of its diagnosis and specialist treatment , is extremely negative , the disease not being susceptible to treatment . ” \n",
       "  51.on 17 xxmaj january 2006 the prosecutor 's office decided to refuse to institute criminal proceedings concerning xxmaj yevgeniy xxmaj geppa 's death . xxmaj in addition to the medical documents and witness statements relied on in the previous decisions , it referred to the medical opinion of 16 xxmaj january 2006 given by the xxmaj kursk xxmaj regional xxmaj clinic director . xxmaj it concluded that there had been no evidence of violence or medical negligence having contributed to his death . xxmaj the applicant was informed about the decision and provided with a copy thereof . xxmaj she appealed against this decision in court . \n",
       "  52.on 13 xxmaj march 2006 the xxmaj kirovskiy xxmaj district xxmaj court declared the decision dispensing with criminal proceedings unlawful . xxmaj it found that the inquiry had failed to address the reasons for the diagnosis having been established so late despite xxmaj yevgeniy xxmaj geppa 's frequent examination and treatment ; the court could not rule out that there had been an unjustified delay in providing him with specialised medical care and pointed out that the negative prognosis did not absolve the penitentiary and medical staff from taking all the necessary steps in order to diagnose and treat him . xxmaj the prosecutor 's office appealed . \n",
       "  53.on 11 xxmaj april 2006 the xxmaj kursk xxmaj regional xxmaj court quashed the decision of 13 xxmaj march 2006 on the grounds that it had failed to specify the shortcomings in the investigation that the prosecutor 's office had to remedy . xxmaj the case was remitted to the same court for a fresh examination . \n",
       "  54.on 25 xxmaj april 2006 the xxmaj kirovskiy xxmaj district xxmaj court found the decision dispensing with criminal proceedings lawful and justified . xxmaj addressing the applicant 's argument that the investigators had failed to request the medical file from the psychiatric hospital of xxmaj smolensk , the court observed that the file had actually been obtained , that it had been attached to the investigation file and , furthermore , that it had been directly examined in the courtroom . \n",
       "  55.on 5 xxmaj may 2006 the applicant was given the opportunity to access xxmaj yevgeniy xxmaj geppa 's medical file . \n",
       "  xxup ii.relevant xxup domestic xxup law xxup and xxup practice \n",
       "  xxmaj early release on health grounds \n",
       "  56.article 175 6 of the xxmaj penitentiary xxmaj code of the xxmaj russian xxmaj federation provides as follows : \n",
       "  “ a detainee who has acquired a serious illness [ other than psychiatric ] which prevents him from serving his sentence may lodge a request with a court for [ early ] release ... [ xxmaj this request ] must be lodged by the detainee through the administration of the penitentiary institution ... xxmaj the said request must be accompanied by the expert opinion of a medical commission or a socio - medical expert institution and the detainee 's prison record . ” \n",
       "  57.on 6 xxmaj february 2004 the xxmaj government of the xxmaj russian xxmaj federation adopted xxmaj decree no . 54 establishing a list of diseases incompatible with serving a prison sentence . xxmaj that list included malignant tumours ( cancer ) in stage xxup iv according to xxup xxunk classification ( point 7 of the decree ) and kidney diseases in the terminal phase with chronic renal failure . \n",
       " ,xxbos xxup procedure \n",
       "  1.the case originated in an application ( no . xxunk / 04 ) against xxmaj bosnia and xxmaj herzegovina lodged with the xxmaj court under xxmaj article 34 of the xxmaj convention for the xxmaj protection of xxmaj human xxmaj rights and xxmaj fundamental xxmaj freedoms ( “ the xxmaj convention ” ) by a citizen of xxmaj bosnia and xxmaj herzegovina , xxmaj ms xxmaj esma xxmaj palić ( “ the applicant ” ) , on 27 xxmaj january 2004 . \n",
       "  2.the applicant , who had been granted legal aid , was represented by mrn. xxmaj xxunk and xxmaj ms xxup l. xxmaj xxunk , lawyers practising in xxmaj sarajevo , and xxmaj mr xxup p. xxmaj troop , a lawyer practising in xxmaj london . xxmaj the xxmaj government of xxmaj bosnia and xxmaj herzegovina ( “ the xxmaj government ” ) were represented by their xxmaj deputy xxmaj agent , xxmaj ms xxup z. xxmaj ibrahimović . \n",
       "  xxunk xxmaj mijović , the judge elected in respect of xxmaj bosnia and xxmaj herzegovina , was unable to sit in the case ( xxmaj rule 28 ) . xxmaj the xxmaj government accordingly appointed xxmaj faris xxmaj vehabović to sit as an ad hoc judge ( xxmaj article 26 4 of the xxmaj convention and xxmaj rule 29 1 ) . \n",
       "  4.the case is about the applicant ’s husband ’s disappearance during the 1992 - 95 war in xxmaj bosnia and xxmaj herzegovina . xxmaj it raises issues under xxmaj articles 2 , 3 and 5 of the xxmaj convention . \n",
       "  5.on 9 xxmaj january 2007 a xxmaj chamber of the xxmaj fourth xxmaj section of the xxmaj court decided to give notice of the application to the xxmaj government . xxmaj it also decided to rule on the admissibility and merits of the application at the same time ( xxmaj article 29 1 ) . \n",
       "  xxup the xxup facts \n",
       "  xxup i.the xxup circumstances xxup of xxup the xxup case \n",
       "  a.relevant background \n",
       "  6.after its declaration of independence on 6 xxmaj march 1992 , a brutal war started in xxmaj bosnia and xxmaj herzegovina . xxmaj it would appear that more than 100,000 people were killed and more than two million people were displaced . xxmaj it is estimated that almost 30,000 people went missing and that one third of them is still missing . xxmaj the major parties to the conflict were the xxup arbh ( mostly made up of xxmaj bosniacs and loyal to the central authorities of xxmaj bosnia and xxmaj herzegovina ) , the xxup hvo ( mostly made up of xxmaj croats ) and the xxup vrs ( mostly made up of xxmaj serbs ) . xxmaj the conflict came to an end on 14 xxmaj december 1995 when the xxmaj general xxmaj framework xxmaj agreement for xxmaj peace ( “ the xxmaj dayton xxmaj peace xxmaj agreement ” ) entered into force . xxmaj in accordance with that xxmaj agreement , xxmaj bosnia and xxmaj herzegovina consists of two xxmaj entities : the xxmaj federation of xxmaj bosnia and xxmaj herzegovina and the xxmaj republika xxmaj srpska . xxmaj the xxmaj dayton xxmaj peace xxmaj agreement failed to resolve the xxmaj inter - xxmaj entity xxmaj boundary xxmaj line in the xxmaj brčko area , but the parties agreed to a binding arbitration in this regard under xxup uncitral rules ( xxmaj article v of xxmaj annex 2 to the xxmaj dayton xxmaj peace xxmaj agreement ) . xxmaj the xxmaj brčko xxmaj district , under the exclusive sovereignty of the xxmaj state and international supervision , was formally inaugurated on 8 xxmaj march 2000 . \n",
       "  7.in response to atrocities then taking place in xxmaj bosnia and xxmaj herzegovina , on 25 xxmaj may 1993 the xxmaj united xxmaj nations xxmaj security xxmaj council passed resolution 827 establishing the xxmaj international xxmaj criminal xxmaj tribunal for the former xxmaj yugoslavia ( “ the xxup icty ” ) headquartered in xxmaj the xxmaj hague . xxmaj although the xxup icty and national courts have concurrent jurisdiction over serious violations of international humanitarian law committed in the former xxmaj yugoslavia , the xxup icty can claim primacy and may take over national investigations and proceedings at any stage if this proves to be in the interest of international justice . xxmaj it can also refer its cases to competent national authorities in the former xxmaj yugoslavia . xxmaj more than 60 individuals have been convicted and currently more than 40 people are in different stages of proceedings before the xxup icty . xxmaj two accused are still at large ( xxmaj mr xxmaj goran xxmaj xxunk and xxmaj mr xxmaj ratko xxmaj xxunk ) . \n",
       "  8.furthermore , the xxmaj international xxmaj commission on xxmaj missing xxmaj persons ( “ the xxup icmp ” ) was established at the initiative of xxmaj united xxmaj states xxmaj president xxmaj clinton in 1996 . xxmaj it is currently headquartered in xxmaj sarajevo . xxmaj in addition to its work in the former xxmaj yugoslavia , the xxup icmp is now actively involved in helping governments and other institutions in various parts of the world address social and political issues related to missing persons and establish effective identification systems in the wake of conflict or natural disaster . xxmaj reportedly , the xxup icmp has so far identified by xxup dna around 13,000 missing persons in xxmaj bosnia and xxmaj herzegovina , whereas local authorities have identified by traditional methods around 7,000 missing persons . \n",
       "  9.after the war , the xxup arbh , xxup hvo and xxup vrs forces merged into the xxmaj armed xxmaj forces of xxmaj bosnia and xxmaj herzegovina . \n",
       "  b.the present case \n",
       "  10.the applicant was born in 1967 and lives in xxmaj sarajevo . \n",
       "  11.the applicant ’s husband , xxmaj mr xxmaj xxunk xxmaj palić , was a military commander of the xxup arbh forces in the xxmaj united xxmaj nations “ safe area ” of xxmaj žepa during the war . xxmaj on 27 xxmaj july 1995 , shortly after the xxup vrs forces had taken control of that area , xxmaj mr xxmaj palić went to negotiate the terms of surrender with the xxup vrs forces and disappeared . \n",
       "  12.following many fruitless attempts to obtain any official news about her husband , on 18 xxmaj november 1999 the applicant lodged an application against the xxmaj republika xxmaj srpska with the xxmaj human xxmaj rights xxmaj chamber , a domestic human - rights body set up by xxmaj annex 6 to the xxmaj dayton xxmaj peace xxmaj agreement . \n",
       "  13.on 5 xxmaj september 2000 the xxmaj human xxmaj rights xxmaj chamber held a public hearing and heard several witnesses , including xxmaj mr xxmaj abdurahman xxmaj xxunk and xxmaj mr xxmaj sado xxmaj xxunk who had been detained together with xxmaj mr xxmaj palić in a military prison in xxmaj bijeljina in xxmaj august 1995 . xxmaj the xxmaj republika xxmaj srpska maintained at the hearing that it had no knowledge of the arrest and detention of xxmaj mr xxmaj palić . \n",
       "  14.in its decision of 9 xxmaj december 2000 , the xxmaj human xxmaj rights xxmaj chamber held that xxmaj mr xxmaj palić had been a victim of “ enforced disappearance ” within the meaning of the xxmaj declaration on the xxmaj protection of xxmaj all xxmaj persons from xxmaj enforced xxmaj disappearance and found a breach of xxmaj articles 2 , 3 and 5 of the xxmaj convention in respect of xxmaj mr xxmaj palić and xxmaj articles 3 and 8 of the xxmaj convention in respect of the applicant . xxmaj the xxmaj republika xxmaj srpska was ordered : ( a ) to carry out immediately a full investigation capable of exploring all the facts regarding the fate of xxmaj mr xxmaj palić with a view to bringing the perpetrators to justice ; ( b ) to release xxmaj mr xxmaj palić , if still alive , or to make available his mortal remains to the applicant ; and ( c ) to make all information about the fate and whereabouts of xxmaj mr xxmaj palić known to the applicant . xxmaj the applicant was awarded , for non - pecuniary damage , 15,000 convertible marks ( xxup bam – xxunk euros ( xxup eur ) ) and , in respect of her husband ( which sum was to be held by the applicant for her husband or his heirs ) , xxup bam 50,000 ( xxup eur 25,565 ) . xxmaj the decision was delivered on 11 xxmaj january 2001 and entered into force on 8 xxmaj march 2001 when the full xxmaj chamber rejected the xxmaj republika xxmaj srpska ’s request for review . \n",
       "  15.on 14 xxmaj november 2001 the xxmaj republika xxmaj srpska acknowledged that xxmaj mr xxmaj palić had been held in xxmaj vanekov mlin , a military prison in xxmaj bijeljina administered by the xxup vrs forces , between 4 xxmaj august and 5 xxmaj september 1995 and that on the latter date xxmaj mr xxmaj dragomir xxmaj pećanac , xxmaj security xxmaj officer of the xxmaj main xxmaj staff of the xxup vrs , had taken xxmaj mr xxmaj palić from that prison . \n",
       "  16.having found that xxmaj mr xxmaj pećanac had meanwhile settled in xxmaj serbia , in xxmaj february 2002 the xxmaj republika xxmaj srpska authorities issued a domestic arrest warrant against him . xxmaj in xxmaj march and xxmaj april 2002 they interviewed the entire war - time personnel of xxmaj vanekov mlin , including its governor . \n",
       "  17.on 12 xxmaj june 2003 the xxmaj bijeljina xxmaj district xxmaj prosecutor ( answerable to the xxmaj prosecutor of the xxmaj republika xxmaj srpska ) asked the xxmaj state xxmaj prosecutor to take over this case . xxmaj on 25 xxmaj december 2003 the latter decided that the case should remain with the xxmaj bijeljina xxmaj district xxmaj prosecutor and returned the case file . \n",
       "  18.on 7 xxmaj september 2005 the xxmaj human xxmaj rights xxmaj commission , which had replaced the xxmaj human xxmaj rights xxmaj chamber , rendered another decision in this case : while noting that the monetary award had been paid , it held that the decision of 9 xxmaj december 2000 had not yet been fully enforced . xxmaj the xxmaj republika xxmaj srpska was given an additional three - month period in which to do so . \n",
       "  19.from xxmaj october until xxmaj december 2005 the authorities of the xxmaj republika xxmaj srpska and xxmaj serbia , at the request of the xxmaj republika xxmaj srpska , interviewed eighteen people in connection with this case , including xxmaj mr xxmaj pećanac . \n",
       "  20.on 16 xxmaj january 2006 the xxmaj human xxmaj rights xxmaj commission repeated in another decision that the core element of the decision of 9 xxmaj december 2000 had not been enforced : the xxmaj republika xxmaj srpska had not released xxmaj mr xxmaj palić , if still alive , or otherwise had not made available his mortal remains to the applicant and no prosecution had been brought . xxmaj this decision was submitted to the xxmaj state xxmaj prosecutor ( non - enforcement of the decisions of the xxmaj human xxmaj rights xxmaj chamber constitutes a criminal offence , see paragraph 36 below ) . \n",
       "  21.on 25 xxmaj january 2006 the xxmaj republika xxmaj srpska , at the request of the xxmaj high xxmaj representative , established an ad hoc commission to investigate this case . xxmaj it included xxmaj mr xxmaj xxunk xxmaj xxunk who had allegedly attended the meeting of \n",
       " 27 xxmaj july 1995 mentioned in paragraph 11 above ( see paragraph 61 below ) . xxmaj the applicant appointed her representative to that commission . \n",
       "  22.on 17 xxmaj march 2006 the xxmaj sarajevo xxmaj municipal xxmaj court , at the applicant ’s request , issued a declaration of presumed death with respect to xxmaj mr xxmaj palić ( see paragraph 39 below ) . \n",
       "  23.on 20 xxmaj april 2006 the ad hoc commission adopted a report . xxmaj having interviewed numerous people , it established that xxmaj mr xxmaj palić had been captured by the xxup vrs forces ( that is , by xxmaj mr xxmaj xxunk xxmaj xxunk of the xxmaj rogatica xxmaj brigade ) and handed over to xxmaj mr xxmaj zdravko xxmaj tolimir , xxmaj assistant xxmaj commander for xxmaj intelligence and xxmaj security of the xxmaj main xxmaj staff of the xxup vrs . xxmaj by order of xxunk , the xxmaj commander of the xxup vrs , he was held in a private flat in xxmaj rogatica ( belonging to xxmaj mr xxmaj zoran xxmaj xxunk , xxmaj security xxmaj officer of the xxmaj rogatica xxmaj brigade ) for a week or so and then in xxmaj vanekov mlin , the military prison mentioned above . xxmaj he was interrogated daily by security officers of the xxup vrs . xxmaj it was also established that xxmaj mr xxmaj pećanac and his driver , xxmaj mr xxmaj željko xxmaj mijatović , had taken xxmaj mr xxmaj palić from that prison on the night of 4 / 5 xxmaj september 1995 . xxmaj while questioned by the xxmaj serbian authorities , at the request of the xxmaj republika xxmaj srpska , xxmaj mr xxmaj pećanac and xxmaj mr xxmaj mijatović said that they had taken xxmaj mr xxmaj palić to xxmaj han xxmaj pijesak and handed him over to the late xxmaj mr xxmaj xxunk xxmaj marić . xxmaj however , the report established that xxmaj mr xxmaj marić had not been in xxmaj han xxmaj pijesak at that time . \n",
       "  24.on 13 xxmaj december 2006 the xxmaj prime xxmaj minister of the xxmaj republika xxmaj srpska established another ad hoc commission to investigate this case . xxmaj he also met the applicant who appointed her representative to that commission . \n",
       "  25.on 20 xxmaj december 2006 the xxmaj court of xxmaj bosnia and xxmaj herzegovina issued international arrest warrants against xxmaj mr xxmaj pećanac and xxmaj mr xxmaj mijatović on suspicion of having committed an enforced disappearance as a crime against humanity . \n",
       "  26.in xxmaj march 2007 the second ad hoc commission established that \n",
       " xxmaj mr xxmaj palić had been buried in a mass grave in xxmaj xxunk near xxmaj rogatica and , having searched the area in vain , that he could have been transferred to a secondary mass grave in xxmaj vragolovi near xxmaj rogatica ( where nine unidentified bodies had been exhumed on 12 xxmaj november 2001 ) or elsewhere in that area . \n",
       "  27.on 31 xxmaj may 2007 the authorities of xxmaj bosnia and xxmaj herzegovina arrested xxmaj mr xxmaj tolimir and transferred him to the custody of the xxup icty . \n",
       "  28.on 5 xxmaj august 2009 the xxup icmp established that one of the unidentified bodies from the mass grave in xxmaj vragolovi ( which had been exhumed on \n",
       " 12 xxmaj november 2001 and reburied in a nameless grave in xxmaj xxunk on 14 xxmaj march 2002 ) was that of xxmaj mr xxmaj palić . xxmaj the xxmaj sarajevo xxmaj cantonal xxmaj court then ordered that the body be exhumed . xxmaj on 20 xxmaj august 2009 the xxup icmp confirmed through xxup dna tests that the body indeed belonged to xxmaj mr xxmaj palić . \n",
       "  29.on 26 xxmaj august 2009 xxmaj mr xxmaj palić was finally buried on the grounds of the xxmaj ali xxmaj pasha ’s xxmaj mosque in xxmaj sarajevo with military honours . \n",
       "  30.on 16 xxmaj december 2009 the xxup icty amended the indictment against \n",
       " xxmaj mr xxmaj tolimir . xxmaj he is charged with the participation in joint criminal enterprise to forcibly transfer and deport the xxmaj muslim populations of xxmaj xxunk and xxmaj žepa , a natural and foreseeable consequence of which was the killing of xxmaj mr xxmaj palić and two other xxmaj muslim leaders from xxmaj žepa by the xxup vrs ( the third category of joint criminal enterprise ) . xxmaj his trial commenced on 26 xxmaj february 2010 . \n",
       "  31.mr xxmaj pećanac and xxmaj mr xxmaj mijatović live in xxmaj serbia . xxmaj they were granted xxmaj serbian citizenship on 4 xxmaj january 1999 and 17 xxmaj september 1998 , respectively . \n",
       "  xxup ii.relevant xxup international xxup and xxup domestic xxup law \n",
       "  a.relevant international law \n",
       "  xxunk persons \n",
       "  xxunk conflicts often lead to the disappearance of hundreds or even thousands of people . xxmaj pursuant to xxmaj articles 32 - 34 of xxmaj protocol xxmaj additional to the xxmaj geneva xxmaj conventions of 12 xxmaj august 1949 , and relating to the xxmaj protection of xxmaj victims of xxmaj international xxmaj armed xxmaj conflicts ( xxmaj protocol i ) , of 8 xxmaj june 1977 , families have the right to be informed of the fate of missing relatives ; the parties to a conflict must search for persons reported missing by an adverse party and facilitate enquiries made by members of families dispersed as a result of the conflict so as to help them restore contact with one another and try to bring them together again ; and lists showing the exact location and markings of the graves , together with particulars of the dead interred therein , must be exchanged . xxmaj the xxmaj international xxmaj committee of the xxmaj red xxmaj cross ( xxup icrc ) , with the assistance of its xxmaj central xxmaj tracing xxmaj agency , has long experience in searching for soldiers and combatants who go missing during military operations ( “ missing in action ” ) and for civilians who are reported missing as a consequence of armed conflict . \n",
       "  xxunk disappearance \n",
       "  33.this is a much narrower concept . a recent definition of “ enforced disappearance ” is set out in xxmaj article 2 of the xxmaj international xxmaj convention for the xxmaj protection of xxmaj all xxmaj persons from xxmaj enforced xxmaj disappearance of 20 xxmaj december 2006 : \n",
       "  “ xxmaj for the purposes of this xxmaj convention , ‘ enforced xxunk is considered to be the arrest , detention , abduction or any other form of deprivation of liberty by agents of the xxmaj state or by persons or groups of persons acting with the authorisation , support or acquiescence of the xxmaj state , followed by a refusal to acknowledge the deprivation of liberty or by concealment of the fate or whereabouts of the disappeared person , which place such a person outside the protection of the law . ” \n",
       "  34.the widespread or systematic practice of enforced disappearance is described as a crime against humanity in xxmaj article 7 of the xxmaj rome xxmaj statute of the xxmaj international xxmaj criminal xxmaj court of 17 xxmaj july 1998 . \n",
       "  xxunk assistance between xxmaj bosnia and xxmaj herzegovina and xxmaj serbia \n",
       "  35.the xxmaj agreement between xxmaj bosnia and xxmaj herzegovina and xxmaj serbia on xxmaj mutual xxmaj assistance in xxmaj civil and xxmaj criminal xxmaj matters ( published in xxmaj official xxmaj gazette of xxmaj bosnia and xxmaj herzegovina , xxmaj international xxmaj treaty xxmaj series , no . 11 / 05 of 8 xxmaj december 2005 , amendments published in xxmaj official xxmaj gazette no . 8 / 10 of 29 xxmaj july 2010 ) entered into force on 9 xxmaj february 2006 . xxmaj under xxmaj article 39 thereof , when a citizen or resident of one xxmaj contracting xxmaj state is suspected of having committed an offence in the territory of the other xxmaj contracting xxmaj state , the latter may request the former to take proceedings in the case . xxmaj while such a request is pending , the requesting xxmaj state may not prosecute the suspected person for the same offence . xxmaj moreover , a person in respect of whom a final criminal judgment has been rendered in the requested xxmaj state may not be prosecuted for the same offence in the requesting xxmaj state if he or she has been acquitted or if the sanction imposed has been enforced or the subject of a pardon or amnesty ( xxmaj article 41 of the xxmaj agreement ) . xxmaj lastly , when one xxmaj state intends to request the transfer of proceedings , it may also request the other xxmaj state to provisionally arrest the suspected person ( xxmaj article 40a of the xxmaj agreement ) . \n",
       "  b.relevant domestic law \n",
       "  xxunk and xxmaj herzegovina \n",
       "  ( a)criminal legislation \n",
       "  36.the 2003 xxmaj criminal xxmaj code ( published in xxmaj official xxmaj gazette of xxmaj bosnia and xxmaj herzegovina nos . 3 / 03 of 10 xxmaj february 2003 and 37 / 03 of 22 xxmaj november 2003 , amendments published in xxmaj official xxmaj gazette nos . 32 / 03 of 28 xxmaj october 2003 , 54 / 04 of 8 xxmaj december 2004 , 61 / 04 of 29december 2004 , 30 / 05 of \n",
       " 17 xxmaj may 2005 , 53 / 06 of 13 xxmaj july 2006 , 55 / 06 of 18 xxmaj july 2006 , 32 / 07 of \n",
       " 30 xxmaj april 2007 and 8 / 10 of 2 xxmaj february 2010 ) entered into force on 1 xxmaj march 2003 . \n",
       "  xxmaj the relevant part of xxmaj article 172 of the xxmaj code provides as follows : \n",
       "  “ 1.whoever , as part of a widespread or systematic attack directed against any civilian population , with knowledge of such an attack perpetrates any of the following acts : \n",
       "  ... \n",
       "  xxunk disappearance of persons ; \n",
       "  ... \n",
       "  shall be punished by imprisonment for a term not less than ten years or long - term imprisonment . \n",
       "  2.for the purpose of paragraph 1 of this xxmaj article the following terms shall have the following meanings : \n",
       "  ... \n",
       "  xxunk disappearance of persons means the arrest , detention or abduction of persons by , or with the authorisation , support or acquiescence of , a xxmaj state or a political organisation , followed by a refusal to acknowledge that deprivation of freedom or to give information on the fate or whereabouts of those persons , with an aim of removing them from the protection of the law for a prolonged period of time . \n",
       "  ... ” \n",
       "  xxmaj furthermore , in accordance with xxmaj article 239 of the xxmaj code , non - enforcement of a decision of the xxmaj human xxmaj rights xxmaj chamber is an offence : \n",
       "  “ xxmaj an official of the xxmaj state , the xxmaj entities or the xxmaj brčko xxmaj district who refuses to enforce a final and enforceable decision of the xxmaj constitutional xxmaj court of xxmaj bosnia and xxmaj herzegovina , the xxmaj court of xxmaj bosnia and xxmaj herzegovina , the xxmaj human xxmaj rights xxmaj chamber or the xxmaj european xxmaj court of xxmaj human xxmaj rights , or who prevents the enforcement of any such decision , or who xxunk the enforcement of any such decision in some other way , shall be punished by imprisonment for a term between six months and five years . ” \n",
       "  37.the 2003 xxmaj code of xxmaj criminal xxmaj procedure ( published in xxmaj official xxmaj gazette of xxmaj bosnia and xxmaj herzegovina nos . 3 / 03 of 10 xxmaj february 2003 and 36 / 03 of \n",
       " 21 xxmaj november 2003 , amendments published in xxmaj official xxmaj gazette nos . 32 / 03 of 28 xxmaj october 2003 , 26 / 04 of 7 xxmaj june 2004 , 63 / 04 of 31 xxmaj december 2004 , 13 / 05 of 9 xxmaj march 2005 , 48 / 05 of 19 xxmaj july 2005 , 46 / 06 of 19 xxmaj june 2006 , 76 / 06 of \n",
       " 25 xxmaj september 2006 , 29 / 07 of 17 xxmaj april 2007 , 32 / 07 of 30 xxmaj april 2007 , 53 / 07 of 16 xxmaj july 2007 , 76 / 07 of 15 xxmaj october 2007 , 15 / 08 of 25 xxmaj february 2008 , 58 / 08 of 21 xxmaj july 2008 , 12 / 09 of 10 xxmaj february 2009 , 16 / 09 of 24 xxmaj february 2009 and 93 / 09 of 1 xxmaj december 2009 ) entered into force on 1 xxmaj march 2003 . \n",
       "  xxmaj article 247 of the xxmaj code reads as follows : \n",
       "  “ xxmaj an accused may never be tried in absentia . ” \n",
       "  ( b)war xxmaj crimes xxmaj sections within the xxmaj court of xxmaj bosnia and xxmaj herzegovina \n",
       "  xxunk xxmaj crimes xxmaj sections of the xxmaj criminal and xxmaj appellate xxmaj divisions of the xxmaj court of xxmaj bosnia and xxmaj herzegovina have been set up pursuant to the xxmaj court of xxmaj bosnia and xxmaj herzegovina xxmaj act 2000 ( a consolidated version thereof published in xxmaj official xxmaj gazette of xxmaj bosnia and xxmaj herzegovina no . 49 / 09 of 22 xxmaj june 2009 , amendments published in xxmaj official xxmaj gazette nos . 74 / 09 of 21 xxmaj september 2009 and 97 / 09 of 15 xxmaj december 2009 ) . \n",
       "  ( xxunk of presumed death \n",
       "  39.any person or body demonstrating a legitimate interest may lodge a request for a declaration of presumed death with respect to those who went missing during the 1992 - 95 war as from the expiry of the waiting period , which is one year from the cessation of the hostilities ( the xxmaj non - xxmaj contentious xxmaj procedure xxmaj act 1989 , published in xxmaj official xxmaj gazette of the xxmaj socialist xxmaj republic of xxmaj bosnia and xxmaj herzegovina no . 10 / 89 of 23 xxmaj march 1989 , which was in force in the xxmaj federation of xxmaj bosnia and xxmaj herzegovina until 28 xxmaj january 1998 and in the xxmaj republika xxmaj srpska until 15 xxmaj may 2009 ; the xxmaj non - xxmaj contentious xxmaj procedure xxmaj act 1998 , published in xxmaj official xxmaj gazette of the xxmaj federation of xxmaj bosnia and xxmaj herzegovina no . 2 / 98 of 20 xxmaj january 1998 , amendments published in xxmaj official xxmaj gazette nos . 39 / 04 of 24 xxmaj july 2004 and 73 / 05 of 28 xxmaj december 2005 ; and the xxmaj non - xxmaj contentious xxmaj procedure xxmaj act 2009 , published in xxmaj official xxmaj gazette of the xxmaj republika xxmaj srpska no . 36 / 09 of 7 xxmaj may 2009 ) . \n",
       "  xxmaj pursuant to section 27(1 ) of the xxmaj missing xxmaj persons xxmaj act 2004 , a declaration of presumed death will automatically be issued with respect to all those recorded as missing in the xxmaj central xxmaj records ( see paragraph 40 below ) . \n",
       "  ( xxunk xxmaj persons xxmaj act 2004 \n",
       "  40.the xxmaj missing xxmaj persons xxmaj act 2004 ( published in xxmaj official xxmaj gazette of xxmaj bosnia and xxmaj herzegovina no . 50 / 04 of 9 xxmaj november 2004 ) entered into force on 17 xxmaj november 2004 . xxmaj it provides , in so far as relevant , as follows : \n",
       "  xxmaj article 3 ( xxmaj the right to know ) \n",
       "  “ xxmaj families of missing persons have the right to know the fate of their missing family members and relatives , their place of ( temporary ) residence , or if dead , the circumstances and cause of death and location of burial , if such location is known , and to receive the mortal remains . ” \n",
       "  xxmaj article 9 ( xxmaj termination of status ) \n",
       "  “ xxmaj the status of missing person is terminated on the date of identification , and the process of tracing the missing person is concluded . \n",
       "  xxmaj in the event that a missing person is proclaimed dead , but the mortal remains have not been found , the process of tracing shall not be terminated . ” \n",
       "  xxmaj the xxmaj missing xxmaj persons xxmaj institute and , within that xxmaj institute , the xxmaj central xxmaj records have been set up as domestic institutions pursuant to that xxmaj act . xxmaj the xxmaj missing xxmaj persons xxmaj fund , although envisaged , has not yet been set up . \n",
       "  xxunk \n",
       "  ( a)war xxmaj crimes xxmaj act 2003 \n",
       "  41.the xxmaj war xxmaj crimes xxmaj act 2003 ( published in xxmaj official xxmaj gazette of the xxmaj republic of xxmaj serbia no . 67 / 03 , amendments published in xxmaj official xxmaj gazette nos . 135 / 04 , 61 / 05 , 101 / 07 and 104 / 09 ) entered into force on 9 xxmaj july 2003 . xxmaj the xxmaj war xxmaj crimes xxmaj prosecutor , the xxmaj war xxmaj crimes xxmaj police xxmaj unit and the xxmaj war xxmaj crimes xxmaj sections within the xxmaj belgrade xxmaj higher xxmaj court and the xxmaj belgrade xxmaj court of xxmaj appeal have been set up pursuant to this xxmaj act . xxmaj they have jurisdiction over serious violations of international humanitarian law committed anywhere in the former xxmaj yugoslavia ( see section 3 of this xxmaj act ) . a number of persons have been convicted in xxmaj serbia for war crimes committed during the 1992 - 95 war in xxmaj bosnia and xxmaj herzegovina . xxmaj as an example , at the request of xxmaj bosnia and xxmaj herzegovina , the xxmaj serbian authorities have taken proceedings and convicted xxmaj mr xxmaj nenad xxmaj xxunk of war crimes committed against xxmaj bosniacs in xxmaj xxunk xxmaj xxunk in 1992 and sentenced him to 13 years’ imprisonment . xxmaj as another example , they have recently convicted xxmaj mr xxmaj xxunk xxmaj medić , xxmaj mr xxmaj xxunk xxmaj medić , xxmaj mr xxmaj xxunk xxmaj xxunk and xxmaj mr xxmaj aleksandar xxmaj medić of war crimes committed against xxmaj bosniacs in xxmaj xxunk in 1995 and sentenced them to 20 , 15 , 13 and 5 years’ imprisonment respectively . \n",
       "  ( xxunk xxmaj assistance in xxmaj criminal xxmaj matters xxmaj act 2009 \n",
       "  42.the xxmaj mutual xxmaj assistance in xxmaj criminal xxmaj matters xxmaj act 2009 ( published in xxmaj official xxmaj gazette of the xxmaj republic of xxmaj serbia no . 20 / 09 ) entered into force on 27 xxmaj march 2009 . xxmaj under section 16 of this xxmaj act , xxmaj serbian citizens may not be extradited . xxmaj this xxmaj act repealed the corresponding provision of the xxmaj code of xxmaj criminal xxmaj procedure 2001 ( published in xxmaj official xxmaj gazette of the xxmaj federal xxmaj republic of xxmaj yugoslavia no . 70 / 01 , amendments published in xxmaj official xxmaj gazette of the xxmaj federal xxmaj republic of xxmaj yugoslavia no . 68 / 02 and xxmaj official xxmaj gazette of the xxmaj republic of xxmaj serbia nos . 58 / 04 , 85 / 05 , 115 / 05 , 49 / 07 , 20 / 09 and 72 / 09 ) which was in force between 28 xxmaj march 2002 and 27 xxmaj march 2009 . \n",
       " ,xxbos xxup procedure \n",
       "  1.the case originated in an application ( no . xxunk / 02 ) against the xxmaj italian xxmaj republic lodged with the xxmaj court under xxmaj article 34 of the xxmaj convention for the xxmaj protection of xxmaj human xxmaj rights and xxmaj fundamental xxmaj freedoms ( “ the xxmaj convention ” ) by three xxmaj italian nationals , xxmaj mr xxmaj giuliano xxmaj giuliani , xxmaj ms xxmaj adelaide xxmaj gaggio ( married name xxmaj giuliani ) and xxmaj ms xxmaj elena xxmaj giuliani ( “ the applicants ” ) , on 18 xxmaj june 2002 . \n",
       "  2.the applicants were represented by xxmaj mr xxup n. xxmaj paoletti and xxmaj mr xxup g. xxmaj xxunk , lawyers practising in xxmaj rome . xxmaj the xxmaj italian xxmaj government ( “ the xxmaj government ” ) were represented by their xxmaj agent , xxmaj mrs xxup e. xxmaj spatafora , and by their co - xxmaj agent , xxmaj mr xxup n. xxmaj lettieri . \n",
       "  3.the applicants complained of the death of their son and brother , carlogiuliani , which they considered to have been caused by excessive use of force . xxmaj they further alleged that the respondent xxmaj state had not taken the necessary legislative , administrative and regulatory measures to reduce as far as possible the adverse consequences of the use of force , that the organisation and planning of the policing operations had not been compatible with the obligation to protect life and that the investigation into the circumstances of their relative 's death had not been effective . \n",
       "  4.the application was allocated to the xxmaj fourth xxmaj section of the xxmaj court ( xxmaj rule52 1 of the xxmaj rules of xxmaj court ) . xxmaj on 6 xxmaj february 2007 , following a hearing on admissibility and the merits ( xxmaj rule 54 3 ) , it was declared admissible by a xxmaj chamber of that xxmaj section composed of the following judges : xxmaj sir xxmaj nicolas xxmaj bratza , xxmaj josep xxmaj casadevall , xxmaj giovanni xxmaj bonello , xxmaj kristaq xxmaj traja , xxmaj vladimiro xxmaj zagrebelsky , xxmaj stanislav xxmaj pavlovschi and xxmaj lech xxmaj garlicki , and also of xxmaj lawrence xxmaj early , xxmaj section xxmaj registrar . \n",
       "  5.on 25 xxmaj august 2009 a xxmaj chamber of that xxmaj section , composed of the following judges : xxmaj sir xxmaj nicolas xxmaj bratza , xxmaj josep xxmaj casadevall , xxmaj lech xxmaj garlicki , xxmaj giovanni xxmaj bonello , xxmaj vladimiro xxmaj zagrebelsky , xxmaj ljiljana xxmaj mijović and xxmaj jn xxmaj šikuta , and also of xxmaj lawrence xxmaj early , xxmaj section xxmaj registrar , delivered a judgment in which it held as follows : unanimously , that there had been no violation of xxmaj article 2 of the xxmaj convention in its substantive aspect with regard to the excessive use of force ; by five votes to two , that there had been no violation of xxmaj article 2 of the xxmaj convention in its substantive aspect with regard to the positive obligation to protect life ; by four votes to three , that there had been a violation of xxmaj article 2 of the xxmaj convention in its procedural aspect ; unanimously , that it was not necessary to examine the case under xxmaj articles 3 , 6 and 13 of the xxmaj convention ; and unanimously , that there had been no violation of xxmaj article 38 of the xxmaj convention . xxmaj it also awarded , in respect of nonpecuniary damage , 15,000 euros ( xxup eur ) each to the applicants xxunk and xxmaj adelaide xxmaj gaggio and xxup eur 10,000 to the applicant xxmaj elena xxmaj giuliani . \n",
       "  6.on 24 xxmaj november 2009 the xxmaj government and the applicants requested , in accordance with xxmaj article 43 of the xxmaj convention and xxmaj rule 73 of the xxmaj rules of xxmaj court , that the case be referred to the xxmaj grand xxmaj chamber . xxmaj on 1 xxmaj march 2010 a panel of the xxmaj grand xxmaj chamber granted the requests . \n",
       "  7.the composition of the xxmaj grand xxmaj chamber was determined according to the provisions of xxmaj article 26 4 and 5 of the xxmaj convention and xxmaj rule 24 of the xxmaj rules of xxmaj court . \n",
       "  8.the applicants and the xxmaj government each filed further written observations ( xxmaj rule 59 1 ) . \n",
       "  9.on 27 xxmaj september 2010 the judges and substitute judges appointed to sit in the present case viewed the xxup cd - roms submitted by the parties on 28june and 9 xxmaj july 2010 ( see paragraph 139 below ) . \n",
       "  xxup 10.a hearing took place in public in the xxmaj human xxmaj rights xxmaj building , xxmaj strasbourg , on 29 xxmaj september 2010 ( xxmaj rule 59 3 ) . \n",
       "  xxmaj there appeared before the xxmaj court : \n",
       "  ( a)for the xxmaj government \n",
       " xxmaj mr \t xxup n. xxmaj lettieri , \t xxmaj co - xxmaj agent , \n",
       " xxmaj ms \t xxup p. xxmaj accardo , \t xxmaj co - xxmaj agent , \n",
       " xxmaj mr \t xxup g. xxmaj xxunk , \t xxmaj avvocato dello xxmaj stato ; \n",
       "  ( b)for the applicants \n",
       " xxmaj mr \t xxup n. xxmaj paoletti , \n",
       " xxmaj ms \t xxup g. xxmaj paoletti , \n",
       " xxmaj ms \t xxup n. xxmaj paoletti , \t xxmaj counsel , \n",
       " xxmaj ms \t xxup c. xxmaj sartori , \t xxmaj assistant . \n",
       " \n",
       "  xxmaj the xxmaj court heard addresses by them . \n",
       "  xxup the xxup facts \n",
       "  xxup i.the xxup circumstances xxup of xxup the xxup case \n",
       "  11.the applicants were born in 1938 , 1944 and 1972 respectively and live in xxmaj genoa and xxmaj milan . xxmaj they are the father , mother and sister of xxmaj carlo xxmaj giuliani , who was shot and killed during the demonstrations on the xxunk of the xxup g8 summit in xxmaj genoa in xxmaj july 2001 . \n",
       "  a.the background to the xxup g8 summit in xxmaj genoa and the events preceding the death of xxmaj carlo xxmaj giuliani \n",
       "  12.on 19 , 20 and 21 xxmaj july 2001 the xxup g8 summit was held in xxmaj genoa . xxmaj numerous “ anti - globalisation ” demonstrations were staged in the city and substantial security measures were put in place by the xxmaj italian authorities . xxmaj under section 4(1 ) of xxmaj law no . 149 of 8 xxmaj june 2000 , the prefect of xxmaj genoa was authorised to deploy military personnel to ensure public safety in connection with the summit . xxmaj in addition , the part of the city where the xxup g8 were meeting ( the historic centre ) was designated as a “ red zone ” and cordoned off by means of a metal fence . xxmaj as a result , only residents and persons working in the area were allowed access . xxmaj access to the port was prohibited and the airport was closed to traffic . xxmaj the red zone was contained within a yellow zone , which in turn was surrounded by a white ( normal ) zone . \n",
       "  13.the service instructions of 19 xxmaj july 2001 were issued by the officer in command of the law - enforcement agencies the day before xxmaj carlo xxmaj giuliani 's death . xxmaj they sum up the priorities of the law - enforcement agencies as follows : establishing a line of defence within the red zone , with the task of repelling rapidly any attempt to break through ; establishing a line of defence within the yellow zone to deal with any incidents , taking account of the position of the demonstrators in various locations and of actions perpetrated by more extremist elements ; putting in place public - order measures on the streets concerned by the demonstrations , bearing in mind the risk of violence encouraged by the presence of crowds of people . \n",
       "  14.the parties agreed as to the fact that the service instructions of 19july 2001 amended the plans hitherto established regarding the deployment of the available means and resources , in order to enable the law - enforcement agencies to counter effectively any attempt to enter the red zone by participants in the demonstration of the xxmaj tute xxmaj bianche ( “ xxmaj white overalls ” ) which had been announced and authorised for the following day . \n",
       "  15.the applicants maintained that the service instructions of 19 xxmaj july had given a detachment of carabinieri implicated in the death of xxmaj carlo xxmaj giuliani a dynamic role , whereas it had previously been supposed to remain in one location . xxmaj the xxmaj government stated that the service instructions had been communicated orally to the officers on the ground . \n",
       "  xxup 16.a radio communications system had been put in place , with an operations control room located in the xxmaj genoa police headquarters ( questura ) , which was in radio contact with the officers on the ground . xxmaj the carabinieri and police officers could not communicate directly amongst themselves by radio ; they could only contact the control room . \n",
       "  17.on the morning of 20 xxmaj july some groups of particularly aggressive demonstrators , wearing balaclavas and masks ( the “ xxmaj black xxmaj bloc ” ) sparked numerous incidents and clashes with law - enforcement officers . xxmaj the xxmaj tute xxmaj bianche march was due to set off from the xxmaj carlini stadium . xxmaj this was a demonstration involving several organisations : representatives of the “ xxmaj no xxmaj global ” movement and of community centres , and young communists from the xxmaj xxunk comunista party . xxmaj while they believed in non - violent protest ( civil disobedience ) , they had announced a strategic objective , namely to try to penetrate the red zone . xxmaj on 19 xxmaj july 2001 the head of the xxmaj genoa police authority ( questore ) had prohibited the xxmaj tute xxmaj bianche march from entering the red zone or the zone adjacent to it , and had deployed lawenforcement officers to halt the march at xxmaj piazza xxmaj verdi . xxmaj consequently , the demonstrators were able to march from the xxmaj carlini stadium and all the way along xxmaj via xxmaj tolemaide to xxmaj piazza xxmaj verdi , that is to say , well beyond the junction of xxmaj via xxmaj tolemaide and xxmaj corso xxmaj torino where clashes occurred , as detailed below . \n",
       "  18.at around 1.30 p.m. the march set off and headed slowly xxunk . xxmaj around xxmaj via xxmaj tolemaide there were signs of earlier disturbances . xxmaj the march was headed by a contact group made up of politicians and a group of journalists carrying video recorders and cameras . xxmaj the marchers slowed down and made a number of stops . xxmaj in the vicinity of xxmaj via xxmaj tolemaide there were incidents involving persons wearing masks and balaclavas and lawenforcement officers . xxmaj the march reached the railway tunnel at the junction with xxmaj corso xxmaj torino . xxmaj suddenly , tear gas was fired on the demonstrators by carabinieri under the command of xxmaj mr xxmaj mondelli . xxmaj the carabinieri charged forward , making use of their batons . xxmaj the march was pushed back xxunk as far as the junction with xxmaj via xxmaj invrea . \n",
       "  19.the demonstrators split up : some headed towards the xxunk , while others sought refuge in xxmaj via xxmaj invrea and then in the area around xxmaj piazza xxmaj alimonda . xxmaj some demonstrators responded to the attack by throwing hard objects such as glass bottles or rubbish bins at the law - enforcement officers . xxmaj armoured vehicles belonging to the carabinieri drove up xxmaj via xxmaj xxunk and xxmaj via xxmaj invrea at high speed , knocking down the barriers erected by the demonstrators and forcing the demonstrators at the scene to leave . xxmaj at xxunk . the control room ordered xxmaj mr xxmaj mondelli to move away and allow the marchers to pass . \n",
       "  20.some of the demonstrators retaliated with violence and clashes took place with the law - enforcement agencies . xxmaj at around 3.40 p.m. a group of demonstrators attacked an armoured carabinieri van and set it alight . \n",
       "  b.the death of xxmaj carlo xxmaj giuliani \n",
       "  21.at approximately 5 p.m. the presence of a group of demonstrators who appeared very aggressive was observed by the xxmaj sicilia battalion , consisting of around fifty carabinieri stationed close to xxmaj piazza xxmaj alimonda . xxmaj two xxmaj defender jeeps were parked nearby . xxmaj police officer xxmaj lauro ordered the carabinieri to charge the demonstrators . xxmaj the carabinieri charged on foot , followed by the two jeeps . xxmaj the demonstrators succeeded in pushing back the charge , and the carabinieri were forced to withdraw in disorderly fashion near xxmaj piazza xxmaj alimonda . xxmaj pictures taken from a helicopter at 5.23 p.m. show the demonstrators running along xxmaj via xxmaj caffa in pursuit of the lawenforcement officers . \n",
       "  22.in view of the withdrawal of the carabinieri the jeeps attempted to reverse away from the scene . xxmaj one succeeded in moving off while the other found its exit blocked by an overturned refuse container . xxmaj suddenly , several demonstrators wielding stones , sticks and iron bars surrounded it . xxmaj the two side windows at the rear and the rear window of the jeep were smashed . xxmaj the demonstrators shouted insults and threats at the jeep 's occupants and threw stones and a fire extinguisher at the vehicle . \n",
       "  23.there were three carabinieri on board the jeep : xxmaj filippo xxmaj xxunk ( “ xxup f.c. ” ) , who was driving , xxmaj mario xxmaj xxunk ( “ xxup m.p. ” ) and xxmaj xxunk xxmaj xxunk ( “ xxup d.r. ” ) . xxup m.p. , who was suffering from the effects of the tear - gas grenades he had thrown during the day , had been given permission by xxmaj captain xxmaj cappello , commander of a company of carabinieri , to get into the jeep in order to get away from the scene of the clashes . xxmaj crouched down in the back of the jeep , injured and panicking , he was protecting himself on one side with a riot shield ( according to the statement of a demonstrator named xxmaj predonzani ) . xxmaj shouting at the demonstrators to leave “ or he would kill them ” , xxup m.p. drew his xxmaj beretta 9 mm pistol , pointed it in the direction of the smashed rear window of the vehicle and , after some tens of seconds , fired two shots . \n",
       "  24.one of the shots struck xxmaj carlo xxmaj giuliani , a balaclava - clad demonstrator , in the face under the left eye . xxmaj he had been close to the rear of the jeep and had just picked an empty fire extinguisher off the ground and raised it up . xxmaj he fell to the ground near the left - side rear wheel of the vehicle . \n",
       "  25.shortly afterwards , xxup f.c. managed to restart the engine and in an attempt to move off , reversed , driving over xxmaj carlo xxmaj giuliani 's body in the process . xxmaj he then engaged first gear and drove over the body a second time as he left the scene . xxmaj the jeep then drove towards xxmaj piazza xxmaj tommaseo . \n",
       "  26.after “ a few metres ” , carabinieri sergeant - major xxmaj amatori got into the jeep and took over at the wheel , “ as the driver was in a state of shock ” . xxmaj another carabiniere named xxmaj rando also got in . \n",
       "  27.police forces stationed on the other side of xxmaj piazza xxmaj alimonda intervened and dispersed the demonstrators . xxmaj they were joined by some carabinieri . xxmaj at 5.27 p.m. a police officer present at the scene called the control room to request an ambulance . a doctor who arrived at the scene subsequently pronounced xxmaj carlo xxmaj giuliani dead . \n",
       "  28.according to the xxmaj ministry of the xxmaj interior ( ministero xxunk ) , it was impossible to indicate the exact number of carabinieri and police officers at the scene at the moment of xxmaj carlo xxmaj giuliani 's death ; there had been approximately fifty carabinieri , some 150 metres from the jeep . xxmaj in addition , 200 metres away , near xxmaj piazza xxmaj tommaseo , there had been a group of police officers . \n",
       "  29.relying , inter alia , on witness evidence given by law - enforcement officers during a parallel set of proceedings ( the “ trial of the twenty - five ” , see paragraphs 121 - 138 below ) , the applicants stated in particular that , while on xxmaj piazza xxmaj alimonda , the carabinieri had been able to take off their gas masks , eat and rest . xxmaj with the situation “ calm ” , xxmaj captain xxmaj cappello had ordered xxup m.p. and xxup d.r. to board one of the two jeeps . xxmaj he considered the two carabinieri to be mentally exhausted ( “ a terra ” ) and no longer physically fit for duty . xxmaj cappello also considered that xxup m.p. should stop firing tear gas and took away his tear - gas gun and the xxunk containing the tear - gas grenades . \n",
       "  xxunk to the photographs taken shortly before the fatal shot , the applicants stressed that the weapon had been held at a downward angle from the horizontal . xxmaj they also referred to the statements made by lieutenantcolonel xxmaj truglio ( see paragraph 43 below ) , who said that he had been ten metres or so from xxmaj piazza xxmaj alimonda and thirty to forty metres away from the jeep . xxmaj the carabinieri ( around a hundred of them ) had been some tens of metres from the jeep . xxmaj the police officers had been at the end of xxmaj via xxmaj caffa , towards xxmaj piazza xxmaj tommaseo . xxmaj the applicants submitted that the photographs in the investigation file clearly showed some carabinieri not far from the jeep . \n",
       "  c.the investigation by the domestic authorities \n",
       "  1.the first steps in the investigation \n",
       "  xxup 31.a spent cartridge was found a few metres from xxmaj carlo xxmaj giuliani 's body . xxmaj no bullet was found . a fire extinguisher and a bloodstained stone , among other objects , were found beside the body and were seized by the police . xxmaj it emerges from the file that the public prosecutor 's office entrusted thirty - six investigative measures to the police . xxmaj the jeep in which xxup m.p. had been travelling , and also the weapon and equipment belonging to him , remained in the hands of the carabinieri and were subsequently seized under a court order . a spent cartridge was found inside the jeep . \n",
       "  32.during the night of 20 xxmaj july 2001 the xxmaj genoa mobile police unit heard evidence from two police officers , xxmaj mr xxmaj martino and xxmaj mr xxmaj xxunk . xxmaj on 21 xxmaj july xxmaj captain xxmaj cappello , who was in charge of the xxup echo company , recounted the events of the previous day and gave the names of the carabinieri who had been in the jeep . xxmaj he said that he had heard no shots , probably because of his radio xxunk , his helmet and his gas mask , which reduced his hearing . \n",
       "  xxunk under investigation of xxup m.p. and xxup f.c. \n",
       "  33.on the night of 20 xxmaj july 2001 xxup m.p. and xxup f.c. were identified and examined by the xxmaj genoa public prosecutor 's office on suspicion of intentional homicide . xxmaj the interviews took place at the headquarters of the xxmaj genoa carabinieri . \n",
       "  ( xxunk 's first statement \n",
       "  xxup xxunk was an auxiliary carabiniere assigned to xxmaj battalion no . 12 ( xxmaj sicilia ) , and one of the members of the xxup echo company constituted for the purpose of the xxup g8 summit . xxmaj together with four other companies from different regions of xxmaj italy , the company formed part of the xxup xxunk , under the orders of xxmaj lieutenant - xxmaj colonel xxmaj truglio . xxmaj the xxup echo company was under the orders of xxmaj captain xxmaj cappello and his deputies xxmaj xxunk and xxmaj zappia , and was directed and coordinated by xxmaj mr xxmaj lauro , a senior officer ( vice questore ) of the xxmaj rome police . xxmaj each of the five companies was divided into four detachments of fifty men . xxmaj the overall commander of the companies was xxmaj colonel xxmaj xxunk . \n",
       "  xxup xxunk , who was born on 13 xxmaj august 1980 and began serving as a carabiniere on 16 xxmaj september 2000 , was twenty years and eleven months old at the material time . xxmaj he was trained in the use of grenades and had been deployed to fire tear gas . xxmaj he stated that during the public - order operations he had been supposed to move around on foot with his detachment . xxmaj having fired several tear - gas grenades , he had felt a burning in his eyes and face and had asked xxmaj captain xxmaj cappello for permission to board a jeep . xxmaj shortly afterwards another carabiniere ( xxup d.r. ) , who was injured , had joined him . \n",
       "  xxup xxunk said that he had been very frightened because of everything he had seen being thrown that day , and was particularly afraid that the demonstrators would throw xxmaj molotov cocktails . xxmaj he explained that he had grown more afraid after being injured in the leg by a metal object and in the head by a stone . xxmaj he had become aware that the jeep was under attack because of the stones being thrown and had thought that “ hundreds of demonstrators were surrounding the jeep ” , although he added that “ at the time [ he ] fired the shots , no one was in sight ” . xxmaj he said he had been “ xxunk ” . xxmaj at some point he realised that his hand was gripping his pistol ; he thrust the hand carrying the weapon through the jeep 's rear window and , after about a minute , fired two shots . xxmaj he maintained that he had not noticed xxmaj carlo xxmaj giuliani behind the jeep either before or after firing . \n",
       "  ( xxunk 's statement \n",
       "  xxup xxunk , the jeep 's driver , was born on 3 xxmaj september 1977 and had been serving as a carabiniere for twenty - two months . xxmaj at the material time he was twenty - three years and ten months old . xxmaj he stated that he had been in an alleyway near xxmaj piazza xxmaj alimonda and had attempted to reverse towards the square because the detachment was being pushed back by the demonstrators . xxmaj however , he had found his path blocked by a refuse container and his engine had stalled . xxmaj he had concentrated on trying to move the jeep out while his colleagues inside the vehicle were shouting . xxmaj as a result , he had not heard the shots . xxmaj lastly , he stated : “ i did not notice anyone on the ground because i was wearing a mask , which partly blocked my view ... and also because it is hard to see properly out the side of the vehicle . i reversed and felt no resistance ; actually , i felt the left wheel xxunk and thought it must be a pile of rubbish , since the refuse container had been overturned . xxmaj the only thought in my head was how to get out of that mess . ” \n",
       "  ( xxunk 's statement \n",
       "  xxup xxunk , who was born on 25 xxmaj january 1982 , had been performing military service since 16 xxmaj march 2001 . xxmaj at the material time he was nineteen years and six months old . xxmaj he stated that he had been struck in the face and back by stones thrown by demonstrators and had started to bleed . xxmaj he had tried to protect himself by covering his face , and xxup m.p. for his part had tried to shield him with his body . xxmaj at that point , he could no longer see anything , but he could hear the shouting and the sound of blows and objects entering the jeep . xxmaj he heard xxup m.p. shouting at their attackers to stop and leave , and then heard two shots . \n",
       "  ( xxunk 's second statement \n",
       "  39.on 11 xxmaj september 2001 xxup m.p. , during questioning by the public prosecutor , confirmed his statement of 20 xxmaj july 2001 , adding that he had shouted to the demonstrators : “ xxmaj leave or i 'll kill you ! ” . \n",
       "  3.other statements taken during the investigation \n",
       "  ( a)statements by other carabinieri \n",
       "  xxunk - xxmaj major xxmaj amatori , who was in the other jeep on xxmaj piazza xxmaj alimonda , said that he had noticed that the jeep in which xxup m.p. was travelling had its path blocked by a refuse container and was surrounded by a large number of demonstrators , “ certainly more than twenty ” . xxmaj the latter were throwing objects at the jeep . xxmaj in particular , he saw one demonstrator throw a fire extinguisher at the rear window . xxmaj he heard shots and saw xxmaj carlo xxmaj giuliani fall down . xxmaj the jeep then drove twice over xxmaj carlo xxmaj giuliani 's body . xxmaj once the jeep had succeeded in leaving xxmaj piazza xxmaj alimonda , he went over to it and saw that the driver had got out and , visibly shaken , was asking for help . xxmaj the sergeant - major took over the driving seat and , noticing that xxup m.p. had a pistol in his hand , ordered him to replace the safety catch . xxmaj he immediately thought that this was the weapon that had just fired the shots , but said nothing to xxup m.p. , who was injured and whose head was bleeding . xxmaj the driver told him that he had heard shots while he was manoeuvring the jeep . xxmaj the sergeant - major was not given any explanation as to the circumstances surrounding the decision to shoot and did not ask any questions on the subject . \n",
       "  xxunk xxmaj rando had gone over to the jeep on foot . xxmaj he said that he had seen that the pistol was drawn and asked xxup m.p. if he had fired . xxup m.p. said that he had , without specifying whether he had fired into the air or in the direction of a particular demonstrator . xxup m.p. kept saying : “ xxmaj they wanted to kill me , i do n't want to die ” . \n",
       "  42.on 11 xxmaj september 2001 the public prosecutor heard evidence from xxmaj captain xxmaj cappello , commander of the xxup echo company ( see paragraph 34 above ) . xxmaj captain xxmaj cappello stated that he had given xxup m.p. permission to board the jeep and had taken his tear - gas gun as xxup m.p. was experiencing difficulties . xxmaj he stated subsequently ( at the “ trial of the twenty five ” , hearing of 20 xxmaj september 2005 ) that xxup m.p. had been physically unfit to continue on account of his mental state and nervous tension . xxmaj captain xxmaj cappello had then moved with his men – about fifty in number – towards the corner of xxmaj piazza xxmaj alimonda and xxmaj via xxmaj caffa . xxmaj he was requested by police officer xxmaj lauro to proceed up xxmaj via xxmaj caffa in the direction of xxmaj via xxmaj tolemaide to assist the men engaged there in trying to push back the demonstrators . xxmaj he said he had been puzzled by the request , given the number of men with him and their state of tiredness , but had nevertheless stationed them on xxmaj via xxmaj caffa . xxmaj the carabinieri were forced back by the demonstrators coming from xxmaj via xxmaj tolemaide ; they initially withdrew in an orderly manner , and then in disorderly fashion . xxunk did not realise that , when the carabinieri withdrew , they were being followed by the two jeeps , as there was no “ operational reason ” for the vehicles to be there . xxmaj the demonstrators dispersed only when the mobile police units stationed on the other side of xxmaj piazza xxmaj alimonda intervened . xxmaj only then did he observe a man wearing a balaclava lying on the ground , apparently seriously injured . xxmaj some of his men were wearing helmets equipped with video cameras which should make it possible to shed light on the sequence of events ; the video recordings were handed over to xxunk . \n",
       "  xxunk - xxmaj colonel xxmaj truglio , xxmaj captain xxmaj cappello 's superior officer , stated that he had stopped around ten metres from xxmaj piazza xxmaj alimonda and thirty to forty metres from the jeep , and had seen the jeep drive over a body lying on the ground . \n",
       "  ( b)statement by police officer xxmaj lauro \n",
       "  44.on 21 xxmaj december 2001 xxmaj mr xxmaj lauro gave evidence to the public prosecutor . xxmaj he stated that he had learnt of the change to the service instructions on the morning of 20 xxmaj july 2001 . xxmaj at the hearing of 26 xxmaj april 2005 during the “ trial of the twenty - five ” , he stated that he had been informed on 19 xxmaj july 2001 that no march was authorised for the following day . xxmaj on 20 xxmaj july he had still been unaware that an authorised march was due to take place . xxmaj during the day he went to xxmaj piazza xxmaj tommaseo , where clashes were taking place with demonstrators . xxmaj at 3.30 p.m. , while the situation was calm , xxmaj lieutenant - xxmaj colonel xxmaj truglio and the two jeeps joined the contingent . xxmaj between 4 p.m. and 4.45 p.m. the contingent was involved in clashes on xxmaj corso xxmaj torino . xxmaj it then arrived in the vicinity of xxmaj piazza xxmaj tommaseo and xxmaj piazza xxmaj alimonda . xxmaj lieutenant - xxmaj colonel xxmaj truglio and the two jeeps came back and the contingent was reorganised . xxmaj mr xxmaj lauro observed a group of demonstrators at the end of xxmaj via xxmaj caffa who had formed a barrier using wheeled refuse containers and were advancing towards the law - enforcement officers . xxmaj he asked xxmaj captain xxmaj cappello whether his men were in a position to deal with the situation and the latter replied in the affirmative . xxmaj mr xxmaj lauro and the contingent therefore took up positions close to xxmaj via xxmaj caffa . xxmaj he heard an order to withdraw and took part in the disorderly withdrawal of the contingent . \n",
       "  ( c)other statements made to the public prosecutor \n",
       "  45.some demonstrators present at the time of the events also gave statements to the public prosecutor . xxmaj some of them said they had been very close to the jeep and had themselves thrown stones and had struck the jeep with sticks and other objects . xxmaj according to one demonstrator , xxup m.p. had cried : “ xxmaj bastards , i 'm going to kill the lot of you ! ” . xxmaj another noticed that the carabiniere inside the jeep had taken out his pistol ; the demonstrator then shouted to his friends to watch out and moved away . xxmaj another demonstrator said that xxup m.p. had been protecting himself on one side with a riot shield . \n",
       "  xxunk individuals who witnessed the events from the windows of their homes said they had seen a demonstrator pick up a fire extinguisher and raise it up . xxmaj they had heard two shots and had seen the demonstrator fall to the ground . \n",
       "  xxunk material \n",
       "  47.the public prosecutor 's office ordered the law - enforcement agencies to hand over any audiovisual material which might help in reconstructing the events on xxmaj piazza xxmaj alimonda . xxmaj photographs had been taken and video recordings made by film crews , helicopter cameras and xxunk video cameras in the helmets of some of the officers . xxmaj pictures taken by private individuals were also available . \n",
       "  5.the forensic examinations \n",
       "  ( a)the autopsy \n",
       "  48.within twenty - four hours the public prosecutor 's office ordered an autopsy to establish the cause of xxmaj carlo xxmaj giuliani 's death . xxmaj on 21 xxmaj july 2001 at 12.10 p.m. notice of the autopsy – specifying that the injured party could appoint an expert and a lawyer – was served on the first applicant , xxmaj carlo xxmaj giuliani 's father . xxmaj at 3.15 p.m. xxmaj mr xxmaj canale and xxmaj mr xxmaj salvi , the experts appointed by the prosecuting authorities , were given their official brief and work commenced on the autopsy . xxmaj the applicants did not send any representative or expert of their own . \n",
       "  49.the experts requested the public prosecutor 's office to give them sixty days to prepare their report . xxmaj the request was granted . xxmaj on 23 xxmaj july 2001 the public prosecutor 's office authorised the cremation of xxmaj carlo xxmaj giuliani 's body in accordance with the family 's wishes . \n",
       "  50.the expert report was submitted on 6 xxmaj november 2001 . xxmaj it found that xxmaj carlo xxmaj giuliani had been struck below the left eye by a bullet which had passed through the skull and exited through the rear of the skull on the left . xxmaj the bullet 's trajectory had been as follows : it had been fired from a distance exceeding fifty centimetres and had travelled from front to back , from right to left and in a downward direction . xxmaj carlo xxmaj giuliani had been 1.65 metres tall . xxmaj the person firing the shot had been facing the victim and slightly to his right . xxmaj according to the experts , the bullet injury to the head had resulted in death within a few minutes ; the jeep 's being driven over the body had caused only insignificant minor injuries to the organs in the thorax and the abdomen . \n",
       "  ( b)the expert medical examinations carried out on xxup m.p. and xxup d.r. \n",
       "  51.after leaving xxmaj piazza xxmaj alimonda the three carabinieri who had been in the jeep went to the casualty department of xxmaj genoa xxmaj hospital . xxup m.p. complained of diffuse bruising to his right leg and an injury to the skull with open wounds ; against the advice of the doctors , who wished to admit him , xxup m.p. signed a discharge and left the hospital at around 9.30 p.m. xxmaj he had an injury to the skull which , he said , had been caused by a blow to the head with a blunt instrument while he had been in the jeep . \n",
       "  xxup xxunk presented with bruising and abrasions to the nose and the right cheekbone and bruises on the left shoulder and left foot . xxup f.c. was suffering from a posttraumatic psychological disorder and was expected to recover within fifteen days . \n",
       "  53.medical examinations were carried out to establish the nature of the injuries and their connection with the attack on the jeep 's occupants . xxmaj the reports concluded that the injuries sustained by xxup m.p. and xxup d.r. had not been life - threatening . xxup m.p. 's head injuries could have been caused by a stone thrown at him , but it was not possible to determine the origin of his other injuries . xxmaj the injury to xxup d.r. 's face could have been caused by a stone thrown at him and his shoulder injury by a blow from a wooden plank . \n",
       "  ( c)the ballistics tests ordered by the public prosecutor 's office \n",
       "  ( i)the first set of tests \n",
       "  54.on 4 xxmaj september 2001 the public prosecutor 's office instructed xxunk to establish whether the two spent cartridges found at the scene ( one in the jeep and the other a few metres from xxmaj carlo xxmaj giuliani 's body – see paragraph 31 above ) had come from the same weapon , and specifically from xxup m.p. 's weapon . xxmaj in his report of 5 xxmaj december 2001 the expert concluded that there was a 90 % probability that the cartridge found in the jeep had come from xxup m.p. 's pistol , whereas there was only a 10 % probability that the cartridge found close to xxmaj carlo xxmaj giuliani 's body had issued from the same weapon . xxmaj in accordance with xxmaj article 392 of the xxmaj code of xxmaj criminal xxmaj procedure ( “ the xxup ccp ” ) , these tests were carried out unilaterally , that is to say , without the injured party having an opportunity to participate . \n",
       "  ( ii)the second set of tests \n",
       "  55.the public prosecutor 's office appointed a second expert , police inspector xxmaj xxunk . xxmaj the latter , in a report submitted on 15 xxmaj january 2002 , stated that there was a 60 % probability that the spent cartridge found near the victim 's body had come from xxup m.p. 's weapon . xxmaj he concluded that both the cartridges had come from xxup m.p. 's pistol , and estimated the distance between xxup m.p. and xxmaj carlo xxmaj giuliani at the moment of impact at between 110 and 140 centimetres . xxmaj the tests were conducted unilaterally . \n",
       "  ( iii)the third set of tests \n",
       "  56.on 12 xxmaj february 2002 the public prosecutor 's office instructed a panel of experts ( made up of xxmaj mr xxmaj xxunk , xxmaj mr xxmaj benedetti , xxmaj mr xxmaj romanini and xxmaj mr xxmaj torre ) “ to reconstruct , even in virtual form , the actions of xxup m.p. and xxmaj carlo xxmaj giuliani in the moments immediately before and after the bullet struck the victim 's body ” . xxmaj in particular , the experts were asked to “ establish the distance between xxup m.p. and xxmaj carlo xxmaj giuliani , their respective angles of vision and xxup m.p. 's field of vision inside the jeep at the moment the shots were fired ” . xxmaj it appears from the file that xxmaj mr xxmaj romanini had published an article in xxmaj september 2001 in a specialist journal ( xxup xxunk xxmaj xxunk ) , in which he expressed the view , among other things , that xxup m.p. 's actions had constituted “ a clear and wholly justified defensive reaction ” . \n",
       "  57.the representatives and experts appointed by the applicants attended the examinations by the panel of experts . xxmaj the applicants ' lawyer , xxmaj mr xxmaj xxunk , stated that he did not wish to make an application for the immediate production of evidence ( incidente xxunk ) . xxmaj article 392 1 ( f ) and 2 of the xxup ccp allows the public prosecutor and the accused , among other things , to request the investigating judge ( giudice per le indagini preliminari ) to order a forensic examination where the latter concerns a person , object or place which is subject to unavoidable alteration or where , if ordered during the trial , the examination in question could entail suspension of the proceedings for a period exceeding sixty days . xxmaj under xxmaj article 394 of the xxup ccp the injured party may request the public prosecutor to apply for the immediate production of evidence . xxmaj if the public prosecutor refuses the request , he or she must issue an order giving reasons and must serve it on the injured party . \n",
       "  58.an on - site inspection was conducted on 20 xxmaj april 2002 . xxmaj traces of the impact of a shot were found on the wall of a building on xxmaj piazza xxmaj alimonda , at a height of about five metres . \n",
       "  59.on 10 xxmaj june 2002 the experts submitted their report . xxmaj the experts stated at the outset that the fact that they had not had access to xxmaj carlo xxmaj giuliani 's body ( because it had been cremated ) had been a major obstacle which had prevented them from producing an exhaustive report , as they had been unable to re - examine parts of the body and search for micro - traces . xxmaj on the basis of the “ little material available ” the experts attempted to establish first of all what the impact of the bullet had been on xxmaj carlo xxmaj giuliani 's body , setting out the following considerations . \n",
       "  60.the injuries to the skull had been very serious and had resulted in death “ within a short space of time ” . xxmaj the bullet had not exited whole from xxmaj carlo xxmaj giuliani 's head ; the report ( xxunk xxunk ) of the full body scan performed before the autopsy referred to a “ subcutaneous fragment , probably metal ” above the bones in the occipital region . xxmaj this piece of opaque metal looked like a fragment of bullet casing . xxmaj the appearance of the entry wound on the face did not lend itself to an unequivocal interpretation ; its irregular shape was explained chiefly by the type of tissue in the part of the body struck by the bullet . xxmaj however , one possible explanation was that the bullet had not hit xxmaj carlo xxmaj giuliani directly , but had encountered an intermediate object which could have distorted it and slowed it down before it reached the victim 's body . xxmaj that hypothesis would explain the small dimensions of the exit wound and the fact that the bullet had fragmented inside xxmaj carlo xxmaj giuliani 's head . \n",
       "  61.the experts reported finding a small fragment of lead , probably from the bullet , which had come off xxmaj carlo xxmaj giuliani 's balaclava when the latter was being handled ; it was impossible to ascertain whether the fragment had come from the front , side or back of the balaclava . xxmaj it bore traces of a substance which was not part of the bullet as such , but came from material used in the building industry . xxmaj in addition , micro - fragments of lead were found on the front and back of the balaclava , apparently confirming the hypothesis that the bullet had lost part of its casing at the moment of impact . xxmaj according to the experts , it was not possible to establish the nature of the “ intermediate object ” apparently hit by the bullet ; however , they ruled out the possibility that it was the fire extinguisher which xxmaj carlo xxmaj giuliani had been holding in his outstretched hand . xxmaj the distance from which the shot had been fired had been in excess of 50 - 100 centimetres . \n",
       "  62.in order to reconstruct the events on the basis of the “ intermediate object theory ” , the experts then had some test shots fired and conducted video and computer simulations . xxmaj they concluded that it was not possible to establish the bullet 's trajectory as the latter had undoubtedly been altered as a result of the collision . xxmaj on the basis of video footage showing a stone disintegrating in the air and of the shot that could be heard on the soundtrack , the experts concluded that the stone had shattered immediately after the shot had been fired . a computer simulation showed the bullet , fired upwards , hitting xxmaj carlo xxmaj giuliani after colliding with the stone in question , thrown at the jeep by another demonstrator . xxmaj the experts estimated that the distance between xxmaj carlo xxmaj giuliani and the jeep had been approximately 1.75metres and that xxup m.p. had been able to see xxmaj carlo xxmaj giuliani at the moment the shot was fired . \n",
       "  6.the applicants ' investigations \n",
       "  63.the applicants submitted a statement made to their lawyer by xxup j.m. , one of the demonstrators , on 19 xxmaj february 2002 . xxup j.m. stated in particular that xxmaj carlo xxmaj giuliani had still been alive after the jeep had driven over his body . xxmaj the applicants also produced a statement made by a carabiniere ( xxup v.m. ) , who reported a widespread practice among law - enforcement officers consisting in altering bullets of the kind used by xxup m.p. in order to increase their capacity to expand and hence fragment . \n",
       "  64.lastly , the applicants submitted two reports drawn up by experts they themselves had chosen . xxmaj according to one of the experts , xxmaj mr xxmaj gentile , the bullet had already been in fragments when it struck the victim . xxmaj the fact that it had fragmented could be explained by a manufacturing defect or by its having been manipulated to make it more likely to break up . xxmaj in the expert 's view , however , these two scenarios occurred only rarely and were therefore less likely than the one advanced by the prosecuting authorities ' experts ( namely that the bullet had collided with an intermediate object ) . \n",
       "  65.the other experts appointed by the applicants to reconstruct the events concluded that the stone had shattered on impact with the jeep rather than with the bullet fired by xxup m.p .. xxmaj in order to reconstruct the events on the basis of the audiovisual material , and especially of the photographs , it was necessary to establish the exact position of the photographer , and in particular his or her angle of vision , taking into account also the type of equipment used . xxmaj in addition , it was necessary to establish the timing of the images and how they fitted in with the sound . xxmaj the applicants ' experts criticised the method used by the prosecuting authorities ' experts , who had based their analysis on “ video and computer simulations ” and had not analysed the available images rigorously and in detail . xxmaj the method used to perform the test shots was also criticised . \n",
       "  66.the applicants ' experts concluded that xxmaj carlo xxmaj giuliani had been about three metres away from the jeep when the shot was fired . xxmaj while it was undeniable that the fatal bullet had been in fragments when it struck the victim , the possibility of its having collided with the stone which could be seen in the video should be ruled out . a stone would have distorted the bullet differently and left different marks on xxmaj carlo xxmaj giuliani 's body . xxmaj moreover , xxup m.p. had not fired upwards . \n",
       "  d.the request to discontinue the proceedings and the applicants ' objection \n",
       "  1.the request to discontinue the proceedings \n",
       "  67.on completion of the domestic investigation the xxmaj genoa public prosecutor decided to request that the case against xxup m.p. and xxup f.c. be discontinued . xxmaj the public prosecutor noted first of all that far - reaching changes had been made to the organisation of the public - order operations on the night of 19 xxmaj july 2001 , and took the view that this partly explained the problems that had arisen on 20 xxmaj july . xxmaj however , he did not detail the changes or the problems that had resulted . \n",
       "  68.the public prosecutor went on to observe that xxmaj mr xxmaj lauro 's version of events and that of xxmaj captain xxmaj cappello differed on one specific point : whereas the former asserted that the decision to position law - enforcement personnel on xxmaj via xxmaj caffa in order to block the demonstrators had been taken by mutual agreement , the latter maintained that it had been a unilateral decision taken by xxmaj mr xxmaj lauro despite the risks entailed by the small size of the detachment and the fact that the men were tired . \n",
       "  69.the experts agreed on the following points : two shots had been fired from xxup m.p. 's pistol , the first of which had killed xxmaj carlo xxmaj giuliani ; the bullet in question had not fragmented solely as a result of striking the victim ; and the photograph of xxmaj carlo xxmaj giuliani holding the fire extinguisher had been taken when he was approximately three metres away from the jeep . \n",
       "  70.however , they differed on the following points : \n",
       "  ( a)according to the prosecuting authorities ' experts , xxmaj carlo xxmaj giuliani had been 1.75 metres from the jeep when the bullet struck him ( approximately three metres away according to the xxmaj giuliani family 's experts ) ; \n",
       "  ( xxunk to the xxmaj giuliani family 's experts , the shot had been fired before the stone could be seen on the video , contrary to the view of the prosecuting authorities ' experts . \n",
       "  71.as the parties agreed that the bullet had fragmented before striking the victim , the public prosecutor concluded that they were also in agreement as to the causes of the bullet 's fragmentation , and that the applicants subscribed to the “ intermediate object theory ” . xxmaj other possible explanations for the fragmentation of the bullet advanced by the applicants – such as the manipulation of the bullet or a manufacturing defect – had been considered by the applicants themselves to be much less likely . xxmaj they could not therefore be regarded as valid explanations in the public prosecutor 's view . \n",
       "  72.the investigation had been lengthy , in particular owing to delays with some of the forensic reports , the “ superficial nature ” of the autopsy report and the errors committed by one of the experts , xxmaj mr xxmaj xxunk . xxmaj however , it had addressed all the relevant issues in detail and led to the conclusion that the hypothesis of the bullet having been fired upwards and deflected by a stone was “ the most convincing ” . xxmaj nevertheless , there was insufficient evidence in the file to determine whether xxup m.p. had fired with the sole intention of dispersing the demonstrators or had knowingly run the risk of injuring or killing one or more of them . xxmaj there were three possibilities , and “ the matter [ would ] never be resolved with certainty ” . xxmaj the possibilities were as follows : \n",
       "  –the shots had been designed to intimidate the demonstrators and it was therefore a case of causing death by negligence ; \n",
       "  xxup –m.p. had fired the shots in order to put a stop to the attack and had accepted the risk of killing someone ; that would mean that it was a case of intentional homicide ; \n",
       "  xxup –m.p. had aimed at xxmaj carlo xxmaj giuliani ; this would also be intentional homicide . \n",
       "  xxmaj in the public prosecutor 's view , the evidence in the file was such that the third possibility could be ruled out . \n",
       "  73.the public prosecutor further considered that the fact that the bullet had collided with the stone was not capable of severing the causal link between xxup m.p. 's actions and xxmaj carlo xxmaj giuliani 's death . xxmaj given that the link remained , the question was whether xxup m.p. had acted in self - defence . \n",
       "  74 . xxmaj it had been proven that the physical integrity of the jeep 's occupants had been under threat and that xxup m.p. had been “ responding ” in the face of danger . xxmaj that response had to be examined in terms of both its necessity and its proportionality , “ the latter aspect being the more delicate ” . \n",
       "  75.the public prosecutor took the view that xxup m.p. had had no other option and could not have been expected to act differently , since “ the jeep was surrounded by demonstrators [ and ] the physical aggression against the occupants was patent and virulent ” . xxup m.p. had been justified in perceiving his life to be in danger . xxmaj the pistol had been a tool capable of putting a stop to the attack , and xxup m.p. could not be criticised for the equipment issued to him . xxmaj he could not be expected to refrain from using his weapon and submit to an attack liable to endanger his physical integrity . xxmaj these considerations justified a decision to discontinue the case . \n",
       "  2.the applicants ' objection \n",
       "  76.on 10 xxmaj december 2002 the applicants lodged an objection against the public prosecutor 's request to discontinue the proceedings . xxmaj they alleged that , since the prosecuting authorities themselves had acknowledged that the investigation had been flawed and raised questions which had not been answered with certainty , adversarial proceedings were essential in order to arrive at the truth . xxmaj in their view , it was impossible to argue simultaneously that xxup m.p. had fired into the air and that he had acted in self - defence , particularly since he had said that he could not see xxmaj carlo xxmaj giuliani when he had fired the shots . \n",
       "  77.the applicants further remarked that the intermediate object theory , which they disputed , had been put forward one year after the events and was based on pure supposition not backed up by objective evidence . xxmaj there were other possible explanations . \n",
       "  78.the applicants also observed that , according to the evidence in the file , xxmaj carlo xxmaj giuliani had still been alive after the jeep had driven over his body . xxmaj they stressed that the autopsy report , which found that no appreciable injuries had been caused by the jeep driving over the body , had been described by the public prosecutor as superficial ; they also criticised the decision to entrust a number of investigative measures to the carabinieri . \n",
       "  79.it followed that xxup m.p. and xxup f.c. should have been committed for trial . xxmaj in the alternative , the applicants requested that further investigative measures be undertaken , in particular : \n",
       "  ( a)that a forensic report be prepared aimed at establishing the causes and the time of xxmaj carlo xxmaj giuliani 's death , in order to ascertain in particular whether he had still been alive when the jeep drove over his body , and afterwards ; \n",
       "  ( b)that evidence be heard from the chief of police , xxmaj mr xxmaj de xxmaj gennaro , and from carabiniere xxmaj zappia , to establish what instructions had been given regarding the wearing of weapons on the thigh ; \n",
       "  ( c)that the person who had thrown the stone which allegedly deflected the bullet be identified and traced ; \n",
       "  ( d)that further evidence be heard from the demonstrators who had come forward ; \n",
       "  ( e)that evidence be heard from the carabiniere xxup v.m. , who had reported the practice of cutting the tips of bullets ( see paragraph 63 above ) ; \n",
       "  ( f)that forensic tests be carried out on the spent cartridges and on the weapons of all the police and carabinieri on xxmaj piazza xxmaj alimonda at the time of the events . \n",
       "  3.the hearing before the investigating judge \n",
       "  80.the hearing before the investigating judge took place on 17 xxmaj april 2003 . xxmaj the applicants maintained their argument that the fatal bullet had not been deflected but had struck the victim directly . xxmaj however , they conceded that there was no evidence that xxup m.p. had altered the bullet to increase its impact ; that was simply one theory . \n",
       "  81.the representative of the public prosecutor 's office said he had the impression that “ certain points which [ he had ] believed to be the subject of agreement were in fact not ; on the contrary , there were divergences of opinion ” . xxmaj he pointed out that the applicants ' expert , xxmaj mr xxmaj gentile , had been in agreement as to the fact that the bullet had been damaged before striking xxmaj carlo xxmaj giuliani . xxmaj furthermore , xxmaj mr xxmaj gentile had acknowledged that one of the possible causes of the damage was a collision with some object or an intrinsic defect in the bullet , and that the second cause was less likely than the first . \n",
       "  e.the decision of the investigating judge \n",
       "  82.by an order lodged with the registry on 5 xxmaj may 2003 , the xxmaj genoa investigating judge granted the public prosecutor 's request to discontinue the case . \n",
       "  1.establishment of the facts \n",
       "  83.the investigating judge referred to an anonymous account of the events posted by a xxmaj french person on an anarchist website ( xxunk ) , which she considered to be credible given that it concurred with the audiovisual material and with the witness statements . xxmaj the account in question described the situation on xxmaj piazza xxmaj alimonda and a charge by demonstrators against the carabinieri . xxmaj the charge had been led by demonstrators throwing anything that came to hand , followed by others carrying containers and rubbish bins for use as mobile barricades . xxmaj the atmosphere on the square was described as “ xxunk ” , with the lawenforcement agencies coming under attack from a crowd which was advancing , throwing missiles and immediately picking up new ones . xxmaj the carabinieri , for their part , were firing tear gas , but a contingent was eventually forced to retreat towards xxmaj piazza xxmaj alimonda , where one of the two jeeps accompanying them found itself xxunk in and surrounded by demonstrators . xxmaj the latter , brandishing iron bars and other objects , began hitting the jeep , and the rear window was soon smashed . xxmaj the author of the account heard two shots and could see the hand of one of the two carabinieri inside the jeep , holding a firearm . xxmaj when the jeep drove off and the noise died down , he saw a young man with serious head injuries lying on the ground . xxmaj the author also described the anger of certain demonstrators on learning that a demonstrator had died . \n",
       "  84.the investigating judge observed that the description by the anonymous demonstrator tallied with the findings of the investigation , according to which , at around 5 p.m. , a group of demonstrators had gathered in xxmaj via xxmaj caffa at the junction with xxmaj via xxmaj tolemaide , erecting barricades using rubbish bins , supermarket trolleys and other objects . xxmaj from behind this barricade the group began throwing large numbers of stones and hard objects at a contingent of carabinieri who , having been stationed originally on xxmaj piazza xxmaj alimonda at the corner of xxmaj via xxmaj caffa , had begun to move forward in a bid to stop the demonstrators , whose numbers had increased in the meantime . xxmaj two jeeps , one of them driven by xxup f.c. and with xxup m.p. and xxup d.r. on board , joined the contingent of carabinieri ; however , the demonstrators charged violently , forcing the contingent to retreat . xxmaj the jeeps reversed towards xxmaj piazza xxmaj alimonda , where one of them collided with a refuse container . xxmaj in a matter of moments , the demonstrators surrounded the vehicle , hitting it using all available means and throwing stones . xxmaj as the audiovisual material in the file showed , the jeep 's windows were smashed with stones , iron bars and sticks . xxmaj the unrelenting nature of the demonstrators ' attack on the jeep was described as “ impressive ” . xxmaj some stones struck members of the carabinieri in the face and the head and one demonstrator , xxmaj mr xxmaj monai , thrust a long wooden beam through one of the windows , with the result that xxup d.r. sustained bruises and grazing to his right shoulder . \n",
       "  xxunk of the photographs showed xxup m.p. kicking a fire extinguisher away ; this was very probably the metal object which had caused severe bruising to his leg . xxmaj successive photographs showed a hand holding a weapon above the jeep 's spare wheel while a young man ( xxmaj carlo xxmaj giuliani ) reached down to the ground and picked up a fire extinguisher , in all likelihood with the intention of throwing it at the jeep 's rear window . xxmaj at that moment two shots were fired from inside the jeep and the young man fell to the ground . xxmaj the jeep drove over his body twice before managing to leave the scene . \n",
       "  xxunk the available evidence , including xxup m.p. 's statement of 20 xxmaj july 2001 ( see paragraphs 34 - 36 above ) , indicated that xxmaj carlo xxmaj giuliani 's death had been caused by one of the shots fired by xxup m.p. xxmaj the investigating judge cited virtually the whole of that statement , in which xxup m.p. spoke of his state of panic , the injuries he and xxup d.r. had sustained and the fact that at the moment he pointed his pistol he had not seen anyone but had been aware of the presence of attackers because of the continuous barrage of stones . xxmaj that version matched the statements made by xxup d.r. and xxup f.c. and those of other armed forces personnel and witnesses . xxmaj in addition , the case file showed that xxup m.p. had bruising and injuries to his right leg , his arm and the top of his skull ; xxup d.r. had scratches on his face and bruising on his shoulder and foot , while xxup f.c. had a post - traumatic disorder treatable within fifteen days ( see paragraphs 51 - 53 above ) . \n",
       "  2.the “ intermediate object ” theory \n",
       "  87.the investigating judge noted that the evidence in the file showed that the first bullet fired by xxup m.p. had killed xxmaj carlo xxmaj giuliani . xxmaj in exiting through the occipital bone in the skull the bullet had lost a fragment of its casing , as shown by the scan performed before the autopsy . xxmaj this fact , combined with the characteristics of the entry and exit wounds , had led the prosecuting authorities ' experts to formulate the theory that the bullet had collided with an object before hitting xxmaj carlo xxmaj giuliani . xxmaj the entry wound had been very irregular in shape and the exit wound had been small , as was the case when a bullet had lost momentum and / or fragmented . \n",
       "  88.the bullet in question was an encased 9 mm parabellum , and therefore very powerful . xxmaj this fact , together with the low resistance of the body tissue through which the bullet had travelled , served to confirm the theory advanced by the prosecuting authorities ' experts . xxmaj moreover , a “ tiny fragment of lead ” , compatible with the bullets issued to xxup m.p. , had been found in the victim 's balaclava with particles of bone attached to it . xxmaj this suggested that the bullet had lost part of its casing before hitting the bone . \n",
       "  89.the simulated shots had revealed that the intermediate object which caused the bullet to fragment could not have been either the fire extinguisher carried by the victim or one of the bones through which the bullet had passed ; on the other hand , it could have been one of the numerous stones thrown at the jeep by demonstrators . xxmaj this appeared to be confirmed by the video footage showing a stone disintegrating in the air at the same time as a shot was heard . xxmaj the fact that the sound and the disintegration of the object occurred simultaneously made the applicants ' theory that the stone had smashed on impact with the roof of the jeep less convincing . xxmaj furthermore , the lead fragment in the victim 's balaclava had borne traces of building materials . xxmaj lastly , the test shots had shown that , when they were hit by a bullet , objects made up of building materials “ exploded ” in a similar manner to that seen in the video footage and caused damage to the cartridge casing . xxmaj the tests performed showed that disintegration occurred differently when such objects were thrown against a vehicle ( the dust was produced after rather than simultaneously with fragmentation , and in smaller quantities ) . \n",
       "  90.the second shot fired by xxup m.p. had left a mark on the wall of the church on xxmaj piazza xxmaj alimonda ( at a height of 5.3 metres ) . xxmaj the first shot had hit xxmaj carlo xxmaj giuliani . xxmaj the ballistics tests had been unable to establish the original trajectory of that bullet . xxmaj however , the experts appointed by the public prosecutor 's office had taken into account the fact that the jeep was xxunk high and that the stone seen on the video had been at a height of around 1.9 m when the image was recorded . xxmaj they had therefore fired some test shots , positioning the weapon around 1.3 metres from a stone suspended 1.9 metres above the ground : the bullet had been deflected downwards and hit the “ collecting tray ” ( located 1.75 metres from the weapon ) at heights of between 1.1 and 1.8 metres . xxmaj these data tallied with the statements of certain demonstrators who had been eyewitnesses to the events , according to whom xxmaj carlo xxmaj giuliani had been about two metres from the jeep when he was shot dead . xxmaj the prosecuting authorities ' experts had not had these statements available to them at the time they had carried out their work . \n",
       "  91.the foregoing considerations suggested that , as concluded by the prosecuting authorities ' experts , the shot had been fired upwards , above xxmaj carlo xxmaj giuliani , who was 1.65 m tall . xxmaj the stone had disintegrated 1.9 metres above the ground . \n",
       "  xxup xxunk 's angle of vision \n",
       "  xxup xxunk 's angle of vision had probably been restricted by the jeep 's spare wheel . xxmaj however , it was difficult to be certain on that point as xxup m.p. 's face did not appear on any of the photographs in the file , whereas they clearly showed his hand holding the weapon . xxmaj the pictures suggested , however , that he had been half - lying ( in xxunk xxunk ) or crouching on the floor , as confirmed by xxup m.p. 's own statements and those of xxup d.r. and the demonstrator xxmaj predonzani . xxmaj that led to the conclusion that xxup m.p. had been unable to see the persons close to the jeep 's rear door below the spare wheel , and that he had fired the shots in an attempt to intimidate the demonstrators . \n",
       "  4.legal characterisation of xxup m.p. 's actions \n",
       "  xxunk thus reconstructed the facts , the investigating judge addressed the legal characterisation of xxup m.p. 's actions . xxmaj the prosecuting authorities had advanced two hypotheses in that regard ( see paragraph 72 above ) : ( a ) that xxup m.p. had fired as high in the air as possible with the sole aim of intimidating the jeep 's assailants , in which case the charge should be one of causing death by negligence ( omicidio xxunk ) ; ( b ) that xxup m.p. had fired without aiming at anyone or anything , with the aim of halting the attack , in which case the charge should be one of intentional homicide on account of “ reckless conduct ” , as he had accepted the risk that demonstrators might be hit . \n",
       "  94.the investigating judge took the view that the first hypothesis advanced by the public prosecutor was not correct . xxmaj if xxup m.p. had fired as high in the air as possible his actions would not have been punishable , by virtue of xxmaj article 53 of the xxmaj criminal xxmaj code ( “ the xxup cc ” ) , and the causal link would in any case have been severed by an unforeseeable factor beyond his control , namely the bullet 's collision with an intermediate object . \n",
       "  95.if , on the other hand , the second hypothesis advanced by the prosecuting authorities was accepted , it had to be established whether any grounds of justification existed ( the legitimate use of weapons and / or selfdefence , under xxmaj articles 53 and 52 of the xxup cc – see paragraphs 142 - 144 below ) which would exempt xxup m.p. from criminal responsibility and make his actions not punishable . \n",
       "  5.whether xxup m.p. made legitimate use of his weapon ( xxmaj article 53 of the xxup cc ) \n",
       "  96.the investigating judge first addressed the question whether the use of a weapon had been necessary . xxmaj under xxmaj article 53 of the xxup cc ( see xxunk below ) , xxmaj state agents had wider powers than ordinary individuals in the context of self - defence ; this ground of justification was not subject to the condition that the reaction was proportionate to the threat , but to the condition of “ necessity ” . xxmaj even for xxmaj state agents , the use of a weapon was a measure of last resort ( xxunk ratio ) ; however , xxmaj state agents could not be held responsible for the occurrence of a more serious event than that foreseen by them , as this risk was inherent in the use of firearms . xxmaj in general terms , xxmaj article 53 of the xxup cc permitted the use of force where it was necessary to repel violence or thwart an attempt to resist official authority . \n",
       "  xxup xxunk had found himself in a situation of extreme violence designed to disturb public order and targeting the carabinieri , whose safety was directly threatened . xxmaj in that connection the investigating judge cited extracts from the testimonies of two of the jeep 's assailants ( xxmaj mr xxmaj predonzani and xxunk ) , noting once again the violence of the assault , and referred to the photographs in the file . xxmaj the victim 's conduct had not been an isolated act of aggression , but one phase in a violent attack on the jeep by several persons , who had been xxunk it sideways and probably trying to open the rear door . \n",
       "  98.the evidence in the file ruled out the possibility that xxup m.p. had deliberately targeted xxmaj carlo xxmaj giuliani ; however , even assuming that this had been the case , in the particular circumstances of the case his conduct would have been justified under xxmaj article 53 of the xxup cc , as it was legitimate to fire in the direction of assailants in order to halt an attack while endeavouring to limit the damage , for instance by avoiding vital organs . xxmaj in conclusion , the use of a firearm had been justified and had been likely not to cause serious harm , given that xxup m.p. had “ certainly fired upwards ” and that the bullet had struck xxmaj carlo xxmaj giuliani only because it had been deflected in a manner that could not have been foreseen . \n",
       "  xxunk xxup m.p. acted in self - defence ( xxmaj article 52 of the xxup cc ) \n",
       "  99.the investigating judge next considered it necessary to determine whether xxup m.p. had acted in self - defence , which was a “ more stringent ” test for exemption from responsibility . xxmaj she took the view that xxup m.p. had rightly perceived a threat to his physical integrity and that of his colleagues , and that the threat had persisted on account of the violent attack on the jeep by a crowd of assailants and not just by xxmaj carlo xxmaj giuliani . xxmaj in order to be assessed in its proper context , xxup m.p. 's response had to be viewed in relation to that attack . xxmaj the investigating judge rejected the hypothesis advanced by the victim 's family that xxup m.p. 's head injuries had been caused by the internal lever of the flashing light on the jeep 's roof rather than by stones thrown by demonstrators . \n",
       "  xxup xxunk 's response had been necessary in view of the number of assailants , the means used , the sustained nature of the violence , the injuries to the carabinieri in the jeep and the vehicle 's difficulty in leaving the square because the engine had stalled . xxmaj the response had been appropriate given the level of violence . \n",
       "  xxunk xxup m.p. not taken out his weapon and fired two shots , the attack would have continued . xxmaj if the fire extinguisher – which xxup m.p. had already kicked away once – had landed in the jeep , it would have caused serious injury , or worse , to the occupants . xxmaj as to the relationship of proportionality between the attack and the response , the xxmaj court of xxmaj cassation had held that the interests under threat had to be weighed against the means available to the accused , and that a plea of self - defence might be allowed even if the harm to the assailant was slightly greater than the threatened harm to the accused ( see xxmaj court of xxmaj cassation , xxmaj first xxmaj section , judgment no . xxunk of 13april 1987 , xxmaj catania ) . xxmaj furthermore , the response had to be the only one possible in the circumstances , in the sense that other responses less damaging to the assailant would not suffice to counter the danger ( see xxmaj court of xxmaj cassation , xxmaj first xxmaj section , judgment no . xxunk of 1 xxmaj december 1995 , xxup p.m. and xxmaj xxunk ) . xxmaj where a firearm was the only means of defence available to the person under attack , its use should be confined to displaying the person 's resolve to make use of it , firing into the air or onto the ground or firing in the direction of the assailant but taking care not to hit vital organs , so as to inflict injury but not kill ( see xxmaj court of xxmaj cassation judgment of 20september 1982 , xxmaj xxunk ) . \n",
       "  102.in the instant case xxup m.p. had had only one means of countering the attack : his firearm . xxmaj he had made proportionate use of it , since before shooting he had called out to the demonstrators to leave , in an attempt to put a stop to their actions ; he had then fired upwards and the bullet had hit the victim as the result of a tragic twist of fate ( per una xxunk xxunk ) . xxmaj had he wished to be sure of harming his assailants he would have fired through the side windows of the jeep , next to which numerous demonstrators had gathered . xxmaj it followed that he had acted in self - defence . xxmaj that being so , it was of little relevance whether xxup m.p. had had a partial view of xxmaj carlo xxmaj giuliani ( as the applicants ' experts maintained and the prosecuting authorities ' experts considered possible ) or whether , as seemed more likely , he had not seen him and had fired as high in the air as his position would allow , accepting the risk that the shot might hit somebody . \n",
       "  7.the accusations against xxup f.c. \n",
       "  103.the investigating judge also considered that the evidence in the file excluded any criminal responsibility on the part of xxup f.c. , given that , as indicated by the forensic experts , xxmaj carlo xxmaj giuliani 's death had undoubtedly been caused within minutes by the pistol shot . xxmaj the jeep 's driving over the victim 's body had caused only bruising . xxmaj in any event , owing to the confused situation around the jeep , xxup f.c. had not been able to see xxmaj carlo xxmaj giuliani or observe that he had fallen to the ground . \n",
       "  xxunk of the applicants ' requests for further investigation \n",
       "  104.the investigating judge refused all the applicants ' requests for further investigative measures to be taken ( see paragraph 79 above ) . xxmaj the reasons for the refusal can be summarised as follows : \n",
       "  ( a)with regard to the request for a forensic report to be prepared aimed at establishing whether xxmaj carlo xxmaj giuliani had still been alive when the jeep drove over his body ( see paragraph xxunk ) above ) , the checks already carried out had been thorough ; furthermore , the injured parties had been offered the opportunity of appointing an expert of their choosing to attend the autopsy , but had not availed themselves of that possibility . xxmaj in addition , the victim 's body had been cremated scarcely three days after his death , thereby rendering any subsequent examination impossible ; \n",
       "  ( b)as to the request for police chief xxmaj de xxmaj gennaro and carabinieri second lieutenant xxmaj zappia to be examined on the subject of the lawfulness of the use of “ thigh xxunk ” of the kind from which xxup m.p. had drawn the weapon ( see paragraph xxunk ) above ) , it was clear that the directives issued with a view to the maintenance of public order could only be of a general nature and did not include instructions applying to unforeseeable situations involving direct attacks on officers . xxmaj furthermore , the manner in which xxup m.p. had been wearing the pistol was of no relevance in the present case given that he could legitimately make use of his weapon irrespective of where he was wearing it or where he drew it from ; \n",
       "  ( c)any attempt to identify the person who had thrown the stone which deflected the bullet ( see paragraph xxunk ) above ) was bound to fail , as it was not realistic to imagine that a demonstrator would have followed the trajectory of a stone after throwing it . xxmaj in any event , it would be impossible to identify the person concerned and his or her statements would have no bearing on the technical findings in the judge 's possession ; \n",
       "  ( xxunk purpose whatsoever would be served by further examining the demonstrators xxmaj monai and xxmaj predonzani concerning the conduct of the carabinieri inside the jeep , the number of demonstrators in the vicinity of the vehicle , the person inside the jeep who had actually seized the weapon , xxmaj carlo xxmaj giuliani 's position or the number of the jeep 's windows that were broken ( see paragraph xxunk ) above ) . xxmaj those witnesses had made statements very shortly after the events , while the latter were still fresh in their minds ; the statements contained extremely precise details which were confirmed by the video footage and photographs in the file . xxmaj lastly , it was not relevant to establish how many of the jeep 's windows had been broken as it was beyond dispute that some of the right - side windows and the rear window were smashed ; \n",
       "  ( e)it was unnecessary to take evidence from xxmaj mr d'auria , supposedly to confirm that no xxmaj molotov cocktails had been thrown on xxmaj piazza xxmaj alimonda , contrary to xxup m.p. 's assertion , or to determine how far away xxmaj mr d'auria had been when he took the photograph which the prosecuting authorities ' experts had used as a basis for the ballistics reconstruction . xxmaj the photograph in question had been merely a starting point for determining carlogiuliani 's position , which had been deduced from the position of the persons in relation to the fixed elements on the square . xxmaj furthermore , xxup m.p. had never asserted that xxmaj molotov cocktails had been thrown on xxmaj piazza xxmaj alimonda ; he had simply spoken of his fear that they might be ; \n",
       "  ( xxunk regard to the request to hear evidence from xxmaj sergeant - xxmaj major xxmaj xxunk as to when the xxunk window of the jeep had been smashed , the photographs showed clearly that it had happened well before the shots were fired and that the latter had not been the cause of the smashed window ; even if the witness whom the applicants wished to see called perceived the matter differently , this would not alter those findings ; \n",
       "  ( g)the footage recorded on xxmaj piazza xxmaj alimonda by two carabinieri whose helmets were equipped with video cameras was already in the file ; \n",
       "  ( xxunk was nothing to be gained by hearing evidence from carabiniere xxup v.m. concerning the practice of cutting the tips of bullets ( see xxunk ) above ) . xxmaj it could only be assumed that this improper practice was not widespread ; in any event , the findings of the ballistics reports , based on objective tests , were already available . xxmaj there was nothing to indicate that xxup m.p. had adopted the practice in question in this case , given that the other bullets found in the magazine of his pistol had been perfectly normal ; \n",
       "  ( i)it was beyond dispute that the damage to the jeep had been caused by the stones and other hard objects thrown at it ; it was therefore unnecessary to order a technical inspection of the vehicle ; \n",
       "  ( xxunk tests on the spent cartridges seized , in order to establish which weapons they had come from ( see paragraph xxunk ) above ) , would “ serve no actual purpose ” , as there was no doubt that the fatal bullet had been fired from xxup m.p. 's weapon ; this had been confirmed by xxup m.p. 's statements and the findings of the forensic examinations . \n",
       "  9.the decision to delegate certain investigative steps to the carabinieri \n",
       "  105.the investigating judge dismissed the criticisms made by the applicants ' lawyers to the effect that it had been inappropriate to entrust several aspects of the investigation to the carabinieri and to hear evidence from a large number of witnesses in the presence of members of the carabinieri . xxmaj the judge observed that the events on xxmaj piazza xxmaj alimonda had been reconstructed with the aid of the large volume of video and photographic material in the file and the statements of the participants themselves , and that all plausible scenarios had been considered . \n",
       "  106.in the light of all the above considerations the xxmaj genoa investigating judge decided that the proceedings should be discontinued . \n",
       "  f.the parliamentary inquiry \n",
       "  107.on 2 xxmaj august 2001 the xxmaj speakers of the xxmaj senate and the xxmaj chamber of xxmaj deputies decided that an inquiry ( indagine xxunk ) into the events which occurred during the xxup g8 in xxmaj genoa should be carried out by the constitutional affairs committees of both houses of xxmaj parliament . xxmaj to that end , a commission representing the different parliamentary groups was established , made up of eighteen members of xxmaj parliament and the same number of senators ( “ the parliamentary commission ” ) . \n",
       "  108.on 8 xxmaj august 2001 the parliamentary commission heard evidence from the xxmaj commander - xxmaj general of the carabinieri . xxmaj the latter stated , in particular , that xxunk additional troops and 375 specialised carabinieri had been drafted in to xxmaj genoa to assist the 1,200 members of the provincial command . xxmaj only 27 % of the men present in xxmaj genoa had been auxiliary carabinieri performing military service ( for public - order operations the figure was usually 70 % ) . xxmaj most of the auxiliary carabinieri had performed nine or ten months ' service and had already been deployed in similar settings . xxmaj beginning in xxmaj april 2001 all the personnel to be deployed in xxmaj genoa had received training in public - order operations and use of the standard equipment . xxmaj team exercises and seminars had been organised , the latter relating to the identification of potential threats and the layout of the city . xxmaj all those deployed had protective helmets , riot shields , batons , gas masks and xxunk suits with protection for the most exposed parts of the body . xxmaj each carabiniere had a pistol ( xxunk xxunk ) and numerous tear - gas grenades had been issued to the detachments ; there were also 100 armoured vehicles and 226 vehicles equipped with protective grilles , in addition to the special vehicles ( for instance , vehicles fitted with mobile barriers to reinforce the fixed barriers protecting the red zone ) . \n",
       "  109.according to a memorandum from the senior command of the carabinieri , an elite force ( xxunk xxunk ) of xxunk men had undergone a programme of training in xxmaj velletri ahead of the xxup g8 summit , covering both theory ( the psychology of crowds and opposition groups , public - order techniques , handling emergencies ) and practice ( physical activity , use of resources , materials and equipment , final exercise with debriefing ) . xxmaj the remaining troops had received three days ' training in public - order techniques . xxmaj forty - eight officers had taken part in an information seminar covering topics such as the layout of the city of xxmaj genoa . \n",
       "  110.on 5 xxmaj september 2001 the parliamentary commission heard evidence from xxmaj mr xxmaj lauro , an officer of the xxmaj rome police who had taken part in the public - order operations in xxmaj genoa ( see paragraph 34 above ) . \n",
       "  xxunk xxmaj lauro stated that the carabinieri had been equipped with throat microphones , enabling them to communicate very rapidly with one another . xxmaj when asked to explain why the law - enforcement officers stationed quite near to the jeep ( fifteen to twenty metres away ) had not intervened , xxunk replied that the men had been on duty since the morning and had been involved in several clashes during the day . xxmaj he added that he had not noticed at the time of the events that there was a group of carabinieri and police officers who could have intervened . \n",
       "  xxunk to the function of the two jeeps , xxmaj mr xxmaj lauro explained that they had brought fresh supplies at around 4 p.m. and had left and then returned about an hour later to see if anyone was injured . xxmaj mr xxmaj lauro also said that he had called an ambulance for xxmaj carlo xxmaj giuliani as no doctor was present at the scene . \n",
       "  113.on 20 xxmaj september 2001 the parliamentary commission submitted a report setting out the conclusions of the majority of its members following the inquiry . xxmaj the document dealt with the organisation of the xxup g8 in xxmaj genoa , the political context and protest movements surrounding the summit and similar events worldwide , and the numerous contacts which had taken place between representatives of the institutions and associations making up the xxmaj genoa xxmaj social xxmaj forum , with the aim of preventing public - order disturbances and making arrangements to receive the demonstrators . xxmaj despite that dialogue , the protest movement had not succeeded in isolating the violent elements , numbering “ around 10,000 ” ; within the latter , a distinction had to be made between the xxmaj black xxmaj bloc and “ opportunistic ” individuals who had concealed themselves in the crowd . \n",
       "  xxunk thousand law - enforcement officers had taken part in the operation . xxmaj there had been about 2,000 delegates and xxunk accredited journalists ; the number of demonstrators ran into the tens of thousands ( 100,000 had taken part in the final demonstration ) . xxmaj seminars on the coordination and training of the law - enforcement agencies ( with contributions by trainers from the xxmaj los xxmaj xxunk police ) had been held on 24april and 18 and 19 xxmaj june 2001 . xxmaj the agencies concerned had staged practical exercises , albeit after a deplorable delay . xxmaj the administrative authorities had conducted research into non - lethal ammunition ( including rubber bullets ) , in particular by means of study visits to foreign police forces . xxmaj the authorities had been informed that xxmaj black xxmaj bloc demonstrators from anarchist circles in xxmaj italy and abroad were likely to travel to xxmaj genoa . xxmaj after contacts with police forces in other countries , a decision had been taken to suspend application of the xxmaj schengen xxmaj agreements between 13 and 21 xxmaj july 2001 . xxmaj from 14 xxmaj july onwards checks had been carried out at the xxmaj italian borders to allow certain demonstrators to enter the country and prevent violent elements from gaining access . xxmaj in the meantime , by an order dated 12 xxmaj july 2001 , the xxmaj genoa questore had indicated the areas of the city where the summit and the demonstrations would take place and had given an analytical breakdown of the security measures in place in each area . \n",
       "  115.the parliamentary commission next examined the various violent incidents and clashes which had taken place between the law - enforcement agencies and demonstrators on 19 , 20 and 21 xxmaj july 2001 ( in particular during a search conducted in a school , described by the commission as “ perhaps the most notable example of organisational and operational failings ” ) . xxmaj with specific reference to the death of xxmaj carlo xxmaj giuliani , the commission observed that a carabiniere had fired the fatal shot while the victim had been preparing to throw a fire extinguisher in his direction ; the carabiniere in question had previously sustained a blow to the head from another demonstrator . xxmaj in view of the fact that a criminal investigation was in progress , the commission decided to focus its analysis on the “ overall situation giving rise to the tragedy ” , examining in particular the communications system between the contingents of law - enforcement personnel , their commanding officers and the control centres , in order to study the coordination arrangements between the different areas . xxmaj the commission also noted that the “ fundamental cause ” of the loss of a life had been “ the xxunk violence perpetrated by extremist groups which jeopardised the lives of the young people who became caught up in their criminal activities ” . \n",
       "  116.in the commission 's view , the overall outcome of the xxup g8 had been positive . xxmaj while certain shortcomings had been identified in the coordination of the operations , it had to be borne in mind that the law - enforcement agencies had been confronted with between 6,000 and 9,000 violent individuals who had not been isolated by the peaceful demonstrators ( the commission referred in that regard to the “ double game ” being played by the xxmaj genoa xxmaj social xxmaj forum ) . xxmaj the parliamentary commission 's report concluded as follows : \n",
       "  “ xxmaj the commission ... reiterates that violence is not and must not be a tool for political action and that the rule of law is a fundamental value of democratic societies . xxmaj at the same time it emphasises strongly the inviolability of the constitutional principles of freedom to express one 's thoughts and respect for the individual even – not to say especially – where he or she is detained following arrest , and also the need to ensure the safety of citizens and public order ; if acts constituting a criminal or disciplinary offence are established , [ the commission ] would like to see the judicial authority and the administrative bodies concerned identify those responsible and punish their actions . ” \n",
       "  117.the xxmaj government produced before the xxmaj court the verbatim records of the hearings at which the parliamentary commission had heard evidence from the xxmaj minister of the xxmaj interior , the xxmaj director - xxmaj general of the xxmaj public xxmaj safety xxmaj department and the xxmaj commander - xxmaj general of the xxmaj revenue xxmaj police . \n",
       "  118.on 20 xxmaj september 2001 a group of parliamentarians called on the government to explain why law - enforcement officers being deployed on public - order operations were equipped with live ammunition rather than rubber bullets . xxmaj the parliamentarians advocated the use of the latter , arguing that they had been used successfully on several occasions in other countries . \n",
       "  119.the government spokesman replied that the legislation made no provision for that option and that , moreover , it had not been proven that rubber bullets did not also cause very serious harm to the victim . xxmaj finally , he said that the possibility of introducing non - lethal weapons was currently being examined . \n",
       "  120.on 22 xxmaj june 2006 the applicants applied to the xxmaj prime xxmaj minister 's xxmaj office and to the xxmaj ministry of xxmaj defence for compensation in respect of the damage they had suffered as a result of the death of xxmaj carlo xxmaj giuliani . xxmaj the xxmaj government explained that the application had been refused on the ground that it had been established in criminal proceedings that xxup m.p. had acted in self - defence . xxmaj for the same reason , no disciplinary proceedings were instituted against xxup m.p. \n",
       "  g.the decisions given in the “ trial of the twenty - five ” \n",
       "  1.the first - instance judgment \n",
       "  121.on 13 xxmaj march 2008 the xxmaj genoa xxmaj district xxmaj court published its reasoning in the judgment adopted on 14 xxmaj december 2007 following the trial of twenty - five demonstrators charged with a number of offences committed on 20 xxmaj july 2001 ( including criminal damage , theft , destroying property , looting and acts of violence against law - enforcement officers ) . xxmaj during the trial , in which 144 hearings were held , the xxmaj district xxmaj court , among other things , heard evidence from numerous witnesses and examined a wealth of audiovisual material . \n",
       "  122.the xxmaj district xxmaj court held , inter alia , that the attack by carabinieri on the xxmaj tute xxmaj bianche marchers had been unlawful and arbitrary . xxmaj the march had been authorised and the demonstrators had not committed any significant acts of violence against the carabinieri . xxmaj the attack by the latter had been launched against hundreds of persons who were doing no harm , and no order to disperse had been given . xxmaj the subsequent charge had also been unlawful and arbitrary . xxmaj it had not been preceded by a warning to disperse , had not been ordered by the officer authorised to do so and had been unnecessary . \n",
       "  123.the methods deployed had also been unlawful . xxmaj the carabinieri had fired tear - gas grenades at chest height , a large number of demonstrators had sustained injuries caused by non - regulation batons , and the armoured vehicles had knocked down the barricades and pursued members of the crowd along the pavement with the clear intention of causing harm . \n",
       "  124.the unlawful and arbitrary nature of the carabinieri 's actions had justified the resistance shown by the demonstrators while tear gas was being used and during the attack on the march . xxmaj their resistance had also been warranted during the clashes which occurred in the side streets prior to 3.30p.m . , that is , up to the point at which the carabinieri had acted on the order to stop and allow the march to proceed . xxmaj according to the court , the accused 's actions had been a “ necessary response ” to the arbitrary actions of the law - enforcement officers for the purposes of xxmaj article 4 of xxmaj legislative xxmaj decree no . 288 of 1944 . xxmaj article 4 reads as follows : \n",
       "  “ xxmaj articles 336 , 337 , 338 , 339 , 341 , 342 and 343 of the xxmaj criminal xxmaj code [ making punishable various acts of resistance against law - enforcement officers ] shall not apply where the xxmaj state agent or person authorised to exercise public authority caused the offence contemplated in those xxmaj articles by overstepping the limits of his or her authority through arbitrary acts . ” \n",
       "  125.the xxmaj district xxmaj court decided to forward the file to the public prosecutor 's office on the ground that the statements made by xxmaj mr xxmaj mondelli and two other law - enforcement officers ( to the effect that the attack had been necessary to counter the aggression shown by the demonstrators ) did not match the facts . \n",
       "  xxunk 3.30 p.m. , although the demonstrators may still have felt a sense of abuse and injustice , their conduct had no longer been defensive but had been driven by a desire for revenge ; it was therefore unjustified and punishable . \n",
       "  127.the charge ordered by police officer xxmaj lauro , which had triggered the events on xxmaj piazza xxmaj alimonda , had been neither unlawful nor arbitrary . xxmaj as a result , the violent reaction by the demonstrators , which had led to the carabinieri being pursued and the jeep being attacked , could not be regarded as a defensive response . \n",
       "  128.the carabinieri in the jeep might well have feared that they would be subjected to an attempted lynching . xxmaj the fact that the demonstrators surrounding them did not have xxmaj molotov cocktails and were therefore not in a position to set the vehicle on fire was a factor that could be appreciated with hindsight . xxmaj the occupants of the jeep could not be blamed for having panicked . \n",
       "  129 . xxmaj carlo xxmaj giuliani had probably been four metres from the jeep when he was shot down . xxup m.p. had stated that he could only see what was happening inside the vehicle . xxmaj when the shot was fired , he had been lying down with his feet pointing towards the rear door of the vehicle . xxmaj he had pulled xxup d.r. down on top of him and could not see his own hand ; he was unable to say whether it had been inside or outside the jeep . xxmaj in any event , he had fired upwards . \n",
       "  130.the xxmaj district xxmaj court judgment mentions the statements made by the expert xxmaj xxunk xxmaj salvi , who performed the autopsy on xxmaj carlo xxmaj giuliani 's body . xxmaj mr xxmaj salvi stated in particular that the trajectory of the fatal bullet indicated a direct shot and that the metal fragment lodged in the victim 's body had been very difficult to find . xxmaj the fragment , which had shown up on the scan ( see paragraph 60 above ) , “ must have been very small ” ; the experts had tried to locate it by going through the brain tissue section by section ( per xxunk ) , although the latter had been damaged and xxunk with blood . xxmaj the more the experts worked , the more damaged the tissue had become . xxmaj given that the fragment was not a bullet and was of no use for ballistics purposes , the experts had considered it to be a minor detail ( un particolare xxunk ) and had not pursued their search . \n",
       "  2.the appeal judgment \n",
       "  xxunk - four of the accused appealed against the first - instance judgment . xxmaj in a judgment of 9 xxmaj october 2009 , deposited with the registry on 23december 2009 , the xxmaj genoa xxmaj court of xxmaj appeal partly upheld the convictions handed down by the xxmaj district xxmaj court , increased some of the sentences and declared the prosecution of some of the offences time - barred . \n",
       "  xxunk the carabinieri attack on the xxmaj tute xxmaj bianche march , the xxmaj court of xxmaj appeal largely endorsed the view of the xxmaj district xxmaj court . xxmaj it observed that the carabinieri had encountered the march , which numbered around 10,000 persons , as a result of the route indicated to them by the control room . xxmaj the front of the march , or “ contact group ” , had been made up of around twenty individuals , mostly members of xxmaj parliament , mayors , cultural figures and journalists . xxmaj behind them had been a series of xxmaj xxunk protective devices , joined together ; these were followed by the “ head of the procession ” made up of demonstrators equipped with helmets and shoulder and arm protectors . xxmaj the march had not encountered the scenes of any clashes but had simply proceeded for about two kilometres without meeting any obstacle . xxmaj the protective equipment showed that , although they were not carrying blunt instruments , the demonstrators had been prepared for possible clashes . \n",
       "  xxunk these circumstances it was difficult to understand why officers xxmaj bruno and xxmaj mondelli had decided to launch an attack on the march . xxmaj they had not received any orders to that effect ; on the contrary , they had been requested to avoid crossing the marchers ' path . xxmaj the news that an attack was in progress had been greeted with cries of disapproval in the control room . \n",
       "  134.the carabinieri had been summoned to intervene urgently in xxmaj xxunk xxmaj prison , where law - enforcement officers were struggling to cope with an attack by the xxmaj black xxmaj bloc . xxmaj accordingly , when they encountered the march they had attempted to clear the junction and the tunnel through which they wished to pass . xxmaj according to the witness testimony of one journalist , judged to be “ neutral ” and therefore credible , youths belonging to the xxmaj black xxmaj bloc arriving from the opposite direction to the marchers had thrown stones at the carabinieri ; this had led to the order to fire tear gas , given by xxunk . xxmaj the xxmaj court of xxmaj appeal concluded that , although the charge by the carabinieri had been illegitimate , they had been called upon to intervene in a situation characterised by violence from the xxmaj black xxmaj bloc demonstrators , who had earlier ransacked other parts of the city , and by the fact that the junction they needed to cross was occupied by the crowd and the tunnel was blocked by barricades . \n",
       "  135.in the xxmaj court of xxmaj appeal 's view , the xxmaj district xxmaj court had correctly found the following actions by the carabinieri to be illegitimate : \n",
       "  ( a)the firing of tear gas at chest height ; \n",
       "  ( b)the failure to order the dispersal of the marchers , who were not causing a disturbance and who could only have entered the red zone much further on , at xxmaj piazza xxmaj verdi ; \n",
       "  ( c)the attack on an authorised , peaceful march made up of unarmed demonstrators . xxmaj while the xxmaj black xxmaj bloc had created serious disturbances elsewhere in the city , there was no proof that they were being “ covered ” by the marchers , that is , that they had hidden amongst them before or after committing acts of vandalism . \n",
       "  xxunk , there had been arbitrary acts in the form of : the use of non - regulation batons ( xxunk ) ( pieces of wood or iron wrapped in adhesive tape and a source of serious cuts and bleeding ) ; the use of armoured vehicles to make “ xxunk ” amidst the demonstrators , pursuing some of them at high speed along the pavement ( the xxmaj court of xxmaj appeal observed that the vehicles did not have sufficiently safe brakes and that one of them had pursued a demonstrator in xxunk fashion , as if attempting to run him over ) ; the infliction of excessive injury and the beating of demonstrators , journalists and an ambulance driver . \n",
       "  137.the illegitimate and arbitrary attack had produced a reaction from the demonstrators which was not punishable in view of the grounds of justification provided for in xxmaj article 4 of xxmaj legislative xxmaj decree no . 288 of 1944 . xxmaj however , once the carabinieri had withdrawn and an armoured vehicle had broken down , the demonstrators had no longer been in danger . xxmaj hence , the attack on the vehicle and its occupants had not constituted a defensive act , but an act of retaliation . xxmaj from that point onwards the xxmaj tute xxmaj bianche had “ reclaimed ” their right of assembly and protest , and any further acts of violence and vandalism on their part , including the damage to the armoured vehicle , amounted to a criminal offence . \n",
       "  138.the xxmaj court of xxmaj appeal endorsed the xxmaj district xxmaj court 's view that , despite their violent response , the marchers had not been guilty of the offence of criminal damage . xxmaj the damage caused had been minor and had resulted from the use of objects ( cars and refuse containers ) as protection against the carabinieri . xxmaj unlike the xxmaj black xxmaj bloc , the xxmaj tute xxmaj bianche had not taken to the streets with the intention of damaging public or private property symbolising the system they opposed . xxmaj the damage had been confined to the fairly small area in which the response had occurred and , by and large , had ceased with the withdrawal of the carabinieri . xxmaj although “ disquieting ” , the fact that the demonstrators in the front lines had worn protectors could not give rise to the assumption that they had intended to engage in acts of violence . \n",
       "  h.the audiovisual material produced by the parties \n",
       "  xxunk the proceedings before the xxmaj court the parties submitted a large volume of audiovisual material . xxmaj the xxup cd - roms produced by the xxmaj government and the applicants on 28 xxmaj june and 9 xxmaj july 2010 respectively were viewed by the judges of the xxmaj grand xxmaj chamber on 27 xxmaj september 2010 ( see paragraph 9 above ) . xxmaj these show several phases in the demonstrations that took place in xxmaj genoa on 20 xxmaj july 2001 and contain images of the moments before and after the shot which killed xxmaj carlo xxmaj giuliani . xxmaj they also show the violence perpetrated by the demonstrators ( throwing of stones , charges on the law - enforcement agencies , acts of vandalism in the street and against police and carabinieri vehicles ) and violence imputable to the authorities . xxmaj some of the footage shows police armoured vehicles pursuing demonstrators at high speed along the pavement and police officers beating a demonstrator lying on the ground . xxmaj the applicants ' xxup cdrom also contains extracts from xxmaj mr xxmaj lauro 's statement and from an interview with xxup m.p. shown on television . \n",
       "  i.the administrative documents produced by the xxmaj government \n",
       "  140.the xxmaj government produced numerous administrative documents from the police authorities , the xxmaj ministry of the xxmaj interior and the xxmaj chamber of xxmaj deputies . xxmaj the documents relevant to the present case noted the following : \n",
       "  –on 6 xxmaj february 2001 the xxmaj public xxmaj safety xxmaj department of the xxmaj interior xxmaj ministry had sent out a circular to all questori reminding them , in particular , that the firing of tear gas should be considered a “ measure of last resort for dealing with particularly serious situations which can not be managed otherwise ” ; \n",
       "  –the xxmaj public xxmaj safety xxmaj department of the xxmaj interior xxmaj ministry had prepared “ an information handbook for xxmaj state police personnel ” which contained guidelines on conduct at the xxmaj genoa xxup g8 ; \n",
       "  –on 17 xxmaj july 2001 – hence , before the xxup g8 – the xxmaj minister of the xxmaj interior had addressed the xxmaj chamber of xxmaj deputies “ on the public - order situation in xxmaj genoa ” ; \n",
       "  –on 23 xxmaj july 2001 the same xxmaj minister had addressed xxmaj parliament on the subject of the “ serious incidents occurring in xxmaj genoa during the xxup g8 summit ” ; \n",
       "  –on 30 and 31 xxmaj july 2001 the xxmaj interior xxmaj ministry 's xxmaj public xxmaj safety xxmaj department had submitted reports on the conduct of the law - enforcement agencies during the search carried out on the night of 21 xxmaj july 2001 in a school occupied by demonstrators , and in a police station where persons had been taken into custody . xxmaj disciplinary action had been proposed against several police officers and the xxmaj genoa questore ; \n",
       "  –on 6 xxmaj august 2001 the inter - regional police directorate had forwarded to the chief of police the findings of an administrative inspection carried out in the xxmaj genoa questura , which pointed to certain organisational problems during the xxup g8 and analysed thirteen “ potentially punishable incidents ” imputable to the law - enforcement agencies emerging from the available audiovisual material ; none of the incidents related to the use of force by xxup m.p. \n",
       "  141.the xxmaj government also produced a memorandum from the xxmaj public xxmaj safety xxmaj department of the xxmaj interior xxmaj ministry dated 4 xxmaj october 2010 , according to which some 18,000 law - enforcement officers had been deployed at the xxup g8 in xxmaj genoa . xxmaj in particular , the xxmaj state had drafted in xxunk “ reinforcements ” including 11,352 “ police operators ” ( police officers , carabinieri , officers of the revenue and forestry police and prison officers ) and 2,750 members of the armed forces . xxmaj of the 11,352 “ police operators ” , 128 belonged to the elite units , while xxunk police officers and xxunk carabinieri belonged to “ mobile units ” ( xxunk mobile ) made up of personnel specially trained and equipped for public - order operations . xxmaj the xxmaj public xxmaj safety xxmaj department indicated that , beginning in xxmaj march 2001 , it had put in place a training programme aimed specifically at personnel taking part in the xxup g8 , with a view to ensuring public - order management based on the principles of democracy and respect for fundamental rights ( hence , participants in the training courses were reminded that the use of force was a measure of last resort ) . xxmaj advanced training seminars had also been organised which explored the dynamics of events such as the xxup g8 summit . \n",
       "  xxup ii.relevant xxup domestic xxup law xxup and xxup practice \n",
       "  xxunk of justification ” \n",
       "  142.the xxmaj criminal xxmaj code ( “ the xxup cc ” ) provides for situations ( cause di xxunk or xxunk ) which may exempt individuals from criminal responsibility and render not punishable conduct which amounts to an offence under the law . xxmaj possible grounds of justification include the legitimate use of weapons and selfdefence . \n",
       "  xxunk use of weapons \n",
       "  143.article 53 of the xxup cc provides that no sanctions may be imposed on \n",
       "  “ a xxmaj state agent who uses or orders the use of weapons or any other means of physical force in the exercise of his or her official duties , where he or she is obliged to do so in order to repel an act of violence or thwart an attempt to resist official authority . xxmaj in any case , he or she shall not be liable where such action is taken to prevent criminal acts entailing massacre , shipwreck , flooding , aviation or railway disasters , intentional homicide , armed robbery or abduction ... xxmaj the law provides for other cases in which the use of weapons or any other means of physical force is authorised . ” \n",
       "  2.self - defence \n",
       "  144.article 52 of the xxup cc provides that no sanctions may be imposed on \n",
       "  “ persons who commit an offence when forced to do so by the need to defend their rights or the rights of others against a real danger of unjust attack , provided that the defensive response is proportionate to the attack . ” \n",
       "  xxunk excess \n",
       "  145.under xxmaj article 55 of the xxup cc , in cases , inter alia , of selfdefence or legitimate use of weapons , where the person concerned has negligently ( xxunk ) overstepped the limits laid down by law or by the competent authority , or dictated by necessity , his or her actions are punishable as negligent conduct to the extent provided for by law . \n",
       "  b.provisions governing public safety \n",
       "  xxunk 18 - 24 of the xxmaj public xxmaj safety xxmaj code ( xxmaj testo xxmaj unico ) of 18 xxmaj june 1931 ( xxmaj no . 773 ) govern public gatherings and assemblies in public places or open to the public . xxmaj where such a gathering is liable to endanger public order or safety , or where offences are committed , the gathering may be dissolved . xxmaj before it is dissolved , the participants must be requested by the lawenforcement agencies to disperse . xxmaj if the request is not complied with , the crowd must be given three formal warnings to disperse . xxmaj if these are not complied with or can not be issued because of revolt or opposition , the police officers or carabinieri order the gathering or assembly to be broken up by force . xxmaj the order is carried out by the police and the armed forces under the command of their respective senior officers . xxmaj refusal to comply with the order to disperse is punishable by a term of imprisonment of between one month and one year and by a fine of between 30 and 413 euros ( xxup eur ) . \n",
       "  c.rules governing the use of weapons \n",
       "  147.in xxmaj february 2001 the xxmaj ministry of the xxmaj interior issued a directive to questori containing general provisions on the use of tear gas and batons ( xxunk ) . xxmaj the use of such equipment must be ordered clearly and expressly by the head of the service after consultation with the questore . xxmaj the personnel must be informed . \n",
       "  148.in addition , xxmaj presidential xxmaj decree xxmaj no . 359 of 5 xxmaj october 1991 lays down the “ criteria for determining the weapons to be issued to the public safety authorities and the xxmaj state police ” . xxmaj the decree contains a description of the various weapons issued as standard ( xxmaj articles 10 to 32 ) , making a distinction between “ personal weapons ” and “ collective weapons ” . xxmaj the personal weapons consist of a pistol which is allocated to the individual for the duration of his or her service ( xxmaj article 3 2 ) . xxmaj he or she must keep the weapon , ensure its upkeep , apply the safety measures provided for at all times and in all situations and participate in the firing exercises organised by the authorities ( xxmaj article 6 1 ) . \n",
       "  149.article 32 states that the authorities “ may issue weapons with xxunk agents ( xxunk xxunk ) ” and that in cases of necessity and urgency the xxmaj minister of the xxmaj interior may authorise police officers who have received ad hoc training to use weapons other than those issued as standard , provided that the weapons have been checked and do not exceed the offensive capacity of the standard - issue weapons ( xxmaj article 37 ) . xxmaj the above - mentioned decree further provides that the standard - issue weapons must be appropriate and proportionate to the requirements of protecting public order and public safety , preventing and dealing with crime and other institutional aims ( xxmaj article 1 ) . \n",
       "  d.the rights of injured parties during the preliminary investigation and following a request by the public prosecutor to discontinue the proceedings \n",
       "  xxunk xxmaj article 79 of the xxmaj code of xxmaj criminal xxmaj procedure ( “ the xxup ccp ” ) , the injured party may apply to join the proceedings as a civil party from the preliminary hearing onwards ; the latter is the hearing at which the judge is called upon to decide whether the accused should be committed for trial . xxmaj before the preliminary hearing , or where no such hearing is held because the case is discontinued at an earlier stage , injured parties may exercise certain powers . xxmaj the relevant provisions of the xxup ccp provide : \n",
       "  xxmaj article 90 \n",
       "  “ xxmaj injured parties shall exercise the rights and powers expressly afforded to them by law and may furthermore , at any stage of the proceedings , submit pleadings and , except in cassation proceedings , request the inclusion of evidence . ” \n",
       "  xxmaj article 101 \n",
       "  “ xxmaj injured parties may appoint a legal representative for the exercise of the rights and powers afforded to them ... ” \n",
       "  xxmaj article 359 1 \n",
       "  “ xxmaj where the public prosecutor orders examinations ... or any other technical operation calling for a specific competence , he or she may appoint ... experts . xxmaj the latter may not refuse to cooperate . ” \n",
       "  xxmaj article 360 \n",
       "  “ 1.where the examinations referred to in xxmaj article 359 ... concern persons , objects or places in a state subject to alteration , the public prosecutor shall inform the accused , the injured party and the lawyers without delay of the date , time and place designated for the briefing of the experts and of the possibility of appointing experts . \n",
       "  ... \n",
       "  3.any lawyers or experts appointed shall have the right to attend the briefing of the experts , participate in the examinations , make observations and express reservations . ” \n",
       "  xxmaj article 392 \n",
       "  “ 1.in the course of the preliminary investigation , the public prosecutor and the accused may apply to the judge for the immediate production of evidence ... \n",
       "  2.the public prosecutor and the accused may also request a forensic examination where such examination , if ordered during the trial , could entail the suspension of the latter for more than 60 days ... . ” \n",
       "  xxmaj article 394 \n",
       "  “ xxunk parties may request the public prosecutor to apply for the immediate production of evidence . \n",
       "  xxunk the public prosecutor refuse that request , he or she shall give reasons for the decision and serve it on the injured party . ” \n",
       "  151.the public prosecutor does not have the power to discontinue the proceedings ; he or she may simply request the investigating judge to do so . xxmaj the injured party may object to that request . xxmaj the relevant provisions of the xxup ccp read as follows : \n",
       "  xxmaj article 409 \n",
       "  “ 1.except in cases where the objection referred to in xxmaj article 410 has been lodged , if the judge grants the request for the proceedings to be discontinued he or she shall make an order to that effect , giving reasons , and return the file to the public prosecutor 's office . ... \n",
       "  2.if the judge rejects the request [ to discontinue the proceedings ] , he or she shall fix the date of the private hearing and shall inform the public prosecutor , the accused and the injured party accordingly . xxmaj the procedure shall be conducted in accordance with xxmaj article 127 . xxmaj the documents shall be deposited with the registry up to the day of the hearing , and copies may be obtained by counsel . \n",
       "  ... \n",
       "  4.after the hearing , if the judge considers additional investigative measures to be necessary , he or she shall issue an order to the public prosecutor detailing the measures and laying down a binding time - limit for their completion . \n",
       "  5.where the circumstances described in paragraph 4 do not apply and the judge rejects the request to discontinue the proceedings , he or she shall issue an order instructing the public prosecutor to draw up the indictment within ten days . ... \n",
       "  6.an appeal against the decision to discontinue the proceedings shall lie to the xxmaj court of xxmaj cassation solely on the grounds of nullity provided for by xxmaj article 127 5 [ in particular failure to comply with the procedural provisions concerning the holding of hearings in private ] . ” \n",
       "  xxmaj article 410 \n",
       "  “ 1.when objecting to the request to discontinue the proceedings , the injured party shall request that the investigation be continued , indicating the purpose of further investigation and requesting the inclusion of the relevant evidence , failing which the objection shall be declared inadmissible . \n",
       "  2.where the objection is declared inadmissible and the accusations are unfounded , the judge shall issue an order discontinuing the proceedings and shall return the file to the public prosecutor 's office . \n",
       "  ... ” \n",
       "  xxunk and cremation \n",
       "  152 . xxmaj article 116 of the implementing provisions of the xxup ccp concerns investigations into deaths where there are grounds for suspecting that a crime has been committed . xxmaj this xxmaj article provides : \n",
       "  “ xxmaj where it is suspected that a person died as the result of a crime , the public prosecutor shall verify the cause of death and , should he or she consider it necessary , shall order an autopsy in accordance with the procedure laid down in xxmaj article 369 of the xxmaj code or apply for the immediate production of evidence ... \n",
       "  ... xxmaj the burial may not take place without an order from the public prosecutor . ” \n",
       "  153.article 79 of xxmaj presidential xxmaj decree no . 285 of 10 xxmaj september 1990 stipulates that cremation must be authorised by the judicial authority where death occurred suddenly or in suspicious circumstances .\n",
       "y: CategoryList\n",
       "0,0,0,0,0\n",
       "Path: .;\n",
       "\n",
       "Valid: LabelList (0 items)\n",
       "x: TextList\n",
       "\n",
       "y: CategoryList\n",
       "\n",
       "Path: .;\n",
       "\n",
       "Test: None, model=SequentialRNN(\n",
       "  (0): MultiBatchEncoder(\n",
       "    (module): AWD_LSTM(\n",
       "      (encoder): Embedding(48128, 400, padding_idx=1)\n",
       "      (encoder_dp): EmbeddingDropout(\n",
       "        (emb): Embedding(48128, 400, padding_idx=1)\n",
       "      )\n",
       "      (rnns): ModuleList(\n",
       "        (0): WeightDropout(\n",
       "          (module): LSTM(400, 1152, batch_first=True)\n",
       "        )\n",
       "        (1): WeightDropout(\n",
       "          (module): LSTM(1152, 1152, batch_first=True)\n",
       "        )\n",
       "        (2): WeightDropout(\n",
       "          (module): LSTM(1152, 400, batch_first=True)\n",
       "        )\n",
       "      )\n",
       "      (input_dp): RNNDropout()\n",
       "      (hidden_dps): ModuleList(\n",
       "        (0): RNNDropout()\n",
       "        (1): RNNDropout()\n",
       "        (2): RNNDropout()\n",
       "      )\n",
       "    )\n",
       "  )\n",
       "  (1): PoolingLinearClassifier(\n",
       "    (layers): Sequential(\n",
       "      (0): BatchNorm1d(1200, eps=1e-05, momentum=0.1, affine=True, track_running_stats=True)\n",
       "      (1): Dropout(p=0.2, inplace=False)\n",
       "      (2): Linear(in_features=1200, out_features=50, bias=True)\n",
       "      (3): ReLU(inplace=True)\n",
       "      (4): BatchNorm1d(50, eps=1e-05, momentum=0.1, affine=True, track_running_stats=True)\n",
       "      (5): Dropout(p=0.1, inplace=False)\n",
       "      (6): Linear(in_features=50, out_features=2, bias=True)\n",
       "    )\n",
       "  )\n",
       "), opt_func=functools.partial(<class 'torch.optim.adam.Adam'>, betas=(0.9, 0.99)), loss_func=FlattenedLoss of CrossEntropyLoss(), metrics=[<function accuracy at 0x0000021DD9F53048>, Precision(average='micro', pos_label=1, eps=1e-09), Recall(average='micro', pos_label=1, eps=1e-09), FBeta(average='micro', pos_label=1, eps=1e-09, beta=2)], true_wd=True, bn_wd=True, wd=0.01, train_bn=True, path=WindowsPath('C:/Users/user/NLP/Data'), model_dir='models', callback_fns=[functools.partial(<class 'fastai.basic_train.Recorder'>, add_time=True, silent=False)], callbacks=[RNNTrainer\n",
       "learn: ...\n",
       "alpha: 2.0\n",
       "beta: 1.0, MixedPrecision\n",
       "learn: ...\n",
       "loss_scale: 65536\n",
       "max_noskip: 1000\n",
       "dynamic: True\n",
       "clip: None\n",
       "flat_master: False\n",
       "max_scale: 16777216\n",
       "loss_fp32: True], layer_groups=[Sequential(\n",
       "  (0): Embedding(48128, 400, padding_idx=1)\n",
       "  (1): EmbeddingDropout(\n",
       "    (emb): Embedding(48128, 400, padding_idx=1)\n",
       "  )\n",
       "), Sequential(\n",
       "  (0): WeightDropout(\n",
       "    (module): LSTM(400, 1152, batch_first=True)\n",
       "  )\n",
       "  (1): RNNDropout()\n",
       "), Sequential(\n",
       "  (0): WeightDropout(\n",
       "    (module): LSTM(1152, 1152, batch_first=True)\n",
       "  )\n",
       "  (1): RNNDropout()\n",
       "), Sequential(\n",
       "  (0): WeightDropout(\n",
       "    (module): LSTM(1152, 400, batch_first=True)\n",
       "  )\n",
       "  (1): RNNDropout()\n",
       "), Sequential(\n",
       "  (0): PoolingLinearClassifier(\n",
       "    (layers): Sequential(\n",
       "      (0): BatchNorm1d(1200, eps=1e-05, momentum=0.1, affine=True, track_running_stats=True)\n",
       "      (1): Dropout(p=0.2, inplace=False)\n",
       "      (2): Linear(in_features=1200, out_features=50, bias=True)\n",
       "      (3): ReLU(inplace=True)\n",
       "      (4): BatchNorm1d(50, eps=1e-05, momentum=0.1, affine=True, track_running_stats=True)\n",
       "      (5): Dropout(p=0.1, inplace=False)\n",
       "      (6): Linear(in_features=50, out_features=2, bias=True)\n",
       "    )\n",
       "  )\n",
       ")], add_time=True, silent=False)"
      ]
     },
     "execution_count": 10,
     "metadata": {},
     "output_type": "execute_result"
    }
   ],
   "source": [
    "learn_c.load('3rd_test20')"
   ]
  },
  {
   "cell_type": "code",
   "execution_count": 11,
   "metadata": {
    "colab": {
     "base_uri": "https://localhost:8080/",
     "height": 77
    },
    "colab_type": "code",
    "executionInfo": {
     "elapsed": 841044,
     "status": "ok",
     "timestamp": 1587073464424,
     "user": {
      "displayName": "Irina Carabella",
      "photoUrl": "https://lh3.googleusercontent.com/a-/AOh14Ghc7fU0OvMy7bNgHyLPrhliac5JmVA2O29FjI3rZg=s64",
      "userId": "14771962769165463145"
     },
     "user_tz": -60
    },
    "id": "zkQCpWh-J3Db",
    "outputId": "59eb667a-5d85-4558-f05a-c45161cc6dd2"
   },
   "outputs": [
    {
     "data": {
      "text/html": [
       "\n",
       "    <div>\n",
       "        <style>\n",
       "            /* Turns off some styling */\n",
       "            progress {\n",
       "                /* gets rid of default border in Firefox and Opera. */\n",
       "                border: none;\n",
       "                /* Needs to be in here for Safari polyfill so background images work as expected. */\n",
       "                background-size: auto;\n",
       "            }\n",
       "            .progress-bar-interrupted, .progress-bar-interrupted::-webkit-progress-bar {\n",
       "                background: #F44336;\n",
       "            }\n",
       "        </style>\n",
       "      <progress value='0' class='' max='1', style='width:300px; height:20px; vertical-align: middle;'></progress>\n",
       "      0.00% [0/1 00:00<00:00]\n",
       "    </div>\n",
       "    \n",
       "<table border=\"1\" class=\"dataframe\">\n",
       "  <thead>\n",
       "    <tr style=\"text-align: left;\">\n",
       "      <th>epoch</th>\n",
       "      <th>train_loss</th>\n",
       "      <th>valid_loss</th>\n",
       "      <th>accuracy</th>\n",
       "      <th>precision</th>\n",
       "      <th>recall</th>\n",
       "      <th>f_beta</th>\n",
       "      <th>time</th>\n",
       "    </tr>\n",
       "  </thead>\n",
       "  <tbody>\n",
       "  </tbody>\n",
       "</table><p>\n",
       "\n",
       "    <div>\n",
       "        <style>\n",
       "            /* Turns off some styling */\n",
       "            progress {\n",
       "                /* gets rid of default border in Firefox and Opera. */\n",
       "                border: none;\n",
       "                /* Needs to be in here for Safari polyfill so background images work as expected. */\n",
       "                background-size: auto;\n",
       "            }\n",
       "            .progress-bar-interrupted, .progress-bar-interrupted::-webkit-progress-bar {\n",
       "                background: #F44336;\n",
       "            }\n",
       "        </style>\n",
       "      <progress value='0' class='progress-bar-interrupted' max='195', style='width:300px; height:20px; vertical-align: middle;'></progress>\n",
       "      Interrupted\n",
       "    </div>\n",
       "    "
      ],
      "text/plain": [
       "<IPython.core.display.HTML object>"
      ]
     },
     "metadata": {},
     "output_type": "display_data"
    },
    {
     "ename": "RuntimeError",
     "evalue": "CUDA out of memory. Tried to allocate 34.00 MiB (GPU 0; 4.00 GiB total capacity; 2.76 GiB already allocated; 12.35 MiB free; 144.20 MiB cached)",
     "output_type": "error",
     "traceback": [
      "\u001b[1;31m---------------------------------------------------------------------------\u001b[0m",
      "\u001b[1;31mRuntimeError\u001b[0m                              Traceback (most recent call last)",
      "\u001b[1;32m<ipython-input-11-ec30a1e2f1c1>\u001b[0m in \u001b[0;36m<module>\u001b[1;34m\u001b[0m\n\u001b[0;32m      1\u001b[0m \u001b[0mlearn_c\u001b[0m\u001b[1;33m.\u001b[0m\u001b[0munfreeze\u001b[0m\u001b[1;33m(\u001b[0m\u001b[1;33m)\u001b[0m\u001b[1;33m\u001b[0m\u001b[1;33m\u001b[0m\u001b[0m\n\u001b[1;32m----> 2\u001b[1;33m \u001b[0mlearn_c\u001b[0m\u001b[1;33m.\u001b[0m\u001b[0mfit_one_cycle\u001b[0m\u001b[1;33m(\u001b[0m\u001b[1;36m1\u001b[0m\u001b[1;33m,\u001b[0m \u001b[0mslice\u001b[0m\u001b[1;33m(\u001b[0m\u001b[1;36m2e-3\u001b[0m\u001b[1;33m/\u001b[0m\u001b[1;33m(\u001b[0m\u001b[1;36m2.6\u001b[0m\u001b[1;33m**\u001b[0m\u001b[1;36m4\u001b[0m\u001b[1;33m)\u001b[0m\u001b[1;33m,\u001b[0m \u001b[1;36m2e-3\u001b[0m\u001b[1;33m)\u001b[0m\u001b[1;33m,\u001b[0m \u001b[0mmoms\u001b[0m\u001b[1;33m=\u001b[0m\u001b[1;33m(\u001b[0m\u001b[1;36m0.9\u001b[0m\u001b[1;33m,\u001b[0m \u001b[1;36m0.8\u001b[0m\u001b[1;33m)\u001b[0m\u001b[1;33m)\u001b[0m\u001b[1;33m\u001b[0m\u001b[1;33m\u001b[0m\u001b[0m\n\u001b[0m",
      "\u001b[1;32mD:\\ProgramFiles\\Anaconda\\envs\\nlp\\lib\\site-packages\\fastai\\train.py\u001b[0m in \u001b[0;36mfit_one_cycle\u001b[1;34m(learn, cyc_len, max_lr, moms, div_factor, pct_start, final_div, wd, callbacks, tot_epochs, start_epoch)\u001b[0m\n\u001b[0;32m     21\u001b[0m     callbacks.append(OneCycleScheduler(learn, max_lr, moms=moms, div_factor=div_factor, pct_start=pct_start,\n\u001b[0;32m     22\u001b[0m                                        final_div=final_div, tot_epochs=tot_epochs, start_epoch=start_epoch))\n\u001b[1;32m---> 23\u001b[1;33m     \u001b[0mlearn\u001b[0m\u001b[1;33m.\u001b[0m\u001b[0mfit\u001b[0m\u001b[1;33m(\u001b[0m\u001b[0mcyc_len\u001b[0m\u001b[1;33m,\u001b[0m \u001b[0mmax_lr\u001b[0m\u001b[1;33m,\u001b[0m \u001b[0mwd\u001b[0m\u001b[1;33m=\u001b[0m\u001b[0mwd\u001b[0m\u001b[1;33m,\u001b[0m \u001b[0mcallbacks\u001b[0m\u001b[1;33m=\u001b[0m\u001b[0mcallbacks\u001b[0m\u001b[1;33m)\u001b[0m\u001b[1;33m\u001b[0m\u001b[1;33m\u001b[0m\u001b[0m\n\u001b[0m\u001b[0;32m     24\u001b[0m \u001b[1;33m\u001b[0m\u001b[0m\n\u001b[0;32m     25\u001b[0m def fit_fc(learn:Learner, tot_epochs:int=1, lr:float=defaults.lr,  moms:Tuple[float,float]=(0.95,0.85), start_pct:float=0.72,\n",
      "\u001b[1;32mD:\\ProgramFiles\\Anaconda\\envs\\nlp\\lib\\site-packages\\fastai\\basic_train.py\u001b[0m in \u001b[0;36mfit\u001b[1;34m(self, epochs, lr, wd, callbacks)\u001b[0m\n\u001b[0;32m    198\u001b[0m         \u001b[1;32melse\u001b[0m\u001b[1;33m:\u001b[0m \u001b[0mself\u001b[0m\u001b[1;33m.\u001b[0m\u001b[0mopt\u001b[0m\u001b[1;33m.\u001b[0m\u001b[0mlr\u001b[0m\u001b[1;33m,\u001b[0m\u001b[0mself\u001b[0m\u001b[1;33m.\u001b[0m\u001b[0mopt\u001b[0m\u001b[1;33m.\u001b[0m\u001b[0mwd\u001b[0m \u001b[1;33m=\u001b[0m \u001b[0mlr\u001b[0m\u001b[1;33m,\u001b[0m\u001b[0mwd\u001b[0m\u001b[1;33m\u001b[0m\u001b[1;33m\u001b[0m\u001b[0m\n\u001b[0;32m    199\u001b[0m         \u001b[0mcallbacks\u001b[0m \u001b[1;33m=\u001b[0m \u001b[1;33m[\u001b[0m\u001b[0mcb\u001b[0m\u001b[1;33m(\u001b[0m\u001b[0mself\u001b[0m\u001b[1;33m)\u001b[0m \u001b[1;32mfor\u001b[0m \u001b[0mcb\u001b[0m \u001b[1;32min\u001b[0m \u001b[0mself\u001b[0m\u001b[1;33m.\u001b[0m\u001b[0mcallback_fns\u001b[0m \u001b[1;33m+\u001b[0m \u001b[0mlistify\u001b[0m\u001b[1;33m(\u001b[0m\u001b[0mdefaults\u001b[0m\u001b[1;33m.\u001b[0m\u001b[0mextra_callback_fns\u001b[0m\u001b[1;33m)\u001b[0m\u001b[1;33m]\u001b[0m \u001b[1;33m+\u001b[0m \u001b[0mlistify\u001b[0m\u001b[1;33m(\u001b[0m\u001b[0mcallbacks\u001b[0m\u001b[1;33m)\u001b[0m\u001b[1;33m\u001b[0m\u001b[1;33m\u001b[0m\u001b[0m\n\u001b[1;32m--> 200\u001b[1;33m         \u001b[0mfit\u001b[0m\u001b[1;33m(\u001b[0m\u001b[0mepochs\u001b[0m\u001b[1;33m,\u001b[0m \u001b[0mself\u001b[0m\u001b[1;33m,\u001b[0m \u001b[0mmetrics\u001b[0m\u001b[1;33m=\u001b[0m\u001b[0mself\u001b[0m\u001b[1;33m.\u001b[0m\u001b[0mmetrics\u001b[0m\u001b[1;33m,\u001b[0m \u001b[0mcallbacks\u001b[0m\u001b[1;33m=\u001b[0m\u001b[0mself\u001b[0m\u001b[1;33m.\u001b[0m\u001b[0mcallbacks\u001b[0m\u001b[1;33m+\u001b[0m\u001b[0mcallbacks\u001b[0m\u001b[1;33m)\u001b[0m\u001b[1;33m\u001b[0m\u001b[1;33m\u001b[0m\u001b[0m\n\u001b[0m\u001b[0;32m    201\u001b[0m \u001b[1;33m\u001b[0m\u001b[0m\n\u001b[0;32m    202\u001b[0m     \u001b[1;32mdef\u001b[0m \u001b[0mcreate_opt\u001b[0m\u001b[1;33m(\u001b[0m\u001b[0mself\u001b[0m\u001b[1;33m,\u001b[0m \u001b[0mlr\u001b[0m\u001b[1;33m:\u001b[0m\u001b[0mFloats\u001b[0m\u001b[1;33m,\u001b[0m \u001b[0mwd\u001b[0m\u001b[1;33m:\u001b[0m\u001b[0mFloats\u001b[0m\u001b[1;33m=\u001b[0m\u001b[1;36m0.\u001b[0m\u001b[1;33m)\u001b[0m\u001b[1;33m->\u001b[0m\u001b[1;32mNone\u001b[0m\u001b[1;33m:\u001b[0m\u001b[1;33m\u001b[0m\u001b[1;33m\u001b[0m\u001b[0m\n",
      "\u001b[1;32mD:\\ProgramFiles\\Anaconda\\envs\\nlp\\lib\\site-packages\\fastai\\basic_train.py\u001b[0m in \u001b[0;36mfit\u001b[1;34m(epochs, learn, callbacks, metrics)\u001b[0m\n\u001b[0;32m     99\u001b[0m             \u001b[1;32mfor\u001b[0m \u001b[0mxb\u001b[0m\u001b[1;33m,\u001b[0m\u001b[0myb\u001b[0m \u001b[1;32min\u001b[0m \u001b[0mprogress_bar\u001b[0m\u001b[1;33m(\u001b[0m\u001b[0mlearn\u001b[0m\u001b[1;33m.\u001b[0m\u001b[0mdata\u001b[0m\u001b[1;33m.\u001b[0m\u001b[0mtrain_dl\u001b[0m\u001b[1;33m,\u001b[0m \u001b[0mparent\u001b[0m\u001b[1;33m=\u001b[0m\u001b[0mpbar\u001b[0m\u001b[1;33m)\u001b[0m\u001b[1;33m:\u001b[0m\u001b[1;33m\u001b[0m\u001b[1;33m\u001b[0m\u001b[0m\n\u001b[0;32m    100\u001b[0m                 \u001b[0mxb\u001b[0m\u001b[1;33m,\u001b[0m \u001b[0myb\u001b[0m \u001b[1;33m=\u001b[0m \u001b[0mcb_handler\u001b[0m\u001b[1;33m.\u001b[0m\u001b[0mon_batch_begin\u001b[0m\u001b[1;33m(\u001b[0m\u001b[0mxb\u001b[0m\u001b[1;33m,\u001b[0m \u001b[0myb\u001b[0m\u001b[1;33m)\u001b[0m\u001b[1;33m\u001b[0m\u001b[1;33m\u001b[0m\u001b[0m\n\u001b[1;32m--> 101\u001b[1;33m                 \u001b[0mloss\u001b[0m \u001b[1;33m=\u001b[0m \u001b[0mloss_batch\u001b[0m\u001b[1;33m(\u001b[0m\u001b[0mlearn\u001b[0m\u001b[1;33m.\u001b[0m\u001b[0mmodel\u001b[0m\u001b[1;33m,\u001b[0m \u001b[0mxb\u001b[0m\u001b[1;33m,\u001b[0m \u001b[0myb\u001b[0m\u001b[1;33m,\u001b[0m \u001b[0mlearn\u001b[0m\u001b[1;33m.\u001b[0m\u001b[0mloss_func\u001b[0m\u001b[1;33m,\u001b[0m \u001b[0mlearn\u001b[0m\u001b[1;33m.\u001b[0m\u001b[0mopt\u001b[0m\u001b[1;33m,\u001b[0m \u001b[0mcb_handler\u001b[0m\u001b[1;33m)\u001b[0m\u001b[1;33m\u001b[0m\u001b[1;33m\u001b[0m\u001b[0m\n\u001b[0m\u001b[0;32m    102\u001b[0m                 \u001b[1;32mif\u001b[0m \u001b[0mcb_handler\u001b[0m\u001b[1;33m.\u001b[0m\u001b[0mon_batch_end\u001b[0m\u001b[1;33m(\u001b[0m\u001b[0mloss\u001b[0m\u001b[1;33m)\u001b[0m\u001b[1;33m:\u001b[0m \u001b[1;32mbreak\u001b[0m\u001b[1;33m\u001b[0m\u001b[1;33m\u001b[0m\u001b[0m\n\u001b[0;32m    103\u001b[0m \u001b[1;33m\u001b[0m\u001b[0m\n",
      "\u001b[1;32mD:\\ProgramFiles\\Anaconda\\envs\\nlp\\lib\\site-packages\\fastai\\basic_train.py\u001b[0m in \u001b[0;36mloss_batch\u001b[1;34m(model, xb, yb, loss_func, opt, cb_handler)\u001b[0m\n\u001b[0;32m     31\u001b[0m \u001b[1;33m\u001b[0m\u001b[0m\n\u001b[0;32m     32\u001b[0m     \u001b[1;32mif\u001b[0m \u001b[0mopt\u001b[0m \u001b[1;32mis\u001b[0m \u001b[1;32mnot\u001b[0m \u001b[1;32mNone\u001b[0m\u001b[1;33m:\u001b[0m\u001b[1;33m\u001b[0m\u001b[1;33m\u001b[0m\u001b[0m\n\u001b[1;32m---> 33\u001b[1;33m         \u001b[0mloss\u001b[0m\u001b[1;33m,\u001b[0m\u001b[0mskip_bwd\u001b[0m \u001b[1;33m=\u001b[0m \u001b[0mcb_handler\u001b[0m\u001b[1;33m.\u001b[0m\u001b[0mon_backward_begin\u001b[0m\u001b[1;33m(\u001b[0m\u001b[0mloss\u001b[0m\u001b[1;33m)\u001b[0m\u001b[1;33m\u001b[0m\u001b[1;33m\u001b[0m\u001b[0m\n\u001b[0m\u001b[0;32m     34\u001b[0m         \u001b[1;32mif\u001b[0m \u001b[1;32mnot\u001b[0m \u001b[0mskip_bwd\u001b[0m\u001b[1;33m:\u001b[0m                     \u001b[0mloss\u001b[0m\u001b[1;33m.\u001b[0m\u001b[0mbackward\u001b[0m\u001b[1;33m(\u001b[0m\u001b[1;33m)\u001b[0m\u001b[1;33m\u001b[0m\u001b[1;33m\u001b[0m\u001b[0m\n\u001b[0;32m     35\u001b[0m         \u001b[1;32mif\u001b[0m \u001b[1;32mnot\u001b[0m \u001b[0mcb_handler\u001b[0m\u001b[1;33m.\u001b[0m\u001b[0mon_backward_end\u001b[0m\u001b[1;33m(\u001b[0m\u001b[1;33m)\u001b[0m\u001b[1;33m:\u001b[0m \u001b[0mopt\u001b[0m\u001b[1;33m.\u001b[0m\u001b[0mstep\u001b[0m\u001b[1;33m(\u001b[0m\u001b[1;33m)\u001b[0m\u001b[1;33m\u001b[0m\u001b[1;33m\u001b[0m\u001b[0m\n",
      "\u001b[1;32mD:\\ProgramFiles\\Anaconda\\envs\\nlp\\lib\\site-packages\\fastai\\callback.py\u001b[0m in \u001b[0;36mon_backward_begin\u001b[1;34m(self, loss)\u001b[0m\n\u001b[0;32m    290\u001b[0m         \u001b[0mself\u001b[0m\u001b[1;33m.\u001b[0m\u001b[0msmoothener\u001b[0m\u001b[1;33m.\u001b[0m\u001b[0madd_value\u001b[0m\u001b[1;33m(\u001b[0m\u001b[0mloss\u001b[0m\u001b[1;33m.\u001b[0m\u001b[0mfloat\u001b[0m\u001b[1;33m(\u001b[0m\u001b[1;33m)\u001b[0m\u001b[1;33m.\u001b[0m\u001b[0mdetach\u001b[0m\u001b[1;33m(\u001b[0m\u001b[1;33m)\u001b[0m\u001b[1;33m.\u001b[0m\u001b[0mcpu\u001b[0m\u001b[1;33m(\u001b[0m\u001b[1;33m)\u001b[0m\u001b[1;33m)\u001b[0m\u001b[1;33m\u001b[0m\u001b[1;33m\u001b[0m\u001b[0m\n\u001b[0;32m    291\u001b[0m         \u001b[0mself\u001b[0m\u001b[1;33m.\u001b[0m\u001b[0mstate_dict\u001b[0m\u001b[1;33m[\u001b[0m\u001b[1;34m'last_loss'\u001b[0m\u001b[1;33m]\u001b[0m\u001b[1;33m,\u001b[0m \u001b[0mself\u001b[0m\u001b[1;33m.\u001b[0m\u001b[0mstate_dict\u001b[0m\u001b[1;33m[\u001b[0m\u001b[1;34m'smooth_loss'\u001b[0m\u001b[1;33m]\u001b[0m \u001b[1;33m=\u001b[0m \u001b[0mloss\u001b[0m\u001b[1;33m,\u001b[0m \u001b[0mself\u001b[0m\u001b[1;33m.\u001b[0m\u001b[0msmoothener\u001b[0m\u001b[1;33m.\u001b[0m\u001b[0msmooth\u001b[0m\u001b[1;33m\u001b[0m\u001b[1;33m\u001b[0m\u001b[0m\n\u001b[1;32m--> 292\u001b[1;33m         \u001b[0mself\u001b[0m\u001b[1;33m(\u001b[0m\u001b[1;34m'backward_begin'\u001b[0m\u001b[1;33m,\u001b[0m \u001b[0mcall_mets\u001b[0m\u001b[1;33m=\u001b[0m\u001b[1;32mFalse\u001b[0m\u001b[1;33m)\u001b[0m\u001b[1;33m\u001b[0m\u001b[1;33m\u001b[0m\u001b[0m\n\u001b[0m\u001b[0;32m    293\u001b[0m         \u001b[1;32mreturn\u001b[0m \u001b[0mself\u001b[0m\u001b[1;33m.\u001b[0m\u001b[0mstate_dict\u001b[0m\u001b[1;33m[\u001b[0m\u001b[1;34m'last_loss'\u001b[0m\u001b[1;33m]\u001b[0m\u001b[1;33m,\u001b[0m \u001b[0mself\u001b[0m\u001b[1;33m.\u001b[0m\u001b[0mstate_dict\u001b[0m\u001b[1;33m[\u001b[0m\u001b[1;34m'skip_bwd'\u001b[0m\u001b[1;33m]\u001b[0m\u001b[1;33m\u001b[0m\u001b[1;33m\u001b[0m\u001b[0m\n\u001b[0;32m    294\u001b[0m \u001b[1;33m\u001b[0m\u001b[0m\n",
      "\u001b[1;32mD:\\ProgramFiles\\Anaconda\\envs\\nlp\\lib\\site-packages\\fastai\\callback.py\u001b[0m in \u001b[0;36m__call__\u001b[1;34m(self, cb_name, call_mets, **kwargs)\u001b[0m\n\u001b[0;32m    249\u001b[0m         \u001b[1;32mif\u001b[0m \u001b[0mcall_mets\u001b[0m\u001b[1;33m:\u001b[0m\u001b[1;33m\u001b[0m\u001b[1;33m\u001b[0m\u001b[0m\n\u001b[0;32m    250\u001b[0m             \u001b[1;32mfor\u001b[0m \u001b[0mmet\u001b[0m \u001b[1;32min\u001b[0m \u001b[0mself\u001b[0m\u001b[1;33m.\u001b[0m\u001b[0mmetrics\u001b[0m\u001b[1;33m:\u001b[0m \u001b[0mself\u001b[0m\u001b[1;33m.\u001b[0m\u001b[0m_call_and_update\u001b[0m\u001b[1;33m(\u001b[0m\u001b[0mmet\u001b[0m\u001b[1;33m,\u001b[0m \u001b[0mcb_name\u001b[0m\u001b[1;33m,\u001b[0m \u001b[1;33m**\u001b[0m\u001b[0mkwargs\u001b[0m\u001b[1;33m)\u001b[0m\u001b[1;33m\u001b[0m\u001b[1;33m\u001b[0m\u001b[0m\n\u001b[1;32m--> 251\u001b[1;33m         \u001b[1;32mfor\u001b[0m \u001b[0mcb\u001b[0m \u001b[1;32min\u001b[0m \u001b[0mself\u001b[0m\u001b[1;33m.\u001b[0m\u001b[0mcallbacks\u001b[0m\u001b[1;33m:\u001b[0m \u001b[0mself\u001b[0m\u001b[1;33m.\u001b[0m\u001b[0m_call_and_update\u001b[0m\u001b[1;33m(\u001b[0m\u001b[0mcb\u001b[0m\u001b[1;33m,\u001b[0m \u001b[0mcb_name\u001b[0m\u001b[1;33m,\u001b[0m \u001b[1;33m**\u001b[0m\u001b[0mkwargs\u001b[0m\u001b[1;33m)\u001b[0m\u001b[1;33m\u001b[0m\u001b[1;33m\u001b[0m\u001b[0m\n\u001b[0m\u001b[0;32m    252\u001b[0m \u001b[1;33m\u001b[0m\u001b[0m\n\u001b[0;32m    253\u001b[0m     \u001b[1;32mdef\u001b[0m \u001b[0mset_dl\u001b[0m\u001b[1;33m(\u001b[0m\u001b[0mself\u001b[0m\u001b[1;33m,\u001b[0m \u001b[0mdl\u001b[0m\u001b[1;33m:\u001b[0m\u001b[0mDataLoader\u001b[0m\u001b[1;33m)\u001b[0m\u001b[1;33m:\u001b[0m\u001b[1;33m\u001b[0m\u001b[1;33m\u001b[0m\u001b[0m\n",
      "\u001b[1;32mD:\\ProgramFiles\\Anaconda\\envs\\nlp\\lib\\site-packages\\fastai\\callback.py\u001b[0m in \u001b[0;36m_call_and_update\u001b[1;34m(self, cb, cb_name, **kwargs)\u001b[0m\n\u001b[0;32m    239\u001b[0m     \u001b[1;32mdef\u001b[0m \u001b[0m_call_and_update\u001b[0m\u001b[1;33m(\u001b[0m\u001b[0mself\u001b[0m\u001b[1;33m,\u001b[0m \u001b[0mcb\u001b[0m\u001b[1;33m,\u001b[0m \u001b[0mcb_name\u001b[0m\u001b[1;33m,\u001b[0m \u001b[1;33m**\u001b[0m\u001b[0mkwargs\u001b[0m\u001b[1;33m)\u001b[0m\u001b[1;33m->\u001b[0m\u001b[1;32mNone\u001b[0m\u001b[1;33m:\u001b[0m\u001b[1;33m\u001b[0m\u001b[1;33m\u001b[0m\u001b[0m\n\u001b[0;32m    240\u001b[0m         \u001b[1;34m\"Call `cb_name` on `cb` and update the inner state.\"\u001b[0m\u001b[1;33m\u001b[0m\u001b[1;33m\u001b[0m\u001b[0m\n\u001b[1;32m--> 241\u001b[1;33m         \u001b[0mnew\u001b[0m \u001b[1;33m=\u001b[0m \u001b[0mifnone\u001b[0m\u001b[1;33m(\u001b[0m\u001b[0mgetattr\u001b[0m\u001b[1;33m(\u001b[0m\u001b[0mcb\u001b[0m\u001b[1;33m,\u001b[0m \u001b[1;34mf'on_{cb_name}'\u001b[0m\u001b[1;33m)\u001b[0m\u001b[1;33m(\u001b[0m\u001b[1;33m**\u001b[0m\u001b[0mself\u001b[0m\u001b[1;33m.\u001b[0m\u001b[0mstate_dict\u001b[0m\u001b[1;33m,\u001b[0m \u001b[1;33m**\u001b[0m\u001b[0mkwargs\u001b[0m\u001b[1;33m)\u001b[0m\u001b[1;33m,\u001b[0m \u001b[0mdict\u001b[0m\u001b[1;33m(\u001b[0m\u001b[1;33m)\u001b[0m\u001b[1;33m)\u001b[0m\u001b[1;33m\u001b[0m\u001b[1;33m\u001b[0m\u001b[0m\n\u001b[0m\u001b[0;32m    242\u001b[0m         \u001b[1;32mfor\u001b[0m \u001b[0mk\u001b[0m\u001b[1;33m,\u001b[0m\u001b[0mv\u001b[0m \u001b[1;32min\u001b[0m \u001b[0mnew\u001b[0m\u001b[1;33m.\u001b[0m\u001b[0mitems\u001b[0m\u001b[1;33m(\u001b[0m\u001b[1;33m)\u001b[0m\u001b[1;33m:\u001b[0m\u001b[1;33m\u001b[0m\u001b[1;33m\u001b[0m\u001b[0m\n\u001b[0;32m    243\u001b[0m             \u001b[1;32mif\u001b[0m \u001b[0mk\u001b[0m \u001b[1;32mnot\u001b[0m \u001b[1;32min\u001b[0m \u001b[0mself\u001b[0m\u001b[1;33m.\u001b[0m\u001b[0mstate_dict\u001b[0m\u001b[1;33m:\u001b[0m\u001b[1;33m\u001b[0m\u001b[1;33m\u001b[0m\u001b[0m\n",
      "\u001b[1;32mD:\\ProgramFiles\\Anaconda\\envs\\nlp\\lib\\site-packages\\fastai\\callbacks\\rnn.py\u001b[0m in \u001b[0;36mon_backward_begin\u001b[1;34m(self, last_loss, last_input, **kwargs)\u001b[0m\n\u001b[0;32m     28\u001b[0m         \u001b[1;32mif\u001b[0m \u001b[0mself\u001b[0m\u001b[1;33m.\u001b[0m\u001b[0mbeta\u001b[0m \u001b[1;33m!=\u001b[0m \u001b[1;36m0.\u001b[0m\u001b[1;33m:\u001b[0m\u001b[1;33m\u001b[0m\u001b[1;33m\u001b[0m\u001b[0m\n\u001b[0;32m     29\u001b[0m             \u001b[0mh\u001b[0m \u001b[1;33m=\u001b[0m \u001b[0mself\u001b[0m\u001b[1;33m.\u001b[0m\u001b[0mraw_out\u001b[0m\u001b[1;33m[\u001b[0m\u001b[1;33m-\u001b[0m\u001b[1;36m1\u001b[0m\u001b[1;33m]\u001b[0m\u001b[1;33m\u001b[0m\u001b[1;33m\u001b[0m\u001b[0m\n\u001b[1;32m---> 30\u001b[1;33m             \u001b[1;32mif\u001b[0m \u001b[0mlen\u001b[0m\u001b[1;33m(\u001b[0m\u001b[0mh\u001b[0m\u001b[1;33m)\u001b[0m\u001b[1;33m>\u001b[0m\u001b[1;36m1\u001b[0m\u001b[1;33m:\u001b[0m \u001b[0mlast_loss\u001b[0m \u001b[1;33m+=\u001b[0m \u001b[0mself\u001b[0m\u001b[1;33m.\u001b[0m\u001b[0mbeta\u001b[0m \u001b[1;33m*\u001b[0m \u001b[1;33m(\u001b[0m\u001b[0mh\u001b[0m\u001b[1;33m[\u001b[0m\u001b[1;33m:\u001b[0m\u001b[1;33m,\u001b[0m\u001b[1;36m1\u001b[0m\u001b[1;33m:\u001b[0m\u001b[1;33m]\u001b[0m \u001b[1;33m-\u001b[0m \u001b[0mh\u001b[0m\u001b[1;33m[\u001b[0m\u001b[1;33m:\u001b[0m\u001b[1;33m,\u001b[0m\u001b[1;33m:\u001b[0m\u001b[1;33m-\u001b[0m\u001b[1;36m1\u001b[0m\u001b[1;33m]\u001b[0m\u001b[1;33m)\u001b[0m\u001b[1;33m.\u001b[0m\u001b[0mfloat\u001b[0m\u001b[1;33m(\u001b[0m\u001b[1;33m)\u001b[0m\u001b[1;33m.\u001b[0m\u001b[0mpow\u001b[0m\u001b[1;33m(\u001b[0m\u001b[1;36m2\u001b[0m\u001b[1;33m)\u001b[0m\u001b[1;33m.\u001b[0m\u001b[0mmean\u001b[0m\u001b[1;33m(\u001b[0m\u001b[1;33m)\u001b[0m\u001b[1;33m\u001b[0m\u001b[1;33m\u001b[0m\u001b[0m\n\u001b[0m\u001b[0;32m     31\u001b[0m         \u001b[1;32mreturn\u001b[0m \u001b[1;33m{\u001b[0m\u001b[1;34m'last_loss'\u001b[0m\u001b[1;33m:\u001b[0m \u001b[0mlast_loss\u001b[0m\u001b[1;33m}\u001b[0m\u001b[1;33m\u001b[0m\u001b[1;33m\u001b[0m\u001b[0m\n",
      "\u001b[1;31mRuntimeError\u001b[0m: CUDA out of memory. Tried to allocate 34.00 MiB (GPU 0; 4.00 GiB total capacity; 2.76 GiB already allocated; 12.35 MiB free; 144.20 MiB cached)"
     ]
    }
   ],
   "source": [
    "learn_c.unfreeze()\n",
    "learn_c.fit_one_cycle(1, slice(2e-3/(2.6**4), 2e-3), moms=(0.9, 0.8))"
   ]
  },
  {
   "cell_type": "code",
   "execution_count": null,
   "metadata": {
    "colab": {},
    "colab_type": "code",
    "id": "aFOEQk67J3De"
   },
   "outputs": [],
   "source": [
    "learn_c.save('clas_test20')"
   ]
  },
  {
   "cell_type": "markdown",
   "metadata": {
    "colab_type": "text",
    "id": "8Ns6dhohE-g1"
   },
   "source": [
    "### Testing"
   ]
  },
  {
   "cell_type": "code",
   "execution_count": 0,
   "metadata": {
    "colab": {},
    "colab_type": "code",
    "id": "gxGyWSJpFNNK"
   },
   "outputs": [],
   "source": [
    "data_clas.vocab.itos = data_lm.vocab.itos\n",
    "# data_clas_test.vocab.itos = data_lm.vocab.itos\n",
    "learn_c = text_classifier_learner(data_clas, AWD_LSTM, drop_mult=0.5).to_fp16()\n",
    "learn_c.load('clas_test20')\n",
    "data_clas.valid_dl = data_clas_test.valid_dl"
   ]
  },
  {
   "cell_type": "code",
   "execution_count": 0,
   "metadata": {
    "colab": {
     "base_uri": "https://localhost:8080/",
     "height": 17
    },
    "colab_type": "code",
    "executionInfo": {
     "elapsed": 340639,
     "status": "ok",
     "timestamp": 1587129956652,
     "user": {
      "displayName": "Irina Carabella",
      "photoUrl": "https://lh3.googleusercontent.com/a-/AOh14Ghc7fU0OvMy7bNgHyLPrhliac5JmVA2O29FjI3rZg=s64",
      "userId": "14771962769165463145"
     },
     "user_tz": -60
    },
    "id": "t1PPDMS6GEMo",
    "outputId": "33137054-141a-42e5-ad2a-03ac7ef0f8dc"
   },
   "outputs": [
    {
     "data": {
      "text/html": [],
      "text/plain": [
       "<IPython.core.display.HTML object>"
      ]
     },
     "metadata": {
      "tags": []
     },
     "output_type": "display_data"
    }
   ],
   "source": [
    "y_test_pred, y_true = learn_c.get_preds(ds_type=DatasetType.Valid, ordered=True)"
   ]
  },
  {
   "cell_type": "code",
   "execution_count": 0,
   "metadata": {
    "colab": {},
    "colab_type": "code",
    "id": "SlTxyarWRISQ"
   },
   "outputs": [],
   "source": [
    "preds = torch.argmax(y_test_pred, dim=1)"
   ]
  },
  {
   "cell_type": "code",
   "execution_count": 0,
   "metadata": {
    "colab": {
     "base_uri": "https://localhost:8080/",
     "height": 118
    },
    "colab_type": "code",
    "executionInfo": {
     "elapsed": 879,
     "status": "ok",
     "timestamp": 1587129957548,
     "user": {
      "displayName": "Irina Carabella",
      "photoUrl": "https://lh3.googleusercontent.com/a-/AOh14Ghc7fU0OvMy7bNgHyLPrhliac5JmVA2O29FjI3rZg=s64",
      "userId": "14771962769165463145"
     },
     "user_tz": -60
    },
    "id": "nDiVu3Iu5zaB",
    "outputId": "398c7ca7-9d16-4bee-9878-7c44033ad481"
   },
   "outputs": [
    {
     "name": "stdout",
     "output_type": "stream",
     "text": [
      "Logistic regression performance:\n",
      "Mean absolute error = 0.13\n",
      "Accuracy score = 0.8698979591836735\n",
      "Recall score = 0.8061224489795918\n",
      "Precision score = 0.9239766081871345\n",
      "F1 score = 0.8610354223433242\n"
     ]
    }
   ],
   "source": [
    "import sklearn.metrics as sm\n",
    "# Compute performance metrics\n",
    "print(\"Logistic regression performance:\")\n",
    "print(\"Mean absolute error =\", round(sm.mean_absolute_error(y_true, preds), 2))\n",
    "print(\"Accuracy score =\", sm.accuracy_score(y_true, preds))\n",
    "print(\"Recall score =\", sm.recall_score(y_true, preds))\n",
    "print(\"Precision score =\", sm.precision_score(y_true, preds))\n",
    "print(\"F1 score =\", sm.f1_score(y_true, preds))"
   ]
  },
  {
   "cell_type": "code",
   "execution_count": 0,
   "metadata": {
    "colab": {},
    "colab_type": "code",
    "id": "laY21cZm6Cvz"
   },
   "outputs": [],
   "source": []
  }
 ],
 "metadata": {
  "accelerator": "GPU",
  "colab": {
   "collapsed_sections": [
    "14hMl-xBJ3Cg"
   ],
   "name": "Notebook 10.1 - ULMFiT on Test Set ('Test20').ipynb",
   "provenance": []
  },
  "kernelspec": {
   "display_name": "Python 3",
   "language": "python",
   "name": "python3"
  },
  "language_info": {
   "codemirror_mode": {
    "name": "ipython",
    "version": 3
   },
   "file_extension": ".py",
   "mimetype": "text/x-python",
   "name": "python",
   "nbconvert_exporter": "python",
   "pygments_lexer": "ipython3",
   "version": "3.7.4"
  }
 },
 "nbformat": 4,
 "nbformat_minor": 1
}
